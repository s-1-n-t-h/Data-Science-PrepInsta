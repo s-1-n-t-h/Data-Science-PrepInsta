{
 "cells": [
  {
   "cell_type": "code",
   "execution_count": 1,
   "id": "3227aa27",
   "metadata": {},
   "outputs": [],
   "source": [
    "html = '<!DOCTYPE html>\\\n",
    "<html>\\\n",
    "<head>\\\n",
    "<title>PrepInsta Website</title>\\\n",
    "</head>\\\n",
    "<body class=\"myMain\">\\\n",
    "<h1 class=\"mainHead\">Welcome to PrepInsta</h1>\\\n",
    "<p>New Chapter Begins...</p>\\\n",
    "<p>Lets begin...</p>\\\n",
    "<div id=\"sampleDiv\">This is a div\\\n",
    "<p>This is a great website for us to prepare</p>\\\n",
    "</div>\\\n",
    "<p class=\"link\">This is a <a href=\"https://prepinstaprime.com\">Link</a> to PrepInsta website</p>\\\n",
    "<p>We wish you <b>All the best</b></p>\\\n",
    "<h2><a href=\"https://prepinsta.com/terms-and-conditions/\">Terms and Conditions</a></h2>\\\n",
    "<h2 class=\"duplicate\"><a href=\"https://prepinsta.com/terms-and-conditions/\">Terms and Conditions</a></h2>\\\n",
    "</body>\\\n",
    "</html>'"
   ]
  },
  {
   "cell_type": "code",
   "execution_count": 2,
   "id": "ad83dea3",
   "metadata": {},
   "outputs": [],
   "source": [
    "from bs4 import BeautifulSoup\n",
    "\n",
    "data = BeautifulSoup(html,'html.parser')"
   ]
  },
  {
   "cell_type": "code",
   "execution_count": 3,
   "id": "da811788",
   "metadata": {},
   "outputs": [
    {
     "name": "stdout",
     "output_type": "stream",
     "text": [
      "<!DOCTYPE html>\n",
      "<html>\n",
      " <head>\n",
      "  <title>\n",
      "   PrepInsta Website\n",
      "  </title>\n",
      " </head>\n",
      " <body class=\"myMain\">\n",
      "  <h1 class=\"mainHead\">\n",
      "   Welcome to PrepInsta\n",
      "  </h1>\n",
      "  <p>\n",
      "   New Chapter Begins...\n",
      "  </p>\n",
      "  <p>\n",
      "   Lets begin...\n",
      "  </p>\n",
      "  <div id=\"sampleDiv\">\n",
      "   This is a div\n",
      "   <p>\n",
      "    This is a great website for us to prepare\n",
      "   </p>\n",
      "  </div>\n",
      "  <p class=\"link\">\n",
      "   This is a\n",
      "   <a href=\"https://prepinstaprime.com\">\n",
      "    Link\n",
      "   </a>\n",
      "   to PrepInsta website\n",
      "  </p>\n",
      "  <p>\n",
      "   We wish you\n",
      "   <b>\n",
      "    All the best\n",
      "   </b>\n",
      "  </p>\n",
      "  <h2>\n",
      "   <a href=\"https://prepinsta.com/terms-and-conditions/\">\n",
      "    Terms and Conditions\n",
      "   </a>\n",
      "  </h2>\n",
      "  <h2 class=\"duplicate\">\n",
      "   <a href=\"https://prepinsta.com/terms-and-conditions/\">\n",
      "    Terms and Conditions\n",
      "   </a>\n",
      "  </h2>\n",
      " </body>\n",
      "</html>\n"
     ]
    }
   ],
   "source": [
    "print(data.prettify())"
   ]
  },
  {
   "cell_type": "markdown",
   "id": "4ba5b385",
   "metadata": {},
   "source": [
    "### Finding attributes of parent"
   ]
  },
  {
   "cell_type": "code",
   "execution_count": 4,
   "id": "48be7db0",
   "metadata": {},
   "outputs": [
    {
     "data": {
      "text/plain": [
       "'body'"
      ]
     },
     "execution_count": 4,
     "metadata": {},
     "output_type": "execute_result"
    }
   ],
   "source": [
    "data.p.parent.name"
   ]
  },
  {
   "cell_type": "code",
   "execution_count": 6,
   "id": "b5bd2fe5",
   "metadata": {},
   "outputs": [
    {
     "data": {
      "text/plain": [
       "{'class': ['myMain']}"
      ]
     },
     "execution_count": 6,
     "metadata": {},
     "output_type": "execute_result"
    }
   ],
   "source": [
    "data.p.parent.attrs"
   ]
  },
  {
   "cell_type": "markdown",
   "id": "630f8187",
   "metadata": {},
   "source": [
    "### finding parents by string"
   ]
  },
  {
   "cell_type": "code",
   "execution_count": 14,
   "id": "4fe9e2d8",
   "metadata": {},
   "outputs": [],
   "source": [
    "a_string = data.find(string='Terms and Conditions')"
   ]
  },
  {
   "cell_type": "code",
   "execution_count": 15,
   "id": "30d4e3e0",
   "metadata": {},
   "outputs": [
    {
     "data": {
      "text/plain": [
       "'Terms and Conditions'"
      ]
     },
     "execution_count": 15,
     "metadata": {},
     "output_type": "execute_result"
    }
   ],
   "source": [
    "a_string"
   ]
  },
  {
   "cell_type": "code",
   "execution_count": 16,
   "id": "50a8c3bb",
   "metadata": {},
   "outputs": [
    {
     "data": {
      "text/plain": [
       "<a href=\"https://prepinsta.com/terms-and-conditions/\">Terms and Conditions</a>"
      ]
     },
     "execution_count": 16,
     "metadata": {},
     "output_type": "execute_result"
    }
   ],
   "source": [
    "a_string.parent"
   ]
  },
  {
   "cell_type": "code",
   "execution_count": 17,
   "id": "2286d8d7",
   "metadata": {},
   "outputs": [
    {
     "data": {
      "text/plain": [
       "<a href=\"https://prepinsta.com/terms-and-conditions/\">Terms and Conditions</a>"
      ]
     },
     "execution_count": 17,
     "metadata": {},
     "output_type": "execute_result"
    }
   ],
   "source": [
    "a_string.parent"
   ]
  },
  {
   "cell_type": "code",
   "execution_count": 18,
   "id": "40a81fdf",
   "metadata": {},
   "outputs": [
    {
     "data": {
      "text/plain": [
       "'a'"
      ]
     },
     "execution_count": 18,
     "metadata": {},
     "output_type": "execute_result"
    }
   ],
   "source": [
    "a_string.parent.name"
   ]
  },
  {
   "cell_type": "code",
   "execution_count": 19,
   "id": "c0c1d062",
   "metadata": {},
   "outputs": [
    {
     "data": {
      "text/plain": [
       "<h2><a href=\"https://prepinsta.com/terms-and-conditions/\">Terms and Conditions</a></h2>"
      ]
     },
     "execution_count": 19,
     "metadata": {},
     "output_type": "execute_result"
    }
   ],
   "source": [
    "a_string.parent.parent"
   ]
  },
  {
   "cell_type": "code",
   "execution_count": 20,
   "id": "49093040",
   "metadata": {},
   "outputs": [
    {
     "data": {
      "text/plain": [
       "'h2'"
      ]
     },
     "execution_count": 20,
     "metadata": {},
     "output_type": "execute_result"
    }
   ],
   "source": [
    "a_string.parent.parent.name"
   ]
  },
  {
   "cell_type": "code",
   "execution_count": 22,
   "id": "28c83165",
   "metadata": {},
   "outputs": [
    {
     "data": {
      "text/plain": [
       "<generator object PageElement.parents at 0x1089936d0>"
      ]
     },
     "execution_count": 22,
     "metadata": {},
     "output_type": "execute_result"
    }
   ],
   "source": [
    "a_string.parents"
   ]
  },
  {
   "cell_type": "code",
   "execution_count": 23,
   "id": "b53af23d",
   "metadata": {},
   "outputs": [
    {
     "data": {
      "text/plain": [
       "[<a href=\"https://prepinsta.com/terms-and-conditions/\">Terms and Conditions</a>,\n",
       " <h2><a href=\"https://prepinsta.com/terms-and-conditions/\">Terms and Conditions</a></h2>,\n",
       " <body class=\"myMain\"><h1 class=\"mainHead\">Welcome to PrepInsta</h1><p>New Chapter Begins...</p><p>Lets begin...</p><div id=\"sampleDiv\">This is a div<p>This is a great website for us to prepare</p></div><p class=\"link\">This is a <a href=\"https://prepinstaprime.com\">Link</a> to PrepInsta website</p><p>We wish you <b>All the best</b></p><h2><a href=\"https://prepinsta.com/terms-and-conditions/\">Terms and Conditions</a></h2><h2 class=\"duplicate\"><a href=\"https://prepinsta.com/terms-and-conditions/\">Terms and Conditions</a></h2></body>,\n",
       " <html><head><title>PrepInsta Website</title></head><body class=\"myMain\"><h1 class=\"mainHead\">Welcome to PrepInsta</h1><p>New Chapter Begins...</p><p>Lets begin...</p><div id=\"sampleDiv\">This is a div<p>This is a great website for us to prepare</p></div><p class=\"link\">This is a <a href=\"https://prepinstaprime.com\">Link</a> to PrepInsta website</p><p>We wish you <b>All the best</b></p><h2><a href=\"https://prepinsta.com/terms-and-conditions/\">Terms and Conditions</a></h2><h2 class=\"duplicate\"><a href=\"https://prepinsta.com/terms-and-conditions/\">Terms and Conditions</a></h2></body></html>,\n",
       " <!DOCTYPE html>\n",
       " <html><head><title>PrepInsta Website</title></head><body class=\"myMain\"><h1 class=\"mainHead\">Welcome to PrepInsta</h1><p>New Chapter Begins...</p><p>Lets begin...</p><div id=\"sampleDiv\">This is a div<p>This is a great website for us to prepare</p></div><p class=\"link\">This is a <a href=\"https://prepinstaprime.com\">Link</a> to PrepInsta website</p><p>We wish you <b>All the best</b></p><h2><a href=\"https://prepinsta.com/terms-and-conditions/\">Terms and Conditions</a></h2><h2 class=\"duplicate\"><a href=\"https://prepinsta.com/terms-and-conditions/\">Terms and Conditions</a></h2></body></html>]"
      ]
     },
     "execution_count": 23,
     "metadata": {},
     "output_type": "execute_result"
    }
   ],
   "source": [
    "list(a_string.parents)"
   ]
  },
  {
   "cell_type": "code",
   "execution_count": 26,
   "id": "d8a607eb",
   "metadata": {},
   "outputs": [
    {
     "data": {
      "text/plain": [
       "[<body class=\"myMain\"><h1 class=\"mainHead\">Welcome to PrepInsta</h1><p>New Chapter Begins...</p><p>Lets begin...</p><div id=\"sampleDiv\">This is a div<p>This is a great website for us to prepare</p></div><p class=\"link\">This is a <a href=\"https://prepinstaprime.com\">Link</a> to PrepInsta website</p><p>We wish you <b>All the best</b></p><h2><a href=\"https://prepinsta.com/terms-and-conditions/\">Terms and Conditions</a></h2><h2 class=\"duplicate\"><a href=\"https://prepinsta.com/terms-and-conditions/\">Terms and Conditions</a></h2></body>]"
      ]
     },
     "execution_count": 26,
     "metadata": {},
     "output_type": "execute_result"
    }
   ],
   "source": [
    "a_string.find_parents('body')"
   ]
  },
  {
   "cell_type": "code",
   "execution_count": 27,
   "id": "d5392fea",
   "metadata": {},
   "outputs": [],
   "source": [
    "import re\n",
    "\n",
    "aString = data.find('p',string=re.compile('website'))"
   ]
  },
  {
   "cell_type": "code",
   "execution_count": 28,
   "id": "3d650181",
   "metadata": {},
   "outputs": [
    {
     "data": {
      "text/plain": [
       "<p>This is a great website for us to prepare</p>"
      ]
     },
     "execution_count": 28,
     "metadata": {},
     "output_type": "execute_result"
    }
   ],
   "source": [
    "aString"
   ]
  },
  {
   "cell_type": "markdown",
   "id": "0e7643d8",
   "metadata": {},
   "source": [
    "### Finding Parent/s by parent or parents attribute "
   ]
  },
  {
   "cell_type": "code",
   "execution_count": 29,
   "id": "dce1f132",
   "metadata": {},
   "outputs": [
    {
     "data": {
      "text/plain": [
       "<div id=\"sampleDiv\">This is a div<p>This is a great website for us to prepare</p></div>"
      ]
     },
     "execution_count": 29,
     "metadata": {},
     "output_type": "execute_result"
    }
   ],
   "source": [
    "aString.parent"
   ]
  },
  {
   "cell_type": "code",
   "execution_count": 31,
   "id": "2771668f",
   "metadata": {},
   "outputs": [
    {
     "data": {
      "text/plain": [
       "[<div id=\"sampleDiv\">This is a div<p>This is a great website for us to prepare</p></div>,\n",
       " <body class=\"myMain\"><h1 class=\"mainHead\">Welcome to PrepInsta</h1><p>New Chapter Begins...</p><p>Lets begin...</p><div id=\"sampleDiv\">This is a div<p>This is a great website for us to prepare</p></div><p class=\"link\">This is a <a href=\"https://prepinstaprime.com\">Link</a> to PrepInsta website</p><p>We wish you <b>All the best</b></p><h2><a href=\"https://prepinsta.com/terms-and-conditions/\">Terms and Conditions</a></h2><h2 class=\"duplicate\"><a href=\"https://prepinsta.com/terms-and-conditions/\">Terms and Conditions</a></h2></body>,\n",
       " <html><head><title>PrepInsta Website</title></head><body class=\"myMain\"><h1 class=\"mainHead\">Welcome to PrepInsta</h1><p>New Chapter Begins...</p><p>Lets begin...</p><div id=\"sampleDiv\">This is a div<p>This is a great website for us to prepare</p></div><p class=\"link\">This is a <a href=\"https://prepinstaprime.com\">Link</a> to PrepInsta website</p><p>We wish you <b>All the best</b></p><h2><a href=\"https://prepinsta.com/terms-and-conditions/\">Terms and Conditions</a></h2><h2 class=\"duplicate\"><a href=\"https://prepinsta.com/terms-and-conditions/\">Terms and Conditions</a></h2></body></html>,\n",
       " <!DOCTYPE html>\n",
       " <html><head><title>PrepInsta Website</title></head><body class=\"myMain\"><h1 class=\"mainHead\">Welcome to PrepInsta</h1><p>New Chapter Begins...</p><p>Lets begin...</p><div id=\"sampleDiv\">This is a div<p>This is a great website for us to prepare</p></div><p class=\"link\">This is a <a href=\"https://prepinstaprime.com\">Link</a> to PrepInsta website</p><p>We wish you <b>All the best</b></p><h2><a href=\"https://prepinsta.com/terms-and-conditions/\">Terms and Conditions</a></h2><h2 class=\"duplicate\"><a href=\"https://prepinsta.com/terms-and-conditions/\">Terms and Conditions</a></h2></body></html>]"
      ]
     },
     "execution_count": 31,
     "metadata": {},
     "output_type": "execute_result"
    }
   ],
   "source": [
    "list(aString.parents)"
   ]
  },
  {
   "cell_type": "markdown",
   "id": "e2b91043",
   "metadata": {},
   "source": [
    "### finding all parents using find_parents( )"
   ]
  },
  {
   "cell_type": "code",
   "execution_count": 32,
   "id": "6e9d531b",
   "metadata": {},
   "outputs": [
    {
     "data": {
      "text/plain": [
       "[<div id=\"sampleDiv\">This is a div<p>This is a great website for us to prepare</p></div>,\n",
       " <body class=\"myMain\"><h1 class=\"mainHead\">Welcome to PrepInsta</h1><p>New Chapter Begins...</p><p>Lets begin...</p><div id=\"sampleDiv\">This is a div<p>This is a great website for us to prepare</p></div><p class=\"link\">This is a <a href=\"https://prepinstaprime.com\">Link</a> to PrepInsta website</p><p>We wish you <b>All the best</b></p><h2><a href=\"https://prepinsta.com/terms-and-conditions/\">Terms and Conditions</a></h2><h2 class=\"duplicate\"><a href=\"https://prepinsta.com/terms-and-conditions/\">Terms and Conditions</a></h2></body>,\n",
       " <html><head><title>PrepInsta Website</title></head><body class=\"myMain\"><h1 class=\"mainHead\">Welcome to PrepInsta</h1><p>New Chapter Begins...</p><p>Lets begin...</p><div id=\"sampleDiv\">This is a div<p>This is a great website for us to prepare</p></div><p class=\"link\">This is a <a href=\"https://prepinstaprime.com\">Link</a> to PrepInsta website</p><p>We wish you <b>All the best</b></p><h2><a href=\"https://prepinsta.com/terms-and-conditions/\">Terms and Conditions</a></h2><h2 class=\"duplicate\"><a href=\"https://prepinsta.com/terms-and-conditions/\">Terms and Conditions</a></h2></body></html>,\n",
       " <!DOCTYPE html>\n",
       " <html><head><title>PrepInsta Website</title></head><body class=\"myMain\"><h1 class=\"mainHead\">Welcome to PrepInsta</h1><p>New Chapter Begins...</p><p>Lets begin...</p><div id=\"sampleDiv\">This is a div<p>This is a great website for us to prepare</p></div><p class=\"link\">This is a <a href=\"https://prepinstaprime.com\">Link</a> to PrepInsta website</p><p>We wish you <b>All the best</b></p><h2><a href=\"https://prepinsta.com/terms-and-conditions/\">Terms and Conditions</a></h2><h2 class=\"duplicate\"><a href=\"https://prepinsta.com/terms-and-conditions/\">Terms and Conditions</a></h2></body></html>]"
      ]
     },
     "execution_count": 32,
     "metadata": {},
     "output_type": "execute_result"
    }
   ],
   "source": [
    "aString.find_parents()"
   ]
  },
  {
   "cell_type": "markdown",
   "id": "98904da8",
   "metadata": {},
   "source": [
    "### finding immediate parent using find_parent method"
   ]
  },
  {
   "cell_type": "code",
   "execution_count": 33,
   "id": "0ca2d424",
   "metadata": {},
   "outputs": [
    {
     "data": {
      "text/plain": [
       "<div id=\"sampleDiv\">This is a div<p>This is a great website for us to prepare</p></div>"
      ]
     },
     "execution_count": 33,
     "metadata": {},
     "output_type": "execute_result"
    }
   ],
   "source": [
    "aString.find_parent()"
   ]
  },
  {
   "cell_type": "markdown",
   "id": "511d6c9d",
   "metadata": {},
   "source": [
    "### finding a specific parent from list of parents"
   ]
  },
  {
   "cell_type": "code",
   "execution_count": 34,
   "id": "48aa3aa9",
   "metadata": {
    "scrolled": true
   },
   "outputs": [
    {
     "data": {
      "text/plain": [
       "[<body class=\"myMain\"><h1 class=\"mainHead\">Welcome to PrepInsta</h1><p>New Chapter Begins...</p><p>Lets begin...</p><div id=\"sampleDiv\">This is a div<p>This is a great website for us to prepare</p></div><p class=\"link\">This is a <a href=\"https://prepinstaprime.com\">Link</a> to PrepInsta website</p><p>We wish you <b>All the best</b></p><h2><a href=\"https://prepinsta.com/terms-and-conditions/\">Terms and Conditions</a></h2><h2 class=\"duplicate\"><a href=\"https://prepinsta.com/terms-and-conditions/\">Terms and Conditions</a></h2></body>]"
      ]
     },
     "execution_count": 34,
     "metadata": {},
     "output_type": "execute_result"
    }
   ],
   "source": [
    "aString.find_parents('body')"
   ]
  },
  {
   "cell_type": "code",
   "execution_count": 38,
   "id": "e95ba317",
   "metadata": {},
   "outputs": [
    {
     "data": {
      "text/plain": [
       "<body class=\"myMain\"><h1 class=\"mainHead\">Welcome to PrepInsta</h1><p>New Chapter Begins...</p><p>Lets begin...</p><div id=\"sampleDiv\">This is a div<p>This is a great website for us to prepare</p></div><p class=\"link\">This is a <a href=\"https://prepinstaprime.com\">Link</a> to PrepInsta website</p><p>We wish you <b>All the best</b></p><h2><a href=\"https://prepinsta.com/terms-and-conditions/\">Terms and Conditions</a></h2><h2 class=\"duplicate\"><a href=\"https://prepinsta.com/terms-and-conditions/\">Terms and Conditions</a></h2></body>"
      ]
     },
     "execution_count": 38,
     "metadata": {},
     "output_type": "execute_result"
    }
   ],
   "source": [
    "list(aString.parents)[1]"
   ]
  },
  {
   "cell_type": "markdown",
   "id": "70b3591a",
   "metadata": {},
   "source": [
    "### finding siblings "
   ]
  },
  {
   "cell_type": "markdown",
   "id": "70735db0",
   "metadata": {},
   "source": [
    "#### finding previous sibling"
   ]
  },
  {
   "cell_type": "code",
   "execution_count": 39,
   "id": "1e042dae",
   "metadata": {},
   "outputs": [],
   "source": [
    "para = data.find('p',class_='link')"
   ]
  },
  {
   "cell_type": "code",
   "execution_count": 40,
   "id": "75a51702",
   "metadata": {},
   "outputs": [
    {
     "data": {
      "text/plain": [
       "<p class=\"link\">This is a <a href=\"https://prepinstaprime.com\">Link</a> to PrepInsta website</p>"
      ]
     },
     "execution_count": 40,
     "metadata": {},
     "output_type": "execute_result"
    }
   ],
   "source": [
    "para"
   ]
  },
  {
   "cell_type": "code",
   "execution_count": 42,
   "id": "b5421883",
   "metadata": {},
   "outputs": [
    {
     "data": {
      "text/plain": [
       "<div id=\"sampleDiv\">This is a div<p>This is a great website for us to prepare</p></div>"
      ]
     },
     "execution_count": 42,
     "metadata": {},
     "output_type": "execute_result"
    }
   ],
   "source": [
    "para.find_previous_sibling()"
   ]
  },
  {
   "cell_type": "code",
   "execution_count": 43,
   "id": "3533130d",
   "metadata": {},
   "outputs": [
    {
     "data": {
      "text/plain": [
       "<p>Lets begin...</p>"
      ]
     },
     "execution_count": 43,
     "metadata": {},
     "output_type": "execute_result"
    }
   ],
   "source": [
    "para.find_previous_sibling('p')"
   ]
  },
  {
   "cell_type": "code",
   "execution_count": 47,
   "id": "36111294",
   "metadata": {},
   "outputs": [
    {
     "data": {
      "text/plain": [
       "[<div id=\"sampleDiv\">This is a div<p>This is a great website for us to prepare</p></div>,\n",
       " <p>Lets begin...</p>,\n",
       " <p>New Chapter Begins...</p>,\n",
       " <h1 class=\"mainHead\">Welcome to PrepInsta</h1>]"
      ]
     },
     "execution_count": 47,
     "metadata": {},
     "output_type": "execute_result"
    }
   ],
   "source": [
    "para.find_previous_siblings()"
   ]
  },
  {
   "cell_type": "code",
   "execution_count": 48,
   "id": "18e10558",
   "metadata": {},
   "outputs": [
    {
     "data": {
      "text/plain": [
       "[<p>Lets begin...</p>, <p>New Chapter Begins...</p>]"
      ]
     },
     "execution_count": 48,
     "metadata": {},
     "output_type": "execute_result"
    }
   ],
   "source": [
    "para.find_previous_siblings('p')"
   ]
  },
  {
   "cell_type": "code",
   "execution_count": null,
   "id": "44c93920",
   "metadata": {},
   "outputs": [],
   "source": []
  }
 ],
 "metadata": {
  "kernelspec": {
   "display_name": "Python 3.9 (tensorflow)",
   "language": "python",
   "name": "tensorflow"
  },
  "language_info": {
   "codemirror_mode": {
    "name": "ipython",
    "version": 3
   },
   "file_extension": ".py",
   "mimetype": "text/x-python",
   "name": "python",
   "nbconvert_exporter": "python",
   "pygments_lexer": "ipython3",
   "version": "3.9.13"
  }
 },
 "nbformat": 4,
 "nbformat_minor": 5
}
