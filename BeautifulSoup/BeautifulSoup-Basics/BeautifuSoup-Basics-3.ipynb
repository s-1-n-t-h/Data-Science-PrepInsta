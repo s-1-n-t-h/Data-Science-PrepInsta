{
 "cells": [
  {
   "cell_type": "code",
   "execution_count": 1,
   "id": "9744cfde",
   "metadata": {},
   "outputs": [],
   "source": [
    "html = '<!DOCTYPE html>\\\n",
    "<html>\\\n",
    "<head>\\\n",
    "<title>PrepInsta Website</title>\\\n",
    "</head>\\\n",
    "<body class=\"myMain\">\\\n",
    "<h1 class=\"mainHead\">Welcome to PrepInsta</h1>\\\n",
    "<p>New Chapter Begins...</p>\\\n",
    "<p>Lets begin...</p>\\\n",
    "<div id=\"sampleDiv\">This is a div\\\n",
    "<p>This is a great website for us to prepare</p>\\\n",
    "</div>\\\n",
    "<p class=\"link\">This is a <a href=\"https://prepinstaprime.com\">Link</a> to PrepInsta website</p>\\\n",
    "<p>We wish you <b>All the best</b></p>\\\n",
    "<h2><a href=\"https://prepinsta.com/terms-and-conditions/\">Terms and Conditions</a></h2>\\\n",
    "<h2 class=\"duplicate\"><a href=\"https://prepinsta.com/terms-and-conditions/\">Terms and Conditions</a></h2>\\\n",
    "</body>\\\n",
    "</html>'"
   ]
  },
  {
   "cell_type": "code",
   "execution_count": 2,
   "id": "87e52813",
   "metadata": {},
   "outputs": [],
   "source": [
    "from bs4 import BeautifulSoup\n",
    "\n",
    "data = BeautifulSoup(html,'html.parser')"
   ]
  },
  {
   "cell_type": "code",
   "execution_count": 3,
   "id": "7299aef1",
   "metadata": {},
   "outputs": [
    {
     "name": "stdout",
     "output_type": "stream",
     "text": [
      "<!DOCTYPE html>\n",
      "<html>\n",
      " <head>\n",
      "  <title>\n",
      "   PrepInsta Website\n",
      "  </title>\n",
      " </head>\n",
      " <body class=\"myMain\">\n",
      "  <h1 class=\"mainHead\">\n",
      "   Welcome to PrepInsta\n",
      "  </h1>\n",
      "  <p>\n",
      "   New Chapter Begins...\n",
      "  </p>\n",
      "  <p>\n",
      "   Lets begin...\n",
      "  </p>\n",
      "  <div id=\"sampleDiv\">\n",
      "   This is a div\n",
      "   <p>\n",
      "    This is a great website for us to prepare\n",
      "   </p>\n",
      "  </div>\n",
      "  <p class=\"link\">\n",
      "   This is a\n",
      "   <a href=\"https://prepinstaprime.com\">\n",
      "    Link\n",
      "   </a>\n",
      "   to PrepInsta website\n",
      "  </p>\n",
      "  <p>\n",
      "   We wish you\n",
      "   <b>\n",
      "    All the best\n",
      "   </b>\n",
      "  </p>\n",
      "  <h2>\n",
      "   <a href=\"https://prepinsta.com/terms-and-conditions/\">\n",
      "    Terms and Conditions\n",
      "   </a>\n",
      "  </h2>\n",
      "  <h2 class=\"duplicate\">\n",
      "   <a href=\"https://prepinsta.com/terms-and-conditions/\">\n",
      "    Terms and Conditions\n",
      "   </a>\n",
      "  </h2>\n",
      " </body>\n",
      "</html>\n"
     ]
    }
   ],
   "source": [
    "print(data.prettify())"
   ]
  },
  {
   "cell_type": "markdown",
   "id": "508c2709",
   "metadata": {},
   "source": [
    "### Finding attributes of parent"
   ]
  },
  {
   "cell_type": "code",
   "execution_count": 4,
   "id": "84d28d9b",
   "metadata": {},
   "outputs": [
    {
     "data": {
      "text/plain": [
       "'body'"
      ]
     },
     "execution_count": 4,
     "metadata": {},
     "output_type": "execute_result"
    }
   ],
   "source": [
    "data.p.parent.name"
   ]
  },
  {
   "cell_type": "code",
   "execution_count": 6,
   "id": "9b1e80c8",
   "metadata": {},
   "outputs": [
    {
     "data": {
      "text/plain": [
       "{'class': ['myMain']}"
      ]
     },
     "execution_count": 6,
     "metadata": {},
     "output_type": "execute_result"
    }
   ],
   "source": [
    "data.p.parent.attrs"
   ]
  },
  {
   "cell_type": "markdown",
   "id": "7f120b46",
   "metadata": {},
   "source": [
    "### finding parents by string"
   ]
  },
  {
   "cell_type": "code",
   "execution_count": 14,
   "id": "a8ebe3dd",
   "metadata": {},
   "outputs": [],
   "source": [
    "a_string = data.find(string='Terms and Conditions')"
   ]
  },
  {
   "cell_type": "code",
   "execution_count": 15,
   "id": "381015a9",
   "metadata": {},
   "outputs": [
    {
     "data": {
      "text/plain": [
       "'Terms and Conditions'"
      ]
     },
     "execution_count": 15,
     "metadata": {},
     "output_type": "execute_result"
    }
   ],
   "source": [
    "a_string"
   ]
  },
  {
   "cell_type": "code",
   "execution_count": 16,
   "id": "767d83f2",
   "metadata": {},
   "outputs": [
    {
     "data": {
      "text/plain": [
       "<a href=\"https://prepinsta.com/terms-and-conditions/\">Terms and Conditions</a>"
      ]
     },
     "execution_count": 16,
     "metadata": {},
     "output_type": "execute_result"
    }
   ],
   "source": [
    "a_string.parent"
   ]
  },
  {
   "cell_type": "code",
   "execution_count": 17,
   "id": "25daa5c6",
   "metadata": {},
   "outputs": [
    {
     "data": {
      "text/plain": [
       "<a href=\"https://prepinsta.com/terms-and-conditions/\">Terms and Conditions</a>"
      ]
     },
     "execution_count": 17,
     "metadata": {},
     "output_type": "execute_result"
    }
   ],
   "source": [
    "a_string.parent"
   ]
  },
  {
   "cell_type": "code",
   "execution_count": 18,
   "id": "1cdac900",
   "metadata": {},
   "outputs": [
    {
     "data": {
      "text/plain": [
       "'a'"
      ]
     },
     "execution_count": 18,
     "metadata": {},
     "output_type": "execute_result"
    }
   ],
   "source": [
    "a_string.parent.name"
   ]
  },
  {
   "cell_type": "code",
   "execution_count": 19,
   "id": "f82901ac",
   "metadata": {},
   "outputs": [
    {
     "data": {
      "text/plain": [
       "<h2><a href=\"https://prepinsta.com/terms-and-conditions/\">Terms and Conditions</a></h2>"
      ]
     },
     "execution_count": 19,
     "metadata": {},
     "output_type": "execute_result"
    }
   ],
   "source": [
    "a_string.parent.parent"
   ]
  },
  {
   "cell_type": "code",
   "execution_count": 20,
   "id": "b8c1d34d",
   "metadata": {},
   "outputs": [
    {
     "data": {
      "text/plain": [
       "'h2'"
      ]
     },
     "execution_count": 20,
     "metadata": {},
     "output_type": "execute_result"
    }
   ],
   "source": [
    "a_string.parent.parent.name"
   ]
  },
  {
   "cell_type": "code",
   "execution_count": 22,
   "id": "f99f1fd4",
   "metadata": {},
   "outputs": [
    {
     "data": {
      "text/plain": [
       "<generator object PageElement.parents at 0x1089936d0>"
      ]
     },
     "execution_count": 22,
     "metadata": {},
     "output_type": "execute_result"
    }
   ],
   "source": [
    "a_string.parents"
   ]
  },
  {
   "cell_type": "code",
   "execution_count": 23,
   "id": "01e2c3ce",
   "metadata": {},
   "outputs": [
    {
     "data": {
      "text/plain": [
       "[<a href=\"https://prepinsta.com/terms-and-conditions/\">Terms and Conditions</a>,\n",
       " <h2><a href=\"https://prepinsta.com/terms-and-conditions/\">Terms and Conditions</a></h2>,\n",
       " <body class=\"myMain\"><h1 class=\"mainHead\">Welcome to PrepInsta</h1><p>New Chapter Begins...</p><p>Lets begin...</p><div id=\"sampleDiv\">This is a div<p>This is a great website for us to prepare</p></div><p class=\"link\">This is a <a href=\"https://prepinstaprime.com\">Link</a> to PrepInsta website</p><p>We wish you <b>All the best</b></p><h2><a href=\"https://prepinsta.com/terms-and-conditions/\">Terms and Conditions</a></h2><h2 class=\"duplicate\"><a href=\"https://prepinsta.com/terms-and-conditions/\">Terms and Conditions</a></h2></body>,\n",
       " <html><head><title>PrepInsta Website</title></head><body class=\"myMain\"><h1 class=\"mainHead\">Welcome to PrepInsta</h1><p>New Chapter Begins...</p><p>Lets begin...</p><div id=\"sampleDiv\">This is a div<p>This is a great website for us to prepare</p></div><p class=\"link\">This is a <a href=\"https://prepinstaprime.com\">Link</a> to PrepInsta website</p><p>We wish you <b>All the best</b></p><h2><a href=\"https://prepinsta.com/terms-and-conditions/\">Terms and Conditions</a></h2><h2 class=\"duplicate\"><a href=\"https://prepinsta.com/terms-and-conditions/\">Terms and Conditions</a></h2></body></html>,\n",
       " <!DOCTYPE html>\n",
       " <html><head><title>PrepInsta Website</title></head><body class=\"myMain\"><h1 class=\"mainHead\">Welcome to PrepInsta</h1><p>New Chapter Begins...</p><p>Lets begin...</p><div id=\"sampleDiv\">This is a div<p>This is a great website for us to prepare</p></div><p class=\"link\">This is a <a href=\"https://prepinstaprime.com\">Link</a> to PrepInsta website</p><p>We wish you <b>All the best</b></p><h2><a href=\"https://prepinsta.com/terms-and-conditions/\">Terms and Conditions</a></h2><h2 class=\"duplicate\"><a href=\"https://prepinsta.com/terms-and-conditions/\">Terms and Conditions</a></h2></body></html>]"
      ]
     },
     "execution_count": 23,
     "metadata": {},
     "output_type": "execute_result"
    }
   ],
   "source": [
    "list(a_string.parents)"
   ]
  },
  {
   "cell_type": "code",
   "execution_count": 26,
   "id": "e6d05962",
   "metadata": {},
   "outputs": [
    {
     "data": {
      "text/plain": [
       "[<body class=\"myMain\"><h1 class=\"mainHead\">Welcome to PrepInsta</h1><p>New Chapter Begins...</p><p>Lets begin...</p><div id=\"sampleDiv\">This is a div<p>This is a great website for us to prepare</p></div><p class=\"link\">This is a <a href=\"https://prepinstaprime.com\">Link</a> to PrepInsta website</p><p>We wish you <b>All the best</b></p><h2><a href=\"https://prepinsta.com/terms-and-conditions/\">Terms and Conditions</a></h2><h2 class=\"duplicate\"><a href=\"https://prepinsta.com/terms-and-conditions/\">Terms and Conditions</a></h2></body>]"
      ]
     },
     "execution_count": 26,
     "metadata": {},
     "output_type": "execute_result"
    }
   ],
   "source": [
    "a_string.find_parents('body')"
   ]
  },
  {
   "cell_type": "code",
   "execution_count": 27,
   "id": "26c9d729",
   "metadata": {},
   "outputs": [],
   "source": [
    "import re\n",
    "\n",
    "aString = data.find('p',string=re.compile('website'))"
   ]
  },
  {
   "cell_type": "code",
   "execution_count": 28,
   "id": "07978b59",
   "metadata": {},
   "outputs": [
    {
     "data": {
      "text/plain": [
       "<p>This is a great website for us to prepare</p>"
      ]
     },
     "execution_count": 28,
     "metadata": {},
     "output_type": "execute_result"
    }
   ],
   "source": [
    "aString"
   ]
  },
  {
   "cell_type": "markdown",
   "id": "6c7580c6",
   "metadata": {},
   "source": [
    "### Finding Parent/s by parent or parents attribute "
   ]
  },
  {
   "cell_type": "code",
   "execution_count": 29,
   "id": "f251d842",
   "metadata": {},
   "outputs": [
    {
     "data": {
      "text/plain": [
       "<div id=\"sampleDiv\">This is a div<p>This is a great website for us to prepare</p></div>"
      ]
     },
     "execution_count": 29,
     "metadata": {},
     "output_type": "execute_result"
    }
   ],
   "source": [
    "aString.parent"
   ]
  },
  {
   "cell_type": "code",
   "execution_count": 31,
   "id": "859697ee",
   "metadata": {},
   "outputs": [
    {
     "data": {
      "text/plain": [
       "[<div id=\"sampleDiv\">This is a div<p>This is a great website for us to prepare</p></div>,\n",
       " <body class=\"myMain\"><h1 class=\"mainHead\">Welcome to PrepInsta</h1><p>New Chapter Begins...</p><p>Lets begin...</p><div id=\"sampleDiv\">This is a div<p>This is a great website for us to prepare</p></div><p class=\"link\">This is a <a href=\"https://prepinstaprime.com\">Link</a> to PrepInsta website</p><p>We wish you <b>All the best</b></p><h2><a href=\"https://prepinsta.com/terms-and-conditions/\">Terms and Conditions</a></h2><h2 class=\"duplicate\"><a href=\"https://prepinsta.com/terms-and-conditions/\">Terms and Conditions</a></h2></body>,\n",
       " <html><head><title>PrepInsta Website</title></head><body class=\"myMain\"><h1 class=\"mainHead\">Welcome to PrepInsta</h1><p>New Chapter Begins...</p><p>Lets begin...</p><div id=\"sampleDiv\">This is a div<p>This is a great website for us to prepare</p></div><p class=\"link\">This is a <a href=\"https://prepinstaprime.com\">Link</a> to PrepInsta website</p><p>We wish you <b>All the best</b></p><h2><a href=\"https://prepinsta.com/terms-and-conditions/\">Terms and Conditions</a></h2><h2 class=\"duplicate\"><a href=\"https://prepinsta.com/terms-and-conditions/\">Terms and Conditions</a></h2></body></html>,\n",
       " <!DOCTYPE html>\n",
       " <html><head><title>PrepInsta Website</title></head><body class=\"myMain\"><h1 class=\"mainHead\">Welcome to PrepInsta</h1><p>New Chapter Begins...</p><p>Lets begin...</p><div id=\"sampleDiv\">This is a div<p>This is a great website for us to prepare</p></div><p class=\"link\">This is a <a href=\"https://prepinstaprime.com\">Link</a> to PrepInsta website</p><p>We wish you <b>All the best</b></p><h2><a href=\"https://prepinsta.com/terms-and-conditions/\">Terms and Conditions</a></h2><h2 class=\"duplicate\"><a href=\"https://prepinsta.com/terms-and-conditions/\">Terms and Conditions</a></h2></body></html>]"
      ]
     },
     "execution_count": 31,
     "metadata": {},
     "output_type": "execute_result"
    }
   ],
   "source": [
    "list(aString.parents)"
   ]
  },
  {
   "cell_type": "markdown",
   "id": "83e60f0c",
   "metadata": {},
   "source": [
    "### finding all parents using find_parents( )"
   ]
  },
  {
   "cell_type": "code",
   "execution_count": 32,
   "id": "79002916",
   "metadata": {},
   "outputs": [
    {
     "data": {
      "text/plain": [
       "[<div id=\"sampleDiv\">This is a div<p>This is a great website for us to prepare</p></div>,\n",
       " <body class=\"myMain\"><h1 class=\"mainHead\">Welcome to PrepInsta</h1><p>New Chapter Begins...</p><p>Lets begin...</p><div id=\"sampleDiv\">This is a div<p>This is a great website for us to prepare</p></div><p class=\"link\">This is a <a href=\"https://prepinstaprime.com\">Link</a> to PrepInsta website</p><p>We wish you <b>All the best</b></p><h2><a href=\"https://prepinsta.com/terms-and-conditions/\">Terms and Conditions</a></h2><h2 class=\"duplicate\"><a href=\"https://prepinsta.com/terms-and-conditions/\">Terms and Conditions</a></h2></body>,\n",
       " <html><head><title>PrepInsta Website</title></head><body class=\"myMain\"><h1 class=\"mainHead\">Welcome to PrepInsta</h1><p>New Chapter Begins...</p><p>Lets begin...</p><div id=\"sampleDiv\">This is a div<p>This is a great website for us to prepare</p></div><p class=\"link\">This is a <a href=\"https://prepinstaprime.com\">Link</a> to PrepInsta website</p><p>We wish you <b>All the best</b></p><h2><a href=\"https://prepinsta.com/terms-and-conditions/\">Terms and Conditions</a></h2><h2 class=\"duplicate\"><a href=\"https://prepinsta.com/terms-and-conditions/\">Terms and Conditions</a></h2></body></html>,\n",
       " <!DOCTYPE html>\n",
       " <html><head><title>PrepInsta Website</title></head><body class=\"myMain\"><h1 class=\"mainHead\">Welcome to PrepInsta</h1><p>New Chapter Begins...</p><p>Lets begin...</p><div id=\"sampleDiv\">This is a div<p>This is a great website for us to prepare</p></div><p class=\"link\">This is a <a href=\"https://prepinstaprime.com\">Link</a> to PrepInsta website</p><p>We wish you <b>All the best</b></p><h2><a href=\"https://prepinsta.com/terms-and-conditions/\">Terms and Conditions</a></h2><h2 class=\"duplicate\"><a href=\"https://prepinsta.com/terms-and-conditions/\">Terms and Conditions</a></h2></body></html>]"
      ]
     },
     "execution_count": 32,
     "metadata": {},
     "output_type": "execute_result"
    }
   ],
   "source": [
    "aString.find_parents()"
   ]
  },
  {
   "cell_type": "markdown",
   "id": "dd761fe4",
   "metadata": {},
   "source": [
    "### finding immediate parent using find_parent method"
   ]
  },
  {
   "cell_type": "code",
   "execution_count": 33,
   "id": "01a1600f",
   "metadata": {},
   "outputs": [
    {
     "data": {
      "text/plain": [
       "<div id=\"sampleDiv\">This is a div<p>This is a great website for us to prepare</p></div>"
      ]
     },
     "execution_count": 33,
     "metadata": {},
     "output_type": "execute_result"
    }
   ],
   "source": [
    "aString.find_parent()"
   ]
  },
  {
   "cell_type": "markdown",
   "id": "9edbe161",
   "metadata": {},
   "source": [
    "### finding a specific parent from list of parents"
   ]
  },
  {
   "cell_type": "code",
   "execution_count": 34,
   "id": "357e7892",
   "metadata": {
    "scrolled": true
   },
   "outputs": [
    {
     "data": {
      "text/plain": [
       "[<body class=\"myMain\"><h1 class=\"mainHead\">Welcome to PrepInsta</h1><p>New Chapter Begins...</p><p>Lets begin...</p><div id=\"sampleDiv\">This is a div<p>This is a great website for us to prepare</p></div><p class=\"link\">This is a <a href=\"https://prepinstaprime.com\">Link</a> to PrepInsta website</p><p>We wish you <b>All the best</b></p><h2><a href=\"https://prepinsta.com/terms-and-conditions/\">Terms and Conditions</a></h2><h2 class=\"duplicate\"><a href=\"https://prepinsta.com/terms-and-conditions/\">Terms and Conditions</a></h2></body>]"
      ]
     },
     "execution_count": 34,
     "metadata": {},
     "output_type": "execute_result"
    }
   ],
   "source": [
    "aString.find_parents('body')"
   ]
  },
  {
   "cell_type": "code",
   "execution_count": 38,
   "id": "6e994053",
   "metadata": {},
   "outputs": [
    {
     "data": {
      "text/plain": [
       "<body class=\"myMain\"><h1 class=\"mainHead\">Welcome to PrepInsta</h1><p>New Chapter Begins...</p><p>Lets begin...</p><div id=\"sampleDiv\">This is a div<p>This is a great website for us to prepare</p></div><p class=\"link\">This is a <a href=\"https://prepinstaprime.com\">Link</a> to PrepInsta website</p><p>We wish you <b>All the best</b></p><h2><a href=\"https://prepinsta.com/terms-and-conditions/\">Terms and Conditions</a></h2><h2 class=\"duplicate\"><a href=\"https://prepinsta.com/terms-and-conditions/\">Terms and Conditions</a></h2></body>"
      ]
     },
     "execution_count": 38,
     "metadata": {},
     "output_type": "execute_result"
    }
   ],
   "source": [
    "list(aString.parents)[1]"
   ]
  },
  {
   "cell_type": "markdown",
   "id": "8769898f",
   "metadata": {},
   "source": [
    "### finding siblings "
   ]
  },
  {
   "cell_type": "markdown",
   "id": "62e49e5e",
   "metadata": {},
   "source": [
    "#### finding previous sibling"
   ]
  },
  {
   "cell_type": "code",
   "execution_count": 39,
   "id": "5d3c75a2",
   "metadata": {},
   "outputs": [],
   "source": [
    "para = data.find('p',class_='link')"
   ]
  },
  {
   "cell_type": "code",
   "execution_count": 40,
   "id": "fe569a0d",
   "metadata": {},
   "outputs": [
    {
     "data": {
      "text/plain": [
       "<p class=\"link\">This is a <a href=\"https://prepinstaprime.com\">Link</a> to PrepInsta website</p>"
      ]
     },
     "execution_count": 40,
     "metadata": {},
     "output_type": "execute_result"
    }
   ],
   "source": [
    "para"
   ]
  },
  {
   "cell_type": "code",
   "execution_count": 42,
   "id": "aec7b83f",
   "metadata": {},
   "outputs": [
    {
     "data": {
      "text/plain": [
       "<div id=\"sampleDiv\">This is a div<p>This is a great website for us to prepare</p></div>"
      ]
     },
     "execution_count": 42,
     "metadata": {},
     "output_type": "execute_result"
    }
   ],
   "source": [
    "para.find_previous_sibling()"
   ]
  },
  {
   "cell_type": "code",
   "execution_count": 43,
   "id": "c9f25681",
   "metadata": {},
   "outputs": [
    {
     "data": {
      "text/plain": [
       "<p>Lets begin...</p>"
      ]
     },
     "execution_count": 43,
     "metadata": {},
     "output_type": "execute_result"
    }
   ],
   "source": [
    "para.find_previous_sibling('p')"
   ]
  },
  {
   "cell_type": "markdown",
   "id": "db4769df",
   "metadata": {},
   "source": [
    "#### finding previous siblings"
   ]
  },
  {
   "cell_type": "code",
   "execution_count": 47,
   "id": "93355204",
   "metadata": {},
   "outputs": [
    {
     "data": {
      "text/plain": [
       "[<div id=\"sampleDiv\">This is a div<p>This is a great website for us to prepare</p></div>,\n",
       " <p>Lets begin...</p>,\n",
       " <p>New Chapter Begins...</p>,\n",
       " <h1 class=\"mainHead\">Welcome to PrepInsta</h1>]"
      ]
     },
     "execution_count": 47,
     "metadata": {},
     "output_type": "execute_result"
    }
   ],
   "source": [
    "para.find_previous_siblings()"
   ]
  },
  {
   "cell_type": "code",
   "execution_count": 48,
   "id": "2589c4db",
   "metadata": {},
   "outputs": [
    {
     "data": {
      "text/plain": [
       "[<p>Lets begin...</p>, <p>New Chapter Begins...</p>]"
      ]
     },
     "execution_count": 48,
     "metadata": {},
     "output_type": "execute_result"
    }
   ],
   "source": [
    "para.find_previous_siblings('p')"
   ]
  },
  {
   "cell_type": "code",
   "execution_count": null,
   "id": "ad9d97f0",
   "metadata": {},
   "outputs": [],
   "source": []
  },
  {
   "cell_type": "markdown",
   "id": "da4ade5d",
   "metadata": {},
   "source": [
    "#### finding previous siblings"
   ]
  },
  {
   "cell_type": "code",
   "execution_count": 49,
   "id": "68d3cbf1",
   "metadata": {
    "scrolled": true
   },
   "outputs": [
    {
     "data": {
      "text/plain": [
       "[<h2><a href=\"https://prepinsta.com/terms-and-conditions/\">Terms and Conditions</a></h2>,\n",
       " <h2 class=\"duplicate\"><a href=\"https://prepinsta.com/terms-and-conditions/\">Terms and Conditions</a></h2>]"
      ]
     },
     "execution_count": 49,
     "metadata": {},
     "output_type": "execute_result"
    }
   ],
   "source": [
    "para.find_next_siblings('h2')"
   ]
  },
  {
   "cell_type": "code",
   "execution_count": null,
   "id": "aae4f74a",
   "metadata": {},
   "outputs": [],
   "source": []
  }
 ],
 "metadata": {
  "kernelspec": {
   "display_name": "Python 3.9 (tensorflow)",
   "language": "python",
   "name": "tensorflow"
  },
  "language_info": {
   "codemirror_mode": {
    "name": "ipython",
    "version": 3
   },
   "file_extension": ".py",
   "mimetype": "text/x-python",
   "name": "python",
   "nbconvert_exporter": "python",
   "pygments_lexer": "ipython3",
   "version": "3.9.13"
  }
 },
 "nbformat": 4,
 "nbformat_minor": 5
}
