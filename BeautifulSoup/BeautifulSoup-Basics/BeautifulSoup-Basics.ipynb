{
 "cells": [
  {
   "cell_type": "code",
   "execution_count": 1,
   "id": "139f5b85",
   "metadata": {},
   "outputs": [],
   "source": [
    "from bs4 import BeautifulSoup"
   ]
  },
  {
   "cell_type": "code",
   "execution_count": 3,
   "id": "f27936f6",
   "metadata": {},
   "outputs": [],
   "source": [
    "html = '<!DOCTYPE html>\\\n",
    "<html>\\\n",
    "<head>\\\n",
    "    <title>PrepInsta Website</title>\\\n",
    "</head>\\\n",
    "<body>\\\n",
    "    <h1 class=\"mainHead\">Welcome to PrepInsta</h1>\\\n",
    "    <p>This is a great website for us to prepare</p>\\\n",
    "    <h2 class=\"features\">Overview</h2>\\\n",
    "    <p id=\"overview-text\">What can you do on PrepInsta Website-</p>\\\n",
    "    <p class=\"features\">You can Learn Skills</p>\\\n",
    "    <p class=\"features\">You can Learn Coding</p>\\\n",
    "    <p class=\"features\">You can Learn Languages</p>\\\n",
    "    <p class=\"features\" id = \"Apti\">You can Learn Aptitiude</p>\\\n",
    "    <p class=\"features certification\">You can get Certifications</p>\\\n",
    "    <h2>Certifications</h2>\\\n",
    "    <p class=\"features job\">You can get a High Paying Job</p>\\\n",
    "    <p class=\"features\" id=\"special-text\">PrepInsta offers you the opportunity to learn without limits all the Upskilling Courses, Placement Preparation &  Certification Courses with Single Subscription</p>\\\n",
    "    <a id=\"linkweb\" href=\"https://www.PrepInstaPrime.com\">Visit PrepInstaPrime.com!</a>\\\n",
    "    <a href=\"https://prepinstaprime.com/purchase\">Purchase Prime</a>\\\n",
    "    <a href=\"http://prepinstaprime.com/syllabus/tcs-nqt-syllabus\">TCS NQT Course</a>\\\n",
    "    <a href=\"http://prepinstaprime.com/syllabus/machine-learning-and-aritifical-intelligence-syllabus\">ML Course</a>\\\n",
    "</body>\\\n",
    "</html>'"
   ]
  },
  {
   "cell_type": "markdown",
   "id": "e3b3dacf",
   "metadata": {},
   "source": [
    "### Creating a BeautifulSoup Object"
   ]
  },
  {
   "cell_type": "code",
   "execution_count": 7,
   "id": "e92565be",
   "metadata": {},
   "outputs": [],
   "source": [
    "data = BeautifulSoup(html,'html.parser')"
   ]
  },
  {
   "cell_type": "code",
   "execution_count": 9,
   "id": "033ac3d2",
   "metadata": {},
   "outputs": [
    {
     "data": {
      "text/plain": [
       "<!DOCTYPE html>\n",
       "<html><head> <title>PrepInsta Website</title></head><body> <h1 class=\"mainHead\">Welcome to PrepInsta</h1> <p>This is a great website for us to prepare</p> <h2 class=\"features\">Overview</h2> <p id=\"overview-text\">What can you do on PrepInsta Website-</p> <p class=\"features\">You can Learn Skills</p> <p class=\"features\">You can Learn Coding</p> <p class=\"features\">You can Learn Languages</p> <p class=\"features\" id=\"Apti\">You can Learn Aptitiude</p> <p class=\"features certification\">You can get Certifications</p> <h2>Certifications</h2> <p class=\"features job\">You can get a High Paying Job</p> <p class=\"features\" id=\"special-text\">PrepInsta offers you the opportunity to learn without limits all the Upskilling Courses, Placement Preparation &amp;  Certification Courses with Single Subscription</p> <a href=\"https://www.PrepInstaPrime.com\" id=\"linkweb\">Visit PrepInstaPrime.com!</a> <a href=\"https://prepinstaprime.com/purchase\">Purchase Prime</a> <a href=\"http://prepinstaprime.com/syllabus/tcs-nqt-syllabus\">TCS NQT Course</a> <a href=\"http://prepinstaprime.com/syllabus/machine-learning-and-aritifical-intelligence-syllabus\">ML Course</a></body></html>"
      ]
     },
     "execution_count": 9,
     "metadata": {},
     "output_type": "execute_result"
    }
   ],
   "source": [
    "data"
   ]
  },
  {
   "cell_type": "code",
   "execution_count": 10,
   "id": "31ec0cc7",
   "metadata": {},
   "outputs": [
    {
     "name": "stdout",
     "output_type": "stream",
     "text": [
      "<!DOCTYPE html>\n",
      "<html>\n",
      " <head>\n",
      "  <title>\n",
      "   PrepInsta Website\n",
      "  </title>\n",
      " </head>\n",
      " <body>\n",
      "  <h1 class=\"mainHead\">\n",
      "   Welcome to PrepInsta\n",
      "  </h1>\n",
      "  <p>\n",
      "   This is a great website for us to prepare\n",
      "  </p>\n",
      "  <h2 class=\"features\">\n",
      "   Overview\n",
      "  </h2>\n",
      "  <p id=\"overview-text\">\n",
      "   What can you do on PrepInsta Website-\n",
      "  </p>\n",
      "  <p class=\"features\">\n",
      "   You can Learn Skills\n",
      "  </p>\n",
      "  <p class=\"features\">\n",
      "   You can Learn Coding\n",
      "  </p>\n",
      "  <p class=\"features\">\n",
      "   You can Learn Languages\n",
      "  </p>\n",
      "  <p class=\"features\" id=\"Apti\">\n",
      "   You can Learn Aptitiude\n",
      "  </p>\n",
      "  <p class=\"features certification\">\n",
      "   You can get Certifications\n",
      "  </p>\n",
      "  <h2>\n",
      "   Certifications\n",
      "  </h2>\n",
      "  <p class=\"features job\">\n",
      "   You can get a High Paying Job\n",
      "  </p>\n",
      "  <p class=\"features\" id=\"special-text\">\n",
      "   PrepInsta offers you the opportunity to learn without limits all the Upskilling Courses, Placement Preparation &amp;  Certification Courses with Single Subscription\n",
      "  </p>\n",
      "  <a href=\"https://www.PrepInstaPrime.com\" id=\"linkweb\">\n",
      "   Visit PrepInstaPrime.com!\n",
      "  </a>\n",
      "  <a href=\"https://prepinstaprime.com/purchase\">\n",
      "   Purchase Prime\n",
      "  </a>\n",
      "  <a href=\"http://prepinstaprime.com/syllabus/tcs-nqt-syllabus\">\n",
      "   TCS NQT Course\n",
      "  </a>\n",
      "  <a href=\"http://prepinstaprime.com/syllabus/machine-learning-and-aritifical-intelligence-syllabus\">\n",
      "   ML Course\n",
      "  </a>\n",
      " </body>\n",
      "</html>\n"
     ]
    }
   ],
   "source": [
    "print(data.prettify())"
   ]
  },
  {
   "cell_type": "markdown",
   "id": "50b4d7cc",
   "metadata": {},
   "source": [
    "### Finding tags by name & as attribute to beatufulSoup Object"
   ]
  },
  {
   "cell_type": "code",
   "execution_count": 11,
   "id": "c321b298",
   "metadata": {},
   "outputs": [
    {
     "data": {
      "text/plain": [
       "<p>This is a great website for us to prepare</p>"
      ]
     },
     "execution_count": 11,
     "metadata": {},
     "output_type": "execute_result"
    }
   ],
   "source": [
    "data.find('p')"
   ]
  },
  {
   "cell_type": "code",
   "execution_count": 19,
   "id": "ece0d519",
   "metadata": {},
   "outputs": [],
   "source": [
    "para_list = data.find_all('p')"
   ]
  },
  {
   "cell_type": "code",
   "execution_count": 20,
   "id": "e3a9afb1",
   "metadata": {},
   "outputs": [
    {
     "data": {
      "text/plain": [
       "<p>This is a great website for us to prepare</p>"
      ]
     },
     "execution_count": 20,
     "metadata": {},
     "output_type": "execute_result"
    }
   ],
   "source": [
    "data.p"
   ]
  },
  {
   "cell_type": "code",
   "execution_count": 21,
   "id": "a8d5e040",
   "metadata": {},
   "outputs": [
    {
     "data": {
      "text/plain": [
       "<title>PrepInsta Website</title>"
      ]
     },
     "execution_count": 21,
     "metadata": {},
     "output_type": "execute_result"
    }
   ],
   "source": [
    "data.head.title"
   ]
  },
  {
   "cell_type": "code",
   "execution_count": 22,
   "id": "581f3df4",
   "metadata": {},
   "outputs": [
    {
     "data": {
      "text/plain": [
       "<title>PrepInsta Website</title>"
      ]
     },
     "execution_count": 22,
     "metadata": {},
     "output_type": "execute_result"
    }
   ],
   "source": [
    "data.title"
   ]
  },
  {
   "cell_type": "code",
   "execution_count": 23,
   "id": "9be3066d",
   "metadata": {},
   "outputs": [
    {
     "data": {
      "text/plain": [
       "<head> <title>PrepInsta Website</title></head>"
      ]
     },
     "execution_count": 23,
     "metadata": {},
     "output_type": "execute_result"
    }
   ],
   "source": [
    "data.head"
   ]
  },
  {
   "cell_type": "code",
   "execution_count": 24,
   "id": "5462313a",
   "metadata": {},
   "outputs": [
    {
     "data": {
      "text/plain": [
       "<html><head> <title>PrepInsta Website</title></head><body> <h1 class=\"mainHead\">Welcome to PrepInsta</h1> <p>This is a great website for us to prepare</p> <h2 class=\"features\">Overview</h2> <p id=\"overview-text\">What can you do on PrepInsta Website-</p> <p class=\"features\">You can Learn Skills</p> <p class=\"features\">You can Learn Coding</p> <p class=\"features\">You can Learn Languages</p> <p class=\"features\" id=\"Apti\">You can Learn Aptitiude</p> <p class=\"features certification\">You can get Certifications</p> <h2>Certifications</h2> <p class=\"features job\">You can get a High Paying Job</p> <p class=\"features\" id=\"special-text\">PrepInsta offers you the opportunity to learn without limits all the Upskilling Courses, Placement Preparation &amp;  Certification Courses with Single Subscription</p> <a href=\"https://www.PrepInstaPrime.com\" id=\"linkweb\">Visit PrepInstaPrime.com!</a> <a href=\"https://prepinstaprime.com/purchase\">Purchase Prime</a> <a href=\"http://prepinstaprime.com/syllabus/tcs-nqt-syllabus\">TCS NQT Course</a> <a href=\"http://prepinstaprime.com/syllabus/machine-learning-and-aritifical-intelligence-syllabus\">ML Course</a></body></html>"
      ]
     },
     "execution_count": 24,
     "metadata": {},
     "output_type": "execute_result"
    }
   ],
   "source": [
    "data.html"
   ]
  },
  {
   "cell_type": "markdown",
   "id": "9f7d1233",
   "metadata": {},
   "source": [
    "### getting data in a tag using string attribute along with tag name"
   ]
  },
  {
   "cell_type": "code",
   "execution_count": 25,
   "id": "43c29cde",
   "metadata": {},
   "outputs": [
    {
     "data": {
      "text/plain": [
       "'PrepInsta Website'"
      ]
     },
     "execution_count": 25,
     "metadata": {},
     "output_type": "execute_result"
    }
   ],
   "source": [
    "data.title.string"
   ]
  },
  {
   "cell_type": "code",
   "execution_count": 26,
   "id": "d07bb5d7",
   "metadata": {},
   "outputs": [
    {
     "name": "stdout",
     "output_type": "stream",
     "text": [
      "Para 0 : This is a great website for us to prepare\n",
      "Para 1 : What can you do on PrepInsta Website-\n",
      "Para 2 : You can Learn Skills\n",
      "Para 3 : You can Learn Coding\n",
      "Para 4 : You can Learn Languages\n",
      "Para 5 : You can Learn Aptitiude\n",
      "Para 6 : You can get Certifications\n",
      "Para 7 : You can get a High Paying Job\n",
      "Para 8 : PrepInsta offers you the opportunity to learn without limits all the Upskilling Courses, Placement Preparation &  Certification Courses with Single Subscription\n"
     ]
    }
   ],
   "source": [
    "for para in para_list:\n",
    "    print(\"Para\",para_list.index(para),\":\",para.string)"
   ]
  },
  {
   "cell_type": "markdown",
   "id": "f80eba65",
   "metadata": {},
   "source": [
    "### Finding p & h2 tags"
   ]
  },
  {
   "cell_type": "code",
   "execution_count": 27,
   "id": "79ab6b7c",
   "metadata": {
    "scrolled": true
   },
   "outputs": [
    {
     "data": {
      "text/plain": [
       "[<p>This is a great website for us to prepare</p>,\n",
       " <h2 class=\"features\">Overview</h2>,\n",
       " <p id=\"overview-text\">What can you do on PrepInsta Website-</p>,\n",
       " <p class=\"features\">You can Learn Skills</p>,\n",
       " <p class=\"features\">You can Learn Coding</p>,\n",
       " <p class=\"features\">You can Learn Languages</p>,\n",
       " <p class=\"features\" id=\"Apti\">You can Learn Aptitiude</p>,\n",
       " <p class=\"features certification\">You can get Certifications</p>,\n",
       " <h2>Certifications</h2>,\n",
       " <p class=\"features job\">You can get a High Paying Job</p>,\n",
       " <p class=\"features\" id=\"special-text\">PrepInsta offers you the opportunity to learn without limits all the Upskilling Courses, Placement Preparation &amp;  Certification Courses with Single Subscription</p>]"
      ]
     },
     "execution_count": 27,
     "metadata": {},
     "output_type": "execute_result"
    }
   ],
   "source": [
    "data.find_all(['p','h2'])"
   ]
  },
  {
   "cell_type": "markdown",
   "id": "004512b5",
   "metadata": {},
   "source": [
    "### Finding all Tags"
   ]
  },
  {
   "cell_type": "code",
   "execution_count": 29,
   "id": "059d7467",
   "metadata": {},
   "outputs": [
    {
     "name": "stdout",
     "output_type": "stream",
     "text": [
      "{'html', 'title', 'a', 'body', 'h1', 'h2', 'p', 'head'}\n"
     ]
    }
   ],
   "source": [
    "all_tags = data.find_all(True)\n",
    "\n",
    "tagList = set()\n",
    "\n",
    "for tag in all_tags:\n",
    "    if tag.name not in tagList:\n",
    "        tagList.add(tag.name)\n",
    "        \n",
    "print(tagList)"
   ]
  },
  {
   "cell_type": "markdown",
   "id": "b1b9f622",
   "metadata": {},
   "source": [
    "### Finding all tags with the given class name"
   ]
  },
  {
   "cell_type": "code",
   "execution_count": 30,
   "id": "09259177",
   "metadata": {},
   "outputs": [
    {
     "data": {
      "text/plain": [
       "[<h2 class=\"features\">Overview</h2>,\n",
       " <p class=\"features\">You can Learn Skills</p>,\n",
       " <p class=\"features\">You can Learn Coding</p>,\n",
       " <p class=\"features\">You can Learn Languages</p>,\n",
       " <p class=\"features\" id=\"Apti\">You can Learn Aptitiude</p>,\n",
       " <p class=\"features certification\">You can get Certifications</p>,\n",
       " <p class=\"features job\">You can get a High Paying Job</p>,\n",
       " <p class=\"features\" id=\"special-text\">PrepInsta offers you the opportunity to learn without limits all the Upskilling Courses, Placement Preparation &amp;  Certification Courses with Single Subscription</p>]"
      ]
     },
     "execution_count": 30,
     "metadata": {},
     "output_type": "execute_result"
    }
   ],
   "source": [
    "data.find_all(class_='features')"
   ]
  },
  {
   "cell_type": "code",
   "execution_count": 33,
   "id": "97e5ef6c",
   "metadata": {},
   "outputs": [
    {
     "data": {
      "text/plain": [
       "[<p class=\"features certification\">You can get Certifications</p>]"
      ]
     },
     "execution_count": 33,
     "metadata": {},
     "output_type": "execute_result"
    }
   ],
   "source": [
    "data.find_all(class_='certification')"
   ]
  },
  {
   "cell_type": "code",
   "execution_count": 34,
   "id": "e0b714c2",
   "metadata": {},
   "outputs": [
    {
     "data": {
      "text/plain": [
       "[<p class=\"features job\">You can get a High Paying Job</p>]"
      ]
     },
     "execution_count": 34,
     "metadata": {},
     "output_type": "execute_result"
    }
   ],
   "source": [
    "data.find_all(class_='job')"
   ]
  },
  {
   "cell_type": "markdown",
   "id": "5ffaec66",
   "metadata": {},
   "source": [
    "### Finding tags with both class name and a tag-name"
   ]
  },
  {
   "cell_type": "code",
   "execution_count": 38,
   "id": "e0e4593c",
   "metadata": {},
   "outputs": [
    {
     "data": {
      "text/plain": [
       "[<h2 class=\"features\">Overview</h2>]"
      ]
     },
     "execution_count": 38,
     "metadata": {},
     "output_type": "execute_result"
    }
   ],
   "source": [
    "data.find_all('h2',class_='features')"
   ]
  },
  {
   "cell_type": "code",
   "execution_count": 39,
   "id": "08a9bbf1",
   "metadata": {},
   "outputs": [
    {
     "data": {
      "text/plain": [
       "[<p class=\"features\">You can Learn Skills</p>,\n",
       " <p class=\"features\">You can Learn Coding</p>,\n",
       " <p class=\"features\">You can Learn Languages</p>,\n",
       " <p class=\"features\" id=\"Apti\">You can Learn Aptitiude</p>,\n",
       " <p class=\"features certification\">You can get Certifications</p>,\n",
       " <p class=\"features job\">You can get a High Paying Job</p>,\n",
       " <p class=\"features\" id=\"special-text\">PrepInsta offers you the opportunity to learn without limits all the Upskilling Courses, Placement Preparation &amp;  Certification Courses with Single Subscription</p>]"
      ]
     },
     "execution_count": 39,
     "metadata": {},
     "output_type": "execute_result"
    }
   ],
   "source": [
    "data.find_all('p',class_='features')"
   ]
  },
  {
   "cell_type": "markdown",
   "id": "99d6f283",
   "metadata": {},
   "source": [
    "### Find all tags with the given ID"
   ]
  },
  {
   "cell_type": "code",
   "execution_count": 40,
   "id": "3ddd5a23",
   "metadata": {},
   "outputs": [
    {
     "data": {
      "text/plain": [
       "[<p class=\"features\" id=\"Apti\">You can Learn Aptitiude</p>]"
      ]
     },
     "execution_count": 40,
     "metadata": {},
     "output_type": "execute_result"
    }
   ],
   "source": [
    "data.find_all(id = 'Apti')"
   ]
  },
  {
   "cell_type": "markdown",
   "id": "2410dec6",
   "metadata": {},
   "source": [
    "### Finding tags with a limit specified"
   ]
  },
  {
   "cell_type": "code",
   "execution_count": 41,
   "id": "dcd76d07",
   "metadata": {},
   "outputs": [
    {
     "data": {
      "text/plain": [
       "[<p class=\"features\">You can Learn Skills</p>,\n",
       " <p class=\"features\">You can Learn Coding</p>]"
      ]
     },
     "execution_count": 41,
     "metadata": {},
     "output_type": "execute_result"
    }
   ],
   "source": [
    "data.find_all('p',class_='features',limit=2)"
   ]
  },
  {
   "cell_type": "markdown",
   "id": "86faa4cf",
   "metadata": {},
   "source": [
    "### Finding all tags with a particular href"
   ]
  },
  {
   "cell_type": "code",
   "execution_count": 42,
   "id": "3c86a98c",
   "metadata": {},
   "outputs": [
    {
     "data": {
      "text/plain": [
       "[<a href=\"https://www.PrepInstaPrime.com\" id=\"linkweb\">Visit PrepInstaPrime.com!</a>]"
      ]
     },
     "execution_count": 42,
     "metadata": {},
     "output_type": "execute_result"
    }
   ],
   "source": [
    "data.find_all(href=\"https://www.PrepInstaPrime.com\")"
   ]
  },
  {
   "cell_type": "markdown",
   "id": "0a951ad9",
   "metadata": {},
   "source": [
    "### Finding with a regular Expression"
   ]
  },
  {
   "cell_type": "code",
   "execution_count": 43,
   "id": "47df0d6b",
   "metadata": {},
   "outputs": [],
   "source": [
    "import re "
   ]
  },
  {
   "cell_type": "code",
   "execution_count": 45,
   "id": "9584eade",
   "metadata": {},
   "outputs": [
    {
     "data": {
      "text/plain": [
       "[<a href=\"https://www.PrepInstaPrime.com\" id=\"linkweb\">Visit PrepInstaPrime.com!</a>]"
      ]
     },
     "execution_count": 45,
     "metadata": {},
     "output_type": "execute_result"
    }
   ],
   "source": [
    "data.find_all(href=re.compile(\"PrepInstaPrime.com\"))"
   ]
  },
  {
   "cell_type": "markdown",
   "id": "bb4e4d95",
   "metadata": {},
   "source": [
    "#### This is a case sensitive method"
   ]
  },
  {
   "cell_type": "code",
   "execution_count": 46,
   "id": "ba7fb56e",
   "metadata": {},
   "outputs": [
    {
     "data": {
      "text/plain": [
       "[]"
      ]
     },
     "execution_count": 46,
     "metadata": {},
     "output_type": "execute_result"
    }
   ],
   "source": [
    "data.find_all(href=re.compile(\"prepInstaPrime.com\"))"
   ]
  },
  {
   "cell_type": "code",
   "execution_count": 47,
   "id": "6b463e46",
   "metadata": {},
   "outputs": [
    {
     "data": {
      "text/plain": [
       "[<a href=\"https://www.PrepInstaPrime.com\" id=\"linkweb\">Visit PrepInstaPrime.com!</a>]"
      ]
     },
     "execution_count": 47,
     "metadata": {},
     "output_type": "execute_result"
    }
   ],
   "source": [
    "data.find_all(href=re.compile(\"Prep\"))"
   ]
  },
  {
   "cell_type": "code",
   "execution_count": 49,
   "id": "b23648b8",
   "metadata": {},
   "outputs": [
    {
     "data": {
      "text/plain": [
       "[<a href=\"https://prepinstaprime.com/purchase\">Purchase Prime</a>,\n",
       " <a href=\"http://prepinstaprime.com/syllabus/tcs-nqt-syllabus\">TCS NQT Course</a>,\n",
       " <a href=\"http://prepinstaprime.com/syllabus/machine-learning-and-aritifical-intelligence-syllabus\">ML Course</a>]"
      ]
     },
     "execution_count": 49,
     "metadata": {},
     "output_type": "execute_result"
    }
   ],
   "source": [
    "data.find_all(href=re.compile(\"prep\"))"
   ]
  },
  {
   "cell_type": "markdown",
   "id": "23a94a9d",
   "metadata": {},
   "source": [
    "#### Making it case in-sensitive with re.IGNORECASE as paramter"
   ]
  },
  {
   "cell_type": "code",
   "execution_count": 50,
   "id": "260f4ab0",
   "metadata": {
    "scrolled": true
   },
   "outputs": [
    {
     "data": {
      "text/plain": [
       "[<a href=\"https://www.PrepInstaPrime.com\" id=\"linkweb\">Visit PrepInstaPrime.com!</a>,\n",
       " <a href=\"https://prepinstaprime.com/purchase\">Purchase Prime</a>,\n",
       " <a href=\"http://prepinstaprime.com/syllabus/tcs-nqt-syllabus\">TCS NQT Course</a>,\n",
       " <a href=\"http://prepinstaprime.com/syllabus/machine-learning-and-aritifical-intelligence-syllabus\">ML Course</a>]"
      ]
     },
     "execution_count": 50,
     "metadata": {},
     "output_type": "execute_result"
    }
   ],
   "source": [
    "data.find_all(href=re.compile(\"prepInstaPrime.com\",re.IGNORECASE))"
   ]
  },
  {
   "cell_type": "markdown",
   "id": "252be0bb",
   "metadata": {},
   "source": [
    "### Finding tags with a given string in them"
   ]
  },
  {
   "cell_type": "code",
   "execution_count": 51,
   "id": "8de488ef",
   "metadata": {},
   "outputs": [],
   "source": [
    "strings = ['You can Learn Coding','You can Learn Skills']"
   ]
  },
  {
   "cell_type": "code",
   "execution_count": 53,
   "id": "5afd6bae",
   "metadata": {},
   "outputs": [
    {
     "data": {
      "text/plain": [
       "[<p class=\"features\">You can Learn Skills</p>,\n",
       " <p class=\"features\">You can Learn Coding</p>]"
      ]
     },
     "execution_count": 53,
     "metadata": {},
     "output_type": "execute_result"
    }
   ],
   "source": [
    "data.find_all('p',string=strings)"
   ]
  },
  {
   "cell_type": "code",
   "execution_count": 55,
   "id": "3742166d",
   "metadata": {},
   "outputs": [
    {
     "data": {
      "text/plain": [
       "[<p class=\"features\">You can Learn Skills</p>,\n",
       " <p class=\"features\">You can Learn Coding</p>]"
      ]
     },
     "execution_count": 55,
     "metadata": {},
     "output_type": "execute_result"
    }
   ],
   "source": [
    "data.find_all(True,string=strings)"
   ]
  },
  {
   "cell_type": "code",
   "execution_count": 56,
   "id": "32766830",
   "metadata": {},
   "outputs": [
    {
     "data": {
      "text/plain": [
       "[<p class=\"features\">You can Learn Skills</p>,\n",
       " <p class=\"features\">You can Learn Coding</p>,\n",
       " <p class=\"features\">You can Learn Languages</p>,\n",
       " <p class=\"features\" id=\"Apti\">You can Learn Aptitiude</p>,\n",
       " <p class=\"features\" id=\"special-text\">PrepInsta offers you the opportunity to learn without limits all the Upskilling Courses, Placement Preparation &amp;  Certification Courses with Single Subscription</p>]"
      ]
     },
     "execution_count": 56,
     "metadata": {},
     "output_type": "execute_result"
    }
   ],
   "source": [
    "data.find_all(True,string=re.compile('Learn',re.IGNORECASE))"
   ]
  },
  {
   "cell_type": "code",
   "execution_count": 62,
   "id": "9e99203d",
   "metadata": {
    "scrolled": true
   },
   "outputs": [],
   "source": [
    "my_p_list = data.find_all('p')"
   ]
  },
  {
   "cell_type": "code",
   "execution_count": 63,
   "id": "d8766e9d",
   "metadata": {},
   "outputs": [
    {
     "name": "stdout",
     "output_type": "stream",
     "text": [
      "This is a great website for us to prepare\n",
      "What can you do on PrepInsta Website-\n",
      "You can Learn Skills\n",
      "You can Learn Coding\n",
      "You can Learn Languages\n",
      "You can Learn Aptitiude\n",
      "You can get Certifications\n",
      "You can get a High Paying Job\n",
      "PrepInsta offers you the opportunity to learn without limits all the Upskilling Courses, Placement Preparation &  Certification Courses with Single Subscription\n"
     ]
    }
   ],
   "source": [
    "for para in my_p_list:\n",
    "    print(para.string)"
   ]
  },
  {
   "cell_type": "code",
   "execution_count": null,
   "id": "83e77494",
   "metadata": {},
   "outputs": [],
   "source": []
  }
 ],
 "metadata": {
  "kernelspec": {
   "display_name": "Python 3.9 (tensorflow)",
   "language": "python",
   "name": "tensorflow"
  },
  "language_info": {
   "codemirror_mode": {
    "name": "ipython",
    "version": 3
   },
   "file_extension": ".py",
   "mimetype": "text/x-python",
   "name": "python",
   "nbconvert_exporter": "python",
   "pygments_lexer": "ipython3",
   "version": "3.9.13"
  }
 },
 "nbformat": 4,
 "nbformat_minor": 5
}
