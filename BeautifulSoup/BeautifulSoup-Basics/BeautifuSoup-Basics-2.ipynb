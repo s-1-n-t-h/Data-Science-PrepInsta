{
 "cells": [
  {
   "cell_type": "code",
   "execution_count": 1,
   "id": "d591e266",
   "metadata": {},
   "outputs": [],
   "source": [
    "html = '<!DOCTYPE html>\\\n",
    "<html>\\\n",
    "<head>\\\n",
    "<title>PrepInsta Website</title>\\\n",
    "</head>\\\n",
    "<body>\\\n",
    "<h1 class=\"mainHead\">Welcome to PrepInsta</h1>\\\n",
    "<p>This is a great website for us to prepare</p>\\\n",
    "<p class=\"link\">This is a <a href=\"https://prepinstaprime.com\">Link</a> to PrepInsta website</p>\\\n",
    "<p>We wish you <b>All the best</b></p>\\\n",
    "<h2><a href=\"https://prepinsta.com/terms-and-conditions/\">Terms and Conditions</a></h2>\\\n",
    "</body>\\\n",
    "</html>'"
   ]
  },
  {
   "cell_type": "code",
   "execution_count": 2,
   "id": "0d9d87d9",
   "metadata": {},
   "outputs": [],
   "source": [
    "from bs4 import BeautifulSoup"
   ]
  },
  {
   "cell_type": "code",
   "execution_count": 3,
   "id": "c2f610a4",
   "metadata": {},
   "outputs": [],
   "source": [
    "data = BeautifulSoup(html,'html.parser')"
   ]
  },
  {
   "cell_type": "code",
   "execution_count": 4,
   "id": "f886dc40",
   "metadata": {},
   "outputs": [
    {
     "name": "stdout",
     "output_type": "stream",
     "text": [
      "<!DOCTYPE html>\n",
      "<html>\n",
      " <head>\n",
      "  <title>\n",
      "   PrepInsta Website\n",
      "  </title>\n",
      " </head>\n",
      " <body>\n",
      "  <h1 class=\"mainHead\">\n",
      "   Welcome to PrepInsta\n",
      "  </h1>\n",
      "  <p>\n",
      "   This is a great website for us to prepare\n",
      "  </p>\n",
      "  <p class=\"link\">\n",
      "   This is a\n",
      "   <a href=\"https://prepinstaprime.com\">\n",
      "    Link\n",
      "   </a>\n",
      "   to PrepInsta website\n",
      "  </p>\n",
      "  <p>\n",
      "   We wish you\n",
      "   <b>\n",
      "    All the best\n",
      "   </b>\n",
      "  </p>\n",
      "  <h2>\n",
      "   <a href=\"https://prepinsta.com/terms-and-conditions/\">\n",
      "    Terms and Conditions\n",
      "   </a>\n",
      "  </h2>\n",
      " </body>\n",
      "</html>\n"
     ]
    }
   ],
   "source": [
    "print(data.prettify())"
   ]
  },
  {
   "cell_type": "markdown",
   "id": "86cb51da",
   "metadata": {},
   "source": [
    "### Hierachical Relationship between Tags"
   ]
  },
  {
   "cell_type": "code",
   "execution_count": 5,
   "id": "4d426d00",
   "metadata": {},
   "outputs": [
    {
     "data": {
      "text/plain": [
       "<a href=\"https://prepinstaprime.com\">Link</a>"
      ]
     },
     "execution_count": 5,
     "metadata": {},
     "output_type": "execute_result"
    }
   ],
   "source": [
    "data.a"
   ]
  },
  {
   "cell_type": "code",
   "execution_count": 6,
   "id": "677bddea",
   "metadata": {},
   "outputs": [
    {
     "data": {
      "text/plain": [
       "<a href=\"https://prepinsta.com/terms-and-conditions/\">Terms and Conditions</a>"
      ]
     },
     "execution_count": 6,
     "metadata": {},
     "output_type": "execute_result"
    }
   ],
   "source": [
    "data.h2.a"
   ]
  },
  {
   "cell_type": "code",
   "execution_count": 7,
   "id": "a8d5b9f1",
   "metadata": {},
   "outputs": [
    {
     "data": {
      "text/plain": [
       "<a href=\"https://prepinsta.com/terms-and-conditions/\">Terms and Conditions</a>"
      ]
     },
     "execution_count": 7,
     "metadata": {},
     "output_type": "execute_result"
    }
   ],
   "source": [
    "data.body.h2.a"
   ]
  },
  {
   "cell_type": "code",
   "execution_count": 8,
   "id": "7a3e0561",
   "metadata": {},
   "outputs": [
    {
     "data": {
      "text/plain": [
       "<a href=\"https://prepinsta.com/terms-and-conditions/\">Terms and Conditions</a>"
      ]
     },
     "execution_count": 8,
     "metadata": {},
     "output_type": "execute_result"
    }
   ],
   "source": [
    "data.html.body.h2.a"
   ]
  },
  {
   "cell_type": "code",
   "execution_count": 9,
   "id": "2364de02",
   "metadata": {},
   "outputs": [
    {
     "data": {
      "text/plain": [
       "'Terms and Conditions'"
      ]
     },
     "execution_count": 9,
     "metadata": {},
     "output_type": "execute_result"
    }
   ],
   "source": [
    "data.html.body.h2.a.text"
   ]
  },
  {
   "cell_type": "markdown",
   "id": "dd8690e8",
   "metadata": {},
   "source": [
    "### Finding all Paragraph's Text"
   ]
  },
  {
   "cell_type": "code",
   "execution_count": 13,
   "id": "d651630c",
   "metadata": {},
   "outputs": [],
   "source": [
    "para_list = data.find_all('p') "
   ]
  },
  {
   "cell_type": "code",
   "execution_count": 14,
   "id": "92b4cdf2",
   "metadata": {},
   "outputs": [
    {
     "name": "stdout",
     "output_type": "stream",
     "text": [
      "This is a great website for us to prepare\n",
      "None\n",
      "None\n"
     ]
    }
   ],
   "source": [
    "for para in para_list:\n",
    "    print(para.string)"
   ]
  },
  {
   "cell_type": "markdown",
   "id": "c41b4353",
   "metadata": {},
   "source": [
    "### To get string data when other tags are within a tag - stripped_strings"
   ]
  },
  {
   "cell_type": "code",
   "execution_count": 20,
   "id": "c29972cb",
   "metadata": {},
   "outputs": [
    {
     "name": "stdout",
     "output_type": "stream",
     "text": [
      "<generator object PageElement.stripped_strings at 0x105662e40>\n",
      "<generator object PageElement.stripped_strings at 0x105662e40>\n",
      "<generator object PageElement.stripped_strings at 0x105662e40>\n"
     ]
    }
   ],
   "source": [
    "for para in para_list:\n",
    "    print(para.stripped_strings)"
   ]
  },
  {
   "cell_type": "code",
   "execution_count": 21,
   "id": "8e41a847",
   "metadata": {
    "scrolled": true
   },
   "outputs": [
    {
     "name": "stdout",
     "output_type": "stream",
     "text": [
      "['This is a great website for us to prepare']\n",
      "['This is a', 'Link', 'to PrepInsta website']\n",
      "['We wish you', 'All the best']\n"
     ]
    }
   ],
   "source": [
    "for para in para_list:\n",
    "    print(list(para.stripped_strings))"
   ]
  },
  {
   "cell_type": "markdown",
   "id": "277ca096",
   "metadata": {},
   "source": [
    "### Viewing contents in a html tag"
   ]
  },
  {
   "cell_type": "code",
   "execution_count": 25,
   "id": "c43b8cef",
   "metadata": {},
   "outputs": [],
   "source": [
    "contents = data.html.contents"
   ]
  },
  {
   "cell_type": "code",
   "execution_count": 23,
   "id": "c7e61c64",
   "metadata": {},
   "outputs": [
    {
     "data": {
      "text/plain": [
       "<html><head><title>PrepInsta Website</title></head><body><h1 class=\"mainHead\">Welcome to PrepInsta</h1><p>This is a great website for us to prepare</p><p class=\"link\">This is a <a href=\"https://prepinstaprime.com\">Link</a> to PrepInsta website</p><p>We wish you <b>All the best</b></p><h2><a href=\"https://prepinsta.com/terms-and-conditions/\">Terms and Conditions</a></h2></body></html>"
      ]
     },
     "execution_count": 23,
     "metadata": {},
     "output_type": "execute_result"
    }
   ],
   "source": [
    "data.html"
   ]
  },
  {
   "cell_type": "code",
   "execution_count": 30,
   "id": "cfc3641f",
   "metadata": {},
   "outputs": [
    {
     "data": {
      "text/plain": [
       "[<head><title>PrepInsta Website</title></head>,\n",
       " <body><h1 class=\"mainHead\">Welcome to PrepInsta</h1><p>This is a great website for us to prepare</p><p class=\"link\">This is a <a href=\"https://prepinstaprime.com\">Link</a> to PrepInsta website</p><p>We wish you <b>All the best</b></p><h2><a href=\"https://prepinsta.com/terms-and-conditions/\">Terms and Conditions</a></h2></body>]"
      ]
     },
     "execution_count": 30,
     "metadata": {},
     "output_type": "execute_result"
    }
   ],
   "source": [
    "# contents are immediate children to a tag\n",
    "contents"
   ]
  },
  {
   "cell_type": "code",
   "execution_count": 31,
   "id": "21027cdd",
   "metadata": {},
   "outputs": [
    {
     "name": "stdout",
     "output_type": "stream",
     "text": [
      "<head><title>PrepInsta Website</title></head>\n",
      "<body><h1 class=\"mainHead\">Welcome to PrepInsta</h1><p>This is a great website for us to prepare</p><p class=\"link\">This is a <a href=\"https://prepinstaprime.com\">Link</a> to PrepInsta website</p><p>We wish you <b>All the best</b></p><h2><a href=\"https://prepinsta.com/terms-and-conditions/\">Terms and Conditions</a></h2></body>\n"
     ]
    }
   ],
   "source": [
    "for content in contents:\n",
    "    print(content)"
   ]
  },
  {
   "cell_type": "code",
   "execution_count": 29,
   "id": "28a26d2c",
   "metadata": {},
   "outputs": [
    {
     "name": "stdout",
     "output_type": "stream",
     "text": [
      "2\n"
     ]
    }
   ],
   "source": [
    "print(len(contents))"
   ]
  },
  {
   "cell_type": "code",
   "execution_count": 32,
   "id": "6e960557",
   "metadata": {},
   "outputs": [],
   "source": [
    "children = data.html.children"
   ]
  },
  {
   "cell_type": "code",
   "execution_count": 33,
   "id": "cdc7bd7b",
   "metadata": {},
   "outputs": [
    {
     "name": "stdout",
     "output_type": "stream",
     "text": [
      "<head><title>PrepInsta Website</title></head>\n",
      "<body><h1 class=\"mainHead\">Welcome to PrepInsta</h1><p>This is a great website for us to prepare</p><p class=\"link\">This is a <a href=\"https://prepinstaprime.com\">Link</a> to PrepInsta website</p><p>We wish you <b>All the best</b></p><h2><a href=\"https://prepinsta.com/terms-and-conditions/\">Terms and Conditions</a></h2></body>\n"
     ]
    }
   ],
   "source": [
    "for child in children:\n",
    "    print(child)"
   ]
  },
  {
   "cell_type": "code",
   "execution_count": 45,
   "id": "2622941e",
   "metadata": {},
   "outputs": [],
   "source": [
    "# finding children to body tag\n",
    "\n",
    "body_children = data.body.children\n",
    "\n",
    "names_of_children = list(map(lambda tag:tag.name,body_children))"
   ]
  },
  {
   "cell_type": "code",
   "execution_count": 52,
   "id": "235752e1",
   "metadata": {},
   "outputs": [
    {
     "data": {
      "text/plain": [
       "<list_iterator at 0x104aedb20>"
      ]
     },
     "execution_count": 52,
     "metadata": {},
     "output_type": "execute_result"
    }
   ],
   "source": [
    "body_children"
   ]
  },
  {
   "cell_type": "code",
   "execution_count": 40,
   "id": "b5960cac",
   "metadata": {},
   "outputs": [
    {
     "data": {
      "text/plain": [
       "['h1', 'p', 'p', 'p', 'h2']"
      ]
     },
     "execution_count": 40,
     "metadata": {},
     "output_type": "execute_result"
    }
   ],
   "source": [
    "names_of_children"
   ]
  },
  {
   "cell_type": "code",
   "execution_count": 41,
   "id": "9f91c058",
   "metadata": {},
   "outputs": [
    {
     "data": {
      "text/plain": [
       "5"
      ]
     },
     "execution_count": 41,
     "metadata": {},
     "output_type": "execute_result"
    }
   ],
   "source": [
    "len(names_of_children)"
   ]
  },
  {
   "cell_type": "markdown",
   "id": "806788a4",
   "metadata": {},
   "source": [
    "### Descendants of Multiple HTML Tags"
   ]
  },
  {
   "cell_type": "code",
   "execution_count": 55,
   "id": "a84ded2b",
   "metadata": {},
   "outputs": [],
   "source": [
    "descendant_list = list(data.body.descendants)"
   ]
  },
  {
   "cell_type": "code",
   "execution_count": 57,
   "id": "2d7c9ed9",
   "metadata": {},
   "outputs": [
    {
     "name": "stdout",
     "output_type": "stream",
     "text": [
      "<h1 class=\"mainHead\">Welcome to PrepInsta</h1>\n",
      "-----------\n",
      "Welcome to PrepInsta\n",
      "-----------\n",
      "<p>This is a great website for us to prepare</p>\n",
      "-----------\n",
      "This is a great website for us to prepare\n",
      "-----------\n",
      "<p class=\"link\">This is a <a href=\"https://prepinstaprime.com\">Link</a> to PrepInsta website</p>\n",
      "-----------\n",
      "This is a \n",
      "-----------\n",
      "<a href=\"https://prepinstaprime.com\">Link</a>\n",
      "-----------\n",
      "Link\n",
      "-----------\n",
      " to PrepInsta website\n",
      "-----------\n",
      "<p>We wish you <b>All the best</b></p>\n",
      "-----------\n",
      "We wish you \n",
      "-----------\n",
      "<b>All the best</b>\n",
      "-----------\n",
      "All the best\n",
      "-----------\n",
      "<h2><a href=\"https://prepinsta.com/terms-and-conditions/\">Terms and Conditions</a></h2>\n",
      "-----------\n",
      "<a href=\"https://prepinsta.com/terms-and-conditions/\">Terms and Conditions</a>\n",
      "-----------\n",
      "Terms and Conditions\n",
      "-----------\n"
     ]
    }
   ],
   "source": [
    "for descendant in descendant_list:\n",
    "    print(descendant)\n",
    "    print('-----------')"
   ]
  },
  {
   "cell_type": "code",
   "execution_count": 58,
   "id": "a120c8be",
   "metadata": {},
   "outputs": [
    {
     "data": {
      "text/plain": [
       "16"
      ]
     },
     "execution_count": 58,
     "metadata": {},
     "output_type": "execute_result"
    }
   ],
   "source": [
    "len(descendant_list)"
   ]
  },
  {
   "cell_type": "markdown",
   "id": "10b4b062",
   "metadata": {},
   "source": [
    "### Finding the parent "
   ]
  },
  {
   "cell_type": "code",
   "execution_count": 59,
   "id": "8554c317",
   "metadata": {},
   "outputs": [
    {
     "data": {
      "text/plain": [
       "<p>We wish you <b>All the best</b></p>"
      ]
     },
     "execution_count": 59,
     "metadata": {},
     "output_type": "execute_result"
    }
   ],
   "source": [
    "data.b.parent"
   ]
  },
  {
   "cell_type": "code",
   "execution_count": 60,
   "id": "53d27a0a",
   "metadata": {},
   "outputs": [
    {
     "data": {
      "text/plain": [
       "<html><head><title>PrepInsta Website</title></head><body><h1 class=\"mainHead\">Welcome to PrepInsta</h1><p>This is a great website for us to prepare</p><p class=\"link\">This is a <a href=\"https://prepinstaprime.com\">Link</a> to PrepInsta website</p><p>We wish you <b>All the best</b></p><h2><a href=\"https://prepinsta.com/terms-and-conditions/\">Terms and Conditions</a></h2></body></html>"
      ]
     },
     "execution_count": 60,
     "metadata": {},
     "output_type": "execute_result"
    }
   ],
   "source": [
    "data.body.parent"
   ]
  },
  {
   "cell_type": "code",
   "execution_count": 61,
   "id": "511b8dcc",
   "metadata": {},
   "outputs": [
    {
     "data": {
      "text/plain": [
       "'html'"
      ]
     },
     "execution_count": 61,
     "metadata": {},
     "output_type": "execute_result"
    }
   ],
   "source": [
    "data.body.parent.name"
   ]
  },
  {
   "cell_type": "code",
   "execution_count": null,
   "id": "355d9d29",
   "metadata": {},
   "outputs": [],
   "source": []
  }
 ],
 "metadata": {
  "kernelspec": {
   "display_name": "Python 3.9 (tensorflow)",
   "language": "python",
   "name": "tensorflow"
  },
  "language_info": {
   "codemirror_mode": {
    "name": "ipython",
    "version": 3
   },
   "file_extension": ".py",
   "mimetype": "text/x-python",
   "name": "python",
   "nbconvert_exporter": "python",
   "pygments_lexer": "ipython3",
   "version": "3.9.13"
  }
 },
 "nbformat": 4,
 "nbformat_minor": 5
}
