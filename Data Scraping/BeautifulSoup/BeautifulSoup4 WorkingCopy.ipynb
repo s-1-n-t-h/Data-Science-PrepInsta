{
 "cells": [
  {
   "cell_type": "code",
   "execution_count": 1,
   "metadata": {},
   "outputs": [],
   "source": [
    "html = '<!DOCTYPE html>\\\n",
    "<html>\\\n",
    "<head>\\\n",
    "<title>PrepInsta Website</title>\\\n",
    "</head>\\\n",
    "<body class=\"myMain\">\\\n",
    "<h1 class=\"mainHead\">Welcome to PrepInsta</h1>\\\n",
    "<p>New Chapter Begins...</p>\\\n",
    "<p>Lets begin...</p>\\\n",
    "<div id=\"sampleDiv\">This is a div\\\n",
    "<p>This is a great website for us to prepare</p>\\\n",
    "</div>\\\n",
    "<p class=\"link\">This is a <a href=\"https://prepinstaprime.com\">Link</a> to PrepInsta website</p>\\\n",
    "<p>We wish you <b>All the best</b></p>\\\n",
    "<h2><a href=\"https://prepinsta.com/terms-and-conditions/\">Terms and Conditions</a></h2>\\\n",
    "<h2 class=\"duplicate\"><a href=\"https://prepinsta.com/terms-and-conditions/\">Terms and Conditions</a></h2>\\\n",
    "</body>\\\n",
    "</html>'"
   ]
  },
  {
   "cell_type": "code",
   "execution_count": 2,
   "metadata": {},
   "outputs": [
    {
     "name": "stdout",
     "output_type": "stream",
     "text": [
      "<!DOCTYPE html>\n",
      "<html>\n",
      " <head>\n",
      "  <title>\n",
      "   PrepInsta Website\n",
      "  </title>\n",
      " </head>\n",
      " <body class=\"myMain\">\n",
      "  <h1 class=\"mainHead\">\n",
      "   Welcome to PrepInsta\n",
      "  </h1>\n",
      "  <p>\n",
      "   New Chapter Begins...\n",
      "  </p>\n",
      "  <p>\n",
      "   Lets begin...\n",
      "  </p>\n",
      "  <div id=\"sampleDiv\">\n",
      "   This is a div\n",
      "   <p>\n",
      "    This is a great website for us to prepare\n",
      "   </p>\n",
      "  </div>\n",
      "  <p class=\"link\">\n",
      "   This is a\n",
      "   <a href=\"https://prepinstaprime.com\">\n",
      "    Link\n",
      "   </a>\n",
      "   to PrepInsta website\n",
      "  </p>\n",
      "  <p>\n",
      "   We wish you\n",
      "   <b>\n",
      "    All the best\n",
      "   </b>\n",
      "  </p>\n",
      "  <h2>\n",
      "   <a href=\"https://prepinsta.com/terms-and-conditions/\">\n",
      "    Terms and Conditions\n",
      "   </a>\n",
      "  </h2>\n",
      "  <h2 class=\"duplicate\">\n",
      "   <a href=\"https://prepinsta.com/terms-and-conditions/\">\n",
      "    Terms and Conditions\n",
      "   </a>\n",
      "  </h2>\n",
      " </body>\n",
      "</html>\n"
     ]
    }
   ],
   "source": [
    "from bs4 import BeautifulSoup\n",
    "data = BeautifulSoup(html, 'html.parser')\n",
    "print(data.prettify())"
   ]
  },
  {
   "cell_type": "code",
   "execution_count": 3,
   "metadata": {},
   "outputs": [
    {
     "data": {
      "text/plain": [
       "<html><head><title>PrepInsta Website</title></head><body class=\"myMain\"><h1 class=\"mainHead\">Welcome to PrepInsta</h1><p>New Chapter Begins...</p><p>Lets begin...</p><div id=\"sampleDiv\">This is a div<p>This is a great website for us to prepare</p></div><p class=\"link\">This is a <a href=\"https://prepinstaprime.com\">Link</a> to PrepInsta website</p><p>We wish you <b>All the best</b></p><h2><a href=\"https://prepinsta.com/terms-and-conditions/\">Terms and Conditions</a></h2><h2 class=\"duplicate\"><a href=\"https://prepinsta.com/terms-and-conditions/\">Terms and Conditions</a></h2></body></html>"
      ]
     },
     "execution_count": 3,
     "metadata": {},
     "output_type": "execute_result"
    }
   ],
   "source": [
    "parent = data.body.parent\n",
    "parent"
   ]
  },
  {
   "cell_type": "code",
   "execution_count": 4,
   "metadata": {},
   "outputs": [
    {
     "data": {
      "text/plain": [
       "<body class=\"myMain\"><h1 class=\"mainHead\">Welcome to PrepInsta</h1><p>New Chapter Begins...</p><p>Lets begin...</p><div id=\"sampleDiv\">This is a div<p>This is a great website for us to prepare</p></div><p class=\"link\">This is a <a href=\"https://prepinstaprime.com\">Link</a> to PrepInsta website</p><p>We wish you <b>All the best</b></p><h2><a href=\"https://prepinsta.com/terms-and-conditions/\">Terms and Conditions</a></h2><h2 class=\"duplicate\"><a href=\"https://prepinsta.com/terms-and-conditions/\">Terms and Conditions</a></h2></body>"
      ]
     },
     "execution_count": 4,
     "metadata": {},
     "output_type": "execute_result"
    }
   ],
   "source": [
    "parent = data.p.parent\n",
    "parent"
   ]
  },
  {
   "cell_type": "code",
   "execution_count": 5,
   "metadata": {},
   "outputs": [
    {
     "data": {
      "text/plain": [
       "'body'"
      ]
     },
     "execution_count": 5,
     "metadata": {},
     "output_type": "execute_result"
    }
   ],
   "source": [
    "parent_name = data.p.parent.name\n",
    "parent_name"
   ]
  },
  {
   "cell_type": "code",
   "execution_count": 6,
   "metadata": {},
   "outputs": [
    {
     "data": {
      "text/plain": [
       "{'class': ['myMain']}"
      ]
     },
     "execution_count": 6,
     "metadata": {},
     "output_type": "execute_result"
    }
   ],
   "source": [
    "parent_attrs = data.p.parent.attrs\n",
    "parent_attrs"
   ]
  },
  {
   "cell_type": "code",
   "execution_count": 8,
   "metadata": {},
   "outputs": [
    {
     "data": {
      "text/plain": [
       "<a href=\"https://prepinsta.com/terms-and-conditions/\">Terms and Conditions</a>"
      ]
     },
     "execution_count": 8,
     "metadata": {},
     "output_type": "execute_result"
    }
   ],
   "source": [
    "a_string = data.find(string = \"Terms and Conditions\")\n",
    "\n",
    "a_string.find_parent()"
   ]
  },
  {
   "cell_type": "code",
   "execution_count": 9,
   "metadata": {},
   "outputs": [
    {
     "data": {
      "text/plain": [
       "[<a href=\"https://prepinsta.com/terms-and-conditions/\">Terms and Conditions</a>,\n",
       " <h2><a href=\"https://prepinsta.com/terms-and-conditions/\">Terms and Conditions</a></h2>,\n",
       " <body class=\"myMain\"><h1 class=\"mainHead\">Welcome to PrepInsta</h1><p>New Chapter Begins...</p><p>Lets begin...</p><div id=\"sampleDiv\">This is a div<p>This is a great website for us to prepare</p></div><p class=\"link\">This is a <a href=\"https://prepinstaprime.com\">Link</a> to PrepInsta website</p><p>We wish you <b>All the best</b></p><h2><a href=\"https://prepinsta.com/terms-and-conditions/\">Terms and Conditions</a></h2><h2 class=\"duplicate\"><a href=\"https://prepinsta.com/terms-and-conditions/\">Terms and Conditions</a></h2></body>,\n",
       " <html><head><title>PrepInsta Website</title></head><body class=\"myMain\"><h1 class=\"mainHead\">Welcome to PrepInsta</h1><p>New Chapter Begins...</p><p>Lets begin...</p><div id=\"sampleDiv\">This is a div<p>This is a great website for us to prepare</p></div><p class=\"link\">This is a <a href=\"https://prepinstaprime.com\">Link</a> to PrepInsta website</p><p>We wish you <b>All the best</b></p><h2><a href=\"https://prepinsta.com/terms-and-conditions/\">Terms and Conditions</a></h2><h2 class=\"duplicate\"><a href=\"https://prepinsta.com/terms-and-conditions/\">Terms and Conditions</a></h2></body></html>,\n",
       " <!DOCTYPE html>\n",
       " <html><head><title>PrepInsta Website</title></head><body class=\"myMain\"><h1 class=\"mainHead\">Welcome to PrepInsta</h1><p>New Chapter Begins...</p><p>Lets begin...</p><div id=\"sampleDiv\">This is a div<p>This is a great website for us to prepare</p></div><p class=\"link\">This is a <a href=\"https://prepinstaprime.com\">Link</a> to PrepInsta website</p><p>We wish you <b>All the best</b></p><h2><a href=\"https://prepinsta.com/terms-and-conditions/\">Terms and Conditions</a></h2><h2 class=\"duplicate\"><a href=\"https://prepinsta.com/terms-and-conditions/\">Terms and Conditions</a></h2></body></html>]"
      ]
     },
     "execution_count": 9,
     "metadata": {},
     "output_type": "execute_result"
    }
   ],
   "source": [
    "a_string = data.find(string = \"Terms and Conditions\")\n",
    "\n",
    "a_string.find_parents()"
   ]
  },
  {
   "cell_type": "code",
   "execution_count": 10,
   "metadata": {},
   "outputs": [
    {
     "data": {
      "text/plain": [
       "[<body class=\"myMain\"><h1 class=\"mainHead\">Welcome to PrepInsta</h1><p>New Chapter Begins...</p><p>Lets begin...</p><div id=\"sampleDiv\">This is a div<p>This is a great website for us to prepare</p></div><p class=\"link\">This is a <a href=\"https://prepinstaprime.com\">Link</a> to PrepInsta website</p><p>We wish you <b>All the best</b></p><h2><a href=\"https://prepinsta.com/terms-and-conditions/\">Terms and Conditions</a></h2><h2 class=\"duplicate\"><a href=\"https://prepinsta.com/terms-and-conditions/\">Terms and Conditions</a></h2></body>]"
      ]
     },
     "execution_count": 10,
     "metadata": {},
     "output_type": "execute_result"
    }
   ],
   "source": [
    "a_string = data.find(string = \"Terms and Conditions\")\n",
    "\n",
    "a_string.find_parents('body')"
   ]
  },
  {
   "cell_type": "code",
   "execution_count": 11,
   "metadata": {},
   "outputs": [
    {
     "data": {
      "text/plain": [
       "<div id=\"sampleDiv\">This is a div<p>This is a great website for us to prepare</p></div>"
      ]
     },
     "execution_count": 11,
     "metadata": {},
     "output_type": "execute_result"
    }
   ],
   "source": [
    "import re\n",
    "a_string = data.find('p', string = re.compile('website'))\n",
    "\n",
    "a_string.find_parent()"
   ]
  },
  {
   "cell_type": "code",
   "execution_count": 16,
   "metadata": {},
   "outputs": [
    {
     "data": {
      "text/plain": [
       "<body class=\"myMain\"><h1 class=\"mainHead\">Welcome to PrepInsta</h1><p>New Chapter Begins...</p><p>Lets begin...</p><div id=\"sampleDiv\">This is a div<p>This is a great website for us to prepare</p></div><p class=\"link\">This is a <a href=\"https://prepinstaprime.com\">Link</a> to PrepInsta website</p><p>We wish you <b>All the best</b></p><h2><a href=\"https://prepinsta.com/terms-and-conditions/\">Terms and Conditions</a></h2><h2 class=\"duplicate\"><a href=\"https://prepinsta.com/terms-and-conditions/\">Terms and Conditions</a></h2></body>"
      ]
     },
     "execution_count": 16,
     "metadata": {},
     "output_type": "execute_result"
    }
   ],
   "source": [
    "import re\n",
    "a_string = data.find('p', string = re.compile('website'))\n",
    "\n",
    "a_string.find_parent('body')"
   ]
  },
  {
   "cell_type": "code",
   "execution_count": 17,
   "metadata": {},
   "outputs": [
    {
     "data": {
      "text/plain": [
       "<p class=\"link\">This is a <a href=\"https://prepinstaprime.com\">Link</a> to PrepInsta website</p>"
      ]
     },
     "execution_count": 17,
     "metadata": {},
     "output_type": "execute_result"
    }
   ],
   "source": [
    "para = data.find(\"p\", class_ = \"link\")\n",
    "para"
   ]
  },
  {
   "cell_type": "code",
   "execution_count": 18,
   "metadata": {},
   "outputs": [
    {
     "data": {
      "text/plain": [
       "<body class=\"myMain\"><h1 class=\"mainHead\">Welcome to PrepInsta</h1><p>New Chapter Begins...</p><p>Lets begin...</p><div id=\"sampleDiv\">This is a div<p>This is a great website for us to prepare</p></div><p class=\"link\">This is a <a href=\"https://prepinstaprime.com\">Link</a> to PrepInsta website</p><p>We wish you <b>All the best</b></p><h2><a href=\"https://prepinsta.com/terms-and-conditions/\">Terms and Conditions</a></h2><h2 class=\"duplicate\"><a href=\"https://prepinsta.com/terms-and-conditions/\">Terms and Conditions</a></h2></body>"
      ]
     },
     "execution_count": 18,
     "metadata": {},
     "output_type": "execute_result"
    }
   ],
   "source": [
    "para.find_parent()"
   ]
  },
  {
   "cell_type": "code",
   "execution_count": 19,
   "metadata": {},
   "outputs": [
    {
     "data": {
      "text/plain": [
       "<div id=\"sampleDiv\">This is a div<p>This is a great website for us to prepare</p></div>"
      ]
     },
     "execution_count": 19,
     "metadata": {},
     "output_type": "execute_result"
    }
   ],
   "source": [
    "para.find_previous_sibling()"
   ]
  },
  {
   "cell_type": "code",
   "execution_count": 20,
   "metadata": {},
   "outputs": [
    {
     "data": {
      "text/plain": [
       "<p>Lets begin...</p>"
      ]
     },
     "execution_count": 20,
     "metadata": {},
     "output_type": "execute_result"
    }
   ],
   "source": [
    "para.find_previous_sibling('p')"
   ]
  },
  {
   "cell_type": "code",
   "execution_count": 21,
   "metadata": {},
   "outputs": [
    {
     "data": {
      "text/plain": [
       "[<div id=\"sampleDiv\">This is a div<p>This is a great website for us to prepare</p></div>,\n",
       " <p>Lets begin...</p>,\n",
       " <p>New Chapter Begins...</p>,\n",
       " <h1 class=\"mainHead\">Welcome to PrepInsta</h1>]"
      ]
     },
     "execution_count": 21,
     "metadata": {},
     "output_type": "execute_result"
    }
   ],
   "source": [
    "para.find_previous_siblings()"
   ]
  },
  {
   "cell_type": "code",
   "execution_count": 22,
   "metadata": {},
   "outputs": [
    {
     "data": {
      "text/plain": [
       "[<p>Lets begin...</p>, <p>New Chapter Begins...</p>]"
      ]
     },
     "execution_count": 22,
     "metadata": {},
     "output_type": "execute_result"
    }
   ],
   "source": [
    "para.find_previous_siblings('p')"
   ]
  },
  {
   "cell_type": "code",
   "execution_count": 23,
   "metadata": {},
   "outputs": [
    {
     "data": {
      "text/plain": [
       "<p>We wish you <b>All the best</b></p>"
      ]
     },
     "execution_count": 23,
     "metadata": {},
     "output_type": "execute_result"
    }
   ],
   "source": [
    "para.find_next_sibling()"
   ]
  },
  {
   "cell_type": "code",
   "execution_count": 24,
   "metadata": {},
   "outputs": [
    {
     "data": {
      "text/plain": [
       "[<p>We wish you <b>All the best</b></p>,\n",
       " <h2><a href=\"https://prepinsta.com/terms-and-conditions/\">Terms and Conditions</a></h2>,\n",
       " <h2 class=\"duplicate\"><a href=\"https://prepinsta.com/terms-and-conditions/\">Terms and Conditions</a></h2>]"
      ]
     },
     "execution_count": 24,
     "metadata": {},
     "output_type": "execute_result"
    }
   ],
   "source": [
    "para.find_next_siblings()"
   ]
  },
  {
   "cell_type": "code",
   "execution_count": 25,
   "metadata": {},
   "outputs": [
    {
     "data": {
      "text/plain": [
       "[<h2><a href=\"https://prepinsta.com/terms-and-conditions/\">Terms and Conditions</a></h2>,\n",
       " <h2 class=\"duplicate\"><a href=\"https://prepinsta.com/terms-and-conditions/\">Terms and Conditions</a></h2>]"
      ]
     },
     "execution_count": 25,
     "metadata": {},
     "output_type": "execute_result"
    }
   ],
   "source": [
    "para.find_next_siblings('h2')"
   ]
  },
  {
   "cell_type": "code",
   "execution_count": 26,
   "metadata": {},
   "outputs": [
    {
     "data": {
      "text/plain": [
       "[<h2 class=\"duplicate\"><a href=\"https://prepinsta.com/terms-and-conditions/\">Terms and Conditions</a></h2>]"
      ]
     },
     "execution_count": 26,
     "metadata": {},
     "output_type": "execute_result"
    }
   ],
   "source": [
    "para.find_next_siblings('h2', class_ = \"duplicate\")"
   ]
  },
  {
   "cell_type": "code",
   "execution_count": null,
   "metadata": {},
   "outputs": [],
   "source": []
  }
 ],
 "metadata": {
  "kernelspec": {
   "display_name": "Python 3",
   "language": "python",
   "name": "python3"
  },
  "language_info": {
   "codemirror_mode": {
    "name": "ipython",
    "version": 3
   },
   "file_extension": ".py",
   "mimetype": "text/x-python",
   "name": "python",
   "nbconvert_exporter": "python",
   "pygments_lexer": "ipython3",
   "version": "3.8.5"
  }
 },
 "nbformat": 4,
 "nbformat_minor": 4
}
