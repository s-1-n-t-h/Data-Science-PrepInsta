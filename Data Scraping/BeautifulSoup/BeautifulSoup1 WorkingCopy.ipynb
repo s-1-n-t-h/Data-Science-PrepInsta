{
 "cells": [
  {
   "cell_type": "code",
   "execution_count": 2,
   "metadata": {},
   "outputs": [],
   "source": [
    "html = '<!DOCTYPE html>\\\n",
    "<html>\\\n",
    "<head>\\\n",
    "    <title>PrepInsta Website</title>\\\n",
    "</head>\\\n",
    "<body>\\\n",
    "    <h1 class=\"mainHead\">Welcome to PrepInsta</h1>\\\n",
    "    <p>This is a great website for us to prepare</p>\\\n",
    "    <h2 class=\"features\">Overview</h2>\\\n",
    "    <p id=\"overview-text\">What can you do on PrepInsta Website-</p>\\\n",
    "    <p class=\"features\">You can Learn Skills</p>\\\n",
    "    <p class=\"features\">You can Learn Coding</p>\\\n",
    "    <p class=\"features\">You can Learn Languages</p>\\\n",
    "    <p class=\"features\" id = \"Apti\">You can Learn Aptitiude</p>\\\n",
    "    <p class=\"features certification\">You can get Certifications</p>\\\n",
    "    <h2>Certifications</h2>\\\n",
    "    <p class=\"features job\">You can get a High Paying Job</p>\\\n",
    "    <p class=\"features\" id=\"special-text\">PrepInsta offers you the opportunity to learn without limits all the Upskilling Courses, Placement Preparation &  Certification Courses with Single Subscription</p>\\\n",
    "    <a id=\"linkweb\" href=\"https://www.PrepInstaPrime.com\">Visit PrepInstaPrime.com!</a>\\\n",
    "    <a href=\"https://prepinstaprime.com/purchase\">Purchase Prime</a>\\\n",
    "    <a href=\"http://prepinstaprime.com/syllabus/tcs-nqt-syllabus\">TCS NQT Course</a>\\\n",
    "    <a href=\"http://prepinstaprime.com/syllabus/machine-learning-and-aritifical-intelligence-syllabus\">ML Course</a>\\\n",
    "</body>\\\n",
    "</html>'"
   ]
  },
  {
   "cell_type": "code",
   "execution_count": 10,
   "metadata": {},
   "outputs": [],
   "source": [
    "from bs4 import BeautifulSoup"
   ]
  },
  {
   "cell_type": "code",
   "execution_count": 14,
   "metadata": {},
   "outputs": [
    {
     "data": {
      "text/plain": [
       "<!DOCTYPE html>\n",
       "<html><head> <title>PrepInsta Website</title></head><body> <h1 class=\"mainHead\">Welcome to PrepInsta</h1> <p>This is a great website for us to prepare</p> <h2 class=\"features\">Overview</h2> <p id=\"overview-text\">What can you do on PrepInsta Website-</p> <p class=\"features\">You can Learn Skills</p> <p class=\"features\">You can Learn Coding</p> <p class=\"features\">You can Learn Languages</p> <p class=\"features\" id=\"Apti\">You can Learn Aptitiude</p> <p class=\"features certification\">You can get Certifications</p> <h2>Certifications</h2> <p class=\"features job\">You can get a High Paying Job</p> <p class=\"features\" id=\"special-text\">PrepInsta offers you the opportunity to learn without limits all the Upskilling Courses, Placement Preparation &amp;  Certification Courses with Single Subscription</p> <a href=\"https://www.PrepInstaPrime.com\" id=\"linkweb\">Visit PrepInstaPrime.com!</a> <a href=\"https://prepinstaprime.com/purchase\">Purchase Prime</a> <a href=\"http://prepinstaprime.com/syllabus/tcs-nqt-syllabus\">TCS NQT Course</a> <a href=\"http://prepinstaprime.com/syllabus/machine-learning-and-aritifical-intelligence-syllabus\">ML Course</a></body></html>"
      ]
     },
     "execution_count": 14,
     "metadata": {},
     "output_type": "execute_result"
    }
   ],
   "source": [
    "# The HTML parser is a structured markup processing tool. It defines a \n",
    "# class called HTMLParser, which is used to parse HTML files. \n",
    "# It comes in handy for web crawling.\n",
    "data = BeautifulSoup(html, 'html.parser')\n",
    "data\n",
    "# print(data)\n",
    "# print(type(data))"
   ]
  },
  {
   "cell_type": "code",
   "execution_count": 15,
   "metadata": {},
   "outputs": [
    {
     "name": "stdout",
     "output_type": "stream",
     "text": [
      "<!DOCTYPE html>\n",
      "<html>\n",
      " <head>\n",
      "  <title>\n",
      "   PrepInsta Website\n",
      "  </title>\n",
      " </head>\n",
      " <body>\n",
      "  <h1 class=\"mainHead\">\n",
      "   Welcome to PrepInsta\n",
      "  </h1>\n",
      "  <p>\n",
      "   This is a great website for us to prepare\n",
      "  </p>\n",
      "  <h2 class=\"features\">\n",
      "   Overview\n",
      "  </h2>\n",
      "  <p id=\"overview-text\">\n",
      "   What can you do on PrepInsta Website-\n",
      "  </p>\n",
      "  <p class=\"features\">\n",
      "   You can Learn Skills\n",
      "  </p>\n",
      "  <p class=\"features\">\n",
      "   You can Learn Coding\n",
      "  </p>\n",
      "  <p class=\"features\">\n",
      "   You can Learn Languages\n",
      "  </p>\n",
      "  <p class=\"features\" id=\"Apti\">\n",
      "   You can Learn Aptitiude\n",
      "  </p>\n",
      "  <p class=\"features certification\">\n",
      "   You can get Certifications\n",
      "  </p>\n",
      "  <h2>\n",
      "   Certifications\n",
      "  </h2>\n",
      "  <p class=\"features job\">\n",
      "   You can get a High Paying Job\n",
      "  </p>\n",
      "  <p class=\"features\" id=\"special-text\">\n",
      "   PrepInsta offers you the opportunity to learn without limits all the Upskilling Courses, Placement Preparation &amp;  Certification Courses with Single Subscription\n",
      "  </p>\n",
      "  <a href=\"https://www.PrepInstaPrime.com\" id=\"linkweb\">\n",
      "   Visit PrepInstaPrime.com!\n",
      "  </a>\n",
      "  <a href=\"https://prepinstaprime.com/purchase\">\n",
      "   Purchase Prime\n",
      "  </a>\n",
      "  <a href=\"http://prepinstaprime.com/syllabus/tcs-nqt-syllabus\">\n",
      "   TCS NQT Course\n",
      "  </a>\n",
      "  <a href=\"http://prepinstaprime.com/syllabus/machine-learning-and-aritifical-intelligence-syllabus\">\n",
      "   ML Course\n",
      "  </a>\n",
      " </body>\n",
      "</html>\n"
     ]
    }
   ],
   "source": [
    "print(data.prettify())"
   ]
  },
  {
   "cell_type": "code",
   "execution_count": 18,
   "metadata": {},
   "outputs": [
    {
     "data": {
      "text/plain": [
       "<html><head> <title>PrepInsta Website</title></head><body> <h1 class=\"mainHead\">Welcome to PrepInsta</h1> <p>This is a great website for us to prepare</p> <h2 class=\"features\">Overview</h2> <p id=\"overview-text\">What can you do on PrepInsta Website-</p> <p class=\"features\">You can Learn Skills</p> <p class=\"features\">You can Learn Coding</p> <p class=\"features\">You can Learn Languages</p> <p class=\"features\" id=\"Apti\">You can Learn Aptitiude</p> <p class=\"features certification\">You can get Certifications</p> <h2>Certifications</h2> <p class=\"features job\">You can get a High Paying Job</p> <p class=\"features\" id=\"special-text\">PrepInsta offers you the opportunity to learn without limits all the Upskilling Courses, Placement Preparation &amp;  Certification Courses with Single Subscription</p> <a href=\"https://www.PrepInstaPrime.com\" id=\"linkweb\">Visit PrepInstaPrime.com!</a> <a href=\"https://prepinstaprime.com/purchase\">Purchase Prime</a> <a href=\"http://prepinstaprime.com/syllabus/tcs-nqt-syllabus\">TCS NQT Course</a> <a href=\"http://prepinstaprime.com/syllabus/machine-learning-and-aritifical-intelligence-syllabus\">ML Course</a></body></html>"
      ]
     },
     "execution_count": 18,
     "metadata": {},
     "output_type": "execute_result"
    }
   ],
   "source": [
    "data.html"
   ]
  },
  {
   "cell_type": "code",
   "execution_count": 19,
   "metadata": {},
   "outputs": [
    {
     "data": {
      "text/plain": [
       "<head> <title>PrepInsta Website</title></head>"
      ]
     },
     "execution_count": 19,
     "metadata": {},
     "output_type": "execute_result"
    }
   ],
   "source": [
    "data.head"
   ]
  },
  {
   "cell_type": "code",
   "execution_count": 23,
   "metadata": {},
   "outputs": [
    {
     "data": {
      "text/plain": [
       "<title>PrepInsta Website</title>"
      ]
     },
     "execution_count": 23,
     "metadata": {},
     "output_type": "execute_result"
    }
   ],
   "source": [
    "#following exact hierarchy\n",
    "data.html.head.title"
   ]
  },
  {
   "cell_type": "code",
   "execution_count": 22,
   "metadata": {},
   "outputs": [
    {
     "data": {
      "text/plain": [
       "<title>PrepInsta Website</title>"
      ]
     },
     "execution_count": 22,
     "metadata": {},
     "output_type": "execute_result"
    }
   ],
   "source": [
    "#returns the direct tag data\n",
    "data.title"
   ]
  },
  {
   "cell_type": "code",
   "execution_count": 24,
   "metadata": {},
   "outputs": [
    {
     "data": {
      "text/plain": [
       "<h1 class=\"mainHead\">Welcome to PrepInsta</h1>"
      ]
     },
     "execution_count": 24,
     "metadata": {},
     "output_type": "execute_result"
    }
   ],
   "source": [
    "data.h1"
   ]
  },
  {
   "cell_type": "code",
   "execution_count": 25,
   "metadata": {},
   "outputs": [
    {
     "data": {
      "text/plain": [
       "<h2 class=\"features\">Overview</h2>"
      ]
     },
     "execution_count": 25,
     "metadata": {},
     "output_type": "execute_result"
    }
   ],
   "source": [
    "data.h2"
   ]
  },
  {
   "cell_type": "code",
   "execution_count": 26,
   "metadata": {},
   "outputs": [
    {
     "data": {
      "text/plain": [
       "<p>This is a great website for us to prepare</p>"
      ]
     },
     "execution_count": 26,
     "metadata": {},
     "output_type": "execute_result"
    }
   ],
   "source": [
    "data.p"
   ]
  },
  {
   "cell_type": "code",
   "execution_count": 27,
   "metadata": {},
   "outputs": [
    {
     "data": {
      "text/plain": [
       "<a href=\"https://www.PrepInstaPrime.com\" id=\"linkweb\">Visit PrepInstaPrime.com!</a>"
      ]
     },
     "execution_count": 27,
     "metadata": {},
     "output_type": "execute_result"
    }
   ],
   "source": [
    "data.a"
   ]
  },
  {
   "cell_type": "code",
   "execution_count": 28,
   "metadata": {},
   "outputs": [
    {
     "data": {
      "text/plain": [
       "<p>This is a great website for us to prepare</p>"
      ]
     },
     "execution_count": 28,
     "metadata": {},
     "output_type": "execute_result"
    }
   ],
   "source": [
    "data.p"
   ]
  },
  {
   "cell_type": "code",
   "execution_count": 30,
   "metadata": {},
   "outputs": [
    {
     "data": {
      "text/plain": [
       "'title'"
      ]
     },
     "execution_count": 30,
     "metadata": {},
     "output_type": "execute_result"
    }
   ],
   "source": [
    "#returns the name of tag\n",
    "data.title.name"
   ]
  },
  {
   "cell_type": "code",
   "execution_count": 31,
   "metadata": {},
   "outputs": [
    {
     "data": {
      "text/plain": [
       "'PrepInsta Website'"
      ]
     },
     "execution_count": 31,
     "metadata": {},
     "output_type": "execute_result"
    }
   ],
   "source": [
    "#we have .name, .string, .attr (Has get method and dict access)\n",
    "data.title.string"
   ]
  },
  {
   "cell_type": "code",
   "execution_count": 34,
   "metadata": {},
   "outputs": [
    {
     "name": "stdout",
     "output_type": "stream",
     "text": [
      "<h1 class=\"mainHead\">Welcome to PrepInsta</h1>\n",
      "h1\n",
      "Welcome to PrepInsta\n"
     ]
    }
   ],
   "source": [
    "print(data.h1)\n",
    "print(data.h1.name)\n",
    "print(data.h1.string)"
   ]
  },
  {
   "cell_type": "code",
   "execution_count": 35,
   "metadata": {},
   "outputs": [],
   "source": [
    "data.h5"
   ]
  },
  {
   "cell_type": "code",
   "execution_count": 36,
   "metadata": {},
   "outputs": [
    {
     "data": {
      "text/plain": [
       "{'class': ['mainHead']}"
      ]
     },
     "execution_count": 36,
     "metadata": {},
     "output_type": "execute_result"
    }
   ],
   "source": [
    "data.h1.attrs"
   ]
  },
  {
   "cell_type": "code",
   "execution_count": 38,
   "metadata": {},
   "outputs": [
    {
     "data": {
      "text/plain": [
       "{}"
      ]
     },
     "execution_count": 38,
     "metadata": {},
     "output_type": "execute_result"
    }
   ],
   "source": [
    "data.p.attrs"
   ]
  },
  {
   "cell_type": "code",
   "execution_count": 39,
   "metadata": {},
   "outputs": [
    {
     "data": {
      "text/plain": [
       "{'id': 'linkweb', 'href': 'https://www.PrepInstaPrime.com'}"
      ]
     },
     "execution_count": 39,
     "metadata": {},
     "output_type": "execute_result"
    }
   ],
   "source": [
    "data.a.attrs"
   ]
  },
  {
   "cell_type": "code",
   "execution_count": 40,
   "metadata": {},
   "outputs": [
    {
     "data": {
      "text/plain": [
       "'linkweb'"
      ]
     },
     "execution_count": 40,
     "metadata": {},
     "output_type": "execute_result"
    }
   ],
   "source": [
    "#since, attributes are returned as a dictionary\n",
    "data.a['id']"
   ]
  },
  {
   "cell_type": "code",
   "execution_count": 42,
   "metadata": {},
   "outputs": [
    {
     "ename": "KeyError",
     "evalue": "'id'",
     "output_type": "error",
     "traceback": [
      "\u001b[0;31m---------------------------------------------------------------------------\u001b[0m",
      "\u001b[0;31mKeyError\u001b[0m                                  Traceback (most recent call last)",
      "\u001b[0;32m<ipython-input-42-0db1d15aef31>\u001b[0m in \u001b[0;36m<module>\u001b[0;34m\u001b[0m\n\u001b[0;32m----> 1\u001b[0;31m \u001b[0mdata\u001b[0m\u001b[0;34m.\u001b[0m\u001b[0mh1\u001b[0m\u001b[0;34m[\u001b[0m\u001b[0;34m'id'\u001b[0m\u001b[0;34m]\u001b[0m\u001b[0;34m\u001b[0m\u001b[0;34m\u001b[0m\u001b[0m\n\u001b[0m",
      "\u001b[0;32m/opt/anaconda3/lib/python3.8/site-packages/bs4/element.py\u001b[0m in \u001b[0;36m__getitem__\u001b[0;34m(self, key)\u001b[0m\n\u001b[1;32m   1404\u001b[0m         \"\"\"tag[key] returns the value of the 'key' attribute for the Tag,\n\u001b[1;32m   1405\u001b[0m         and throws an exception if it's not there.\"\"\"\n\u001b[0;32m-> 1406\u001b[0;31m         \u001b[0;32mreturn\u001b[0m \u001b[0mself\u001b[0m\u001b[0;34m.\u001b[0m\u001b[0mattrs\u001b[0m\u001b[0;34m[\u001b[0m\u001b[0mkey\u001b[0m\u001b[0;34m]\u001b[0m\u001b[0;34m\u001b[0m\u001b[0;34m\u001b[0m\u001b[0m\n\u001b[0m\u001b[1;32m   1407\u001b[0m \u001b[0;34m\u001b[0m\u001b[0m\n\u001b[1;32m   1408\u001b[0m     \u001b[0;32mdef\u001b[0m \u001b[0m__iter__\u001b[0m\u001b[0;34m(\u001b[0m\u001b[0mself\u001b[0m\u001b[0;34m)\u001b[0m\u001b[0;34m:\u001b[0m\u001b[0;34m\u001b[0m\u001b[0;34m\u001b[0m\u001b[0m\n",
      "\u001b[0;31mKeyError\u001b[0m: 'id'"
     ]
    }
   ],
   "source": [
    "data.h1['id']"
   ]
  },
  {
   "cell_type": "code",
   "execution_count": 43,
   "metadata": {},
   "outputs": [
    {
     "ename": "KeyError",
     "evalue": "'href'",
     "output_type": "error",
     "traceback": [
      "\u001b[0;31m---------------------------------------------------------------------------\u001b[0m",
      "\u001b[0;31mKeyError\u001b[0m                                  Traceback (most recent call last)",
      "\u001b[0;32m<ipython-input-43-1af96317acdf>\u001b[0m in \u001b[0;36m<module>\u001b[0;34m\u001b[0m\n\u001b[0;32m----> 1\u001b[0;31m \u001b[0mdata\u001b[0m\u001b[0;34m.\u001b[0m\u001b[0mh1\u001b[0m\u001b[0;34m[\u001b[0m\u001b[0;34m'href'\u001b[0m\u001b[0;34m]\u001b[0m\u001b[0;34m\u001b[0m\u001b[0;34m\u001b[0m\u001b[0m\n\u001b[0m",
      "\u001b[0;32m/opt/anaconda3/lib/python3.8/site-packages/bs4/element.py\u001b[0m in \u001b[0;36m__getitem__\u001b[0;34m(self, key)\u001b[0m\n\u001b[1;32m   1404\u001b[0m         \"\"\"tag[key] returns the value of the 'key' attribute for the Tag,\n\u001b[1;32m   1405\u001b[0m         and throws an exception if it's not there.\"\"\"\n\u001b[0;32m-> 1406\u001b[0;31m         \u001b[0;32mreturn\u001b[0m \u001b[0mself\u001b[0m\u001b[0;34m.\u001b[0m\u001b[0mattrs\u001b[0m\u001b[0;34m[\u001b[0m\u001b[0mkey\u001b[0m\u001b[0;34m]\u001b[0m\u001b[0;34m\u001b[0m\u001b[0;34m\u001b[0m\u001b[0m\n\u001b[0m\u001b[1;32m   1407\u001b[0m \u001b[0;34m\u001b[0m\u001b[0m\n\u001b[1;32m   1408\u001b[0m     \u001b[0;32mdef\u001b[0m \u001b[0m__iter__\u001b[0m\u001b[0;34m(\u001b[0m\u001b[0mself\u001b[0m\u001b[0;34m)\u001b[0m\u001b[0;34m:\u001b[0m\u001b[0;34m\u001b[0m\u001b[0;34m\u001b[0m\u001b[0m\n",
      "\u001b[0;31mKeyError\u001b[0m: 'href'"
     ]
    }
   ],
   "source": [
    "data.h1['href']"
   ]
  },
  {
   "cell_type": "code",
   "execution_count": 44,
   "metadata": {},
   "outputs": [
    {
     "data": {
      "text/plain": [
       "'linkweb'"
      ]
     },
     "execution_count": 44,
     "metadata": {},
     "output_type": "execute_result"
    }
   ],
   "source": [
    "# data.a['id']\n",
    "data.a.get('id')"
   ]
  },
  {
   "cell_type": "code",
   "execution_count": 46,
   "metadata": {},
   "outputs": [],
   "source": [
    "# data.h1['id']\n",
    "data.h1.get('id')"
   ]
  },
  {
   "cell_type": "code",
   "execution_count": 47,
   "metadata": {},
   "outputs": [
    {
     "data": {
      "text/plain": [
       "' PrepInsta Website Welcome to PrepInsta This is a great website for us to prepare Overview What can you do on PrepInsta Website- You can Learn Skills You can Learn Coding You can Learn Languages You can Learn Aptitiude You can get Certifications Certifications You can get a High Paying Job PrepInsta offers you the opportunity to learn without limits all the Upskilling Courses, Placement Preparation &  Certification Courses with Single Subscription Visit PrepInstaPrime.com! Purchase Prime TCS NQT Course ML Course'"
      ]
     },
     "execution_count": 47,
     "metadata": {},
     "output_type": "execute_result"
    }
   ],
   "source": [
    "data.get_text()"
   ]
  },
  {
   "cell_type": "code",
   "execution_count": 48,
   "metadata": {},
   "outputs": [
    {
     "name": "stdout",
     "output_type": "stream",
     "text": [
      "Welcome to PrepInsta\n"
     ]
    }
   ],
   "source": [
    "print(data.h1.string)"
   ]
  },
  {
   "cell_type": "code",
   "execution_count": 50,
   "metadata": {},
   "outputs": [
    {
     "data": {
      "text/plain": [
       "' Welcome to PrepInsta This is a great website for us to prepare Overview What can you do on PrepInsta Website- You can Learn Skills You can Learn Coding You can Learn Languages You can Learn Aptitiude You can get Certifications Certifications You can get a High Paying Job PrepInsta offers you the opportunity to learn without limits all the Upskilling Courses, Placement Preparation &  Certification Courses with Single Subscription Visit PrepInstaPrime.com! Purchase Prime TCS NQT Course ML Course'"
      ]
     },
     "execution_count": 50,
     "metadata": {},
     "output_type": "execute_result"
    }
   ],
   "source": [
    "data.body.get_text()"
   ]
  },
  {
   "cell_type": "code",
   "execution_count": null,
   "metadata": {},
   "outputs": [],
   "source": []
  }
 ],
 "metadata": {
  "kernelspec": {
   "display_name": "Python 3",
   "language": "python",
   "name": "python3"
  },
  "language_info": {
   "codemirror_mode": {
    "name": "ipython",
    "version": 3
   },
   "file_extension": ".py",
   "mimetype": "text/x-python",
   "name": "python",
   "nbconvert_exporter": "python",
   "pygments_lexer": "ipython3",
   "version": "3.8.5"
  }
 },
 "nbformat": 4,
 "nbformat_minor": 4
}
