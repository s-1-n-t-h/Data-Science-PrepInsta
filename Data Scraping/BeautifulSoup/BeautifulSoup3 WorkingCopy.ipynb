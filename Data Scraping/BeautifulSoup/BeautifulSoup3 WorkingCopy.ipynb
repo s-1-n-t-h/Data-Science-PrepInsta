{
 "cells": [
  {
   "cell_type": "code",
   "execution_count": 5,
   "metadata": {},
   "outputs": [],
   "source": [
    "html = '<!DOCTYPE html>\\\n",
    "<html>\\\n",
    "<head>\\\n",
    "<title>PrepInsta Website</title>\\\n",
    "</head>\\\n",
    "<body>\\\n",
    "<h1 class=\"mainHead\">Welcome to PrepInsta</h1>\\\n",
    "<p>This is a great website for us to prepare</p>\\\n",
    "<p class=\"link\">This is a <a href=\"https://prepinstaprime.com\">Link</a> to PrepInsta website</p>\\\n",
    "<p>We wish you <b>All the best</b></p>\\\n",
    "<h2><a href=\"https://prepinsta.com/terms-and-conditions/\">Terms and Conditions</a></h2>\\\n",
    "</body>\\\n",
    "</html>'"
   ]
  },
  {
   "cell_type": "code",
   "execution_count": 6,
   "metadata": {},
   "outputs": [
    {
     "name": "stdout",
     "output_type": "stream",
     "text": [
      "<!DOCTYPE html>\n",
      "<html>\n",
      " <head>\n",
      "  <title>\n",
      "   PrepInsta Website\n",
      "  </title>\n",
      " </head>\n",
      " <body>\n",
      "  <h1 class=\"mainHead\">\n",
      "   Welcome to PrepInsta\n",
      "  </h1>\n",
      "  <p>\n",
      "   This is a great website for us to prepare\n",
      "  </p>\n",
      "  <p class=\"link\">\n",
      "   This is a\n",
      "   <a href=\"https://prepinstaprime.com\">\n",
      "    Link\n",
      "   </a>\n",
      "   to PrepInsta website\n",
      "  </p>\n",
      "  <p>\n",
      "   We wish you\n",
      "   <b>\n",
      "    All the best\n",
      "   </b>\n",
      "  </p>\n",
      "  <h2>\n",
      "   <a href=\"https://prepinsta.com/terms-and-conditions/\">\n",
      "    Terms and Conditions\n",
      "   </a>\n",
      "  </h2>\n",
      " </body>\n",
      "</html>\n"
     ]
    }
   ],
   "source": [
    "from bs4 import BeautifulSoup\n",
    "data = BeautifulSoup(html, 'html.parser')\n",
    "print(data.prettify())"
   ]
  },
  {
   "cell_type": "code",
   "execution_count": 7,
   "metadata": {},
   "outputs": [
    {
     "data": {
      "text/plain": [
       "<a href=\"https://prepinstaprime.com\">Link</a>"
      ]
     },
     "execution_count": 7,
     "metadata": {},
     "output_type": "execute_result"
    }
   ],
   "source": [
    "data.a"
   ]
  },
  {
   "cell_type": "code",
   "execution_count": 11,
   "metadata": {},
   "outputs": [
    {
     "data": {
      "text/plain": [
       "<a href=\"https://prepinsta.com/terms-and-conditions/\">Terms and Conditions</a>"
      ]
     },
     "execution_count": 11,
     "metadata": {},
     "output_type": "execute_result"
    }
   ],
   "source": [
    "#exact match\n",
    "data.h2.a"
   ]
  },
  {
   "cell_type": "code",
   "execution_count": 12,
   "metadata": {},
   "outputs": [
    {
     "data": {
      "text/plain": [
       "<a href=\"https://prepinsta.com/terms-and-conditions/\">Terms and Conditions</a>"
      ]
     },
     "execution_count": 12,
     "metadata": {},
     "output_type": "execute_result"
    }
   ],
   "source": [
    "data.body.h2.a"
   ]
  },
  {
   "cell_type": "code",
   "execution_count": 14,
   "metadata": {},
   "outputs": [
    {
     "data": {
      "text/plain": [
       "'Terms and Conditions'"
      ]
     },
     "execution_count": 14,
     "metadata": {},
     "output_type": "execute_result"
    }
   ],
   "source": [
    "data.body.h2.a.string"
   ]
  },
  {
   "cell_type": "code",
   "execution_count": 15,
   "metadata": {},
   "outputs": [
    {
     "name": "stdout",
     "output_type": "stream",
     "text": [
      "<p>This is a great website for us to prepare</p>\n",
      "<p class=\"link\">This is a <a href=\"https://prepinstaprime.com\">Link</a> to PrepInsta website</p>\n",
      "<p>We wish you <b>All the best</b></p>\n"
     ]
    }
   ],
   "source": [
    "p_list = data.find_all('p')\n",
    "\n",
    "for item in p_list:\n",
    "    print(item)"
   ]
  },
  {
   "cell_type": "code",
   "execution_count": 16,
   "metadata": {},
   "outputs": [
    {
     "name": "stdout",
     "output_type": "stream",
     "text": [
      "This is a great website for us to prepare\n",
      "None\n",
      "None\n"
     ]
    }
   ],
   "source": [
    "p_list = data.find_all('p')\n",
    "\n",
    "for item in p_list:\n",
    "    print(item.string)"
   ]
  },
  {
   "cell_type": "code",
   "execution_count": 18,
   "metadata": {},
   "outputs": [
    {
     "name": "stdout",
     "output_type": "stream",
     "text": [
      "['This is a great website for us to prepare']\n",
      "['This is a', 'Link', 'to PrepInsta website']\n",
      "['We wish you', 'All the best']\n"
     ]
    }
   ],
   "source": [
    "p_list = data.find_all('p')\n",
    "\n",
    "for item in p_list:\n",
    "    print(list(item.stripped_strings))"
   ]
  },
  {
   "cell_type": "code",
   "execution_count": 19,
   "metadata": {},
   "outputs": [
    {
     "name": "stdout",
     "output_type": "stream",
     "text": [
      "{'p', 'html', 'b', 'body', 'head', 'title', 'h2', 'a', 'h1'}\n",
      "9\n"
     ]
    }
   ],
   "source": [
    "all_data_list = data.find_all(True)\n",
    "\n",
    "tag_list = set()\n",
    "\n",
    "for tag_data in all_data_list:\n",
    "    if tag_data.name not in tag_list:\n",
    "        tag_list.add(tag_data.name)\n",
    "\n",
    "print(tag_list)\n",
    "print(len(tag_list))"
   ]
  },
  {
   "cell_type": "code",
   "execution_count": 21,
   "metadata": {},
   "outputs": [
    {
     "name": "stdout",
     "output_type": "stream",
     "text": [
      "<head><title>PrepInsta Website</title></head>\n",
      "<body><h1 class=\"mainHead\">Welcome to PrepInsta</h1><p>This is a great website for us to prepare</p><p class=\"link\">This is a <a href=\"https://prepinstaprime.com\">Link</a> to PrepInsta website</p><p>We wish you <b>All the best</b></p><h2><a href=\"https://prepinsta.com/terms-and-conditions/\">Terms and Conditions</a></h2></body>\n",
      "2\n"
     ]
    }
   ],
   "source": [
    "contents = data.html.contents\n",
    "\n",
    "for content in contents:\n",
    "    print(content)\n",
    "    \n",
    "print(len(contents))"
   ]
  },
  {
   "cell_type": "code",
   "execution_count": 25,
   "metadata": {},
   "outputs": [
    {
     "name": "stdout",
     "output_type": "stream",
     "text": [
      "<head><title>PrepInsta Website</title></head>\n",
      "<body><h1 class=\"mainHead\">Welcome to PrepInsta</h1><p>This is a great website for us to prepare</p><p class=\"link\">This is a <a href=\"https://prepinstaprime.com\">Link</a> to PrepInsta website</p><p>We wish you <b>All the best</b></p><h2><a href=\"https://prepinsta.com/terms-and-conditions/\">Terms and Conditions</a></h2></body>\n"
     ]
    }
   ],
   "source": [
    "# contents gets an iterator for the list and for child in title_tag. \n",
    "# children uses the iterator its been handed\n",
    "# difference between contents and children\n",
    "children = data.html.children\n",
    "\n",
    "for child in children:\n",
    "    print(child)"
   ]
  },
  {
   "cell_type": "code",
   "execution_count": 29,
   "metadata": {},
   "outputs": [
    {
     "name": "stdout",
     "output_type": "stream",
     "text": [
      "<h1 class=\"mainHead\">Welcome to PrepInsta</h1>\n",
      "<p>This is a great website for us to prepare</p>\n",
      "<p class=\"link\">This is a <a href=\"https://prepinstaprime.com\">Link</a> to PrepInsta website</p>\n",
      "<p>We wish you <b>All the best</b></p>\n",
      "<h2><a href=\"https://prepinsta.com/terms-and-conditions/\">Terms and Conditions</a></h2>\n",
      "5\n"
     ]
    }
   ],
   "source": [
    "children = data.body.children\n",
    "\n",
    "for child in children:\n",
    "    print(child)\n",
    "    \n",
    "print(len(list(data.body.children)))"
   ]
  },
  {
   "cell_type": "code",
   "execution_count": 30,
   "metadata": {},
   "outputs": [
    {
     "data": {
      "text/plain": [
       "<generator object Tag.descendants at 0x7fefdbf68f20>"
      ]
     },
     "execution_count": 30,
     "metadata": {},
     "output_type": "execute_result"
    }
   ],
   "source": [
    "data.body.descendants"
   ]
  },
  {
   "cell_type": "code",
   "execution_count": 33,
   "metadata": {},
   "outputs": [
    {
     "name": "stdout",
     "output_type": "stream",
     "text": [
      "<h1 class=\"mainHead\">Welcome to PrepInsta</h1>\n",
      "---------\n",
      "Welcome to PrepInsta\n",
      "---------\n",
      "<p>This is a great website for us to prepare</p>\n",
      "---------\n",
      "This is a great website for us to prepare\n",
      "---------\n",
      "<p class=\"link\">This is a <a href=\"https://prepinstaprime.com\">Link</a> to PrepInsta website</p>\n",
      "---------\n",
      "This is a \n",
      "---------\n",
      "<a href=\"https://prepinstaprime.com\">Link</a>\n",
      "---------\n",
      "Link\n",
      "---------\n",
      " to PrepInsta website\n",
      "---------\n",
      "<p>We wish you <b>All the best</b></p>\n",
      "---------\n",
      "We wish you \n",
      "---------\n",
      "<b>All the best</b>\n",
      "---------\n",
      "All the best\n",
      "---------\n",
      "<h2><a href=\"https://prepinsta.com/terms-and-conditions/\">Terms and Conditions</a></h2>\n",
      "---------\n",
      "<a href=\"https://prepinsta.com/terms-and-conditions/\">Terms and Conditions</a>\n",
      "---------\n",
      "Terms and Conditions\n",
      "---------\n",
      "16\n"
     ]
    }
   ],
   "source": [
    "descendants_list = list(data.body.descendants)\n",
    "\n",
    "for descendant in descendants_list:\n",
    "    print(descendant)\n",
    "    print(\"---------\")\n",
    "    \n",
    "print(len(descendants_list))"
   ]
  },
  {
   "cell_type": "code",
   "execution_count": 34,
   "metadata": {},
   "outputs": [
    {
     "data": {
      "text/plain": [
       "[<h1 class=\"mainHead\">Welcome to PrepInsta</h1>,\n",
       " 'Welcome to PrepInsta',\n",
       " <p>This is a great website for us to prepare</p>,\n",
       " 'This is a great website for us to prepare',\n",
       " <p class=\"link\">This is a <a href=\"https://prepinstaprime.com\">Link</a> to PrepInsta website</p>,\n",
       " 'This is a ',\n",
       " <a href=\"https://prepinstaprime.com\">Link</a>,\n",
       " 'Link',\n",
       " ' to PrepInsta website',\n",
       " <p>We wish you <b>All the best</b></p>,\n",
       " 'We wish you ',\n",
       " <b>All the best</b>,\n",
       " 'All the best',\n",
       " <h2><a href=\"https://prepinsta.com/terms-and-conditions/\">Terms and Conditions</a></h2>,\n",
       " <a href=\"https://prepinsta.com/terms-and-conditions/\">Terms and Conditions</a>,\n",
       " 'Terms and Conditions']"
      ]
     },
     "execution_count": 34,
     "metadata": {},
     "output_type": "execute_result"
    }
   ],
   "source": [
    "descendants_list"
   ]
  },
  {
   "cell_type": "code",
   "execution_count": 36,
   "metadata": {},
   "outputs": [
    {
     "data": {
      "text/plain": [
       "<html><head><title>PrepInsta Website</title></head><body><h1 class=\"mainHead\">Welcome to PrepInsta</h1><p>This is a great website for us to prepare</p><p class=\"link\">This is a <a href=\"https://prepinstaprime.com\">Link</a> to PrepInsta website</p><p>We wish you <b>All the best</b></p><h2><a href=\"https://prepinsta.com/terms-and-conditions/\">Terms and Conditions</a></h2></body></html>"
      ]
     },
     "execution_count": 36,
     "metadata": {},
     "output_type": "execute_result"
    }
   ],
   "source": [
    "parent = data.body.parent\n",
    "parent"
   ]
  },
  {
   "cell_type": "code",
   "execution_count": 38,
   "metadata": {},
   "outputs": [
    {
     "data": {
      "text/plain": [
       "<p>We wish you <b>All the best</b></p>"
      ]
     },
     "execution_count": 38,
     "metadata": {},
     "output_type": "execute_result"
    }
   ],
   "source": [
    "parent = data.p.parent\n",
    "parent"
   ]
  },
  {
   "cell_type": "code",
   "execution_count": 39,
   "metadata": {},
   "outputs": [
    {
     "data": {
      "text/plain": [
       "<p>We wish you <b>All the best</b></p>"
      ]
     },
     "execution_count": 39,
     "metadata": {},
     "output_type": "execute_result"
    }
   ],
   "source": [
    "parent = data.b.parent\n",
    "parent"
   ]
  },
  {
   "cell_type": "code",
   "execution_count": null,
   "metadata": {},
   "outputs": [],
   "source": []
  },
  {
   "cell_type": "code",
   "execution_count": null,
   "metadata": {},
   "outputs": [],
   "source": []
  }
 ],
 "metadata": {
  "kernelspec": {
   "display_name": "Python 3",
   "language": "python",
   "name": "python3"
  },
  "language_info": {
   "codemirror_mode": {
    "name": "ipython",
    "version": 3
   },
   "file_extension": ".py",
   "mimetype": "text/x-python",
   "name": "python",
   "nbconvert_exporter": "python",
   "pygments_lexer": "ipython3",
   "version": "3.8.5"
  }
 },
 "nbformat": 4,
 "nbformat_minor": 4
}
