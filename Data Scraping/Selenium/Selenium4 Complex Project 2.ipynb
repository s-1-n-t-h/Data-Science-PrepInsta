{
 "cells": [
  {
   "cell_type": "code",
   "execution_count": 48,
   "metadata": {},
   "outputs": [],
   "source": [
    "from selenium import webdriver"
   ]
  },
  {
   "cell_type": "code",
   "execution_count": 49,
   "metadata": {},
   "outputs": [],
   "source": [
    "from selenium.webdriver.chrome.service import Service\n",
    "from webdriver_manager.chrome import ChromeDriverManager\n",
    "\n",
    "driver = webdriver.Chrome(service=Service(ChromeDriverManager().install()))\n",
    "driver.get(\"https://www.scrapethissite.com/pages/\")"
   ]
  },
  {
   "cell_type": "code",
   "execution_count": 50,
   "metadata": {},
   "outputs": [],
   "source": [
    "driver.get(\"https://www.scrapethissite.com/pages/ajax-javascript/\")"
   ]
  },
  {
   "cell_type": "code",
   "execution_count": 51,
   "metadata": {},
   "outputs": [],
   "source": [
    "from selenium.webdriver.common.by import By\n",
    "\n",
    "link_btn = driver.find_element(By.LINK_TEXT,'2010')\n",
    "link_btn.click()"
   ]
  },
  {
   "cell_type": "code",
   "execution_count": 52,
   "metadata": {},
   "outputs": [
    {
     "data": {
      "text/plain": [
       "'table'"
      ]
     },
     "execution_count": 52,
     "metadata": {},
     "output_type": "execute_result"
    }
   ],
   "source": [
    "table_data = driver.find_element(By.CLASS_NAME,'table')\n",
    "table_data.tag_name"
   ]
  },
  {
   "cell_type": "code",
   "execution_count": 53,
   "metadata": {},
   "outputs": [
    {
     "name": "stdout",
     "output_type": "stream",
     "text": [
      "<class 'bs4.element.Tag'>\n"
     ]
    },
    {
     "data": {
      "text/plain": [
       "<table class=\"table\" style=\"\">\n",
       "<thead>\n",
       "<tr>\n",
       "<th>Title</th>\n",
       "<th>Nominations</th>\n",
       "<th>Awards</th>\n",
       "<th>Best Picture</th>\n",
       "</tr>\n",
       "</thead>\n",
       "<tbody id=\"table-body\"><tr class=\"film\"><td class=\"film-title\">The King's Speech</td><td class=\"film-nominations\">12</td><td class=\"film-awards\">4</td><td class=\"film-best-picture\"><i class=\"glyphicon glyphicon-flag\"></i></td></tr><tr class=\"film\"><td class=\"film-title\">Inception</td><td class=\"film-nominations\">8</td><td class=\"film-awards\">4</td><td class=\"film-best-picture\"></td></tr><tr class=\"film\"><td class=\"film-title\">The Social Network</td><td class=\"film-nominations\">8</td><td class=\"film-awards\">3</td><td class=\"film-best-picture\"></td></tr><tr class=\"film\"><td class=\"film-title\">The Fighter</td><td class=\"film-nominations\">7</td><td class=\"film-awards\">2</td><td class=\"film-best-picture\"></td></tr><tr class=\"film\"><td class=\"film-title\">Toy Story 3</td><td class=\"film-nominations\">5</td><td class=\"film-awards\">2</td><td class=\"film-best-picture\"></td></tr><tr class=\"film\"><td class=\"film-title\">Alice in Wonderland</td><td class=\"film-nominations\">3</td><td class=\"film-awards\">2</td><td class=\"film-best-picture\"></td></tr><tr class=\"film\"><td class=\"film-title\">Black Swan</td><td class=\"film-nominations\">5</td><td class=\"film-awards\">1</td><td class=\"film-best-picture\"></td></tr><tr class=\"film\"><td class=\"film-title\">In a Better World</td><td class=\"film-nominations\">1</td><td class=\"film-awards\">1</td><td class=\"film-best-picture\"></td></tr><tr class=\"film\"><td class=\"film-title\">The Lost Thing</td><td class=\"film-nominations\">1</td><td class=\"film-awards\">1</td><td class=\"film-best-picture\"></td></tr><tr class=\"film\"><td class=\"film-title\">God of Love</td><td class=\"film-nominations\">1</td><td class=\"film-awards\">1</td><td class=\"film-best-picture\"></td></tr><tr class=\"film\"><td class=\"film-title\">The Wolfman</td><td class=\"film-nominations\">1</td><td class=\"film-awards\">1</td><td class=\"film-best-picture\"></td></tr><tr class=\"film\"><td class=\"film-title\">Strangers No More</td><td class=\"film-nominations\">1</td><td class=\"film-awards\">1</td><td class=\"film-best-picture\"></td></tr><tr class=\"film\"><td class=\"film-title\">Inside Job</td><td class=\"film-nominations\">1</td><td class=\"film-awards\">1</td><td class=\"film-best-picture\"></td></tr></tbody>\n",
       "</table>"
      ]
     },
     "execution_count": 53,
     "metadata": {},
     "output_type": "execute_result"
    }
   ],
   "source": [
    "from bs4 import BeautifulSoup\n",
    "import pandas as pd\n",
    "\n",
    "page_data = BeautifulSoup(driver.page_source)\n",
    "movie_data = page_data.table\n",
    "print(type(movie_data))\n",
    "movie_data"
   ]
  },
  {
   "cell_type": "code",
   "execution_count": 54,
   "metadata": {},
   "outputs": [
    {
     "data": {
      "text/plain": [
       "[                  Title  Nominations  Awards  Best Picture\n",
       " 0     The King's Speech           12       4           NaN\n",
       " 1             Inception            8       4           NaN\n",
       " 2    The Social Network            8       3           NaN\n",
       " 3           The Fighter            7       2           NaN\n",
       " 4           Toy Story 3            5       2           NaN\n",
       " 5   Alice in Wonderland            3       2           NaN\n",
       " 6            Black Swan            5       1           NaN\n",
       " 7     In a Better World            1       1           NaN\n",
       " 8        The Lost Thing            1       1           NaN\n",
       " 9           God of Love            1       1           NaN\n",
       " 10          The Wolfman            1       1           NaN\n",
       " 11    Strangers No More            1       1           NaN\n",
       " 12           Inside Job            1       1           NaN]"
      ]
     },
     "execution_count": 54,
     "metadata": {},
     "output_type": "execute_result"
    }
   ],
   "source": [
    "df = pd.read_html(str(movie_data), header=0)\n",
    "df"
   ]
  },
  {
   "cell_type": "code",
   "execution_count": 55,
   "metadata": {},
   "outputs": [
    {
     "name": "stdout",
     "output_type": "stream",
     "text": [
      "<class 'bs4.element.Tag'>\n"
     ]
    },
    {
     "data": {
      "text/plain": [
       "<table class=\"table\" style=\"\">\n",
       "<thead>\n",
       "<tr>\n",
       "<th>Title</th>\n",
       "<th>Nominations</th>\n",
       "<th>Awards</th>\n",
       "<th>Best Picture</th>\n",
       "</tr>\n",
       "</thead>\n",
       "<tbody id=\"table-body\"><tr class=\"film\"><td class=\"film-title\">Spotlight  </td><td class=\"film-nominations\">6</td><td class=\"film-awards\">2</td><td class=\"film-best-picture\"><i class=\"glyphicon glyphicon-flag\"></i></td></tr><tr class=\"film\"><td class=\"film-title\">Mad Max: Fury Road </td><td class=\"film-nominations\">10</td><td class=\"film-awards\">6</td><td class=\"film-best-picture\"></td></tr><tr class=\"film\"><td class=\"film-title\">The Revenant   </td><td class=\"film-nominations\">12</td><td class=\"film-awards\">3</td><td class=\"film-best-picture\"></td></tr><tr class=\"film\"><td class=\"film-title\">Bridge of Spies</td><td class=\"film-nominations\">6</td><td class=\"film-awards\">1</td><td class=\"film-best-picture\"></td></tr><tr class=\"film\"><td class=\"film-title\">The Big Short  </td><td class=\"film-nominations\">5</td><td class=\"film-awards\">1</td><td class=\"film-best-picture\"></td></tr><tr class=\"film\"><td class=\"film-title\">The Danish Girl</td><td class=\"film-nominations\">4</td><td class=\"film-awards\">1</td><td class=\"film-best-picture\"></td></tr><tr class=\"film\"><td class=\"film-title\">Room   </td><td class=\"film-nominations\">4</td><td class=\"film-awards\">1</td><td class=\"film-best-picture\"></td></tr><tr class=\"film\"><td class=\"film-title\">Ex Machina </td><td class=\"film-nominations\">2</td><td class=\"film-awards\">1</td><td class=\"film-best-picture\"></td></tr><tr class=\"film\"><td class=\"film-title\">The Hateful Eight  </td><td class=\"film-nominations\">2</td><td class=\"film-awards\">1</td><td class=\"film-best-picture\"></td></tr><tr class=\"film\"><td class=\"film-title\">Inside Out </td><td class=\"film-nominations\">2</td><td class=\"film-awards\">1</td><td class=\"film-best-picture\"></td></tr><tr class=\"film\"><td class=\"film-title\">Amy</td><td class=\"film-nominations\">1</td><td class=\"film-awards\">1</td><td class=\"film-best-picture\"></td></tr><tr class=\"film\"><td class=\"film-title\">Bear Story </td><td class=\"film-nominations\">1</td><td class=\"film-awards\">1</td><td class=\"film-best-picture\"></td></tr><tr class=\"film\"><td class=\"film-title\">A Girl in the River: The Price of Forgiveness  </td><td class=\"film-nominations\">1</td><td class=\"film-awards\">1</td><td class=\"film-best-picture\"></td></tr><tr class=\"film\"><td class=\"film-title\">Son of Saul</td><td class=\"film-nominations\">1</td><td class=\"film-awards\">1</td><td class=\"film-best-picture\"></td></tr><tr class=\"film\"><td class=\"film-title\">Spectre</td><td class=\"film-nominations\">1</td><td class=\"film-awards\">1</td><td class=\"film-best-picture\"></td></tr><tr class=\"film\"><td class=\"film-title\">Stutterer  </td><td class=\"film-nominations\">1</td><td class=\"film-awards\">1</td><td class=\"film-best-picture\"></td></tr></tbody>\n",
       "</table>"
      ]
     },
     "execution_count": 55,
     "metadata": {},
     "output_type": "execute_result"
    }
   ],
   "source": [
    "from bs4 import BeautifulSoup\n",
    "import pandas as pd\n",
    "\n",
    "driver.get(\"https://www.scrapethissite.com/pages/ajax-javascript/\")\n",
    "\n",
    "\n",
    "\n",
    "year = 2015\n",
    "\n",
    "link_btn = driver.find_element(By.LINK_TEXT, str(year))\n",
    "link_btn.click()\n",
    "\n",
    "# https://stackoverflow.com/questions/51336849/selenium-implicit-and-explicit-waits-not-working-has-no-effect\n",
    "# wont work perfect reason above\n",
    "# driver.implicitly_wait(5)\n",
    "\n",
    "import time\n",
    "time.sleep(5)\n",
    "\n",
    "page_data = BeautifulSoup(driver.page_source)\n",
    "movie_data = page_data.table\n",
    "print(type(movie_data))\n",
    "movie_data"
   ]
  },
  {
   "cell_type": "code",
   "execution_count": 56,
   "metadata": {},
   "outputs": [
    {
     "ename": "NoSuchElementException",
     "evalue": "Message: no such element: Unable to locate element: {\"method\":\"link text\",\"selector\":\"2016\"}\n  (Session info: chrome=105.0.5195.102)\nStacktrace:\n0   chromedriver                        0x000000010c791788 chromedriver + 4515720\n1   chromedriver                        0x000000010c7159d3 chromedriver + 4008403\n2   chromedriver                        0x000000010c3a812a chromedriver + 413994\n3   chromedriver                        0x000000010c3df873 chromedriver + 641139\n4   chromedriver                        0x000000010c3dfa61 chromedriver + 641633\n5   chromedriver                        0x000000010c411f64 chromedriver + 847716\n6   chromedriver                        0x000000010c3fc7fd chromedriver + 759805\n7   chromedriver                        0x000000010c40fbd9 chromedriver + 838617\n8   chromedriver                        0x000000010c3fc603 chromedriver + 759299\n9   chromedriver                        0x000000010c3d2990 chromedriver + 588176\n10  chromedriver                        0x000000010c3d3a75 chromedriver + 592501\n11  chromedriver                        0x000000010c7616cd chromedriver + 4318925\n12  chromedriver                        0x000000010c765f35 chromedriver + 4337461\n13  chromedriver                        0x000000010c76d1ff chromedriver + 4366847\n14  chromedriver                        0x000000010c766c5a chromedriver + 4340826\n15  chromedriver                        0x000000010c73cc2c chromedriver + 4168748\n16  chromedriver                        0x000000010c7834f8 chromedriver + 4457720\n17  chromedriver                        0x000000010c783693 chromedriver + 4458131\n18  chromedriver                        0x000000010c798a3e chromedriver + 4545086\n19  libsystem_pthread.dylib             0x00007ff8119774f4 _pthread_start + 125\n20  libsystem_pthread.dylib             0x00007ff81197300f thread_start + 15\n",
     "output_type": "error",
     "traceback": [
      "\u001b[0;31m---------------------------------------------------------------------------\u001b[0m",
      "\u001b[0;31mNoSuchElementException\u001b[0m                    Traceback (most recent call last)",
      "\u001b[0;32m<ipython-input-56-c7d66eee273a>\u001b[0m in \u001b[0;36m<module>\u001b[0;34m\u001b[0m\n\u001b[1;32m      8\u001b[0m \u001b[0;32mfor\u001b[0m \u001b[0myear\u001b[0m \u001b[0;32min\u001b[0m \u001b[0mrange\u001b[0m\u001b[0;34m(\u001b[0m\u001b[0;36m2010\u001b[0m\u001b[0;34m,\u001b[0m \u001b[0;36m2100\u001b[0m\u001b[0;34m)\u001b[0m\u001b[0;34m:\u001b[0m\u001b[0;34m\u001b[0m\u001b[0;34m\u001b[0m\u001b[0m\n\u001b[1;32m      9\u001b[0m \u001b[0;34m\u001b[0m\u001b[0m\n\u001b[0;32m---> 10\u001b[0;31m     \u001b[0mlink_btn\u001b[0m \u001b[0;34m=\u001b[0m \u001b[0mdriver\u001b[0m\u001b[0;34m.\u001b[0m\u001b[0mfind_element\u001b[0m\u001b[0;34m(\u001b[0m\u001b[0mBy\u001b[0m\u001b[0;34m.\u001b[0m\u001b[0mLINK_TEXT\u001b[0m\u001b[0;34m,\u001b[0m \u001b[0mstr\u001b[0m\u001b[0;34m(\u001b[0m\u001b[0myear\u001b[0m\u001b[0;34m)\u001b[0m\u001b[0;34m)\u001b[0m\u001b[0;34m\u001b[0m\u001b[0;34m\u001b[0m\u001b[0m\n\u001b[0m\u001b[1;32m     11\u001b[0m     \u001b[0mlink_btn\u001b[0m\u001b[0;34m.\u001b[0m\u001b[0mclick\u001b[0m\u001b[0;34m(\u001b[0m\u001b[0;34m)\u001b[0m\u001b[0;34m\u001b[0m\u001b[0;34m\u001b[0m\u001b[0m\n\u001b[1;32m     12\u001b[0m \u001b[0;34m\u001b[0m\u001b[0m\n",
      "\u001b[0;32m/opt/anaconda3/lib/python3.8/site-packages/selenium/webdriver/remote/webdriver.py\u001b[0m in \u001b[0;36mfind_element\u001b[0;34m(self, by, value)\u001b[0m\n\u001b[1;32m    853\u001b[0m             \u001b[0mvalue\u001b[0m \u001b[0;34m=\u001b[0m \u001b[0;34m'[name=\"%s\"]'\u001b[0m \u001b[0;34m%\u001b[0m \u001b[0mvalue\u001b[0m\u001b[0;34m\u001b[0m\u001b[0;34m\u001b[0m\u001b[0m\n\u001b[1;32m    854\u001b[0m \u001b[0;34m\u001b[0m\u001b[0m\n\u001b[0;32m--> 855\u001b[0;31m         return self.execute(Command.FIND_ELEMENT, {\n\u001b[0m\u001b[1;32m    856\u001b[0m             \u001b[0;34m'using'\u001b[0m\u001b[0;34m:\u001b[0m \u001b[0mby\u001b[0m\u001b[0;34m,\u001b[0m\u001b[0;34m\u001b[0m\u001b[0;34m\u001b[0m\u001b[0m\n\u001b[1;32m    857\u001b[0m             'value': value})['value']\n",
      "\u001b[0;32m/opt/anaconda3/lib/python3.8/site-packages/selenium/webdriver/remote/webdriver.py\u001b[0m in \u001b[0;36mexecute\u001b[0;34m(self, driver_command, params)\u001b[0m\n\u001b[1;32m    426\u001b[0m         \u001b[0mresponse\u001b[0m \u001b[0;34m=\u001b[0m \u001b[0mself\u001b[0m\u001b[0;34m.\u001b[0m\u001b[0mcommand_executor\u001b[0m\u001b[0;34m.\u001b[0m\u001b[0mexecute\u001b[0m\u001b[0;34m(\u001b[0m\u001b[0mdriver_command\u001b[0m\u001b[0;34m,\u001b[0m \u001b[0mparams\u001b[0m\u001b[0;34m)\u001b[0m\u001b[0;34m\u001b[0m\u001b[0;34m\u001b[0m\u001b[0m\n\u001b[1;32m    427\u001b[0m         \u001b[0;32mif\u001b[0m \u001b[0mresponse\u001b[0m\u001b[0;34m:\u001b[0m\u001b[0;34m\u001b[0m\u001b[0;34m\u001b[0m\u001b[0m\n\u001b[0;32m--> 428\u001b[0;31m             \u001b[0mself\u001b[0m\u001b[0;34m.\u001b[0m\u001b[0merror_handler\u001b[0m\u001b[0;34m.\u001b[0m\u001b[0mcheck_response\u001b[0m\u001b[0;34m(\u001b[0m\u001b[0mresponse\u001b[0m\u001b[0;34m)\u001b[0m\u001b[0;34m\u001b[0m\u001b[0;34m\u001b[0m\u001b[0m\n\u001b[0m\u001b[1;32m    429\u001b[0m             response['value'] = self._unwrap_value(\n\u001b[1;32m    430\u001b[0m                 response.get('value', None))\n",
      "\u001b[0;32m/opt/anaconda3/lib/python3.8/site-packages/selenium/webdriver/remote/errorhandler.py\u001b[0m in \u001b[0;36mcheck_response\u001b[0;34m(self, response)\u001b[0m\n\u001b[1;32m    241\u001b[0m                 \u001b[0malert_text\u001b[0m \u001b[0;34m=\u001b[0m \u001b[0mvalue\u001b[0m\u001b[0;34m[\u001b[0m\u001b[0;34m'alert'\u001b[0m\u001b[0;34m]\u001b[0m\u001b[0;34m.\u001b[0m\u001b[0mget\u001b[0m\u001b[0;34m(\u001b[0m\u001b[0;34m'text'\u001b[0m\u001b[0;34m)\u001b[0m\u001b[0;34m\u001b[0m\u001b[0;34m\u001b[0m\u001b[0m\n\u001b[1;32m    242\u001b[0m             \u001b[0;32mraise\u001b[0m \u001b[0mexception_class\u001b[0m\u001b[0;34m(\u001b[0m\u001b[0mmessage\u001b[0m\u001b[0;34m,\u001b[0m \u001b[0mscreen\u001b[0m\u001b[0;34m,\u001b[0m \u001b[0mstacktrace\u001b[0m\u001b[0;34m,\u001b[0m \u001b[0malert_text\u001b[0m\u001b[0;34m)\u001b[0m  \u001b[0;31m# type: ignore[call-arg]  # mypy is not smart enough here\u001b[0m\u001b[0;34m\u001b[0m\u001b[0;34m\u001b[0m\u001b[0m\n\u001b[0;32m--> 243\u001b[0;31m         \u001b[0;32mraise\u001b[0m \u001b[0mexception_class\u001b[0m\u001b[0;34m(\u001b[0m\u001b[0mmessage\u001b[0m\u001b[0;34m,\u001b[0m \u001b[0mscreen\u001b[0m\u001b[0;34m,\u001b[0m \u001b[0mstacktrace\u001b[0m\u001b[0;34m)\u001b[0m\u001b[0;34m\u001b[0m\u001b[0;34m\u001b[0m\u001b[0m\n\u001b[0m",
      "\u001b[0;31mNoSuchElementException\u001b[0m: Message: no such element: Unable to locate element: {\"method\":\"link text\",\"selector\":\"2016\"}\n  (Session info: chrome=105.0.5195.102)\nStacktrace:\n0   chromedriver                        0x000000010c791788 chromedriver + 4515720\n1   chromedriver                        0x000000010c7159d3 chromedriver + 4008403\n2   chromedriver                        0x000000010c3a812a chromedriver + 413994\n3   chromedriver                        0x000000010c3df873 chromedriver + 641139\n4   chromedriver                        0x000000010c3dfa61 chromedriver + 641633\n5   chromedriver                        0x000000010c411f64 chromedriver + 847716\n6   chromedriver                        0x000000010c3fc7fd chromedriver + 759805\n7   chromedriver                        0x000000010c40fbd9 chromedriver + 838617\n8   chromedriver                        0x000000010c3fc603 chromedriver + 759299\n9   chromedriver                        0x000000010c3d2990 chromedriver + 588176\n10  chromedriver                        0x000000010c3d3a75 chromedriver + 592501\n11  chromedriver                        0x000000010c7616cd chromedriver + 4318925\n12  chromedriver                        0x000000010c765f35 chromedriver + 4337461\n13  chromedriver                        0x000000010c76d1ff chromedriver + 4366847\n14  chromedriver                        0x000000010c766c5a chromedriver + 4340826\n15  chromedriver                        0x000000010c73cc2c chromedriver + 4168748\n16  chromedriver                        0x000000010c7834f8 chromedriver + 4457720\n17  chromedriver                        0x000000010c783693 chromedriver + 4458131\n18  chromedriver                        0x000000010c798a3e chromedriver + 4545086\n19  libsystem_pthread.dylib             0x00007ff8119774f4 _pthread_start + 125\n20  libsystem_pthread.dylib             0x00007ff81197300f thread_start + 15\n"
     ]
    }
   ],
   "source": [
    "from bs4 import BeautifulSoup\n",
    "import pandas as pd\n",
    "import time\n",
    "\n",
    "driver.get(\"https://www.scrapethissite.com/pages/ajax-javascript/\")\n",
    "result_list = []\n",
    "\n",
    "for year in range(2010, 2100):\n",
    "\n",
    "    link_btn = driver.find_element(By.LINK_TEXT, str(year))\n",
    "    link_btn.click()\n",
    "\n",
    "    time.sleep(3)\n",
    "\n",
    "    page_data = BeautifulSoup(driver.page_source)\n",
    "    movie_data = page_data.table\n",
    "    df = pd.read_html(str(movie_data), header=0)\n",
    "    result_list.append(df[0])\n",
    "\n",
    "result_list"
   ]
  },
  {
   "cell_type": "code",
   "execution_count": 57,
   "metadata": {},
   "outputs": [
    {
     "data": {
      "text/plain": [
       "[                  Title  Nominations  Awards  Best Picture\n",
       " 0     The King's Speech           12       4           NaN\n",
       " 1             Inception            8       4           NaN\n",
       " 2    The Social Network            8       3           NaN\n",
       " 3           The Fighter            7       2           NaN\n",
       " 4           Toy Story 3            5       2           NaN\n",
       " 5   Alice in Wonderland            3       2           NaN\n",
       " 6            Black Swan            5       1           NaN\n",
       " 7     In a Better World            1       1           NaN\n",
       " 8        The Lost Thing            1       1           NaN\n",
       " 9           God of Love            1       1           NaN\n",
       " 10          The Wolfman            1       1           NaN\n",
       " 11    Strangers No More            1       1           NaN\n",
       " 12           Inside Job            1       1           NaN,\n",
       "                                                 Title  Nominations  Awards  \\\n",
       " 0                                          The Artist           10       5   \n",
       " 1                                                Hugo           11       5   \n",
       " 2                                       The Iron Lady            2       2   \n",
       " 3                                     The Descendants            5       1   \n",
       " 4                     The Girl with the Dragon Tattoo            5       1   \n",
       " 5                                   Midnight in Paris            4       1   \n",
       " 6                                            The Help            4       1   \n",
       " 7                                        A Separation            2       1   \n",
       " 8   The Fantastic Flying Books of Mr. Morris Lessmore            1       1   \n",
       " 9                                           The Shore            1       1   \n",
       " 10                                         Undefeated            1       1   \n",
       " 11                                        The Muppets            1       1   \n",
       " 12                                        Saving Face            1       1   \n",
       " 13                                          Beginners            1       1   \n",
       " 14                                              Rango            1       1   \n",
       " \n",
       "     Best Picture  \n",
       " 0            NaN  \n",
       " 1            NaN  \n",
       " 2            NaN  \n",
       " 3            NaN  \n",
       " 4            NaN  \n",
       " 5            NaN  \n",
       " 6            NaN  \n",
       " 7            NaN  \n",
       " 8            NaN  \n",
       " 9            NaN  \n",
       " 10           NaN  \n",
       " 11           NaN  \n",
       " 12           NaN  \n",
       " 13           NaN  \n",
       " 14           NaN  ,\n",
       "                       Title  Nominations  Awards  Best Picture\n",
       " 0                      Argo            7       3           NaN\n",
       " 1                Life of Pi           11       4           NaN\n",
       " 2            Les Misérables            8       3           NaN\n",
       " 3                   Lincoln           12       2           NaN\n",
       " 4          Django Unchained            5       2           NaN\n",
       " 5                   Skyfall            5       2           NaN\n",
       " 6   Silver Linings Playbook            8       1           NaN\n",
       " 7          Zero Dark Thirty            5       1           NaN\n",
       " 8                     Amour            5       1           NaN\n",
       " 9             Anna Karenina            4       1           NaN\n",
       " 10                 Paperman            1       1           NaN\n",
       " 11                    Brave            1       1           NaN\n",
       " 12  Searching for Sugar Man            1       1           NaN\n",
       " 13                 Inocente            1       1           NaN\n",
       " 14                   Curfew            1       1           NaN,\n",
       "                                         Title  Nominations  Awards  \\\n",
       " 0                            12 Years a Slave            9       3   \n",
       " 1                                     Gravity           10       7   \n",
       " 2                          Dallas Buyers Club            6       3   \n",
       " 3                                      Frozen            2       2   \n",
       " 4                            The Great Gatsby            2       2   \n",
       " 5                                         Her            5       1   \n",
       " 6                                Blue Jasmine            3       1   \n",
       " 7                                   Mr Hublot            1       1   \n",
       " 8   The Lady in Number 6: Music Saved My Life            1       1   \n",
       " 9                                      Helium            1       1   \n",
       " 10                           The Great Beauty            1       1   \n",
       " 11                       20 Feet from Stardom            1       1   \n",
       " \n",
       "     Best Picture  \n",
       " 0            NaN  \n",
       " 1            NaN  \n",
       " 2            NaN  \n",
       " 3            NaN  \n",
       " 4            NaN  \n",
       " 5            NaN  \n",
       " 6            NaN  \n",
       " 7            NaN  \n",
       " 8            NaN  \n",
       " 9            NaN  \n",
       " 10           NaN  \n",
       " 11           NaN  ,\n",
       "                                Title  Nominations  Awards  Best Picture\n",
       " 0                            Birdman            9       4           NaN\n",
       " 1           The Grand Budapest Hotel            9       4           NaN\n",
       " 2                           Whiplash            5       3           NaN\n",
       " 3                 The Imitation Game            8       1           NaN\n",
       " 4                    American Sniper            6       1           NaN\n",
       " 5                            Boyhood            6       1           NaN\n",
       " 6                       Interstellar            5       1           NaN\n",
       " 7           The Theory of Everything            5       1           NaN\n",
       " 8                                Ida            2       1           NaN\n",
       " 9                              Selma            2       1           NaN\n",
       " 10                       Citizenfour            1       1           NaN\n",
       " 11                        Big Hero 6            1       1           NaN\n",
       " 12  Crisis Hotline: Veterans Press 1            1       1           NaN\n",
       " 13                    The Phone Call            1       1           NaN\n",
       " 14                       Still Alice            1       1           NaN\n",
       " 15                             Feast            1       1           NaN,\n",
       "                                             Title  Nominations  Awards  \\\n",
       " 0                                       Spotlight            6       2   \n",
       " 1                              Mad Max: Fury Road           10       6   \n",
       " 2                                    The Revenant           12       3   \n",
       " 3                                 Bridge of Spies            6       1   \n",
       " 4                                   The Big Short            5       1   \n",
       " 5                                 The Danish Girl            4       1   \n",
       " 6                                            Room            4       1   \n",
       " 7                                      Ex Machina            2       1   \n",
       " 8                               The Hateful Eight            2       1   \n",
       " 9                                      Inside Out            2       1   \n",
       " 10                                            Amy            1       1   \n",
       " 11                                     Bear Story            1       1   \n",
       " 12  A Girl in the River: The Price of Forgiveness            1       1   \n",
       " 13                                    Son of Saul            1       1   \n",
       " 14                                        Spectre            1       1   \n",
       " 15                                      Stutterer            1       1   \n",
       " \n",
       "     Best Picture  \n",
       " 0            NaN  \n",
       " 1            NaN  \n",
       " 2            NaN  \n",
       " 3            NaN  \n",
       " 4            NaN  \n",
       " 5            NaN  \n",
       " 6            NaN  \n",
       " 7            NaN  \n",
       " 8            NaN  \n",
       " 9            NaN  \n",
       " 10           NaN  \n",
       " 11           NaN  \n",
       " 12           NaN  \n",
       " 13           NaN  \n",
       " 14           NaN  \n",
       " 15           NaN  ]"
      ]
     },
     "execution_count": 57,
     "metadata": {},
     "output_type": "execute_result"
    }
   ],
   "source": [
    "from bs4 import BeautifulSoup\n",
    "from selenium.common.exceptions import NoSuchElementException\n",
    "import pandas as pd\n",
    "import time\n",
    "\n",
    "driver.get(\"https://www.scrapethissite.com/pages/ajax-javascript/\")\n",
    "result_list = []\n",
    "year = 2010\n",
    "\n",
    "while True:\n",
    "    try:\n",
    "        link_btn = driver.find_element(By.LINK_TEXT, str(year))\n",
    "        year+=1\n",
    "        link_btn.click()\n",
    "\n",
    "        time.sleep(3)\n",
    "\n",
    "        page_data = BeautifulSoup(driver.page_source)\n",
    "        movie_data = page_data.table\n",
    "        df = pd.read_html(str(movie_data), header=0)\n",
    "        result_list.append(df[0])\n",
    "    \n",
    "    except NoSuchElementException:\n",
    "        break\n",
    "        \n",
    "result_list"
   ]
  },
  {
   "cell_type": "code",
   "execution_count": null,
   "metadata": {},
   "outputs": [],
   "source": [
    "# https://stackoverflow.com/questions/51336849/selenium-implicit-and-explicit-waits-not-working-has-no-effect\n",
    "# wont work perfect reason above\n",
    "# driver.implicitly_wait(5)\n",
    "# from selenium.webdriver.support import expected_conditions as EC\n",
    "# from selenium.webdriver.support.wait import WebDriverWait\n",
    "\n",
    "# this will wait at least 10 seconds until url will contain \"your_url\"\n",
    "# WebDriverWait(driver, 10).until(EC.url_contains((\"your_url\")))\n"
   ]
  },
  {
   "cell_type": "code",
   "execution_count": null,
   "metadata": {},
   "outputs": [],
   "source": [
    "# implicit wait vs explicit wait"
   ]
  }
 ],
 "metadata": {
  "kernelspec": {
   "display_name": "Python 3",
   "language": "python",
   "name": "python3"
  },
  "language_info": {
   "codemirror_mode": {
    "name": "ipython",
    "version": 3
   },
   "file_extension": ".py",
   "mimetype": "text/x-python",
   "name": "python",
   "nbconvert_exporter": "python",
   "pygments_lexer": "ipython3",
   "version": "3.8.5"
  }
 },
 "nbformat": 4,
 "nbformat_minor": 4
}
