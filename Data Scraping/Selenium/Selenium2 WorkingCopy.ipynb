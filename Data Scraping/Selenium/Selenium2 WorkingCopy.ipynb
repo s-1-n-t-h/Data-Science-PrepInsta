{
 "cells": [
  {
   "cell_type": "code",
   "execution_count": 3,
   "metadata": {},
   "outputs": [],
   "source": [
    "from selenium import webdriver"
   ]
  },
  {
   "cell_type": "code",
   "execution_count": 4,
   "metadata": {},
   "outputs": [],
   "source": [
    "from selenium.webdriver.chrome.service import Service\n",
    "from webdriver_manager.chrome import ChromeDriverManager\n",
    "\n",
    "driver = webdriver.Chrome(service=Service(ChromeDriverManager().install()))\n",
    "driver.get(\"https://www.scrapethissite.com/pages/frames/\")"
   ]
  },
  {
   "cell_type": "code",
   "execution_count": 64,
   "metadata": {},
   "outputs": [],
   "source": [
    "# find_element(By.ID, \"id\")\n",
    "# find_element(By.NAME, \"name\")\n",
    "# find_element(By.XPATH, \"xpath\") (Will discover later in lectures)\n",
    "# find_element(By.LINK_TEXT, \"link text\")\n",
    "# find_element(By.PARTIAL_LINK_TEXT, \"partial link text\")\n",
    "# find_element(By.TAG_NAME, \"tag name\")\n",
    "# find_element(By.CLASS_NAME, \"class name\")\n",
    "# find_element(By.CSS_SELECTOR, \"css selector\") (Will discover later in lectures)"
   ]
  },
  {
   "cell_type": "code",
   "execution_count": 5,
   "metadata": {},
   "outputs": [],
   "source": [
    "from selenium.webdriver.common.by import By\n",
    "link_btn = driver.find_element(By.LINK_TEXT, \"FAQ\")\n",
    "link_btn.click()"
   ]
  },
  {
   "cell_type": "code",
   "execution_count": 6,
   "metadata": {},
   "outputs": [],
   "source": [
    "from selenium.webdriver.common.by import By\n",
    "link_btn = driver.find_element(By.PARTIAL_LINK_TEXT, \"Scrape This\")\n",
    "link_btn.click()"
   ]
  },
  {
   "cell_type": "code",
   "execution_count": 8,
   "metadata": {},
   "outputs": [
    {
     "data": {
      "text/plain": [
       "<selenium.webdriver.remote.webelement.WebElement (session=\"0349b977bf87f5580bee4f80d12808a0\", element=\"d3272fd0-7a56-4c5c-a29d-43fdb87ac9be\")>"
      ]
     },
     "execution_count": 8,
     "metadata": {},
     "output_type": "execute_result"
    }
   ],
   "source": [
    "link_btn = driver.find_element(By.CLASS_NAME, \"nav-link\")\n",
    "link_btn"
   ]
  },
  {
   "cell_type": "code",
   "execution_count": 9,
   "metadata": {},
   "outputs": [
    {
     "data": {
      "text/plain": [
       "[<selenium.webdriver.remote.webelement.WebElement (session=\"0349b977bf87f5580bee4f80d12808a0\", element=\"d3272fd0-7a56-4c5c-a29d-43fdb87ac9be\")>,\n",
       " <selenium.webdriver.remote.webelement.WebElement (session=\"0349b977bf87f5580bee4f80d12808a0\", element=\"80a17a18-093b-4cbb-857e-cbda73b68082\")>,\n",
       " <selenium.webdriver.remote.webelement.WebElement (session=\"0349b977bf87f5580bee4f80d12808a0\", element=\"56b41d76-eb21-4d5f-b7cd-de8b1dbe3e68\")>,\n",
       " <selenium.webdriver.remote.webelement.WebElement (session=\"0349b977bf87f5580bee4f80d12808a0\", element=\"881e33f5-d974-47a9-b8f8-0c4f39016d33\")>,\n",
       " <selenium.webdriver.remote.webelement.WebElement (session=\"0349b977bf87f5580bee4f80d12808a0\", element=\"a1907bfa-d5c5-4fe0-a17c-8331d86b52c4\")>]"
      ]
     },
     "execution_count": 9,
     "metadata": {},
     "output_type": "execute_result"
    }
   ],
   "source": [
    "link_btn = driver.find_elements(By.CLASS_NAME, \"nav-link\")\n",
    "link_btn"
   ]
  },
  {
   "cell_type": "code",
   "execution_count": 11,
   "metadata": {},
   "outputs": [
    {
     "name": "stdout",
     "output_type": "stream",
     "text": [
      "Scrape This Site\n",
      "Sandbox\n",
      "Lessons\n",
      "FAQ\n",
      "Login\n"
     ]
    }
   ],
   "source": [
    "for item in link_btn:\n",
    "    print(item.text)"
   ]
  },
  {
   "cell_type": "code",
   "execution_count": 12,
   "metadata": {},
   "outputs": [],
   "source": [
    "driver.get('https://prepinstaprime.com/')"
   ]
  },
  {
   "cell_type": "code",
   "execution_count": 13,
   "metadata": {},
   "outputs": [
    {
     "data": {
      "text/plain": [
       "[<selenium.webdriver.remote.webelement.WebElement (session=\"0349b977bf87f5580bee4f80d12808a0\", element=\"fd35cce7-5c87-49c5-a4b3-68542c8da3ce\")>,\n",
       " <selenium.webdriver.remote.webelement.WebElement (session=\"0349b977bf87f5580bee4f80d12808a0\", element=\"0aa0457a-8a6f-4f8f-a704-774af2574ebd\")>,\n",
       " <selenium.webdriver.remote.webelement.WebElement (session=\"0349b977bf87f5580bee4f80d12808a0\", element=\"45743313-abc6-43f7-bf84-486c9c54c01b\")>,\n",
       " <selenium.webdriver.remote.webelement.WebElement (session=\"0349b977bf87f5580bee4f80d12808a0\", element=\"b54cd449-4fc3-41d7-94ca-f98590c8d3e7\")>,\n",
       " <selenium.webdriver.remote.webelement.WebElement (session=\"0349b977bf87f5580bee4f80d12808a0\", element=\"e3fbcf21-8f78-4f4c-8c51-a577b9a93731\")>,\n",
       " <selenium.webdriver.remote.webelement.WebElement (session=\"0349b977bf87f5580bee4f80d12808a0\", element=\"58b1e1a5-3fda-4669-99b3-93e906179ae5\")>,\n",
       " <selenium.webdriver.remote.webelement.WebElement (session=\"0349b977bf87f5580bee4f80d12808a0\", element=\"bd2ba227-c30e-4f1c-99e5-e44420f00bdf\")>,\n",
       " <selenium.webdriver.remote.webelement.WebElement (session=\"0349b977bf87f5580bee4f80d12808a0\", element=\"dde434d4-d2cb-4771-bbe4-69db0335a284\")>,\n",
       " <selenium.webdriver.remote.webelement.WebElement (session=\"0349b977bf87f5580bee4f80d12808a0\", element=\"55834acc-c57e-409a-9bf2-f635eb9a24cf\")>,\n",
       " <selenium.webdriver.remote.webelement.WebElement (session=\"0349b977bf87f5580bee4f80d12808a0\", element=\"b0497df4-5334-4f62-be03-040567912d3c\")>,\n",
       " <selenium.webdriver.remote.webelement.WebElement (session=\"0349b977bf87f5580bee4f80d12808a0\", element=\"b37f939e-de85-4a8e-bf65-fe3cac370b28\")>,\n",
       " <selenium.webdriver.remote.webelement.WebElement (session=\"0349b977bf87f5580bee4f80d12808a0\", element=\"621b6854-6a72-402a-b350-f3408bffec6c\")>,\n",
       " <selenium.webdriver.remote.webelement.WebElement (session=\"0349b977bf87f5580bee4f80d12808a0\", element=\"181895f8-7b15-4880-80d9-36c282a7b0b7\")>,\n",
       " <selenium.webdriver.remote.webelement.WebElement (session=\"0349b977bf87f5580bee4f80d12808a0\", element=\"ca941201-88a1-4bb3-a20d-13fbb76004ed\")>,\n",
       " <selenium.webdriver.remote.webelement.WebElement (session=\"0349b977bf87f5580bee4f80d12808a0\", element=\"c3a50181-89f3-48ec-8a62-7ddd9dad559a\")>,\n",
       " <selenium.webdriver.remote.webelement.WebElement (session=\"0349b977bf87f5580bee4f80d12808a0\", element=\"a3da8ea9-a901-4ff5-a707-d92a840e47a6\")>,\n",
       " <selenium.webdriver.remote.webelement.WebElement (session=\"0349b977bf87f5580bee4f80d12808a0\", element=\"12b53c8f-74fe-42bc-b73c-df06ea19f590\")>,\n",
       " <selenium.webdriver.remote.webelement.WebElement (session=\"0349b977bf87f5580bee4f80d12808a0\", element=\"e7b093da-3f3b-42dd-8fd3-a3833eb1e3d7\")>,\n",
       " <selenium.webdriver.remote.webelement.WebElement (session=\"0349b977bf87f5580bee4f80d12808a0\", element=\"290e718c-255a-4ee0-b113-b728ffcdd7f9\")>,\n",
       " <selenium.webdriver.remote.webelement.WebElement (session=\"0349b977bf87f5580bee4f80d12808a0\", element=\"98f5e020-85e6-4a2e-872a-092a3c8c05b8\")>,\n",
       " <selenium.webdriver.remote.webelement.WebElement (session=\"0349b977bf87f5580bee4f80d12808a0\", element=\"05d60975-b6ef-4f1b-8b92-cef15d25cbd0\")>,\n",
       " <selenium.webdriver.remote.webelement.WebElement (session=\"0349b977bf87f5580bee4f80d12808a0\", element=\"9a3dd515-463f-4c70-8c7f-d4ec060b87b1\")>,\n",
       " <selenium.webdriver.remote.webelement.WebElement (session=\"0349b977bf87f5580bee4f80d12808a0\", element=\"6095d61c-8341-4114-97c0-dfcd8ca6b295\")>,\n",
       " <selenium.webdriver.remote.webelement.WebElement (session=\"0349b977bf87f5580bee4f80d12808a0\", element=\"59d98ef6-3741-4afa-8e18-4c5d57a4e61e\")>,\n",
       " <selenium.webdriver.remote.webelement.WebElement (session=\"0349b977bf87f5580bee4f80d12808a0\", element=\"901ed019-25de-437c-9c04-c01294817ed4\")>,\n",
       " <selenium.webdriver.remote.webelement.WebElement (session=\"0349b977bf87f5580bee4f80d12808a0\", element=\"1bbb9fcf-7256-4ad2-b4c5-381a645099c5\")>,\n",
       " <selenium.webdriver.remote.webelement.WebElement (session=\"0349b977bf87f5580bee4f80d12808a0\", element=\"7f5ab9bd-5876-4bad-9a33-0207979532b6\")>,\n",
       " <selenium.webdriver.remote.webelement.WebElement (session=\"0349b977bf87f5580bee4f80d12808a0\", element=\"3a1e61a8-adca-40cd-9ee9-a8ea163250d1\")>,\n",
       " <selenium.webdriver.remote.webelement.WebElement (session=\"0349b977bf87f5580bee4f80d12808a0\", element=\"fb7cc822-edd4-4c8a-9fe9-d695eb5dfb84\")>]"
      ]
     },
     "execution_count": 13,
     "metadata": {},
     "output_type": "execute_result"
    }
   ],
   "source": [
    "link_btns = driver.find_elements(By.CLASS_NAME, \"nav-link\")\n",
    "link_btns"
   ]
  },
  {
   "cell_type": "code",
   "execution_count": 14,
   "metadata": {},
   "outputs": [
    {
     "name": "stdout",
     "output_type": "stream",
     "text": [
      "\n",
      "\n",
      "\n",
      "\n",
      "\n",
      "\n",
      "\n",
      "\n",
      "Purchase\n",
      "Course List\n",
      "Demo Videos\n",
      "Placement Statistics\n",
      "\n",
      "+91-8448440710\n",
      "Login\n",
      "Platforms\n",
      "Companies (Service)\n",
      "Companies (Products)\n",
      "Languages - Coding\n",
      "Subjects\n",
      "Skills\n",
      "Projects\n",
      "Aptitude\n",
      "Interview Plus\n",
      "Interview Preperation ( Service Based )\n",
      "Interview Preperation ( Product Based )\n",
      "PrepInsta\n",
      "TCS\n",
      "AON CoCubes\n"
     ]
    }
   ],
   "source": [
    "for item in link_btns:\n",
    "    print(item.text)"
   ]
  },
  {
   "cell_type": "code",
   "execution_count": 15,
   "metadata": {},
   "outputs": [
    {
     "data": {
      "text/plain": [
       "[<selenium.webdriver.remote.webelement.WebElement (session=\"0349b977bf87f5580bee4f80d12808a0\", element=\"7b57d11a-6e8b-498e-99b4-25d2c508f5d7\")>,\n",
       " <selenium.webdriver.remote.webelement.WebElement (session=\"0349b977bf87f5580bee4f80d12808a0\", element=\"06b59426-58c0-4bcb-acbb-1b20ead100aa\")>,\n",
       " <selenium.webdriver.remote.webelement.WebElement (session=\"0349b977bf87f5580bee4f80d12808a0\", element=\"1c5e3e56-c236-4718-965d-d2cefe03a92a\")>,\n",
       " <selenium.webdriver.remote.webelement.WebElement (session=\"0349b977bf87f5580bee4f80d12808a0\", element=\"7416a21b-c0c3-48f2-90e3-9b1cfe55e270\")>,\n",
       " <selenium.webdriver.remote.webelement.WebElement (session=\"0349b977bf87f5580bee4f80d12808a0\", element=\"99ebaec6-c839-4570-9232-9bb7072d3983\")>,\n",
       " <selenium.webdriver.remote.webelement.WebElement (session=\"0349b977bf87f5580bee4f80d12808a0\", element=\"001d729d-c239-4e58-be6b-eec72f45696b\")>,\n",
       " <selenium.webdriver.remote.webelement.WebElement (session=\"0349b977bf87f5580bee4f80d12808a0\", element=\"a6c28565-2959-4347-ac0d-e15a486019aa\")>,\n",
       " <selenium.webdriver.remote.webelement.WebElement (session=\"0349b977bf87f5580bee4f80d12808a0\", element=\"8d93e34e-080f-4d16-8756-1695e7cdf8e0\")>,\n",
       " <selenium.webdriver.remote.webelement.WebElement (session=\"0349b977bf87f5580bee4f80d12808a0\", element=\"ea022910-f8b5-4123-a3ef-50938674f57d\")>,\n",
       " <selenium.webdriver.remote.webelement.WebElement (session=\"0349b977bf87f5580bee4f80d12808a0\", element=\"bd44c5af-9f09-4ab4-a41e-3da4ef71d4dd\")>,\n",
       " <selenium.webdriver.remote.webelement.WebElement (session=\"0349b977bf87f5580bee4f80d12808a0\", element=\"dd9bcc32-793c-4d5f-8475-6721f7d065d9\")>,\n",
       " <selenium.webdriver.remote.webelement.WebElement (session=\"0349b977bf87f5580bee4f80d12808a0\", element=\"487473a1-2ed8-4325-9414-b7d598677912\")>,\n",
       " <selenium.webdriver.remote.webelement.WebElement (session=\"0349b977bf87f5580bee4f80d12808a0\", element=\"f081122d-a421-4575-bd68-5420df78708e\")>,\n",
       " <selenium.webdriver.remote.webelement.WebElement (session=\"0349b977bf87f5580bee4f80d12808a0\", element=\"47d08653-749c-40bf-aee9-18d85a4d0a72\")>,\n",
       " <selenium.webdriver.remote.webelement.WebElement (session=\"0349b977bf87f5580bee4f80d12808a0\", element=\"191a8fe9-2dcb-4265-afb0-00ad23614046\")>,\n",
       " <selenium.webdriver.remote.webelement.WebElement (session=\"0349b977bf87f5580bee4f80d12808a0\", element=\"332660d7-2657-4b7a-875e-10660809a39a\")>,\n",
       " <selenium.webdriver.remote.webelement.WebElement (session=\"0349b977bf87f5580bee4f80d12808a0\", element=\"c12b0431-49cc-4b5d-b198-a66def451edb\")>,\n",
       " <selenium.webdriver.remote.webelement.WebElement (session=\"0349b977bf87f5580bee4f80d12808a0\", element=\"b035ff41-2b3c-44ad-af18-e3e8c3f9b958\")>,\n",
       " <selenium.webdriver.remote.webelement.WebElement (session=\"0349b977bf87f5580bee4f80d12808a0\", element=\"c471c4b0-7940-4931-bc19-795188649dd8\")>,\n",
       " <selenium.webdriver.remote.webelement.WebElement (session=\"0349b977bf87f5580bee4f80d12808a0\", element=\"299391f1-ad98-4a46-8e5a-9be863e18133\")>,\n",
       " <selenium.webdriver.remote.webelement.WebElement (session=\"0349b977bf87f5580bee4f80d12808a0\", element=\"dd1a88c9-2323-4c9d-9e22-19b567f7cf17\")>,\n",
       " <selenium.webdriver.remote.webelement.WebElement (session=\"0349b977bf87f5580bee4f80d12808a0\", element=\"dcd5b52c-b79f-45d6-a311-3cdd62ea3356\")>,\n",
       " <selenium.webdriver.remote.webelement.WebElement (session=\"0349b977bf87f5580bee4f80d12808a0\", element=\"6a97f76a-68e4-4461-860c-4313d0ea7a1c\")>,\n",
       " <selenium.webdriver.remote.webelement.WebElement (session=\"0349b977bf87f5580bee4f80d12808a0\", element=\"f8bfd333-de8f-4b32-80d1-9cfb4e992f16\")>,\n",
       " <selenium.webdriver.remote.webelement.WebElement (session=\"0349b977bf87f5580bee4f80d12808a0\", element=\"dfc1d885-e875-47a2-a3b1-8eed2eb7bb0c\")>,\n",
       " <selenium.webdriver.remote.webelement.WebElement (session=\"0349b977bf87f5580bee4f80d12808a0\", element=\"664c8db4-6ab3-42ae-bb2a-e5e0376508cc\")>,\n",
       " <selenium.webdriver.remote.webelement.WebElement (session=\"0349b977bf87f5580bee4f80d12808a0\", element=\"823303a0-81ae-4deb-a05c-b0fa97b6dc30\")>,\n",
       " <selenium.webdriver.remote.webelement.WebElement (session=\"0349b977bf87f5580bee4f80d12808a0\", element=\"e43b17aa-e0e7-46ac-8746-f789043689a3\")>,\n",
       " <selenium.webdriver.remote.webelement.WebElement (session=\"0349b977bf87f5580bee4f80d12808a0\", element=\"673674a6-0514-477c-b50c-e49b88f68a02\")>,\n",
       " <selenium.webdriver.remote.webelement.WebElement (session=\"0349b977bf87f5580bee4f80d12808a0\", element=\"59b4b76e-aad0-4d76-8c4c-76ba5805b5a4\")>,\n",
       " <selenium.webdriver.remote.webelement.WebElement (session=\"0349b977bf87f5580bee4f80d12808a0\", element=\"54b392b7-2db8-4349-ba91-b9baa8c37be6\")>,\n",
       " <selenium.webdriver.remote.webelement.WebElement (session=\"0349b977bf87f5580bee4f80d12808a0\", element=\"15b6be8e-c0b5-4d3e-a8fd-71592205a6e1\")>,\n",
       " <selenium.webdriver.remote.webelement.WebElement (session=\"0349b977bf87f5580bee4f80d12808a0\", element=\"10a1f67d-0fd5-400b-83f2-ed757e578ceb\")>,\n",
       " <selenium.webdriver.remote.webelement.WebElement (session=\"0349b977bf87f5580bee4f80d12808a0\", element=\"3f88d5bc-01c2-4c30-967b-dee714c3fc96\")>,\n",
       " <selenium.webdriver.remote.webelement.WebElement (session=\"0349b977bf87f5580bee4f80d12808a0\", element=\"a951e014-63a4-41d8-8e38-2e18dd9f54e5\")>,\n",
       " <selenium.webdriver.remote.webelement.WebElement (session=\"0349b977bf87f5580bee4f80d12808a0\", element=\"c8d4f0af-134a-4ccc-8d74-44b85bf34ac4\")>,\n",
       " <selenium.webdriver.remote.webelement.WebElement (session=\"0349b977bf87f5580bee4f80d12808a0\", element=\"d7f0030f-824b-4a78-ab87-e847bb444909\")>,\n",
       " <selenium.webdriver.remote.webelement.WebElement (session=\"0349b977bf87f5580bee4f80d12808a0\", element=\"e1f68e30-7188-497c-88bb-03f6c1a388c0\")>,\n",
       " <selenium.webdriver.remote.webelement.WebElement (session=\"0349b977bf87f5580bee4f80d12808a0\", element=\"a1b8ebdc-e028-4cc9-81d8-eaf6de2cb373\")>,\n",
       " <selenium.webdriver.remote.webelement.WebElement (session=\"0349b977bf87f5580bee4f80d12808a0\", element=\"f729954f-511a-4eb8-bf62-dc3883046287\")>,\n",
       " <selenium.webdriver.remote.webelement.WebElement (session=\"0349b977bf87f5580bee4f80d12808a0\", element=\"c4d95f3d-f383-401c-a0a4-57403b6ecb2e\")>,\n",
       " <selenium.webdriver.remote.webelement.WebElement (session=\"0349b977bf87f5580bee4f80d12808a0\", element=\"a8853d54-62d4-4e86-8f58-d504d48dccdd\")>,\n",
       " <selenium.webdriver.remote.webelement.WebElement (session=\"0349b977bf87f5580bee4f80d12808a0\", element=\"90fccd91-b9cd-40d2-8386-d035035f0216\")>,\n",
       " <selenium.webdriver.remote.webelement.WebElement (session=\"0349b977bf87f5580bee4f80d12808a0\", element=\"e9c5e278-fc1d-4914-a356-5e5885b223b4\")>,\n",
       " <selenium.webdriver.remote.webelement.WebElement (session=\"0349b977bf87f5580bee4f80d12808a0\", element=\"2afd6539-cfad-4504-b8b9-cedfbd8a784c\")>,\n",
       " <selenium.webdriver.remote.webelement.WebElement (session=\"0349b977bf87f5580bee4f80d12808a0\", element=\"307522a9-d31d-4511-a79a-ff976b767b4a\")>,\n",
       " <selenium.webdriver.remote.webelement.WebElement (session=\"0349b977bf87f5580bee4f80d12808a0\", element=\"a7e878e7-d648-4fa9-b02b-ace3f1c96478\")>,\n",
       " <selenium.webdriver.remote.webelement.WebElement (session=\"0349b977bf87f5580bee4f80d12808a0\", element=\"6ba76a2d-1fbd-42f7-861a-dde2d1de032e\")>,\n",
       " <selenium.webdriver.remote.webelement.WebElement (session=\"0349b977bf87f5580bee4f80d12808a0\", element=\"323ea278-1557-49d1-997e-a018c18ac605\")>,\n",
       " <selenium.webdriver.remote.webelement.WebElement (session=\"0349b977bf87f5580bee4f80d12808a0\", element=\"274bfeeb-7980-4a0c-8bbc-339185d978fa\")>,\n",
       " <selenium.webdriver.remote.webelement.WebElement (session=\"0349b977bf87f5580bee4f80d12808a0\", element=\"e904c6c0-1362-47f5-a75f-03491e237e27\")>,\n",
       " <selenium.webdriver.remote.webelement.WebElement (session=\"0349b977bf87f5580bee4f80d12808a0\", element=\"4cdad2ef-8dd7-4466-b125-adcd4039a54c\")>,\n",
       " <selenium.webdriver.remote.webelement.WebElement (session=\"0349b977bf87f5580bee4f80d12808a0\", element=\"53f21356-670c-44f5-9aef-d1ce0993857d\")>,\n",
       " <selenium.webdriver.remote.webelement.WebElement (session=\"0349b977bf87f5580bee4f80d12808a0\", element=\"2a3dd629-b4b0-4908-8f30-07ca6eab3280\")>,\n",
       " <selenium.webdriver.remote.webelement.WebElement (session=\"0349b977bf87f5580bee4f80d12808a0\", element=\"4efdc6b6-af22-4846-b70a-f5a6c3439624\")>,\n",
       " <selenium.webdriver.remote.webelement.WebElement (session=\"0349b977bf87f5580bee4f80d12808a0\", element=\"5bea4060-69bc-480d-ba99-d3cd5c0b4c99\")>,\n",
       " <selenium.webdriver.remote.webelement.WebElement (session=\"0349b977bf87f5580bee4f80d12808a0\", element=\"687a7460-7cb0-4422-8658-c56fbd2384d4\")>,\n",
       " <selenium.webdriver.remote.webelement.WebElement (session=\"0349b977bf87f5580bee4f80d12808a0\", element=\"62d2e547-9624-418f-887c-5ab0107ba221\")>,\n",
       " <selenium.webdriver.remote.webelement.WebElement (session=\"0349b977bf87f5580bee4f80d12808a0\", element=\"732be590-f1d9-436d-a892-1496f9e8757a\")>,\n",
       " <selenium.webdriver.remote.webelement.WebElement (session=\"0349b977bf87f5580bee4f80d12808a0\", element=\"891c1119-11c1-46a8-8ff8-aeef2a6c0522\")>,\n",
       " <selenium.webdriver.remote.webelement.WebElement (session=\"0349b977bf87f5580bee4f80d12808a0\", element=\"101a245a-1c97-458d-b466-132a2c819b55\")>,\n",
       " <selenium.webdriver.remote.webelement.WebElement (session=\"0349b977bf87f5580bee4f80d12808a0\", element=\"eeaa6641-c1ea-4239-9465-39a6c34bea1f\")>,\n",
       " <selenium.webdriver.remote.webelement.WebElement (session=\"0349b977bf87f5580bee4f80d12808a0\", element=\"3b4f5ea9-33ce-4e13-8722-217460146dea\")>,\n",
       " <selenium.webdriver.remote.webelement.WebElement (session=\"0349b977bf87f5580bee4f80d12808a0\", element=\"d235c300-7320-464c-899c-712944829dd6\")>,\n",
       " <selenium.webdriver.remote.webelement.WebElement (session=\"0349b977bf87f5580bee4f80d12808a0\", element=\"7a0229a4-1f20-4f58-9505-c84c5ae146a6\")>,\n",
       " <selenium.webdriver.remote.webelement.WebElement (session=\"0349b977bf87f5580bee4f80d12808a0\", element=\"fc94b48a-1daa-47d7-9d6c-5f93759aac45\")>,\n",
       " <selenium.webdriver.remote.webelement.WebElement (session=\"0349b977bf87f5580bee4f80d12808a0\", element=\"163083ab-8b21-4fdd-9280-4657f3099f13\")>,\n",
       " <selenium.webdriver.remote.webelement.WebElement (session=\"0349b977bf87f5580bee4f80d12808a0\", element=\"c346998b-14e8-47e9-ad8f-2d008d2729aa\")>,\n",
       " <selenium.webdriver.remote.webelement.WebElement (session=\"0349b977bf87f5580bee4f80d12808a0\", element=\"4cac6801-f62c-4e0f-98a3-e853b0783a92\")>,\n",
       " <selenium.webdriver.remote.webelement.WebElement (session=\"0349b977bf87f5580bee4f80d12808a0\", element=\"66c55da6-9d33-49fb-844b-807acc8c28a1\")>,\n",
       " <selenium.webdriver.remote.webelement.WebElement (session=\"0349b977bf87f5580bee4f80d12808a0\", element=\"58a0812c-99f2-46b4-885d-ce25921b5501\")>,\n",
       " <selenium.webdriver.remote.webelement.WebElement (session=\"0349b977bf87f5580bee4f80d12808a0\", element=\"971f487f-0837-4ba6-982b-09dc69142bbe\")>,\n",
       " <selenium.webdriver.remote.webelement.WebElement (session=\"0349b977bf87f5580bee4f80d12808a0\", element=\"6203a7c6-c060-44b9-adfe-0a6728ead8f0\")>,\n",
       " <selenium.webdriver.remote.webelement.WebElement (session=\"0349b977bf87f5580bee4f80d12808a0\", element=\"54ee666a-7d23-4415-b5f5-bbc5ee33297b\")>,\n",
       " <selenium.webdriver.remote.webelement.WebElement (session=\"0349b977bf87f5580bee4f80d12808a0\", element=\"6854c3ce-fc99-4363-acc6-2a312f55fa26\")>,\n",
       " <selenium.webdriver.remote.webelement.WebElement (session=\"0349b977bf87f5580bee4f80d12808a0\", element=\"a390360d-1b20-40f8-af07-f22a4641cb0c\")>,\n",
       " <selenium.webdriver.remote.webelement.WebElement (session=\"0349b977bf87f5580bee4f80d12808a0\", element=\"11fd2b6f-3976-4b64-9727-afefda84ad79\")>,\n",
       " <selenium.webdriver.remote.webelement.WebElement (session=\"0349b977bf87f5580bee4f80d12808a0\", element=\"0b3bb86e-c2bb-489b-824d-ad4f5ea52473\")>,\n",
       " <selenium.webdriver.remote.webelement.WebElement (session=\"0349b977bf87f5580bee4f80d12808a0\", element=\"ba0696f3-79cf-42e0-9e19-362c5165aade\")>,\n",
       " <selenium.webdriver.remote.webelement.WebElement (session=\"0349b977bf87f5580bee4f80d12808a0\", element=\"26e9e8ce-4265-46d1-b6cc-d4815eddc6ff\")>,\n",
       " <selenium.webdriver.remote.webelement.WebElement (session=\"0349b977bf87f5580bee4f80d12808a0\", element=\"f3ca7bce-4baa-4944-8742-de5006c1413a\")>,\n",
       " <selenium.webdriver.remote.webelement.WebElement (session=\"0349b977bf87f5580bee4f80d12808a0\", element=\"922c1ece-0cc4-4769-9c58-32e6117263ca\")>,\n",
       " <selenium.webdriver.remote.webelement.WebElement (session=\"0349b977bf87f5580bee4f80d12808a0\", element=\"8e615a59-e67c-4189-b4f4-f2a950b76367\")>,\n",
       " <selenium.webdriver.remote.webelement.WebElement (session=\"0349b977bf87f5580bee4f80d12808a0\", element=\"e51cf878-5602-43b1-bb0f-d79a03c3c474\")>,\n",
       " <selenium.webdriver.remote.webelement.WebElement (session=\"0349b977bf87f5580bee4f80d12808a0\", element=\"c9cc7d9e-4de3-47a9-8835-1849b5711f5e\")>,\n",
       " <selenium.webdriver.remote.webelement.WebElement (session=\"0349b977bf87f5580bee4f80d12808a0\", element=\"096fb9ad-9b71-4ec6-aa88-8c7cea7d2317\")>,\n",
       " <selenium.webdriver.remote.webelement.WebElement (session=\"0349b977bf87f5580bee4f80d12808a0\", element=\"b443c178-92b6-4877-8c2b-9908d47363ca\")>,\n",
       " <selenium.webdriver.remote.webelement.WebElement (session=\"0349b977bf87f5580bee4f80d12808a0\", element=\"693e64ce-5386-41aa-84df-51b96f755cbd\")>,\n",
       " <selenium.webdriver.remote.webelement.WebElement (session=\"0349b977bf87f5580bee4f80d12808a0\", element=\"90bc3256-0ade-45ea-b24f-fbaa00b285f5\")>,\n",
       " <selenium.webdriver.remote.webelement.WebElement (session=\"0349b977bf87f5580bee4f80d12808a0\", element=\"7c02819d-a3a3-4847-9316-40c99e667978\")>,\n",
       " <selenium.webdriver.remote.webelement.WebElement (session=\"0349b977bf87f5580bee4f80d12808a0\", element=\"c43d6ef1-4d6c-43b9-a10c-78cc4bdca6b9\")>,\n",
       " <selenium.webdriver.remote.webelement.WebElement (session=\"0349b977bf87f5580bee4f80d12808a0\", element=\"97aa4485-8982-4d08-908d-698f631700c3\")>,\n",
       " <selenium.webdriver.remote.webelement.WebElement (session=\"0349b977bf87f5580bee4f80d12808a0\", element=\"f4e9825f-d9b5-4a28-ad66-240285cfb184\")>,\n",
       " <selenium.webdriver.remote.webelement.WebElement (session=\"0349b977bf87f5580bee4f80d12808a0\", element=\"40fe61f8-26f8-4349-8398-61ceab81d84d\")>,\n",
       " <selenium.webdriver.remote.webelement.WebElement (session=\"0349b977bf87f5580bee4f80d12808a0\", element=\"a2e0c077-e07d-4e1b-88fe-53ce5d1f35f3\")>,\n",
       " <selenium.webdriver.remote.webelement.WebElement (session=\"0349b977bf87f5580bee4f80d12808a0\", element=\"e7279277-0c70-4d91-9a4a-a6997e502b07\")>,\n",
       " <selenium.webdriver.remote.webelement.WebElement (session=\"0349b977bf87f5580bee4f80d12808a0\", element=\"c8950da8-512c-4216-8f6b-ee0e2399a037\")>,\n",
       " <selenium.webdriver.remote.webelement.WebElement (session=\"0349b977bf87f5580bee4f80d12808a0\", element=\"903b4d5d-e19b-4c7f-b782-bac2d85f7338\")>,\n",
       " <selenium.webdriver.remote.webelement.WebElement (session=\"0349b977bf87f5580bee4f80d12808a0\", element=\"36596152-f261-4998-820e-f85c822f3a69\")>,\n",
       " <selenium.webdriver.remote.webelement.WebElement (session=\"0349b977bf87f5580bee4f80d12808a0\", element=\"b19eecf1-3c85-48cd-9bea-d9480ab31a44\")>,\n",
       " <selenium.webdriver.remote.webelement.WebElement (session=\"0349b977bf87f5580bee4f80d12808a0\", element=\"bdbfeb1d-85a0-49df-a255-13bbf6be16a3\")>,\n",
       " <selenium.webdriver.remote.webelement.WebElement (session=\"0349b977bf87f5580bee4f80d12808a0\", element=\"499d54af-b1f7-46df-afde-4382a00e9582\")>,\n",
       " <selenium.webdriver.remote.webelement.WebElement (session=\"0349b977bf87f5580bee4f80d12808a0\", element=\"d62dd7bb-a5e4-4aab-9d41-5958bed3deac\")>,\n",
       " <selenium.webdriver.remote.webelement.WebElement (session=\"0349b977bf87f5580bee4f80d12808a0\", element=\"7d0dc8eb-1a6c-4799-873b-9ca956e718e3\")>,\n",
       " <selenium.webdriver.remote.webelement.WebElement (session=\"0349b977bf87f5580bee4f80d12808a0\", element=\"a3d984db-2cfe-4a62-800a-5774ad2c64b1\")>,\n",
       " <selenium.webdriver.remote.webelement.WebElement (session=\"0349b977bf87f5580bee4f80d12808a0\", element=\"eec0fc04-d139-49d5-b994-91b7410acbcf\")>,\n",
       " <selenium.webdriver.remote.webelement.WebElement (session=\"0349b977bf87f5580bee4f80d12808a0\", element=\"7fd8c678-47da-4f54-9fb4-98b7f7b6a05b\")>,\n",
       " <selenium.webdriver.remote.webelement.WebElement (session=\"0349b977bf87f5580bee4f80d12808a0\", element=\"fe2427eb-85f6-41fe-9d9a-97e27716e6d9\")>,\n",
       " <selenium.webdriver.remote.webelement.WebElement (session=\"0349b977bf87f5580bee4f80d12808a0\", element=\"55a8915e-3608-4738-9a87-9f921b22391b\")>,\n",
       " <selenium.webdriver.remote.webelement.WebElement (session=\"0349b977bf87f5580bee4f80d12808a0\", element=\"a1258c40-2417-4757-8334-74266a3f1357\")>,\n",
       " <selenium.webdriver.remote.webelement.WebElement (session=\"0349b977bf87f5580bee4f80d12808a0\", element=\"6ae67d78-02ca-4c02-9615-88ff4006ccfd\")>,\n",
       " <selenium.webdriver.remote.webelement.WebElement (session=\"0349b977bf87f5580bee4f80d12808a0\", element=\"6014d4b5-303b-477e-977f-f75562b77e02\")>,\n",
       " <selenium.webdriver.remote.webelement.WebElement (session=\"0349b977bf87f5580bee4f80d12808a0\", element=\"4d2b3897-a0e4-4404-8b97-07b1d1b856ae\")>,\n",
       " <selenium.webdriver.remote.webelement.WebElement (session=\"0349b977bf87f5580bee4f80d12808a0\", element=\"be3a9d6a-6b4f-4926-bc48-98511aa97554\")>,\n",
       " <selenium.webdriver.remote.webelement.WebElement (session=\"0349b977bf87f5580bee4f80d12808a0\", element=\"cf26ae23-9c27-4755-a72d-9a82a470c1a6\")>,\n",
       " <selenium.webdriver.remote.webelement.WebElement (session=\"0349b977bf87f5580bee4f80d12808a0\", element=\"5363080e-80cb-4361-927a-2991adac9aa5\")>,\n",
       " <selenium.webdriver.remote.webelement.WebElement (session=\"0349b977bf87f5580bee4f80d12808a0\", element=\"d6d0bc3f-9d7e-4c15-88d5-5b1451925c4b\")>,\n",
       " <selenium.webdriver.remote.webelement.WebElement (session=\"0349b977bf87f5580bee4f80d12808a0\", element=\"22424926-aa74-459d-a972-88eda8a91342\")>,\n",
       " <selenium.webdriver.remote.webelement.WebElement (session=\"0349b977bf87f5580bee4f80d12808a0\", element=\"8c684757-5da3-440f-a8f6-9e0f5a077c5a\")>,\n",
       " <selenium.webdriver.remote.webelement.WebElement (session=\"0349b977bf87f5580bee4f80d12808a0\", element=\"a771a2a0-6890-478f-ac4a-98623a7a0285\")>,\n",
       " <selenium.webdriver.remote.webelement.WebElement (session=\"0349b977bf87f5580bee4f80d12808a0\", element=\"7f2b739c-3809-4f87-965d-1c238c3d124b\")>,\n",
       " <selenium.webdriver.remote.webelement.WebElement (session=\"0349b977bf87f5580bee4f80d12808a0\", element=\"c9e31f16-945f-41df-ac5c-de343959c4a5\")>,\n",
       " <selenium.webdriver.remote.webelement.WebElement (session=\"0349b977bf87f5580bee4f80d12808a0\", element=\"cce0e0c6-5d18-4995-ac64-26a267b226d2\")>,\n",
       " <selenium.webdriver.remote.webelement.WebElement (session=\"0349b977bf87f5580bee4f80d12808a0\", element=\"2a038a3e-2341-4a4b-afc9-4a8ed43d731b\")>,\n",
       " <selenium.webdriver.remote.webelement.WebElement (session=\"0349b977bf87f5580bee4f80d12808a0\", element=\"5e2a55e5-2d4e-4c68-ac0b-008455dc5373\")>,\n",
       " <selenium.webdriver.remote.webelement.WebElement (session=\"0349b977bf87f5580bee4f80d12808a0\", element=\"2352096b-f160-44c4-a2fd-c028f487f8a5\")>,\n",
       " <selenium.webdriver.remote.webelement.WebElement (session=\"0349b977bf87f5580bee4f80d12808a0\", element=\"86180e25-880d-43d8-ae80-98c10a89d9cf\")>,\n",
       " <selenium.webdriver.remote.webelement.WebElement (session=\"0349b977bf87f5580bee4f80d12808a0\", element=\"6d4fa92f-bf89-4d7c-a55f-800a149d1b78\")>,\n",
       " <selenium.webdriver.remote.webelement.WebElement (session=\"0349b977bf87f5580bee4f80d12808a0\", element=\"85e2e4fb-46e3-4161-99b9-a6f2c9beb76d\")>]"
      ]
     },
     "execution_count": 15,
     "metadata": {},
     "output_type": "execute_result"
    }
   ],
   "source": [
    "course_list = driver.find_elements(By.CLASS_NAME,'mt-2')\n",
    "course_list"
   ]
  },
  {
   "cell_type": "code",
   "execution_count": 16,
   "metadata": {},
   "outputs": [
    {
     "name": "stdout",
     "output_type": "stream",
     "text": [
      "Machine Learning & AI\n",
      "Cyber Security\n",
      "Ethical Hacking\n",
      "Cloud Computing\n",
      "Business Intelligence & Big Data (Coming Soon)\n",
      "\n",
      "\n",
      "\n",
      "\n",
      "\n",
      "Learn C\n",
      "Learn C++\n",
      "Learn Java\n",
      "Learn Python\n",
      "Basic Coding\n",
      "Intermediate Coding\n",
      "Competitive Coding (All Lang)\n",
      "DSA in C\n",
      "DSA in C++\n",
      "\n",
      "\n",
      "\n",
      "Quantitative\n",
      "Logical Reasoning\n",
      "Verbal\n",
      "Data Interpretation\n",
      "Visual Reasoning\n",
      "\n",
      "\n",
      "\n",
      "\n",
      "Service Based Companies\n",
      "Product Based Companies\n",
      "FAANG\n",
      "Big 4 Companies\n",
      "Data Science & Analytics\n",
      "TCS ITP\n",
      "TCS NQT\n",
      "TCS Digital\n",
      "Cognizant GenC Next\n",
      "LTI\n",
      "\n",
      "\n",
      "\n",
      "\n",
      "\n",
      "\n",
      "\n",
      "\n",
      "\n",
      "\n",
      "\n",
      "\n",
      "\n",
      "\n",
      "\n",
      "\n",
      "\n",
      "\n",
      "Microsoft\n",
      "Goldman Sachs\n",
      "Amazon\n",
      "Cisco(coming soon)\n",
      "Oracle(coming soon)\n",
      "\n",
      "\n",
      "\n",
      "\n",
      "\n",
      "\n",
      "\n",
      "TCS Interview Preparation\n",
      "InfyTQ Interview Preparation\n",
      "Tech Mahindra Interview Preparation\n",
      "Deloitte Interview Preparation\n",
      "Cognizant Interview Preparation\n",
      "\n",
      "\n",
      "\n",
      "\n",
      "\n",
      "\n",
      "\n",
      "\n",
      "\n",
      "\n",
      "\n",
      "\n",
      "\n",
      "\n",
      "\n",
      "\n",
      "CoCubes\n",
      "AMCAT\n",
      "HackerRank\n",
      "Mettl\n",
      "HackerEarth\n",
      "\n",
      "\n",
      "\n",
      "\n",
      "\n",
      "Pokemon Pokedex\n",
      "AMAZON User Segementation\n",
      "Zomato Review Analysis\n",
      "American Express Data Analysis\n",
      "Image Based Species Recognization\n",
      "\n",
      "\n",
      "\n",
      "\n",
      "Operating System\n",
      "DBMS\n",
      "SDLC(coming soon)\n",
      "Computer Network(coming soon)\n",
      "SQL\n",
      "Pseudo Code\n",
      "Automata Fix\n",
      "Service Based Companies\n",
      "Product Based Companies\n",
      "Resume\n",
      "Guesstimates and Case Study\n",
      "Group Discussions\n",
      "\n",
      "\n",
      "\n",
      "All Previous papers / Mock Tests / Quizzes (Included)\n",
      "TCS iON Remote Internships (With Internship Certification)\n",
      "AON CoCubes\n"
     ]
    }
   ],
   "source": [
    "for item in course_list:\n",
    "    print(item.text)"
   ]
  },
  {
   "cell_type": "code",
   "execution_count": 18,
   "metadata": {},
   "outputs": [
    {
     "name": "stdout",
     "output_type": "stream",
     "text": [
      "<class 'selenium.webdriver.remote.webelement.WebElement'>\n"
     ]
    }
   ],
   "source": [
    "vari = driver.find_element(By.NAME, 'viewport')\n",
    "print(type(vari))"
   ]
  },
  {
   "cell_type": "code",
   "execution_count": 37,
   "metadata": {},
   "outputs": [
    {
     "name": "stdout",
     "output_type": "stream",
     "text": [
      "[<selenium.webdriver.remote.webelement.WebElement (session=\"0349b977bf87f5580bee4f80d12808a0\", element=\"cb9ddb20-eb84-4c2f-ad0d-8929611b591b\")>, <selenium.webdriver.remote.webelement.WebElement (session=\"0349b977bf87f5580bee4f80d12808a0\", element=\"a52c2fd9-6a3d-418e-89db-2f17b982505e\")>, <selenium.webdriver.remote.webelement.WebElement (session=\"0349b977bf87f5580bee4f80d12808a0\", element=\"b84281e2-3b3e-4d2c-b230-d849857212d4\")>, <selenium.webdriver.remote.webelement.WebElement (session=\"0349b977bf87f5580bee4f80d12808a0\", element=\"5bb06db3-d317-46b0-b480-0dc5d75825f7\")>, <selenium.webdriver.remote.webelement.WebElement (session=\"0349b977bf87f5580bee4f80d12808a0\", element=\"5ffe7e66-bc72-49e2-a890-474a747d719f\")>, <selenium.webdriver.remote.webelement.WebElement (session=\"0349b977bf87f5580bee4f80d12808a0\", element=\"725c3efb-5c9d-4f7e-8eef-baab9345ed0a\")>, <selenium.webdriver.remote.webelement.WebElement (session=\"0349b977bf87f5580bee4f80d12808a0\", element=\"40226d72-4981-4c82-b183-a013108cfb55\")>, <selenium.webdriver.remote.webelement.WebElement (session=\"0349b977bf87f5580bee4f80d12808a0\", element=\"76ddc062-4d8e-4ea2-b62f-448b84b190c8\")>, <selenium.webdriver.remote.webelement.WebElement (session=\"0349b977bf87f5580bee4f80d12808a0\", element=\"0be96053-536b-41db-8e61-73b03377146e\")>, <selenium.webdriver.remote.webelement.WebElement (session=\"0349b977bf87f5580bee4f80d12808a0\", element=\"8a84b105-4d5d-4151-aace-7352958a9fbd\")>, <selenium.webdriver.remote.webelement.WebElement (session=\"0349b977bf87f5580bee4f80d12808a0\", element=\"16897363-8b35-43fb-9efa-ad9d2a7e6267\")>, <selenium.webdriver.remote.webelement.WebElement (session=\"0349b977bf87f5580bee4f80d12808a0\", element=\"a8c8b151-b764-4ebe-a2c6-e3e46d2fcc17\")>, <selenium.webdriver.remote.webelement.WebElement (session=\"0349b977bf87f5580bee4f80d12808a0\", element=\"b40a3606-cb98-4935-9eb3-14007a3b7bf6\")>, <selenium.webdriver.remote.webelement.WebElement (session=\"0349b977bf87f5580bee4f80d12808a0\", element=\"2386b948-6713-4a01-87bf-8c2d8fd976a4\")>, <selenium.webdriver.remote.webelement.WebElement (session=\"0349b977bf87f5580bee4f80d12808a0\", element=\"19455e64-16ff-4e4b-be13-ce2bf02f0c58\")>, <selenium.webdriver.remote.webelement.WebElement (session=\"0349b977bf87f5580bee4f80d12808a0\", element=\"5cf414bb-50c7-4802-bee4-9e57cf527598\")>, <selenium.webdriver.remote.webelement.WebElement (session=\"0349b977bf87f5580bee4f80d12808a0\", element=\"d8ee24d7-49d4-440c-bc27-75f98b94438d\")>, <selenium.webdriver.remote.webelement.WebElement (session=\"0349b977bf87f5580bee4f80d12808a0\", element=\"12841a6f-792f-4322-a457-500096650c6f\")>, <selenium.webdriver.remote.webelement.WebElement (session=\"0349b977bf87f5580bee4f80d12808a0\", element=\"e1a92469-615b-489e-a5be-a2ec4522b85b\")>, <selenium.webdriver.remote.webelement.WebElement (session=\"0349b977bf87f5580bee4f80d12808a0\", element=\"b91ceae7-a1cd-4495-b0c4-81b002e1d8c9\")>, <selenium.webdriver.remote.webelement.WebElement (session=\"0349b977bf87f5580bee4f80d12808a0\", element=\"016e6a0c-6330-495a-8055-c1f4c0dcab55\")>, <selenium.webdriver.remote.webelement.WebElement (session=\"0349b977bf87f5580bee4f80d12808a0\", element=\"6292aee7-b245-43b1-a6ef-5650921becab\")>, <selenium.webdriver.remote.webelement.WebElement (session=\"0349b977bf87f5580bee4f80d12808a0\", element=\"b87c56d9-a7f2-48ed-b3a9-9aa3ad24f57f\")>, <selenium.webdriver.remote.webelement.WebElement (session=\"0349b977bf87f5580bee4f80d12808a0\", element=\"a70322d9-cf69-4248-8348-91a1cd12dadc\")>, <selenium.webdriver.remote.webelement.WebElement (session=\"0349b977bf87f5580bee4f80d12808a0\", element=\"b95d44fd-96e7-44f8-9ed1-0ba3e6022bf9\")>, <selenium.webdriver.remote.webelement.WebElement (session=\"0349b977bf87f5580bee4f80d12808a0\", element=\"c7e3c0c7-1086-430f-90f5-1c2c4c78d102\")>, <selenium.webdriver.remote.webelement.WebElement (session=\"0349b977bf87f5580bee4f80d12808a0\", element=\"5233c548-6a15-4106-aff9-078e15f6d2c5\")>, <selenium.webdriver.remote.webelement.WebElement (session=\"0349b977bf87f5580bee4f80d12808a0\", element=\"7555d6f5-5ef3-4d89-bd06-c95da681895d\")>, <selenium.webdriver.remote.webelement.WebElement (session=\"0349b977bf87f5580bee4f80d12808a0\", element=\"b0c0032d-6ed4-4f95-8600-35a165786f23\")>, <selenium.webdriver.remote.webelement.WebElement (session=\"0349b977bf87f5580bee4f80d12808a0\", element=\"fdf9c1b0-778f-45b0-b5bb-7e01508d18c5\")>, <selenium.webdriver.remote.webelement.WebElement (session=\"0349b977bf87f5580bee4f80d12808a0\", element=\"60e9261b-f283-474c-8d32-970fbd699df9\")>, <selenium.webdriver.remote.webelement.WebElement (session=\"0349b977bf87f5580bee4f80d12808a0\", element=\"a7b28016-a9f0-4c2c-ad66-d44a108940b0\")>, <selenium.webdriver.remote.webelement.WebElement (session=\"0349b977bf87f5580bee4f80d12808a0\", element=\"2a7560b2-d36b-4fca-b46b-594e060a929d\")>, <selenium.webdriver.remote.webelement.WebElement (session=\"0349b977bf87f5580bee4f80d12808a0\", element=\"7f389e51-95b4-4b5b-bbee-f901eeac7700\")>, <selenium.webdriver.remote.webelement.WebElement (session=\"0349b977bf87f5580bee4f80d12808a0\", element=\"93db8710-891d-4bbd-a08f-bd07a1d87cc0\")>, <selenium.webdriver.remote.webelement.WebElement (session=\"0349b977bf87f5580bee4f80d12808a0\", element=\"07239e90-3018-4c5a-adbb-1b6f875be929\")>, <selenium.webdriver.remote.webelement.WebElement (session=\"0349b977bf87f5580bee4f80d12808a0\", element=\"5c7e5974-3961-4484-afe2-9e012b4314e2\")>, <selenium.webdriver.remote.webelement.WebElement (session=\"0349b977bf87f5580bee4f80d12808a0\", element=\"d37d1dd2-f08b-46e2-919b-aa8c2ebcdda9\")>, <selenium.webdriver.remote.webelement.WebElement (session=\"0349b977bf87f5580bee4f80d12808a0\", element=\"c50d4894-4195-43b1-830b-122c72baa03c\")>, <selenium.webdriver.remote.webelement.WebElement (session=\"0349b977bf87f5580bee4f80d12808a0\", element=\"b0a744bf-8158-4d65-af7a-2593735dd6a1\")>, <selenium.webdriver.remote.webelement.WebElement (session=\"0349b977bf87f5580bee4f80d12808a0\", element=\"efd71679-5226-49cb-aaee-141c3fe76fb5\")>, <selenium.webdriver.remote.webelement.WebElement (session=\"0349b977bf87f5580bee4f80d12808a0\", element=\"35b34686-f52c-41d0-a9d6-7f8d8af61e74\")>, <selenium.webdriver.remote.webelement.WebElement (session=\"0349b977bf87f5580bee4f80d12808a0\", element=\"f7f586d2-939b-4b6c-971a-7c1f9b101e58\")>, <selenium.webdriver.remote.webelement.WebElement (session=\"0349b977bf87f5580bee4f80d12808a0\", element=\"8032a12b-65d4-4089-b61c-0e951c5a073a\")>, <selenium.webdriver.remote.webelement.WebElement (session=\"0349b977bf87f5580bee4f80d12808a0\", element=\"10c716a3-b2a7-42fa-8a66-a76122d245be\")>, <selenium.webdriver.remote.webelement.WebElement (session=\"0349b977bf87f5580bee4f80d12808a0\", element=\"f69e3420-5c33-4d98-ab58-f951a2b83196\")>, <selenium.webdriver.remote.webelement.WebElement (session=\"0349b977bf87f5580bee4f80d12808a0\", element=\"cba147b0-657b-4b76-8621-db71485a3eac\")>, <selenium.webdriver.remote.webelement.WebElement (session=\"0349b977bf87f5580bee4f80d12808a0\", element=\"699146eb-d215-4a35-9b7b-1db1b9fb8e06\")>, <selenium.webdriver.remote.webelement.WebElement (session=\"0349b977bf87f5580bee4f80d12808a0\", element=\"79e175e2-87a7-43d6-ab89-6f23de827a80\")>, <selenium.webdriver.remote.webelement.WebElement (session=\"0349b977bf87f5580bee4f80d12808a0\", element=\"553c7644-1c08-41f9-b8ad-7a6dcda34b79\")>, <selenium.webdriver.remote.webelement.WebElement (session=\"0349b977bf87f5580bee4f80d12808a0\", element=\"9f299607-7804-4785-8bca-37f5f913ba5e\")>, <selenium.webdriver.remote.webelement.WebElement (session=\"0349b977bf87f5580bee4f80d12808a0\", element=\"761e685d-d0a6-4ddf-bb69-06742f963d37\")>, <selenium.webdriver.remote.webelement.WebElement (session=\"0349b977bf87f5580bee4f80d12808a0\", element=\"3a7ce526-ac26-4164-8fbb-a0277d5d190f\")>, <selenium.webdriver.remote.webelement.WebElement (session=\"0349b977bf87f5580bee4f80d12808a0\", element=\"bec25926-3d56-45f9-bc96-38c004a80356\")>, <selenium.webdriver.remote.webelement.WebElement (session=\"0349b977bf87f5580bee4f80d12808a0\", element=\"4de7e4fa-f0d0-4a65-b510-ab7c2a499075\")>, <selenium.webdriver.remote.webelement.WebElement (session=\"0349b977bf87f5580bee4f80d12808a0\", element=\"9aba8191-14b9-4887-9b01-498809c1ed73\")>, <selenium.webdriver.remote.webelement.WebElement (session=\"0349b977bf87f5580bee4f80d12808a0\", element=\"6b76d053-032f-41e2-be5f-8372f9573bbf\")>, <selenium.webdriver.remote.webelement.WebElement (session=\"0349b977bf87f5580bee4f80d12808a0\", element=\"c6dbccc9-432a-494b-a84b-7e1527ec36de\")>, <selenium.webdriver.remote.webelement.WebElement (session=\"0349b977bf87f5580bee4f80d12808a0\", element=\"911a1813-cad6-4fd3-8a9d-ffb44bc00b9c\")>, <selenium.webdriver.remote.webelement.WebElement (session=\"0349b977bf87f5580bee4f80d12808a0\", element=\"1208cd89-a874-4eb8-bfe2-894173f66cff\")>, <selenium.webdriver.remote.webelement.WebElement (session=\"0349b977bf87f5580bee4f80d12808a0\", element=\"8e4916c3-e15e-411d-84dd-81ee541f7f6d\")>, <selenium.webdriver.remote.webelement.WebElement (session=\"0349b977bf87f5580bee4f80d12808a0\", element=\"1b5f1e38-2662-40ad-a3bb-224b6215d57d\")>, <selenium.webdriver.remote.webelement.WebElement (session=\"0349b977bf87f5580bee4f80d12808a0\", element=\"a358822e-b535-4281-8bce-8dc80072e222\")>, <selenium.webdriver.remote.webelement.WebElement (session=\"0349b977bf87f5580bee4f80d12808a0\", element=\"14b12b2f-8b61-443d-b38a-87ed30f62581\")>, <selenium.webdriver.remote.webelement.WebElement (session=\"0349b977bf87f5580bee4f80d12808a0\", element=\"ec92186d-085d-4ea7-b057-eb599c06884c\")>, <selenium.webdriver.remote.webelement.WebElement (session=\"0349b977bf87f5580bee4f80d12808a0\", element=\"769f9712-5d00-4dba-9943-3f2eac4f8832\")>, <selenium.webdriver.remote.webelement.WebElement (session=\"0349b977bf87f5580bee4f80d12808a0\", element=\"fcbfb657-d3bd-4472-b1a2-06e66cdf83f5\")>, <selenium.webdriver.remote.webelement.WebElement (session=\"0349b977bf87f5580bee4f80d12808a0\", element=\"8572ce04-8d11-4fd0-95bf-189667d51a5a\")>, <selenium.webdriver.remote.webelement.WebElement (session=\"0349b977bf87f5580bee4f80d12808a0\", element=\"3090f6eb-22e8-4e9e-8f7b-b57cbb5c483b\")>, <selenium.webdriver.remote.webelement.WebElement (session=\"0349b977bf87f5580bee4f80d12808a0\", element=\"4db48dad-9eb7-44fd-9f86-2aebf518df67\")>, <selenium.webdriver.remote.webelement.WebElement (session=\"0349b977bf87f5580bee4f80d12808a0\", element=\"b1a8ddb7-752e-4510-82b4-501fa59dd2ef\")>, <selenium.webdriver.remote.webelement.WebElement (session=\"0349b977bf87f5580bee4f80d12808a0\", element=\"38f2c4b8-7468-499b-ab3e-8a7f04fc1654\")>, <selenium.webdriver.remote.webelement.WebElement (session=\"0349b977bf87f5580bee4f80d12808a0\", element=\"2298fd79-4609-484b-8db5-d304f1a144c0\")>, <selenium.webdriver.remote.webelement.WebElement (session=\"0349b977bf87f5580bee4f80d12808a0\", element=\"657c0b1e-4b5d-4a02-a82c-22b00231a671\")>, <selenium.webdriver.remote.webelement.WebElement (session=\"0349b977bf87f5580bee4f80d12808a0\", element=\"16fafb3e-693f-4607-aa12-b50e1e5765cc\")>, <selenium.webdriver.remote.webelement.WebElement (session=\"0349b977bf87f5580bee4f80d12808a0\", element=\"8381e8d5-3124-44d9-a1a3-694254c36702\")>, <selenium.webdriver.remote.webelement.WebElement (session=\"0349b977bf87f5580bee4f80d12808a0\", element=\"d688b9a5-0ab0-4cd1-a6ce-8a7a69838b65\")>, <selenium.webdriver.remote.webelement.WebElement (session=\"0349b977bf87f5580bee4f80d12808a0\", element=\"99e70f36-79f5-4954-866c-db354b39ccf0\")>, <selenium.webdriver.remote.webelement.WebElement (session=\"0349b977bf87f5580bee4f80d12808a0\", element=\"99364619-7525-4046-bcc2-abcd345de696\")>, <selenium.webdriver.remote.webelement.WebElement (session=\"0349b977bf87f5580bee4f80d12808a0\", element=\"43b07c57-6683-4078-94ea-fcc4635aa81e\")>, <selenium.webdriver.remote.webelement.WebElement (session=\"0349b977bf87f5580bee4f80d12808a0\", element=\"1d55d58d-5893-4ab5-8b1b-b8fbd281bd27\")>, <selenium.webdriver.remote.webelement.WebElement (session=\"0349b977bf87f5580bee4f80d12808a0\", element=\"c84d553c-7e8f-4816-a5ee-01e0db284838\")>, <selenium.webdriver.remote.webelement.WebElement (session=\"0349b977bf87f5580bee4f80d12808a0\", element=\"66d7a4b8-89e2-4bf4-8717-a11a712ba2ed\")>, <selenium.webdriver.remote.webelement.WebElement (session=\"0349b977bf87f5580bee4f80d12808a0\", element=\"9c7d7a16-799d-483a-971d-69c207915100\")>, <selenium.webdriver.remote.webelement.WebElement (session=\"0349b977bf87f5580bee4f80d12808a0\", element=\"04626ef3-9a44-49d6-a91d-fd124ea5676b\")>, <selenium.webdriver.remote.webelement.WebElement (session=\"0349b977bf87f5580bee4f80d12808a0\", element=\"04a66c39-00b2-49a7-ad80-5876f9a150af\")>, <selenium.webdriver.remote.webelement.WebElement (session=\"0349b977bf87f5580bee4f80d12808a0\", element=\"b2479f52-5f05-4826-9da7-18f3ffde0636\")>, <selenium.webdriver.remote.webelement.WebElement (session=\"0349b977bf87f5580bee4f80d12808a0\", element=\"08349444-8cd5-42a4-9e9c-92a5af5f3adf\")>, <selenium.webdriver.remote.webelement.WebElement (session=\"0349b977bf87f5580bee4f80d12808a0\", element=\"177f6fbb-16ca-458a-b2c9-2cb28653e103\")>, <selenium.webdriver.remote.webelement.WebElement (session=\"0349b977bf87f5580bee4f80d12808a0\", element=\"d31bf096-939c-4afa-8b02-be375b6fadb6\")>, <selenium.webdriver.remote.webelement.WebElement (session=\"0349b977bf87f5580bee4f80d12808a0\", element=\"a348d82c-afbf-4d37-b403-78def4316e72\")>, <selenium.webdriver.remote.webelement.WebElement (session=\"0349b977bf87f5580bee4f80d12808a0\", element=\"e88d4f39-9bd0-41a2-9b70-72878acf7722\")>, <selenium.webdriver.remote.webelement.WebElement (session=\"0349b977bf87f5580bee4f80d12808a0\", element=\"52556e5f-f9c0-4317-ad32-ada78c303a77\")>, <selenium.webdriver.remote.webelement.WebElement (session=\"0349b977bf87f5580bee4f80d12808a0\", element=\"22a26be1-0f1a-4e18-956d-e40bcef4a322\")>, <selenium.webdriver.remote.webelement.WebElement (session=\"0349b977bf87f5580bee4f80d12808a0\", element=\"74730acd-6b68-481a-837b-03581ab64e74\")>, <selenium.webdriver.remote.webelement.WebElement (session=\"0349b977bf87f5580bee4f80d12808a0\", element=\"14c4dd9c-6013-4951-bad9-78448ab8ba02\")>, <selenium.webdriver.remote.webelement.WebElement (session=\"0349b977bf87f5580bee4f80d12808a0\", element=\"e951863d-de2f-4fab-9c88-764da9d19f89\")>, <selenium.webdriver.remote.webelement.WebElement (session=\"0349b977bf87f5580bee4f80d12808a0\", element=\"2cdea6f5-1860-4964-a263-8bc07f2addec\")>, <selenium.webdriver.remote.webelement.WebElement (session=\"0349b977bf87f5580bee4f80d12808a0\", element=\"8ef32f7e-5307-429e-9e25-b6a10427e32c\")>, <selenium.webdriver.remote.webelement.WebElement (session=\"0349b977bf87f5580bee4f80d12808a0\", element=\"9de2af5d-2ac7-4a52-9b60-6ae722b9a879\")>, <selenium.webdriver.remote.webelement.WebElement (session=\"0349b977bf87f5580bee4f80d12808a0\", element=\"0049f500-f32f-492a-9ed0-1901fd990ba8\")>, <selenium.webdriver.remote.webelement.WebElement (session=\"0349b977bf87f5580bee4f80d12808a0\", element=\"e9a89534-0ee6-41a1-9d9b-c932fad1e9e7\")>, <selenium.webdriver.remote.webelement.WebElement (session=\"0349b977bf87f5580bee4f80d12808a0\", element=\"af6bc619-8352-4c13-bc92-cd9730a73952\")>, <selenium.webdriver.remote.webelement.WebElement (session=\"0349b977bf87f5580bee4f80d12808a0\", element=\"aeb747ae-1278-468f-87b6-146d06f1772c\")>, <selenium.webdriver.remote.webelement.WebElement (session=\"0349b977bf87f5580bee4f80d12808a0\", element=\"e4a08fc4-6b47-4538-8511-52307d7a6552\")>, <selenium.webdriver.remote.webelement.WebElement (session=\"0349b977bf87f5580bee4f80d12808a0\", element=\"c481fd98-befa-4b24-9df6-999ad0160944\")>, <selenium.webdriver.remote.webelement.WebElement (session=\"0349b977bf87f5580bee4f80d12808a0\", element=\"62d5da9d-b93c-4f1c-940c-b38d7bb96fd2\")>, <selenium.webdriver.remote.webelement.WebElement (session=\"0349b977bf87f5580bee4f80d12808a0\", element=\"e1539055-5e59-4336-a49b-6e35c15f0234\")>, <selenium.webdriver.remote.webelement.WebElement (session=\"0349b977bf87f5580bee4f80d12808a0\", element=\"a693659f-f0c5-4de3-9098-01a4f7ab29bf\")>, <selenium.webdriver.remote.webelement.WebElement (session=\"0349b977bf87f5580bee4f80d12808a0\", element=\"2ee5ce91-5935-40b2-b3aa-39fb783d257e\")>, <selenium.webdriver.remote.webelement.WebElement (session=\"0349b977bf87f5580bee4f80d12808a0\", element=\"91e51df7-a3b7-494d-8cc0-c2a62e67a937\")>, <selenium.webdriver.remote.webelement.WebElement (session=\"0349b977bf87f5580bee4f80d12808a0\", element=\"2a207aaf-1c8a-434f-9cf4-854b7117dbb5\")>, <selenium.webdriver.remote.webelement.WebElement (session=\"0349b977bf87f5580bee4f80d12808a0\", element=\"684861c1-6270-4d15-8e1d-9c1068623486\")>, <selenium.webdriver.remote.webelement.WebElement (session=\"0349b977bf87f5580bee4f80d12808a0\", element=\"2d1c5c38-780c-403b-adca-85c173145a46\")>, <selenium.webdriver.remote.webelement.WebElement (session=\"0349b977bf87f5580bee4f80d12808a0\", element=\"9b3b0d24-645a-4bad-b6e0-5229baa33292\")>, <selenium.webdriver.remote.webelement.WebElement (session=\"0349b977bf87f5580bee4f80d12808a0\", element=\"5ee071c5-f9df-47f2-9f0f-eb9f69f926b9\")>, <selenium.webdriver.remote.webelement.WebElement (session=\"0349b977bf87f5580bee4f80d12808a0\", element=\"938b4873-da83-48c4-b318-83abdfc1492e\")>, <selenium.webdriver.remote.webelement.WebElement (session=\"0349b977bf87f5580bee4f80d12808a0\", element=\"ed6d9ce4-39a6-4b61-aa0e-50f75c8fb258\")>, <selenium.webdriver.remote.webelement.WebElement (session=\"0349b977bf87f5580bee4f80d12808a0\", element=\"6936faec-84e1-4e33-ade2-6eb1a6ea1852\")>, <selenium.webdriver.remote.webelement.WebElement (session=\"0349b977bf87f5580bee4f80d12808a0\", element=\"cc3157dd-6225-4e9f-b278-6ee7a849e22e\")>, <selenium.webdriver.remote.webelement.WebElement (session=\"0349b977bf87f5580bee4f80d12808a0\", element=\"e0404b8d-4027-425e-b2e5-8b72ba5b4944\")>, <selenium.webdriver.remote.webelement.WebElement (session=\"0349b977bf87f5580bee4f80d12808a0\", element=\"fa7c077d-cc77-4fd1-ab37-d4dc3ba516fc\")>, <selenium.webdriver.remote.webelement.WebElement (session=\"0349b977bf87f5580bee4f80d12808a0\", element=\"08265997-ec79-4739-90ce-c363fcadcd9e\")>, <selenium.webdriver.remote.webelement.WebElement (session=\"0349b977bf87f5580bee4f80d12808a0\", element=\"1eab4586-af10-4191-b4e9-8dd985c46c1a\")>, <selenium.webdriver.remote.webelement.WebElement (session=\"0349b977bf87f5580bee4f80d12808a0\", element=\"62777b6b-bb56-4327-abd8-c7700b00fff8\")>, <selenium.webdriver.remote.webelement.WebElement (session=\"0349b977bf87f5580bee4f80d12808a0\", element=\"11278df5-c2e7-43c5-b4f3-c4a3077c87ef\")>, <selenium.webdriver.remote.webelement.WebElement (session=\"0349b977bf87f5580bee4f80d12808a0\", element=\"3bae0195-a232-4b02-ae13-40095514dbaa\")>, <selenium.webdriver.remote.webelement.WebElement (session=\"0349b977bf87f5580bee4f80d12808a0\", element=\"a8d3974e-82fb-473a-a323-0194cc807da9\")>, <selenium.webdriver.remote.webelement.WebElement (session=\"0349b977bf87f5580bee4f80d12808a0\", element=\"b11f3d1e-3e0f-4fa4-9a56-0a90290bf1fb\")>, <selenium.webdriver.remote.webelement.WebElement (session=\"0349b977bf87f5580bee4f80d12808a0\", element=\"8378ff16-bbeb-488e-b933-3f518b59d93f\")>, <selenium.webdriver.remote.webelement.WebElement (session=\"0349b977bf87f5580bee4f80d12808a0\", element=\"abf13718-9717-4f04-ae70-7639f0e1fd30\")>, <selenium.webdriver.remote.webelement.WebElement (session=\"0349b977bf87f5580bee4f80d12808a0\", element=\"77a8bf3b-5876-4a29-a684-f3b218126955\")>, <selenium.webdriver.remote.webelement.WebElement (session=\"0349b977bf87f5580bee4f80d12808a0\", element=\"e86d9807-9357-490f-950c-018fea3bd4d9\")>, <selenium.webdriver.remote.webelement.WebElement (session=\"0349b977bf87f5580bee4f80d12808a0\", element=\"9a9596e8-9cc8-4f9c-877a-1f1b9bba7d10\")>, <selenium.webdriver.remote.webelement.WebElement (session=\"0349b977bf87f5580bee4f80d12808a0\", element=\"893c0735-846f-49f2-bad5-0debd5eb6ee2\")>, <selenium.webdriver.remote.webelement.WebElement (session=\"0349b977bf87f5580bee4f80d12808a0\", element=\"49a4546e-d4e1-4eb1-817a-749d3d241dfa\")>, <selenium.webdriver.remote.webelement.WebElement (session=\"0349b977bf87f5580bee4f80d12808a0\", element=\"76d0be1b-2da7-4b26-878d-c7dad9c2bbd7\")>, <selenium.webdriver.remote.webelement.WebElement (session=\"0349b977bf87f5580bee4f80d12808a0\", element=\"7982cc8d-973d-4f0d-b372-a5e00af14d25\")>, <selenium.webdriver.remote.webelement.WebElement (session=\"0349b977bf87f5580bee4f80d12808a0\", element=\"a4a86f3b-1aa2-44e6-a7a7-a6b5e0da2b4a\")>, <selenium.webdriver.remote.webelement.WebElement (session=\"0349b977bf87f5580bee4f80d12808a0\", element=\"6557b745-fc88-40fc-a80a-10b258f7a0b3\")>, <selenium.webdriver.remote.webelement.WebElement (session=\"0349b977bf87f5580bee4f80d12808a0\", element=\"77ae44d8-baf1-48c6-9302-e11a732f39d2\")>, <selenium.webdriver.remote.webelement.WebElement (session=\"0349b977bf87f5580bee4f80d12808a0\", element=\"9213bdab-021f-4b14-874f-1c749513ff32\")>, <selenium.webdriver.remote.webelement.WebElement (session=\"0349b977bf87f5580bee4f80d12808a0\", element=\"69a2c9e2-a39e-45f8-bb73-3de867fc574e\")>, <selenium.webdriver.remote.webelement.WebElement (session=\"0349b977bf87f5580bee4f80d12808a0\", element=\"e45c4910-b4ef-4961-8a2b-509d3597be15\")>, <selenium.webdriver.remote.webelement.WebElement (session=\"0349b977bf87f5580bee4f80d12808a0\", element=\"981bfcc3-a121-45b1-82d1-9e480b642b7c\")>, <selenium.webdriver.remote.webelement.WebElement (session=\"0349b977bf87f5580bee4f80d12808a0\", element=\"a9296e37-ae40-402d-b770-ae0d482d84c4\")>, <selenium.webdriver.remote.webelement.WebElement (session=\"0349b977bf87f5580bee4f80d12808a0\", element=\"693ac4cd-3d1d-4ea8-91c6-8bcd1c0cdbb7\")>, <selenium.webdriver.remote.webelement.WebElement (session=\"0349b977bf87f5580bee4f80d12808a0\", element=\"d9dc7f12-c3d2-4ca2-8f50-5b30061c81cf\")>, <selenium.webdriver.remote.webelement.WebElement (session=\"0349b977bf87f5580bee4f80d12808a0\", element=\"cdca088f-8885-44b6-a029-d63a5094efb3\")>, <selenium.webdriver.remote.webelement.WebElement (session=\"0349b977bf87f5580bee4f80d12808a0\", element=\"6f34ebe9-5a4c-4a44-bd4d-d71f9f093cb5\")>, <selenium.webdriver.remote.webelement.WebElement (session=\"0349b977bf87f5580bee4f80d12808a0\", element=\"f16cab50-4c9b-4c7d-8c39-1e1225548750\")>, <selenium.webdriver.remote.webelement.WebElement (session=\"0349b977bf87f5580bee4f80d12808a0\", element=\"7316dd2d-0838-4df6-b926-01f660d7ac46\")>, <selenium.webdriver.remote.webelement.WebElement (session=\"0349b977bf87f5580bee4f80d12808a0\", element=\"6d280f2f-0a37-4801-aa84-375698814a02\")>, <selenium.webdriver.remote.webelement.WebElement (session=\"0349b977bf87f5580bee4f80d12808a0\", element=\"9d19eeed-67be-4f29-81ef-c2a7aa4c562e\")>, <selenium.webdriver.remote.webelement.WebElement (session=\"0349b977bf87f5580bee4f80d12808a0\", element=\"ae5b12fe-0e77-48d6-bfc3-c5e47e50d3c5\")>, <selenium.webdriver.remote.webelement.WebElement (session=\"0349b977bf87f5580bee4f80d12808a0\", element=\"4787f815-0a37-4309-b057-76d5fd61f5a2\")>, <selenium.webdriver.remote.webelement.WebElement (session=\"0349b977bf87f5580bee4f80d12808a0\", element=\"bee7ca59-8baa-4912-8ea0-327b9054244d\")>, <selenium.webdriver.remote.webelement.WebElement (session=\"0349b977bf87f5580bee4f80d12808a0\", element=\"792c7717-e331-431b-9fae-3603af73b40b\")>, <selenium.webdriver.remote.webelement.WebElement (session=\"0349b977bf87f5580bee4f80d12808a0\", element=\"638c3fd0-f553-4a27-8874-30f343cc6ff3\")>, <selenium.webdriver.remote.webelement.WebElement (session=\"0349b977bf87f5580bee4f80d12808a0\", element=\"06644bb8-ce8e-4382-91cf-2f17a7f1535c\")>, <selenium.webdriver.remote.webelement.WebElement (session=\"0349b977bf87f5580bee4f80d12808a0\", element=\"f5f07441-aa52-4433-816a-0f80ca82d292\")>, <selenium.webdriver.remote.webelement.WebElement (session=\"0349b977bf87f5580bee4f80d12808a0\", element=\"67479641-e5c0-4de3-a1e4-11f63e56b993\")>, <selenium.webdriver.remote.webelement.WebElement (session=\"0349b977bf87f5580bee4f80d12808a0\", element=\"0a8d5323-92e1-4ce9-b068-9037a9b590c4\")>]\n"
     ]
    }
   ],
   "source": [
    "images = driver.find_elements(By.TAG_NAME, 'img')\n",
    "print(images)"
   ]
  },
  {
   "cell_type": "code",
   "execution_count": 38,
   "metadata": {},
   "outputs": [
    {
     "name": "stdout",
     "output_type": "stream",
     "text": [
      "<class 'list'>\n"
     ]
    }
   ],
   "source": [
    "print(type(images))"
   ]
  },
  {
   "cell_type": "code",
   "execution_count": 39,
   "metadata": {},
   "outputs": [
    {
     "name": "stdout",
     "output_type": "stream",
     "text": [
      "https://prepinstaprime.com/assets/phone-img.png\n",
      "https://prepinstaprime.com/assets/PrepInsta-Prime-Logo.png\n",
      "https://prepinstaprime.com/assets/phone-img.png\n",
      "https://prepinstaprime.com/assets/arrow-img.png\n",
      "https://prepinstaprime.com/admin/wp-content/uploads/2022/02/Image-25.png\n",
      "https://prepinstaprime.com/admin/wp-content/uploads/2022/02/TCS-iON-RIO-Certification.webp\n",
      "https://prepinstaprime.com/admin/wp-content/uploads/2022/02/Image-25.png\n",
      "https://prepinstaprime.com/admin/wp-content/uploads/2022/06/unnamed.png\n",
      "https://prepinstaprime.com/admin/wp-content/uploads/2022/02/Image-25.png\n",
      "https://prepinstaprime.com/admin/wp-content/uploads/2021/07/Prime-Certification-homepage-Icon.webp\n",
      "https://prepinstaprime.com/admin/wp-content/uploads/2022/02/Image-25.png\n",
      "https://prepinstaprime.com/admin/wp-content/uploads/2022/02/Image-25.png\n",
      "https://prepinstaprime.com/admin/wp-content/uploads/2022/02/TCS-iON-RIO-Certification.webp\n",
      "https://prepinstaprime.com/admin/wp-content/uploads/2022/02/Image-25.png\n",
      "https://prepinstaprime.com/admin/wp-content/uploads/2022/06/unnamed.png\n",
      "https://prepinstaprime.com/admin/wp-content/uploads/2022/02/Image-25.png\n",
      "https://prepinstaprime.com/admin/wp-content/uploads/2021/07/Prime-Certification-homepage-Icon.webp\n",
      "https://prepinstaprime.com/admin/wp-content/uploads/2022/02/Image-25.png\n",
      "https://prepinstaprime.com/admin/wp-content/uploads/2022/02/Image-25.png\n",
      "https://prepinstaprime.com/admin/wp-content/uploads/2022/02/TCS-iON-RIO-Certification.webp\n",
      "https://prepinstaprime.com/admin/wp-content/uploads/2022/02/Image-25.png\n",
      "https://prepinstaprime.com/admin/wp-content/uploads/2021/07/AI-Homepage-Icon.webp\n",
      "https://prepinstaprime.com/admin/wp-content/uploads/2021/07/Cyber-Security-Homepage-Iconwebp.png\n",
      "https://prepinstaprime.com/admin/wp-content/uploads/2021/07/Ethical-Hacking-Homepage-Icon.webp\n",
      "https://prepinstaprime.com/admin/wp-content/uploads/2022/02/Cloud-computing-home-thumbnail.webp\n",
      "https://prepinstaprime.com/admin/wp-content/uploads/2021/07/Big-Data-HomePage-Icon.webp\n",
      "https://prepinstaprime.com/admin/wp-content/uploads/2021/07/Deep-learning-Homepage-Icon.png\n",
      "https://prepinstaprime.com/admin/wp-content/uploads/2022/08/Home-Thumb-for-Power-BI.webp\n",
      "https://prepinstaprime.com/admin/wp-content/uploads/2022/08/Home-Thumb-for-Data-Science.webp\n",
      "https://prepinstaprime.com/admin/wp-content/uploads/2022/08/Home-Thumb-for-Data-Analytics.webp\n",
      "https://prepinstaprime.com/admin/wp-content/uploads/2022/08/Home-Thumb-for-Tableau.webp\n",
      "https://prepinstaprime.com/admin/wp-content/uploads/2021/07/C-Homepage-Icon.webp\n",
      "https://prepinstaprime.com/admin/wp-content/uploads/2021/07/C-plus-plus-HomePage-Icon.webp\n",
      "https://prepinstaprime.com/admin/wp-content/uploads/2021/07/Java-HomePage-Icon.webp\n",
      "https://prepinstaprime.com/admin/wp-content/uploads/2021/11/Python-Course-PrepInsta-Prime-1.webp\n",
      "https://prepinstaprime.com/admin/wp-content/uploads/2021/07/Basic-Coding-Homepage-Icon.webp\n",
      "https://prepinstaprime.com/admin/wp-content/uploads/2021/07/Intermediate-Coding-Homepage-Icon.webp\n",
      "https://prepinstaprime.com/admin/wp-content/uploads/2022/02/Competitive-coding-home-thumbnail.webp\n",
      "https://prepinstaprime.com/admin/wp-content/uploads/2021/07/Data-Structures-in-C-Homepage-Icon.webp\n",
      "https://prepinstaprime.com/admin/wp-content/uploads/2021/07/Data-Structures-in-C-Homepage-Icon-1.webp\n",
      "https://prepinstaprime.com/admin/wp-content/uploads/2021/07/Data-Structures-in-Java-Homepage-Icon.webp\n",
      "https://prepinstaprime.com/admin/wp-content/uploads/2021/07/Data-Structures-in-python-Homepage-Icon.webp\n",
      "https://prepinstaprime.com/admin/wp-content/uploads/2021/07/DSA-in-Service-based-companies-thumb.webp\n",
      "https://prepinstaprime.com/admin/wp-content/uploads/2021/07/Quantitative-Aptitude-HomePage-Icon.webp\n",
      "https://prepinstaprime.com/admin/wp-content/uploads/2021/07/Logical-Reasoning-HomePage-Icon.webp\n",
      "https://prepinstaprime.com/admin/wp-content/uploads/2021/07/Verbal-Homepage-Icon.webp\n",
      "https://prepinstaprime.com/admin/wp-content/uploads/2021/07/Data-Interpretation-HomePage-Icon.webp\n",
      "https://prepinstaprime.com/admin/wp-content/uploads/2021/07/Visual-Reasoning-HomePage-Icon.webp\n",
      "https://prepinstaprime.com/admin/wp-content/uploads/2021/07/Crypt-Airthmetic-HomePage-Icon.webp\n",
      "https://prepinstaprime.com/admin/wp-content/uploads/2021/07/Essay-Writing-HomePage-Icon.webp\n",
      "https://prepinstaprime.com/admin/wp-content/uploads/2021/07/Game-based-Aptitude-HomePage-Icon.webp\n",
      "https://prepinstaprime.com/admin/wp-content/uploads/2022/02/Psychometric-home-thumbnail.webp\n",
      "https://prepinstaprime.com/admin/wp-content/uploads/2022/07/Tracks-for-service-based-companies.webp\n",
      "https://prepinstaprime.com/admin/wp-content/uploads/2022/07/Tracks-for-product-based-companies.webp\n",
      "https://prepinstaprime.com/admin/wp-content/uploads/2022/07/Tracks-for-FAANG.webp\n",
      "https://prepinstaprime.com/admin/wp-content/uploads/2022/08/Home-Thumb-Track-for-Big-4.webp\n",
      "https://prepinstaprime.com/admin/wp-content/uploads/2022/08/Home-thumb-Track-for-Data-Science-Analytics.webp\n",
      "https://prepinstaprime.com/admin/wp-content/uploads/2022/06/Add-a-heading-11.png\n",
      "https://prepinstaprime.com/admin/wp-content/uploads/2021/08/TCS-Home-Thumb.webp\n",
      "https://prepinstaprime.com/admin/wp-content/uploads/2021/07/TCS-Digital-home-page.webp\n",
      "https://prepinstaprime.com/admin/wp-content/uploads/2021/07/Add-a-heading-18.png\n",
      "https://prepinstaprime.com/admin/wp-content/uploads/2021/08/LTI-Thumbnail.webp\n",
      "https://prepinstaprime.com/admin/wp-content/uploads/2021/07/Accenture-Homepage-Icon.webp\n",
      "https://prepinstaprime.com/admin/wp-content/uploads/2021/07/DXC-Homepage-Icon.webp\n",
      "https://prepinstaprime.com/admin/wp-content/uploads/2021/07/Tech-Mahindra-Homepage-Icon.webp\n",
      "https://prepinstaprime.com/admin/wp-content/uploads/2021/07/HSBC-Homepage-Icon.webp\n",
      "https://prepinstaprime.com/admin/wp-content/uploads/2021/07/Wipro-Homepage-Icon.webp\n",
      "https://prepinstaprime.com/admin/wp-content/uploads/2021/07/Persistent-Homepage-Icon.webp\n",
      "https://prepinstaprime.com/admin/wp-content/uploads/2021/07/IBM-Homepage-Icon.webp\n",
      "https://prepinstaprime.com/admin/wp-content/uploads/2021/07/Deloitte-Homepage-Icon.webp\n",
      "https://prepinstaprime.com/admin/wp-content/uploads/2021/07/Mindtree-Homepage-Icon.webp\n",
      "https://prepinstaprime.com/admin/wp-content/uploads/2021/07/mPhasis-Homepage-Icon.webp\n",
      "https://prepinstaprime.com/admin/wp-content/uploads/2021/07/Zs-associates-logo.png\n",
      "https://prepinstaprime.com/admin/wp-content/uploads/2021/07/Infosys-Homepage-Icon.webp\n",
      "https://prepinstaprime.com/admin/wp-content/uploads/2021/07/Capgemini-Homepage-Icon.webp\n",
      "https://prepinstaprime.com/admin/wp-content/uploads/2021/08/Cognizant-GenC-Thumb.webp\n",
      "https://prepinstaprime.com/admin/wp-content/uploads/2022/03/Hexaware-Company-1.webp\n",
      "https://prepinstaprime.com/admin/wp-content/uploads/2021/11/InfyTQ-Home-Page.webp\n",
      "https://prepinstaprime.com/admin/wp-content/uploads/2021/08/Cognizant-GenC-Elevate-Thumb.webp\n",
      "https://prepinstaprime.com/admin/wp-content/uploads/2022/07/Infosys-sp-and-dse-thumbnail-home.webp\n",
      "https://prepinstaprime.com/admin/wp-content/uploads/2021/07/Home-Page-Micorsoft-thumb.webp\n",
      "https://prepinstaprime.com/admin/wp-content/uploads/2021/07/Goldman-Sachs-Homepage-Icon.webp\n",
      "https://prepinstaprime.com/admin/wp-content/uploads/2021/07/Amazon-Homepage-Icon.webp\n",
      "https://prepinstaprime.com/admin/wp-content/uploads/2021/07/Cisco-Homepage-Icon.webp\n",
      "https://prepinstaprime.com/admin/wp-content/uploads/2021/07/Oracle-Homepage-Icon.webp\n",
      "https://prepinstaprime.com/admin/wp-content/uploads/2021/07/Nalsoft-Homepage-Icon.webp\n",
      "https://prepinstaprime.com/admin/wp-content/uploads/2021/07/Vuram-Homepage-Icon.webp\n",
      "https://prepinstaprime.com/admin/wp-content/uploads/2021/07/Bosch-Homepage-Icon.webp\n",
      "https://prepinstaprime.com/admin/wp-content/uploads/2021/07/Gainsight-Homepage-Icon.webp\n",
      "https://prepinstaprime.com/admin/wp-content/uploads/2021/07/ADP-Homepage-Icon.webp\n",
      "https://prepinstaprime.com/admin/wp-content/uploads/2021/07/TresVista-Homepage-Icon.webp\n",
      "https://prepinstaprime.com/admin/wp-content/uploads/2021/07/Zoho-Homepage-Icon.webp\n",
      "https://prepinstaprime.com/admin/wp-content/uploads/2021/11/TCS_HomeThumb.webp\n",
      "https://prepinstaprime.com/admin/wp-content/uploads/2022/05/InfyTQ-home-page.webp\n",
      "https://prepinstaprime.com/admin/wp-content/uploads/2022/09/Tech-mahindra-home-thumb.webp\n"
     ]
    },
    {
     "name": "stdout",
     "output_type": "stream",
     "text": [
      "https://prepinstaprime.com/admin/wp-content/uploads/2021/11/Deloitte_HomeThumb.webp\n",
      "https://prepinstaprime.com/admin/wp-content/uploads/2021/11/Cognizant_HomeThumb.webp\n",
      "https://prepinstaprime.com/admin/wp-content/uploads/2021/11/Adobe_HomeThumb.webp\n",
      "https://prepinstaprime.com/admin/wp-content/uploads/2021/11/Microsoft_HomeThumb.webp\n",
      "https://prepinstaprime.com/admin/wp-content/uploads/2021/11/Capgemini_HomeThumb.webp\n",
      "https://prepinstaprime.com/admin/wp-content/uploads/2021/11/Mindtree_HomeThumb.webp\n",
      "https://prepinstaprime.com/admin/wp-content/uploads/2021/11/NTT-Data_HomeThumb.webp\n",
      "https://prepinstaprime.com/admin/wp-content/uploads/2021/11/IBM_HomeThumb.webp\n",
      "https://prepinstaprime.com/admin/wp-content/uploads/2021/11/Wipro_HomeThumb.webp\n",
      "https://prepinstaprime.com/admin/wp-content/uploads/2021/12/Goldman-Sachs-Interview-Preparation.png\n",
      "https://prepinstaprime.com/admin/wp-content/uploads/2021/12/Accenture-Interview-Preparation.png\n",
      "https://prepinstaprime.com/admin/wp-content/uploads/2021/12/CISCO-Interview-Preparation.png\n",
      "https://prepinstaprime.com/admin/wp-content/uploads/2022/01/LTI-Interview-Preparation.png\n",
      "https://prepinstaprime.com/admin/wp-content/uploads/2022/02/ZS-Associates-Interview-Preparation-Course.webp\n",
      "https://prepinstaprime.com/admin/wp-content/uploads/2022/07/DXC-Technology-Interview-Preparation.webp\n",
      "https://prepinstaprime.com/admin/wp-content/uploads/2022/07/Infosys-SP-and-DSE-Interview-Prep.webp\n",
      "https://prepinstaprime.com/admin/wp-content/uploads/2022/08/Amazon.webp\n",
      "https://prepinstaprime.com/admin/wp-content/uploads/2021/11/Infosys_HomeThumb.webp\n",
      "https://prepinstaprime.com/admin/wp-content/uploads/2022/04/CoCubes-icon.webp\n",
      "https://prepinstaprime.com/admin/wp-content/uploads/2022/04/AMCAT-Course.webp\n",
      "https://prepinstaprime.com/admin/wp-content/uploads/2021/06/HackerRank-Course.png\n",
      "https://prepinstaprime.com/admin/wp-content/uploads/2022/04/Mettl-icon.webp\n",
      "https://prepinstaprime.com/admin/wp-content/uploads/2021/06/HackerEarth-Course.png\n",
      "https://prepinstaprime.com/admin/wp-content/uploads/2021/06/FirstNaukri-Course.png\n",
      "https://prepinstaprime.com/admin/wp-content/uploads/2022/04/MyAnatomy-Course.webp\n",
      "https://prepinstaprime.com/admin/wp-content/uploads/2022/04/WECP-Course.webp\n",
      "https://prepinstaprime.com/admin/wp-content/uploads/2021/06/eLitmus-Course.png\n",
      "https://prepinstaprime.com/admin/wp-content/uploads/2021/07/Copy-of-Achievers-Course-1.webp\n",
      "https://prepinstaprime.com/admin/wp-content/uploads/2021/07/pokemon-Homepage-Icon1.webp\n",
      "https://prepinstaprime.com/admin/wp-content/uploads/2021/07/amazon-user-segmentation-Homepage-Icon.webp\n",
      "https://prepinstaprime.com/admin/wp-content/uploads/2021/07/zomato-review-analysis-Homepage-Icon.webp\n",
      "https://prepinstaprime.com/admin/wp-content/uploads/2021/07/American-express-Homepage-Icon.-Home-Page-Icon.webp\n",
      "https://prepinstaprime.com/admin/wp-content/uploads/2021/07/imaged-based-species-Homepage-Icon1.webp\n",
      "https://prepinstaprime.com/admin/wp-content/uploads/2021/07/netflix-recommendation-Homepage-Icon.webp\n",
      "https://prepinstaprime.com/admin/wp-content/uploads/2021/07/facebook-ads-Homepage-Icon1.webp\n",
      "https://prepinstaprime.com/admin/wp-content/uploads/2021/07/breast-cancer-detection-Homepage-Icon1.webp\n",
      "https://prepinstaprime.com/admin/wp-content/uploads/2021/10/big-basket-cart-prediction_home-1.webp\n",
      "https://prepinstaprime.com/admin/wp-content/uploads/2021/07/Operating-SYstem-Home-Page-Icon.webp\n",
      "https://prepinstaprime.com/admin/wp-content/uploads/2021/07/DBMS-Homepage-Icon.webp\n",
      "https://prepinstaprime.com/admin/wp-content/uploads/2021/07/SDLC-Home-Page-Icon.webp\n",
      "https://prepinstaprime.com/admin/wp-content/uploads/2021/07/Computer-Networks-Home-Page-Iconwebp.webp\n",
      "https://prepinstaprime.com/admin/wp-content/uploads/2021/07/SQL-Homepage-Icon.webp\n",
      "https://prepinstaprime.com/admin/wp-content/uploads/2021/07/Pseudo-Code-Home-Page-Iconwebp.webp\n",
      "https://prepinstaprime.com/admin/wp-content/uploads/2021/07/Automata-Fix-Home-Page-Icon.webp\n",
      "https://prepinstaprime.com/admin/wp-content/uploads/2021/07/Interview-ExperienceService-based-Home-Page-Icon.webp\n",
      "https://prepinstaprime.com/admin/wp-content/uploads/2021/07/Interview-Experienceproduct-based-HomePage-Icon.webp\n",
      "https://prepinstaprime.com/admin/wp-content/uploads/2021/11/resume-home-thumb.webp\n",
      "https://prepinstaprime.com/admin/wp-content/uploads/2021/11/Guesstimate-home-thumb.webp\n",
      "https://prepinstaprime.com/admin/wp-content/uploads/2021/11/Group-discussion-home-thumb.webp\n",
      "https://prepinstaprime.com/admin/wp-content/uploads/2021/11/Puzzels-home-thumb.webp\n",
      "https://prepinstaprime.com/admin/wp-content/uploads/2021/11/HR-Prep-Home-thumb.webp\n",
      "https://prepinstaprime.com/admin/wp-content/uploads/2021/11/Github-home-thumb.webp\n",
      "https://prepinstaprime.com/assets/dots-less.png\n",
      "https://prepinstaprime.com/admin/wp-content/uploads/2021/07/Certifications.png\n",
      "https://prepinstaprime.com/admin/wp-content/uploads/2021/07/Certifications.png\n",
      "https://prepinstaprime.com/admin/wp-content/uploads/2021/07/Certifications.png\n",
      "https://prepinstaprime.com/admin/wp-content/uploads/2021/07/Certifications.png\n",
      "https://prepinstaprime.com/assets/dots-less.png\n",
      "https://prepinstaprime.com/admin/wp-content/uploads/2021/03/1.png\n",
      "https://prepinstaprime.com/admin/wp-content/uploads/2021/03/2.png\n",
      "https://prepinstaprime.com/admin/wp-content/uploads/2022/06/unnamed.png\n",
      "https://prepinstaprime.com/assets/download.png\n",
      "https://prepinstaprime.com/admin/wp-content/uploads/2021/10/Certification.webp\n",
      "https://prepinstaprime.com/admin/wp-content/uploads/2021/08/TCS-iON-RIO-Certification.jpg\n",
      "https://prepinstaprime.com/admin/wp-content/uploads/2022/06/unnamed.png\n",
      "None\n",
      "https://prepinstaprime.com/assets/syllabus.png\n",
      "https://prepinstaprime.com/assets/demo-video.png\n"
     ]
    }
   ],
   "source": [
    "for img in images:\n",
    "    print(img.get_attribute(\"src\"))"
   ]
  },
  {
   "cell_type": "code",
   "execution_count": 44,
   "metadata": {},
   "outputs": [
    {
     "name": "stdout",
     "output_type": "stream",
     "text": [
      "Image sucessfully Downloaded:  img1\n"
     ]
    }
   ],
   "source": [
    "import requests \n",
    "import shutil \n",
    "\n",
    "url = 'https://prepinstaprime.com/admin/wp-content/uploads/2021/07/Ethical-Hacking-Homepage-Icon.webp'\n",
    "# url = 'https://prepinstaprime.com/admin/wp-content/uploads/2022/02/Image-25.png'\n",
    "\n",
    "res = requests.get(url, stream = True)\n",
    "file_name = 'img1'\n",
    "\n",
    "if res.status_code == 200:\n",
    "    with open(file_name,'wb') as f:\n",
    "        shutil.copyfileobj(res.raw, f)\n",
    "    print('Image sucessfully Downloaded: ',file_name)\n",
    "else:\n",
    "    print('Image Couldn\\'t be retrieved')"
   ]
  },
  {
   "cell_type": "code",
   "execution_count": 47,
   "metadata": {},
   "outputs": [
    {
     "ename": "MissingSchema",
     "evalue": "Invalid URL 'None': No schema supplied. Perhaps you meant http://None?",
     "output_type": "error",
     "traceback": [
      "\u001b[0;31m---------------------------------------------------------------------------\u001b[0m",
      "\u001b[0;31mMissingSchema\u001b[0m                             Traceback (most recent call last)",
      "\u001b[0;32m<ipython-input-47-b0389991de52>\u001b[0m in \u001b[0;36m<module>\u001b[0;34m\u001b[0m\n\u001b[1;32m      5\u001b[0m     \u001b[0mfile_name\u001b[0m \u001b[0;34m=\u001b[0m \u001b[0mstr\u001b[0m\u001b[0;34m(\u001b[0m\u001b[0mcount\u001b[0m\u001b[0;34m)\u001b[0m \u001b[0;34m+\u001b[0m \u001b[0;34m'.png'\u001b[0m\u001b[0;34m\u001b[0m\u001b[0;34m\u001b[0m\u001b[0m\n\u001b[1;32m      6\u001b[0m     \u001b[0murl\u001b[0m \u001b[0;34m=\u001b[0m \u001b[0mimg\u001b[0m\u001b[0;34m.\u001b[0m\u001b[0mget_attribute\u001b[0m\u001b[0;34m(\u001b[0m\u001b[0;34m'src'\u001b[0m\u001b[0;34m)\u001b[0m\u001b[0;34m\u001b[0m\u001b[0;34m\u001b[0m\u001b[0m\n\u001b[0;32m----> 7\u001b[0;31m     \u001b[0mres\u001b[0m \u001b[0;34m=\u001b[0m \u001b[0mrequests\u001b[0m\u001b[0;34m.\u001b[0m\u001b[0mget\u001b[0m\u001b[0;34m(\u001b[0m\u001b[0murl\u001b[0m\u001b[0;34m,\u001b[0m \u001b[0mstream\u001b[0m \u001b[0;34m=\u001b[0m \u001b[0;32mTrue\u001b[0m\u001b[0;34m)\u001b[0m\u001b[0;34m\u001b[0m\u001b[0;34m\u001b[0m\u001b[0m\n\u001b[0m\u001b[1;32m      8\u001b[0m \u001b[0;34m\u001b[0m\u001b[0m\n\u001b[1;32m      9\u001b[0m     \u001b[0;32mwith\u001b[0m \u001b[0mopen\u001b[0m\u001b[0;34m(\u001b[0m\u001b[0mfile_name\u001b[0m\u001b[0;34m,\u001b[0m\u001b[0;34m'wb'\u001b[0m\u001b[0;34m)\u001b[0m \u001b[0;32mas\u001b[0m \u001b[0mf\u001b[0m\u001b[0;34m:\u001b[0m\u001b[0;34m\u001b[0m\u001b[0;34m\u001b[0m\u001b[0m\n",
      "\u001b[0;32m/opt/anaconda3/lib/python3.8/site-packages/requests/api.py\u001b[0m in \u001b[0;36mget\u001b[0;34m(url, params, **kwargs)\u001b[0m\n\u001b[1;32m     74\u001b[0m \u001b[0;34m\u001b[0m\u001b[0m\n\u001b[1;32m     75\u001b[0m     \u001b[0mkwargs\u001b[0m\u001b[0;34m.\u001b[0m\u001b[0msetdefault\u001b[0m\u001b[0;34m(\u001b[0m\u001b[0;34m'allow_redirects'\u001b[0m\u001b[0;34m,\u001b[0m \u001b[0;32mTrue\u001b[0m\u001b[0;34m)\u001b[0m\u001b[0;34m\u001b[0m\u001b[0;34m\u001b[0m\u001b[0m\n\u001b[0;32m---> 76\u001b[0;31m     \u001b[0;32mreturn\u001b[0m \u001b[0mrequest\u001b[0m\u001b[0;34m(\u001b[0m\u001b[0;34m'get'\u001b[0m\u001b[0;34m,\u001b[0m \u001b[0murl\u001b[0m\u001b[0;34m,\u001b[0m \u001b[0mparams\u001b[0m\u001b[0;34m=\u001b[0m\u001b[0mparams\u001b[0m\u001b[0;34m,\u001b[0m \u001b[0;34m**\u001b[0m\u001b[0mkwargs\u001b[0m\u001b[0;34m)\u001b[0m\u001b[0;34m\u001b[0m\u001b[0;34m\u001b[0m\u001b[0m\n\u001b[0m\u001b[1;32m     77\u001b[0m \u001b[0;34m\u001b[0m\u001b[0m\n\u001b[1;32m     78\u001b[0m \u001b[0;34m\u001b[0m\u001b[0m\n",
      "\u001b[0;32m/opt/anaconda3/lib/python3.8/site-packages/requests/api.py\u001b[0m in \u001b[0;36mrequest\u001b[0;34m(method, url, **kwargs)\u001b[0m\n\u001b[1;32m     59\u001b[0m     \u001b[0;31m# cases, and look like a memory leak in others.\u001b[0m\u001b[0;34m\u001b[0m\u001b[0;34m\u001b[0m\u001b[0;34m\u001b[0m\u001b[0m\n\u001b[1;32m     60\u001b[0m     \u001b[0;32mwith\u001b[0m \u001b[0msessions\u001b[0m\u001b[0;34m.\u001b[0m\u001b[0mSession\u001b[0m\u001b[0;34m(\u001b[0m\u001b[0;34m)\u001b[0m \u001b[0;32mas\u001b[0m \u001b[0msession\u001b[0m\u001b[0;34m:\u001b[0m\u001b[0;34m\u001b[0m\u001b[0;34m\u001b[0m\u001b[0m\n\u001b[0;32m---> 61\u001b[0;31m         \u001b[0;32mreturn\u001b[0m \u001b[0msession\u001b[0m\u001b[0;34m.\u001b[0m\u001b[0mrequest\u001b[0m\u001b[0;34m(\u001b[0m\u001b[0mmethod\u001b[0m\u001b[0;34m=\u001b[0m\u001b[0mmethod\u001b[0m\u001b[0;34m,\u001b[0m \u001b[0murl\u001b[0m\u001b[0;34m=\u001b[0m\u001b[0murl\u001b[0m\u001b[0;34m,\u001b[0m \u001b[0;34m**\u001b[0m\u001b[0mkwargs\u001b[0m\u001b[0;34m)\u001b[0m\u001b[0;34m\u001b[0m\u001b[0;34m\u001b[0m\u001b[0m\n\u001b[0m\u001b[1;32m     62\u001b[0m \u001b[0;34m\u001b[0m\u001b[0m\n\u001b[1;32m     63\u001b[0m \u001b[0;34m\u001b[0m\u001b[0m\n",
      "\u001b[0;32m/opt/anaconda3/lib/python3.8/site-packages/requests/sessions.py\u001b[0m in \u001b[0;36mrequest\u001b[0;34m(self, method, url, params, data, headers, cookies, files, auth, timeout, allow_redirects, proxies, hooks, stream, verify, cert, json)\u001b[0m\n\u001b[1;32m    514\u001b[0m             \u001b[0mhooks\u001b[0m\u001b[0;34m=\u001b[0m\u001b[0mhooks\u001b[0m\u001b[0;34m,\u001b[0m\u001b[0;34m\u001b[0m\u001b[0;34m\u001b[0m\u001b[0m\n\u001b[1;32m    515\u001b[0m         )\n\u001b[0;32m--> 516\u001b[0;31m         \u001b[0mprep\u001b[0m \u001b[0;34m=\u001b[0m \u001b[0mself\u001b[0m\u001b[0;34m.\u001b[0m\u001b[0mprepare_request\u001b[0m\u001b[0;34m(\u001b[0m\u001b[0mreq\u001b[0m\u001b[0;34m)\u001b[0m\u001b[0;34m\u001b[0m\u001b[0;34m\u001b[0m\u001b[0m\n\u001b[0m\u001b[1;32m    517\u001b[0m \u001b[0;34m\u001b[0m\u001b[0m\n\u001b[1;32m    518\u001b[0m         \u001b[0mproxies\u001b[0m \u001b[0;34m=\u001b[0m \u001b[0mproxies\u001b[0m \u001b[0;32mor\u001b[0m \u001b[0;34m{\u001b[0m\u001b[0;34m}\u001b[0m\u001b[0;34m\u001b[0m\u001b[0;34m\u001b[0m\u001b[0m\n",
      "\u001b[0;32m/opt/anaconda3/lib/python3.8/site-packages/requests/sessions.py\u001b[0m in \u001b[0;36mprepare_request\u001b[0;34m(self, request)\u001b[0m\n\u001b[1;32m    447\u001b[0m \u001b[0;34m\u001b[0m\u001b[0m\n\u001b[1;32m    448\u001b[0m         \u001b[0mp\u001b[0m \u001b[0;34m=\u001b[0m \u001b[0mPreparedRequest\u001b[0m\u001b[0;34m(\u001b[0m\u001b[0;34m)\u001b[0m\u001b[0;34m\u001b[0m\u001b[0;34m\u001b[0m\u001b[0m\n\u001b[0;32m--> 449\u001b[0;31m         p.prepare(\n\u001b[0m\u001b[1;32m    450\u001b[0m             \u001b[0mmethod\u001b[0m\u001b[0;34m=\u001b[0m\u001b[0mrequest\u001b[0m\u001b[0;34m.\u001b[0m\u001b[0mmethod\u001b[0m\u001b[0;34m.\u001b[0m\u001b[0mupper\u001b[0m\u001b[0;34m(\u001b[0m\u001b[0;34m)\u001b[0m\u001b[0;34m,\u001b[0m\u001b[0;34m\u001b[0m\u001b[0;34m\u001b[0m\u001b[0m\n\u001b[1;32m    451\u001b[0m             \u001b[0murl\u001b[0m\u001b[0;34m=\u001b[0m\u001b[0mrequest\u001b[0m\u001b[0;34m.\u001b[0m\u001b[0murl\u001b[0m\u001b[0;34m,\u001b[0m\u001b[0;34m\u001b[0m\u001b[0;34m\u001b[0m\u001b[0m\n",
      "\u001b[0;32m/opt/anaconda3/lib/python3.8/site-packages/requests/models.py\u001b[0m in \u001b[0;36mprepare\u001b[0;34m(self, method, url, headers, files, data, params, auth, cookies, hooks, json)\u001b[0m\n\u001b[1;32m    312\u001b[0m \u001b[0;34m\u001b[0m\u001b[0m\n\u001b[1;32m    313\u001b[0m         \u001b[0mself\u001b[0m\u001b[0;34m.\u001b[0m\u001b[0mprepare_method\u001b[0m\u001b[0;34m(\u001b[0m\u001b[0mmethod\u001b[0m\u001b[0;34m)\u001b[0m\u001b[0;34m\u001b[0m\u001b[0;34m\u001b[0m\u001b[0m\n\u001b[0;32m--> 314\u001b[0;31m         \u001b[0mself\u001b[0m\u001b[0;34m.\u001b[0m\u001b[0mprepare_url\u001b[0m\u001b[0;34m(\u001b[0m\u001b[0murl\u001b[0m\u001b[0;34m,\u001b[0m \u001b[0mparams\u001b[0m\u001b[0;34m)\u001b[0m\u001b[0;34m\u001b[0m\u001b[0;34m\u001b[0m\u001b[0m\n\u001b[0m\u001b[1;32m    315\u001b[0m         \u001b[0mself\u001b[0m\u001b[0;34m.\u001b[0m\u001b[0mprepare_headers\u001b[0m\u001b[0;34m(\u001b[0m\u001b[0mheaders\u001b[0m\u001b[0;34m)\u001b[0m\u001b[0;34m\u001b[0m\u001b[0;34m\u001b[0m\u001b[0m\n\u001b[1;32m    316\u001b[0m         \u001b[0mself\u001b[0m\u001b[0;34m.\u001b[0m\u001b[0mprepare_cookies\u001b[0m\u001b[0;34m(\u001b[0m\u001b[0mcookies\u001b[0m\u001b[0;34m)\u001b[0m\u001b[0;34m\u001b[0m\u001b[0;34m\u001b[0m\u001b[0m\n",
      "\u001b[0;32m/opt/anaconda3/lib/python3.8/site-packages/requests/models.py\u001b[0m in \u001b[0;36mprepare_url\u001b[0;34m(self, url, params)\u001b[0m\n\u001b[1;32m    386\u001b[0m             \u001b[0merror\u001b[0m \u001b[0;34m=\u001b[0m \u001b[0merror\u001b[0m\u001b[0;34m.\u001b[0m\u001b[0mformat\u001b[0m\u001b[0;34m(\u001b[0m\u001b[0mto_native_string\u001b[0m\u001b[0;34m(\u001b[0m\u001b[0murl\u001b[0m\u001b[0;34m,\u001b[0m \u001b[0;34m'utf8'\u001b[0m\u001b[0;34m)\u001b[0m\u001b[0;34m)\u001b[0m\u001b[0;34m\u001b[0m\u001b[0;34m\u001b[0m\u001b[0m\n\u001b[1;32m    387\u001b[0m \u001b[0;34m\u001b[0m\u001b[0m\n\u001b[0;32m--> 388\u001b[0;31m             \u001b[0;32mraise\u001b[0m \u001b[0mMissingSchema\u001b[0m\u001b[0;34m(\u001b[0m\u001b[0merror\u001b[0m\u001b[0;34m)\u001b[0m\u001b[0;34m\u001b[0m\u001b[0;34m\u001b[0m\u001b[0m\n\u001b[0m\u001b[1;32m    389\u001b[0m \u001b[0;34m\u001b[0m\u001b[0m\n\u001b[1;32m    390\u001b[0m         \u001b[0;32mif\u001b[0m \u001b[0;32mnot\u001b[0m \u001b[0mhost\u001b[0m\u001b[0;34m:\u001b[0m\u001b[0;34m\u001b[0m\u001b[0;34m\u001b[0m\u001b[0m\n",
      "\u001b[0;31mMissingSchema\u001b[0m: Invalid URL 'None': No schema supplied. Perhaps you meant http://None?"
     ]
    }
   ],
   "source": [
    "count = 1\n",
    "\n",
    "for img in images:\n",
    "    \n",
    "    file_name = str(count) + '.png'\n",
    "    url = img.get_attribute('src')\n",
    "    res = requests.get(url, stream = True)\n",
    "    \n",
    "    with open(file_name,'wb') as f:\n",
    "        shutil.copyfileobj(res.raw, f)\n",
    "    \n",
    "    count += 1"
   ]
  },
  {
   "cell_type": "code",
   "execution_count": 2,
   "metadata": {},
   "outputs": [],
   "source": [
    "# #methods that can be applied on \n",
    "# click()\n",
    "# clear()\n",
    "# get_attribute(name)\n",
    "# get_property(name) - text_length or state of checkbox while attribute is like HREF or SRC\n",
    "# is_displayed()\n",
    "# is_enabled()  : returns True/False : radio/checkbox\n",
    "# is_selected()\n",
    "# screenshot(filename)\n",
    "# submit()\n",
    "# value_of_css_property(property_name)\n",
    "# location\n",
    "# parent\n",
    "# size\n",
    "# tag_name\n",
    "# text\n",
    "# send_keys(*value) "
   ]
  },
  {
   "cell_type": "code",
   "execution_count": null,
   "metadata": {},
   "outputs": [],
   "source": []
  },
  {
   "cell_type": "code",
   "execution_count": null,
   "metadata": {},
   "outputs": [],
   "source": []
  }
 ],
 "metadata": {
  "kernelspec": {
   "display_name": "Python 3",
   "language": "python",
   "name": "python3"
  },
  "language_info": {
   "codemirror_mode": {
    "name": "ipython",
    "version": 3
   },
   "file_extension": ".py",
   "mimetype": "text/x-python",
   "name": "python",
   "nbconvert_exporter": "python",
   "pygments_lexer": "ipython3",
   "version": "3.8.5"
  }
 },
 "nbformat": 4,
 "nbformat_minor": 4
}
