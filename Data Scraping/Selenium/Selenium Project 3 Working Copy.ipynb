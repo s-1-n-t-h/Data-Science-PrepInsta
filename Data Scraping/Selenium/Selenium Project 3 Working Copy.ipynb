{
 "cells": [
  {
   "cell_type": "code",
   "execution_count": 2,
   "metadata": {},
   "outputs": [
    {
     "name": "stderr",
     "output_type": "stream",
     "text": [
      "[WDM] - Downloading: 100%|██████████| 8.08M/8.08M [00:19<00:00, 1.72MB/s]"
     ]
    }
   ],
   "source": [
    "from selenium import webdriver\n",
    "from selenium.webdriver.chrome.service import Service\n",
    "from webdriver_manager.chrome import ChromeDriverManager\n",
    "\n",
    "driver = webdriver.Chrome(service=Service(ChromeDriverManager().install()))\n",
    "driver.get(\"https://www.youtube.com\")"
   ]
  },
  {
   "cell_type": "code",
   "execution_count": 3,
   "metadata": {},
   "outputs": [
    {
     "data": {
      "text/plain": [
       "''"
      ]
     },
     "execution_count": 3,
     "metadata": {},
     "output_type": "execute_result"
    }
   ],
   "source": [
    "from selenium.webdriver.common.by import By\n",
    "\n",
    "# google autocapitalizes search to Search in text box always trust inspect element\n",
    "input_box = driver.find_element(By.XPATH, \"//input[@id='search']\")\n",
    "input_box.text"
   ]
  },
  {
   "cell_type": "code",
   "execution_count": 4,
   "metadata": {},
   "outputs": [],
   "source": [
    "input_box.send_keys('billboard top 50 this week')\n",
    "input_box.submit()"
   ]
  },
  {
   "cell_type": "code",
   "execution_count": 15,
   "metadata": {},
   "outputs": [],
   "source": [
    "# google autocapitalizes View full playlist to VIEW FULL PLAYLIST in text box always trust inspect element\n",
    "\n",
    "playlist_link = driver.find_element(By.XPATH, \"\")\n",
    "playlist_link.click()"
   ]
  },
  {
   "cell_type": "code",
   "execution_count": 5,
   "metadata": {},
   "outputs": [],
   "source": [
    "# //a[@id=\"video-title\"] wont work as hidden classes\n",
    "\n",
    "playlist_link = driver.find_element(By.XPATH, \"//a[contains(text(), 'View full playlist')]\")\n",
    "playlist_link.click()"
   ]
  },
  {
   "cell_type": "code",
   "execution_count": 8,
   "metadata": {},
   "outputs": [
    {
     "name": "stdout",
     "output_type": "stream",
     "text": [
      "Rank  1 : The Kid LAROI, Justin Bieber - STAY (Official Video)\n",
      "Rank  2 : Harry Styles - As It Was (Official Video)\n",
      "Rank  3 : Adele - Easy On Me (Official Video)\n",
      "Rank  4 : Glass Animals - Heat Waves (Official Video)\n",
      "Rank  5 : BLEU & Nicki Minaj - Love In The Way (Official Video)\n",
      "Rank  6 : David Guetta & Bebe Rexha - I'm Good (Blue) [Official Music Video]\n",
      "Rank  7 : OneRepublic - I Ain’t Worried (From “Top Gun: Maverick”) [Official Music Video]\n",
      "Rank  8 : Bad Bunny (ft. Chencho Corleone) - Me Porto Bonito (Official Video) | Un Verano Sin Ti\n",
      "Rank  9 : BLACKPINK - ‘Pink Venom’ M/V\n",
      "Rank  10 : Ed Sheeran - Bad Habits [Official Video]\n",
      "Rank  11 : BTS (방탄소년단) 'Yet To Come (The Most Beautiful Moment)' Official MV\n",
      "Rank  12 : Harry Styles - Late Night Talking (Official Video)\n",
      "Rank  13 : Jack Harlow - First Class [Official Music Video]\n",
      "Rank  14 : Post Malone - I Like You (A Happier Song) w. Doja Cat [Official Music Video]\n",
      "Rank  15 : Elton John, Dua Lipa - Cold Heart (PNAU Remix) (Official Video)\n",
      "Rank  16 : Justin Bieber - Ghost\n",
      "Rank  17 : Adele - Oh My God (Official Video)\n",
      "Rank  18 : GAYLE - abcdefu (Official Music Video)\n",
      "Rank  19 : Ed Sheeran - Shivers [Official Video]\n",
      "Rank  20 : Olivia Rodrigo - good 4 u (Official Video)\n",
      "Rank  21 : Dua Lipa - Levitating Featuring DaBaby (Official Music Video)\n",
      "Rank  22 : Ed Sheeran - The Joker And The Queen (feat. Taylor Swift) [Official Video]\n",
      "Rank  23 : Masked Wolf - Astronaut In The Ocean (Official Music Video)\n",
      "Rank  24 : BTS (방탄소년단) 'Permission to Dance' Official MV\n",
      "Rank  25 : Drake ft. Future and Young Thug - Way 2 Sexy (Official Video)\n",
      "Rank  26 : Justin Bieber - Peaches ft. Daniel Caesar, Giveon\n",
      "Rank  27 : The Weeknd - Save Your Tears (Official Music Video)\n",
      "Rank  28 : DDG - Elon Musk ft. Gunna (Official Music Video)\n",
      "Rank  29 : Lil Nas X - MONTERO (Call Me By Your Name) (Official Video)\n",
      "Rank  30 : Camila Cabello - Don't Go Yet (Official Video)\n",
      "Rank  31 : Doja Cat - Kiss Me More (Official Video) ft. SZA\n",
      "Rank  32 : Billie Eilish - Therefore I Am (Official Music Video)\n",
      "Rank  33 : BLACKPINK - 'Lovesick Girls' M/V\n",
      "Rank  34 : Kali Uchis – telepatía [Official Music Video]\n",
      "Rank  35 : Lil Tjay - Calling My Phone (feat. 6LACK) [Official Video]\n",
      "Rank  36 : ROSÉ - 'On The Ground' M/V\n",
      "Rank  37 : Tiësto - The Business (Official Music Video)\n",
      "Rank  38 : Ariana Grande - positions (official video)\n",
      "Rank  39 : BAD BUNNY x JHAY CORTEZ - DÁKITI | EL ÚLTIMO TOUR DEL MUNDO (Official Video)\n",
      "Rank  40 : Bruno Mars, Anderson .Paak, Silk Sonic - Leave the Door Open [Official Video]\n",
      "Rank  41 : blackbear - hot girl bummer [Low Budget Video]\n",
      "Rank  42 : The Weeknd - Blinding Lights (Official Audio)\n",
      "Rank  43 : Doja Cat - Streets (Official Video)\n",
      "Rank  44 : 24kGoldn - Mood (Official Video) ft. iann dior\n",
      "Rank  45 : The Weeknd - Blinding Lights (Official Video)\n",
      "Rank  46 : Justin Bieber - Holy ft. Chance The Rapper\n",
      "Rank  47 : Doja Cat - Say So (Official Video)\n",
      "Rank  48 : Drake - Laugh Now Cry Later (Official Music Video) ft. Lil Durk\n",
      "Rank  49 : Dua Lipa - Break My Heart (Official Video)\n",
      "Rank  50 : Olivia Rodrigo - drivers license (Official Video)\n"
     ]
    }
   ],
   "source": [
    "video_names = list(driver.find_elements(By.CSS_SELECTOR, \"ytd-browse div#container div#meta a#video-title\"))\n",
    "\n",
    "for rank, video in enumerate(video_names, 1):\n",
    "    print(\"Rank \", str(rank) + \" : \" + video.text)\n",
    "    if rank >= 50:\n",
    "        break"
   ]
  },
  {
   "cell_type": "code",
   "execution_count": null,
   "metadata": {},
   "outputs": [],
   "source": []
  }
 ],
 "metadata": {
  "kernelspec": {
   "display_name": "Python 3 (ipykernel)",
   "language": "python",
   "name": "python3"
  },
  "language_info": {
   "codemirror_mode": {
    "name": "ipython",
    "version": 3
   },
   "file_extension": ".py",
   "mimetype": "text/x-python",
   "name": "python",
   "nbconvert_exporter": "python",
   "pygments_lexer": "ipython3",
   "version": "3.8.10"
  }
 },
 "nbformat": 4,
 "nbformat_minor": 4
}
