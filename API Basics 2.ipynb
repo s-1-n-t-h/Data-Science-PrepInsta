{
 "cells": [
  {
   "cell_type": "code",
   "execution_count": 3,
   "id": "1ed63500",
   "metadata": {},
   "outputs": [
    {
     "data": {
      "text/plain": [
       "<Response [200]>"
      ]
     },
     "execution_count": 3,
     "metadata": {},
     "output_type": "execute_result"
    }
   ],
   "source": [
    "import requests\n",
    "\n",
    "response = requests.get('https://randomuser.me/api/')\n",
    "response"
   ]
  },
  {
   "cell_type": "code",
   "execution_count": 4,
   "id": "23355543",
   "metadata": {},
   "outputs": [
    {
     "data": {
      "text/plain": [
       "'{\"results\":[{\"gender\":\"female\",\"name\":{\"title\":\"Mrs\",\"first\":\"Enni\",\"last\":\"Korhonen\"},\"location\":{\"street\":{\"number\":2724,\"name\":\"Rautatienkatu\"},\"city\":\"Kuortane\",\"state\":\"Satakunta\",\"country\":\"Finland\",\"postcode\":36765,\"coordinates\":{\"latitude\":\"-24.0510\",\"longitude\":\"138.9799\"},\"timezone\":{\"offset\":\"-1:00\",\"description\":\"Azores, Cape Verde Islands\"}},\"email\":\"enni.korhonen@example.com\",\"login\":{\"uuid\":\"45864a6a-4ce4-4626-ab3a-506d3b6e8a0b\",\"username\":\"redfrog144\",\"password\":\"calibra\",\"salt\":\"V6sAjz5T\",\"md5\":\"f132d4a504e84069c9dc18bf11c9d482\",\"sha1\":\"d40790d643ed0ae2f091f3d1a371574f60b9480e\",\"sha256\":\"66b9d0d70d243f10b7bd6dae4a44d9b0bec55534a19d8cc636196f8260647d80\"},\"dob\":{\"date\":\"1965-12-23T06:51:59.819Z\",\"age\":56},\"registered\":{\"date\":\"2019-10-10T08:51:58.943Z\",\"age\":3},\"phone\":\"07-395-607\",\"cell\":\"045-562-11-01\",\"id\":{\"name\":\"HETU\",\"value\":\"NaNNA404undefined\"},\"picture\":{\"large\":\"https://randomuser.me/api/portraits/women/23.jpg\",\"medium\":\"https://randomuser.me/api/portraits/med/women/23.jpg\",\"thumbnail\":\"https://randomuser.me/api/portraits/thumb/women/23.jpg\"},\"nat\":\"FI\"}],\"info\":{\"seed\":\"8c77a97810dc1332\",\"results\":1,\"page\":1,\"version\":\"1.4\"}}'"
      ]
     },
     "execution_count": 4,
     "metadata": {},
     "output_type": "execute_result"
    }
   ],
   "source": [
    "response.text"
   ]
  },
  {
   "cell_type": "code",
   "execution_count": 21,
   "id": "a522c9b5",
   "metadata": {},
   "outputs": [
    {
     "data": {
      "text/plain": [
       "'{\"Emp_ID\":1}'"
      ]
     },
     "execution_count": 21,
     "metadata": {},
     "output_type": "execute_result"
    }
   ],
   "source": [
    "import json\n",
    "\n",
    "# creating a json string\n",
    "\n",
    "sample_json = '{\"Emp_ID\":1}'\n",
    "\n",
    "sample_json"
   ]
  },
  {
   "cell_type": "code",
   "execution_count": 22,
   "id": "590d6cf9",
   "metadata": {},
   "outputs": [
    {
     "data": {
      "text/plain": [
       "str"
      ]
     },
     "execution_count": 22,
     "metadata": {},
     "output_type": "execute_result"
    }
   ],
   "source": [
    "type(sample_json)"
   ]
  },
  {
   "cell_type": "code",
   "execution_count": 23,
   "id": "4713f07c",
   "metadata": {},
   "outputs": [],
   "source": [
    "# obtaining as a python object \n",
    "python_data  = json.loads(sample_json)"
   ]
  },
  {
   "cell_type": "code",
   "execution_count": 24,
   "id": "5f47fede",
   "metadata": {},
   "outputs": [
    {
     "data": {
      "text/plain": [
       "{'Emp_ID': 1}"
      ]
     },
     "execution_count": 24,
     "metadata": {},
     "output_type": "execute_result"
    }
   ],
   "source": [
    "python_data"
   ]
  },
  {
   "cell_type": "code",
   "execution_count": 25,
   "id": "b14c254b",
   "metadata": {},
   "outputs": [
    {
     "data": {
      "text/plain": [
       "dict"
      ]
     },
     "execution_count": 25,
     "metadata": {},
     "output_type": "execute_result"
    }
   ],
   "source": [
    "type(python_data)"
   ]
  },
  {
   "cell_type": "code",
   "execution_count": 33,
   "id": "1dbd6ee2",
   "metadata": {},
   "outputs": [],
   "source": [
    "json_data = '{\"name\":\"Atulya\",\"age\":28,\"city\":\"New Delhi\",\"some_val\":null}'"
   ]
  },
  {
   "cell_type": "code",
   "execution_count": 34,
   "id": "9931af10",
   "metadata": {},
   "outputs": [
    {
     "data": {
      "text/plain": [
       "str"
      ]
     },
     "execution_count": 34,
     "metadata": {},
     "output_type": "execute_result"
    }
   ],
   "source": [
    "type(json_data)"
   ]
  },
  {
   "cell_type": "code",
   "execution_count": 35,
   "id": "de06abaf",
   "metadata": {},
   "outputs": [],
   "source": [
    "python_obj = json.loads(json_data)"
   ]
  },
  {
   "cell_type": "code",
   "execution_count": 38,
   "id": "f724fbea",
   "metadata": {},
   "outputs": [
    {
     "name": "stdout",
     "output_type": "stream",
     "text": [
      "{'name': 'Atulya', 'age': 28, 'city': 'New Delhi', 'some_val': None}\n",
      "Atulya\n",
      "28\n",
      "New Delhi\n",
      "None\n",
      "<class 'str'>\n",
      "<class 'int'>\n",
      "<class 'str'>\n",
      "<class 'NoneType'>\n"
     ]
    }
   ],
   "source": [
    "print(python_obj)\n",
    "print(python_obj['name'])\n",
    "print(python_obj['age'])\n",
    "print(python_obj['city'])\n",
    "print(python_obj['some_val'])\n",
    "print(type(python_obj['name']))\n",
    "print(type(python_obj['age']))\n",
    "print(type(python_obj['city']))\n",
    "print(type(python_obj['some_val']))"
   ]
  },
  {
   "cell_type": "code",
   "execution_count": 39,
   "id": "abc72ffa",
   "metadata": {},
   "outputs": [],
   "source": [
    "json_data_new = '{\"Employee\":{\"name\":\"Atulya\",\"age\":28,\"city\":\"New Delhi\",\"some_val\":null}}'\n"
   ]
  },
  {
   "cell_type": "code",
   "execution_count": 40,
   "id": "5b9fe489",
   "metadata": {},
   "outputs": [],
   "source": [
    "python_data = json.loads(json_data_new)"
   ]
  },
  {
   "cell_type": "code",
   "execution_count": 41,
   "id": "36c55bfb",
   "metadata": {},
   "outputs": [
    {
     "data": {
      "text/plain": [
       "{'Employee': {'name': 'Atulya',\n",
       "  'age': 28,\n",
       "  'city': 'New Delhi',\n",
       "  'some_val': None}}"
      ]
     },
     "execution_count": 41,
     "metadata": {},
     "output_type": "execute_result"
    }
   ],
   "source": [
    "python_data"
   ]
  },
  {
   "cell_type": "code",
   "execution_count": 42,
   "id": "101b6c13",
   "metadata": {},
   "outputs": [
    {
     "data": {
      "text/plain": [
       "{'name': 'Atulya', 'age': 28, 'city': 'New Delhi', 'some_val': None}"
      ]
     },
     "execution_count": 42,
     "metadata": {},
     "output_type": "execute_result"
    }
   ],
   "source": [
    "python_data['Employee']"
   ]
  },
  {
   "cell_type": "code",
   "execution_count": 43,
   "id": "ebf1a1a2",
   "metadata": {},
   "outputs": [
    {
     "name": "stdout",
     "output_type": "stream",
     "text": [
      "<class 'dict'>\n"
     ]
    }
   ],
   "source": [
    "print(type(python_data['Employee']))"
   ]
  },
  {
   "cell_type": "code",
   "execution_count": 44,
   "id": "d064ba21",
   "metadata": {},
   "outputs": [
    {
     "data": {
      "text/plain": [
       "'Atulya'"
      ]
     },
     "execution_count": 44,
     "metadata": {},
     "output_type": "execute_result"
    }
   ],
   "source": [
    "python_data['Employee']['name']"
   ]
  },
  {
   "cell_type": "code",
   "execution_count": 45,
   "id": "9f9452d9",
   "metadata": {},
   "outputs": [
    {
     "name": "stdout",
     "output_type": "stream",
     "text": [
      "{'name': 'Atulya', 'age': 28, 'city': 'New Delhi', 'some_val': None}\n",
      "Atulya\n",
      "28\n",
      "New Delhi\n",
      "None\n",
      "<class 'str'>\n",
      "<class 'int'>\n",
      "<class 'str'>\n",
      "<class 'NoneType'>\n"
     ]
    }
   ],
   "source": [
    "employee = python_data['Employee']\n",
    "\n",
    "print(employee)\n",
    "print(employee['name'])\n",
    "print(employee['age'])\n",
    "print(employee['city'])\n",
    "print(employee['some_val'])\n",
    "print(type(employee['name']))\n",
    "print(type(employee['age']))\n",
    "print(type(employee['city']))\n",
    "print(type(employee['some_val']))\n"
   ]
  },
  {
   "cell_type": "code",
   "execution_count": 48,
   "id": "093885b4",
   "metadata": {},
   "outputs": [],
   "source": [
    "another = '{\"Cars\":[\"Volvo\",\"Audi\",\"McLaren\",\"Hyundai\"]}'"
   ]
  },
  {
   "cell_type": "code",
   "execution_count": 49,
   "id": "d6cc63ab",
   "metadata": {},
   "outputs": [],
   "source": [
    "another_python = json.loads(another)"
   ]
  },
  {
   "cell_type": "code",
   "execution_count": 50,
   "id": "63015751",
   "metadata": {},
   "outputs": [
    {
     "name": "stdout",
     "output_type": "stream",
     "text": [
      "Volvo\n",
      "Audi\n",
      "McLaren\n",
      "Hyundai\n"
     ]
    }
   ],
   "source": [
    "for item in another_python[\"Cars\"]:\n",
    "    print(item)"
   ]
  },
  {
   "cell_type": "code",
   "execution_count": null,
   "id": "1be4229c",
   "metadata": {},
   "outputs": [],
   "source": []
  }
 ],
 "metadata": {
  "kernelspec": {
   "display_name": "Python 3.9 (tensorflow)",
   "language": "python",
   "name": "tensorflow"
  },
  "language_info": {
   "codemirror_mode": {
    "name": "ipython",
    "version": 3
   },
   "file_extension": ".py",
   "mimetype": "text/x-python",
   "name": "python",
   "nbconvert_exporter": "python",
   "pygments_lexer": "ipython3",
   "version": "3.9.13"
  }
 },
 "nbformat": 4,
 "nbformat_minor": 5
}
