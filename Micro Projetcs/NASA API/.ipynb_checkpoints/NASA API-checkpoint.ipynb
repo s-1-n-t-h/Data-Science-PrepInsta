{
 "cells": [
  {
   "cell_type": "code",
   "execution_count": 1,
   "id": "3b3b0580",
   "metadata": {},
   "outputs": [],
   "source": [
    "# https://api.nasa.gov/mars-photos/api/v1/rovers/curiosity/photos?sol=1000&api_key=DEMO_KEY"
   ]
  },
  {
   "cell_type": "code",
   "execution_count": 1,
   "id": "75c64e1c",
   "metadata": {},
   "outputs": [],
   "source": [
    "import requests"
   ]
  },
  {
   "cell_type": "code",
   "execution_count": null,
   "id": "0bab4213",
   "metadata": {},
   "outputs": [],
   "source": [
    "api_key = 'DEMO_KEY'\n",
    "api_url = 'https://api.nasa.gov'\n",
    "params = {'sol':'1000'',api_key':api_key}\n",
    "header = {\"Accept\":'application/json'}\n",
    "\n",
    "response = requests.get(api_url+'')"
   ]
  }
 ],
 "metadata": {
  "kernelspec": {
   "display_name": "Python 3.9 (tensorflow)",
   "language": "python",
   "name": "tensorflow"
  },
  "language_info": {
   "codemirror_mode": {
    "name": "ipython",
    "version": 3
   },
   "file_extension": ".py",
   "mimetype": "text/x-python",
   "name": "python",
   "nbconvert_exporter": "python",
   "pygments_lexer": "ipython3",
   "version": "3.9.13"
  }
 },
 "nbformat": 4,
 "nbformat_minor": 5
}
