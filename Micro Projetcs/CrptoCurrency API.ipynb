{
 "cells": [
  {
   "cell_type": "code",
   "execution_count": 1,
   "id": "e9f82c9e",
   "metadata": {},
   "outputs": [],
   "source": [
    "# https://api.coindesk.com/v1/bpi/currentprice.json"
   ]
  },
  {
   "cell_type": "markdown",
   "id": "57810fa0",
   "metadata": {},
   "source": [
    "## Importing Libraries "
   ]
  },
  {
   "cell_type": "code",
   "execution_count": 28,
   "id": "94329f04",
   "metadata": {},
   "outputs": [],
   "source": [
    "import requests"
   ]
  },
  {
   "cell_type": "markdown",
   "id": "7c8dacf2",
   "metadata": {},
   "source": [
    "## Making Call to API"
   ]
  },
  {
   "cell_type": "code",
   "execution_count": 29,
   "id": "cb895454",
   "metadata": {},
   "outputs": [],
   "source": [
    "request = requests.get('https://api.coindesk.com/v1/bpi/currentprice.json')"
   ]
  },
  {
   "cell_type": "code",
   "execution_count": 40,
   "id": "c8a845d7",
   "metadata": {},
   "outputs": [
    {
     "name": "stdout",
     "output_type": "stream",
     "text": [
      "https://api.coindesk.com/v1/bpi/currentprice.json\n"
     ]
    }
   ],
   "source": [
    "print(request.url)"
   ]
  },
  {
   "cell_type": "markdown",
   "id": "af2a5e2c",
   "metadata": {},
   "source": [
    "## Getting JSON Data"
   ]
  },
  {
   "cell_type": "code",
   "execution_count": 30,
   "id": "3638183b",
   "metadata": {},
   "outputs": [],
   "source": [
    "data = request.json()"
   ]
  },
  {
   "cell_type": "code",
   "execution_count": 31,
   "id": "7aa8d3a8",
   "metadata": {},
   "outputs": [
    {
     "data": {
      "text/plain": [
       "{'time': {'updated': 'Dec 22, 2022 16:33:00 UTC',\n",
       "  'updatedISO': '2022-12-22T16:33:00+00:00',\n",
       "  'updateduk': 'Dec 22, 2022 at 16:33 GMT'},\n",
       " 'disclaimer': 'This data was produced from the CoinDesk Bitcoin Price Index (USD). Non-USD currency data converted using hourly conversion rate from openexchangerates.org',\n",
       " 'chartName': 'Bitcoin',\n",
       " 'bpi': {'USD': {'code': 'USD',\n",
       "   'symbol': '&#36;',\n",
       "   'rate': '16,673.4367',\n",
       "   'description': 'United States Dollar',\n",
       "   'rate_float': 16673.4367},\n",
       "  'GBP': {'code': 'GBP',\n",
       "   'symbol': '&pound;',\n",
       "   'rate': '13,932.1903',\n",
       "   'description': 'British Pound Sterling',\n",
       "   'rate_float': 13932.1903},\n",
       "  'EUR': {'code': 'EUR',\n",
       "   'symbol': '&euro;',\n",
       "   'rate': '16,242.3617',\n",
       "   'description': 'Euro',\n",
       "   'rate_float': 16242.3617}}}"
      ]
     },
     "execution_count": 31,
     "metadata": {},
     "output_type": "execute_result"
    }
   ],
   "source": [
    "data"
   ]
  },
  {
   "cell_type": "markdown",
   "id": "9c72dda7",
   "metadata": {},
   "source": [
    "## Instance of time when call was made"
   ]
  },
  {
   "cell_type": "code",
   "execution_count": 32,
   "id": "247a02b7",
   "metadata": {},
   "outputs": [],
   "source": [
    "time_date = data['time']['updated']"
   ]
  },
  {
   "cell_type": "markdown",
   "id": "b36646b4",
   "metadata": {},
   "source": [
    "## Bitcoin Price Indexes"
   ]
  },
  {
   "cell_type": "code",
   "execution_count": 33,
   "id": "15064f69",
   "metadata": {},
   "outputs": [],
   "source": [
    "prize_index = data['bpi']"
   ]
  },
  {
   "cell_type": "code",
   "execution_count": 34,
   "id": "dd116d5c",
   "metadata": {},
   "outputs": [
    {
     "data": {
      "text/plain": [
       "{'USD': {'code': 'USD',\n",
       "  'symbol': '&#36;',\n",
       "  'rate': '16,673.4367',\n",
       "  'description': 'United States Dollar',\n",
       "  'rate_float': 16673.4367},\n",
       " 'GBP': {'code': 'GBP',\n",
       "  'symbol': '&pound;',\n",
       "  'rate': '13,932.1903',\n",
       "  'description': 'British Pound Sterling',\n",
       "  'rate_float': 13932.1903},\n",
       " 'EUR': {'code': 'EUR',\n",
       "  'symbol': '&euro;',\n",
       "  'rate': '16,242.3617',\n",
       "  'description': 'Euro',\n",
       "  'rate_float': 16242.3617}}"
      ]
     },
     "execution_count": 34,
     "metadata": {},
     "output_type": "execute_result"
    }
   ],
   "source": [
    "prize_index"
   ]
  },
  {
   "cell_type": "code",
   "execution_count": 35,
   "id": "34359426",
   "metadata": {},
   "outputs": [],
   "source": [
    "currency_type = prize_index.keys()"
   ]
  },
  {
   "cell_type": "code",
   "execution_count": 36,
   "id": "9c00c464",
   "metadata": {},
   "outputs": [
    {
     "data": {
      "text/plain": [
       "dict_keys(['USD', 'GBP', 'EUR'])"
      ]
     },
     "execution_count": 36,
     "metadata": {},
     "output_type": "execute_result"
    }
   ],
   "source": [
    "currency_type"
   ]
  },
  {
   "cell_type": "code",
   "execution_count": 37,
   "id": "b2121885",
   "metadata": {},
   "outputs": [
    {
     "name": "stdout",
     "output_type": "stream",
     "text": [
      "Bitcoin Prices:\n",
      "\n",
      "Currecy: United States Dollar , at Rate : 16,673.4367\n",
      "Currecy: British Pound Sterling , at Rate : 13,932.1903\n",
      "Currecy: Euro , at Rate : 16,242.3617\n"
     ]
    }
   ],
   "source": [
    "print(\"Bitcoin Prices:\\n\")\n",
    "for index in currency_type:\n",
    "    print(\"Currecy:\",data['bpi'][index]['description'],',',\"at Rate :\",data['bpi'][index]['rate'])\n",
    "    "
   ]
  }
 ],
 "metadata": {
  "kernelspec": {
   "display_name": "Python 3 (ipykernel)",
   "language": "python",
   "name": "python3"
  },
  "language_info": {
   "codemirror_mode": {
    "name": "ipython",
    "version": 3
   },
   "file_extension": ".py",
   "mimetype": "text/x-python",
   "name": "python",
   "nbconvert_exporter": "python",
   "pygments_lexer": "ipython3",
   "version": "3.9.12"
  }
 },
 "nbformat": 4,
 "nbformat_minor": 5
}
