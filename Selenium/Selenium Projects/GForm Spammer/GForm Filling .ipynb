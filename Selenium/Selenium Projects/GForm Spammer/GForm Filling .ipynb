{
 "cells": [
  {
   "cell_type": "code",
   "execution_count": 7,
   "id": "7edbe6c0",
   "metadata": {},
   "outputs": [],
   "source": [
    "from selenium import webdriver\n",
    "from selenium.webdriver.common.by import By\n",
    "from selenium.webdriver.chrome.service import Service\n",
    "from webdriver_manager.chrome import ChromeDriverManager"
   ]
  },
  {
   "cell_type": "code",
   "execution_count": 8,
   "id": "c3985e3e",
   "metadata": {},
   "outputs": [],
   "source": [
    "driver = webdriver.Chrome(service=Service(ChromeDriverManager().install()))"
   ]
  },
  {
   "cell_type": "code",
   "execution_count": 9,
   "id": "d045a4b1",
   "metadata": {},
   "outputs": [],
   "source": [
    "driver.get('https://docs.google.com/forms/d/e/1FAIpQLSfvuRGDs5icpcmas-my6JmvXjeA_qd4T5BCad1qhz9GFtJ7rA/viewform?usp=sf_link')"
   ]
  },
  {
   "cell_type": "code",
   "execution_count": 11,
   "id": "3999cd54",
   "metadata": {},
   "outputs": [],
   "source": [
    "name = driver.find_element(By.XPATH,'//input[@type=\"text\"]')\n",
    "name.send_keys('Hare Krishna')"
   ]
  },
  {
   "cell_type": "code",
   "execution_count": null,
   "id": "55e07306",
   "metadata": {},
   "outputs": [],
   "source": []
  }
 ],
 "metadata": {
  "kernelspec": {
   "display_name": "Python 3.9 (tensorflow)",
   "language": "python",
   "name": "tensorflow"
  },
  "language_info": {
   "codemirror_mode": {
    "name": "ipython",
    "version": 3
   },
   "file_extension": ".py",
   "mimetype": "text/x-python",
   "name": "python",
   "nbconvert_exporter": "python",
   "pygments_lexer": "ipython3",
   "version": "3.9.13"
  }
 },
 "nbformat": 4,
 "nbformat_minor": 5
}
