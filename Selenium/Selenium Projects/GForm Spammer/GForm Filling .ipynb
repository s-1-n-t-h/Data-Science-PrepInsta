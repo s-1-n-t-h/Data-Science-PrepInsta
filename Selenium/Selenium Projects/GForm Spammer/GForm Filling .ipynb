{
 "cells": [
  {
   "cell_type": "markdown",
   "id": "c88d108e",
   "metadata": {},
   "source": [
    "## Importing Liraries "
   ]
  },
  {
   "cell_type": "code",
   "execution_count": 21,
   "id": "c30e4147",
   "metadata": {},
   "outputs": [],
   "source": [
    "from selenium import webdriver\n",
    "from selenium.webdriver.common.by import By\n",
    "from selenium.webdriver.chrome.service import Service\n",
    "from webdriver_manager.chrome import ChromeDriverManager"
   ]
  },
  {
   "cell_type": "markdown",
   "id": "a423475a",
   "metadata": {},
   "source": [
    "## creating a driver instance"
   ]
  },
  {
   "cell_type": "code",
   "execution_count": 22,
   "id": "e7301e03",
   "metadata": {},
   "outputs": [],
   "source": [
    "driver = webdriver.Chrome(service=Service(ChromeDriverManager().install()))"
   ]
  },
  {
   "cell_type": "code",
   "execution_count": 23,
   "id": "d3fcf21e",
   "metadata": {},
   "outputs": [
    {
     "name": "stderr",
     "output_type": "stream",
     "text": [
      "/Users/venkatasaiyaswanthbattu/opt/miniconda3/envs/tensorflow/lib/python3.9/site-packages/selenium/webdriver/remote/webdriver.py:925: UserWarning: name used for saved screenshot does not match file type. It should end with a `.png` extension\n",
      "  warnings.warn(\n"
     ]
    },
    {
     "data": {
      "text/plain": [
       "True"
      ]
     },
     "execution_count": 23,
     "metadata": {},
     "output_type": "execute_result"
    }
   ],
   "source": [
    "driver.save_screenshot('opnedChrome.jpg')"
   ]
  },
  {
   "cell_type": "markdown",
   "id": "152b1d84",
   "metadata": {},
   "source": [
    "## opening GForm "
   ]
  },
  {
   "cell_type": "code",
   "execution_count": 24,
   "id": "3b8d953e",
   "metadata": {},
   "outputs": [],
   "source": [
    "driver.get('https://docs.google.com/forms/d/e/1FAIpQLSfvuRGDs5icpcmas-my6JmvXjeA_qd4T5BCad1qhz9GFtJ7rA/viewform?usp=sf_link')"
   ]
  },
  {
   "cell_type": "code",
   "execution_count": 25,
   "id": "8a802893",
   "metadata": {},
   "outputs": [
    {
     "data": {
      "text/plain": [
       "True"
      ]
     },
     "execution_count": 25,
     "metadata": {},
     "output_type": "execute_result"
    }
   ],
   "source": [
    "driver.save_screenshot('opnedForm.jpg')"
   ]
  },
  {
   "cell_type": "markdown",
   "id": "af2ffcb5",
   "metadata": {},
   "source": [
    "## Sending Name"
   ]
  },
  {
   "cell_type": "code",
   "execution_count": 26,
   "id": "7d040824",
   "metadata": {},
   "outputs": [],
   "source": [
    "name = driver.find_element(By.XPATH,'//input[@type=\"text\"]')\n",
    "name.send_keys('Hare Krishna')"
   ]
  },
  {
   "cell_type": "code",
   "execution_count": 27,
   "id": "786ede67",
   "metadata": {},
   "outputs": [
    {
     "data": {
      "text/plain": [
       "True"
      ]
     },
     "execution_count": 27,
     "metadata": {},
     "output_type": "execute_result"
    }
   ],
   "source": [
    "driver.save_screenshot('filledName.jpg')"
   ]
  },
  {
   "cell_type": "markdown",
   "id": "93651af6",
   "metadata": {},
   "source": [
    "## Selecting Branch"
   ]
  },
  {
   "cell_type": "code",
   "execution_count": 28,
   "id": "c34b804d",
   "metadata": {},
   "outputs": [],
   "source": [
    "branch = driver.find_element(By.XPATH,'//span[@dir=\"auto\"]')\n",
    "branch.click()"
   ]
  },
  {
   "cell_type": "code",
   "execution_count": 29,
   "id": "b1130dc5",
   "metadata": {},
   "outputs": [
    {
     "data": {
      "text/plain": [
       "True"
      ]
     },
     "execution_count": 29,
     "metadata": {},
     "output_type": "execute_result"
    }
   ],
   "source": [
    "driver.save_screenshot('filleDepartment.jpg')"
   ]
  },
  {
   "cell_type": "markdown",
   "id": "072338d9",
   "metadata": {},
   "source": [
    "## Submitting Form"
   ]
  },
  {
   "cell_type": "code",
   "execution_count": 30,
   "id": "f232c0cb",
   "metadata": {},
   "outputs": [],
   "source": [
    "submit = driver.find_element(By.XPATH,'//span[contains(text(),\"Submit\")]')\n",
    "submit.click()\n"
   ]
  },
  {
   "cell_type": "code",
   "execution_count": 31,
   "id": "292106ee",
   "metadata": {},
   "outputs": [
    {
     "data": {
      "text/plain": [
       "True"
      ]
     },
     "execution_count": 31,
     "metadata": {},
     "output_type": "execute_result"
    }
   ],
   "source": [
    "driver.save_screenshot('submitForm.jpg')"
   ]
  },
  {
   "cell_type": "code",
   "execution_count": null,
   "id": "4264cbb0",
   "metadata": {},
   "outputs": [],
   "source": []
  }
 ],
 "metadata": {
  "kernelspec": {
   "display_name": "Python 3.9 (tensorflow)",
   "language": "python",
   "name": "tensorflow"
  },
  "language_info": {
   "codemirror_mode": {
    "name": "ipython",
    "version": 3
   },
   "file_extension": ".py",
   "mimetype": "text/x-python",
   "name": "python",
   "nbconvert_exporter": "python",
   "pygments_lexer": "ipython3",
   "version": "3.9.13"
  }
 },
 "nbformat": 4,
 "nbformat_minor": 5
}
