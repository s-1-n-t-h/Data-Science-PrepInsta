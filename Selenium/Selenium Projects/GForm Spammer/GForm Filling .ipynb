{
 "cells": [
  {
   "cell_type": "code",
   "execution_count": 13,
   "id": "fa5ea911",
   "metadata": {},
   "outputs": [],
   "source": [
    "from selenium import webdriver\n",
    "from selenium.webdriver.common.by import By\n",
    "from selenium.webdriver.chrome.service import Service\n",
    "from webdriver_manager.chrome import ChromeDriverManager"
   ]
  },
  {
   "cell_type": "code",
   "execution_count": 14,
   "id": "8c88e8b1",
   "metadata": {},
   "outputs": [],
   "source": [
    "driver = webdriver.Chrome(service=Service(ChromeDriverManager().install()))"
   ]
  },
  {
   "cell_type": "code",
   "execution_count": 15,
   "id": "a031e69f",
   "metadata": {},
   "outputs": [],
   "source": [
    "driver.get('https://docs.google.com/forms/d/e/1FAIpQLSfvuRGDs5icpcmas-my6JmvXjeA_qd4T5BCad1qhz9GFtJ7rA/viewform?usp=sf_link')"
   ]
  },
  {
   "cell_type": "code",
   "execution_count": 17,
   "id": "24bcfe14",
   "metadata": {},
   "outputs": [],
   "source": [
    "name = driver.find_element(By.XPATH,'//input[@type=\"text\"]')\n",
    "name.send_keys('Hare Krishna')"
   ]
  },
  {
   "cell_type": "code",
   "execution_count": 18,
   "id": "ef5501fa",
   "metadata": {},
   "outputs": [],
   "source": [
    "branch = driver.find_element(By.XPATH,'//span[@dir=\"auto\"]')\n",
    "branch.click()"
   ]
  },
  {
   "cell_type": "code",
   "execution_count": 20,
   "id": "b7a46b00",
   "metadata": {},
   "outputs": [],
   "source": [
    "submit = driver.find_element(By.XPATH,'//span[contains(text(),\"Submit\")]')\n",
    "submit.click()\n"
   ]
  },
  {
   "cell_type": "code",
   "execution_count": null,
   "id": "cc9f2f49",
   "metadata": {},
   "outputs": [],
   "source": []
  }
 ],
 "metadata": {
  "kernelspec": {
   "display_name": "Python 3.9 (tensorflow)",
   "language": "python",
   "name": "tensorflow"
  },
  "language_info": {
   "codemirror_mode": {
    "name": "ipython",
    "version": 3
   },
   "file_extension": ".py",
   "mimetype": "text/x-python",
   "name": "python",
   "nbconvert_exporter": "python",
   "pygments_lexer": "ipython3",
   "version": "3.9.13"
  }
 },
 "nbformat": 4,
 "nbformat_minor": 5
}
