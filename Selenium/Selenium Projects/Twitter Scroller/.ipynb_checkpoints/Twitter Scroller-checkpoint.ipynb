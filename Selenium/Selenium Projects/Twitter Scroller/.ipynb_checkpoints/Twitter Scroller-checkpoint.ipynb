{
 "cells": [
  {
   "cell_type": "markdown",
   "id": "b16740b8",
   "metadata": {},
   "source": [
    "## Importing Liraries "
   ]
  },
  {
   "cell_type": "code",
   "execution_count": 6,
   "id": "4f3c2f07",
   "metadata": {},
   "outputs": [],
   "source": [
    "from selenium import webdriver\n",
    "from selenium.webdriver.common.by import By\n",
    "from selenium.webdriver.chrome.service import Service\n",
    "from webdriver_manager.chrome import ChromeDriverManager"
   ]
  },
  {
   "cell_type": "markdown",
   "id": "22e5fe4b",
   "metadata": {},
   "source": [
    "## creating a driver instance"
   ]
  },
  {
   "cell_type": "code",
   "execution_count": 7,
   "id": "a5392329",
   "metadata": {},
   "outputs": [],
   "source": [
    "driver = webdriver.Chrome(service=Service(ChromeDriverManager().install()))"
   ]
  },
  {
   "cell_type": "code",
   "execution_count": 8,
   "id": "95045169",
   "metadata": {},
   "outputs": [
    {
     "data": {
      "text/plain": [
       "True"
      ]
     },
     "execution_count": 8,
     "metadata": {},
     "output_type": "execute_result"
    }
   ],
   "source": [
    "driver.save_screenshot('opnedChrome.jpg')"
   ]
  },
  {
   "cell_type": "markdown",
   "id": "0d8d2f59",
   "metadata": {},
   "source": [
    "## Navigating to Elon Musk's Twitter Account "
   ]
  },
  {
   "cell_type": "code",
   "execution_count": 9,
   "id": "50668e33",
   "metadata": {},
   "outputs": [],
   "source": [
    "driver.get('https://twitter.com/elonmusk')\n"
   ]
  },
  {
   "cell_type": "code",
   "execution_count": 10,
   "id": "6e2dc67d",
   "metadata": {},
   "outputs": [
    {
     "data": {
      "text/plain": [
       "True"
      ]
     },
     "execution_count": 10,
     "metadata": {},
     "output_type": "execute_result"
    }
   ],
   "source": [
    "driver.save_screenshot('opnedElonMuskonTwitter.jpg')"
   ]
  },
  {
   "cell_type": "markdown",
   "id": "23387638",
   "metadata": {},
   "source": [
    "## Find height of page"
   ]
  },
  {
   "cell_type": "code",
   "execution_count": 12,
   "id": "718fb1b6",
   "metadata": {},
   "outputs": [],
   "source": [
    "driver.execute_script(\"window.scrollTo(0,document.body.scrollHeight);\")"
   ]
  },
  {
   "cell_type": "code",
   "execution_count": 17,
   "id": "0d96ab8c",
   "metadata": {},
   "outputs": [
    {
     "data": {
      "text/plain": [
       "True"
      ]
     },
     "execution_count": 17,
     "metadata": {},
     "output_type": "execute_result"
    }
   ],
   "source": [
    "driver.save_screenshot('scrolling.jpg')"
   ]
  },
  {
   "cell_type": "markdown",
   "id": "d43f7d6f",
   "metadata": {},
   "source": [
    "## Scrolling Infinitely "
   ]
  },
  {
   "cell_type": "code",
   "execution_count": 21,
   "id": "e55fadc1",
   "metadata": {},
   "outputs": [],
   "source": [
    "import time\n",
    "SCROLL_PAUSE_TIME = 2\n",
    "\n",
    "last_height = driver.execute_script(\"return document.body.scrollHeight\")\n",
    "\n",
    "while True:\n",
    "    # scroll down to bottom\n",
    "    driver.execute_script(\"window.scrollTo(0,document.body.scrollHeight);\")\n",
    "    # hold on for loading\n",
    "    time.sleep(SCROLL_PAUSE_TIME)\n",
    "    # get new scroll height and compare with the last\n",
    "    new_height = driver.execute_script(\"return document.body.scrollHeight\")\n",
    "    \n",
    "    if new_height == last_height:\n",
    "        break\n",
    "        \n",
    "    last_height = new_height\n"
   ]
  },
  {
   "cell_type": "code",
   "execution_count": 22,
   "id": "9652e919",
   "metadata": {},
   "outputs": [
    {
     "data": {
      "text/plain": [
       "True"
      ]
     },
     "execution_count": 22,
     "metadata": {},
     "output_type": "execute_result"
    }
   ],
   "source": [
    "driver.save_screenshot('reachedEnd.jpg')\n",
    "# a pop up appears"
   ]
  }
 ],
 "metadata": {
  "kernelspec": {
   "display_name": "Python 3.9 (tensorflow)",
   "language": "python",
   "name": "tensorflow"
  },
  "language_info": {
   "codemirror_mode": {
    "name": "ipython",
    "version": 3
   },
   "file_extension": ".py",
   "mimetype": "text/x-python",
   "name": "python",
   "nbconvert_exporter": "python",
   "pygments_lexer": "ipython3",
   "version": "3.9.13"
  }
 },
 "nbformat": 4,
 "nbformat_minor": 5
}
