{
 "cells": [
  {
   "cell_type": "markdown",
   "id": "b16740b8",
   "metadata": {},
   "source": [
    "## Importing Liraries "
   ]
  },
  {
   "cell_type": "code",
   "execution_count": 1,
   "id": "4f3c2f07",
   "metadata": {},
   "outputs": [],
   "source": [
    "from selenium import webdriver\n",
    "from selenium.webdriver.common.by import By\n",
    "from selenium.webdriver.chrome.service import Service\n",
    "from webdriver_manager.chrome import ChromeDriverManager"
   ]
  },
  {
   "cell_type": "markdown",
   "id": "22e5fe4b",
   "metadata": {},
   "source": [
    "## creating a driver instance"
   ]
  },
  {
   "cell_type": "code",
   "execution_count": 2,
   "id": "a5392329",
   "metadata": {},
   "outputs": [],
   "source": [
    "driver = webdriver.Chrome(service=Service(ChromeDriverManager().install()))"
   ]
  },
  {
   "cell_type": "code",
   "execution_count": 3,
   "id": "95045169",
   "metadata": {},
   "outputs": [
    {
     "name": "stderr",
     "output_type": "stream",
     "text": [
      "/Users/venkatasaiyaswanthbattu/opt/miniconda3/envs/tensorflow/lib/python3.9/site-packages/selenium/webdriver/remote/webdriver.py:925: UserWarning: name used for saved screenshot does not match file type. It should end with a `.png` extension\n",
      "  warnings.warn(\n"
     ]
    },
    {
     "data": {
      "text/plain": [
       "True"
      ]
     },
     "execution_count": 3,
     "metadata": {},
     "output_type": "execute_result"
    }
   ],
   "source": [
    "driver.save_screenshot('opnedChrome.jpg')"
   ]
  },
  {
   "cell_type": "markdown",
   "id": "0d8d2f59",
   "metadata": {},
   "source": [
    "## opening GForm "
   ]
  },
  {
   "cell_type": "code",
   "execution_count": 4,
   "id": "50668e33",
   "metadata": {},
   "outputs": [],
   "source": [
    "driver.get('https://twitter.com/elonmusk')\n"
   ]
  },
  {
   "cell_type": "code",
   "execution_count": 5,
   "id": "6e2dc67d",
   "metadata": {},
   "outputs": [
    {
     "data": {
      "text/plain": [
       "True"
      ]
     },
     "execution_count": 5,
     "metadata": {},
     "output_type": "execute_result"
    }
   ],
   "source": [
    "driver.save_screenshot('opnedElonMuskonTwitter.jpg')"
   ]
  },
  {
   "cell_type": "markdown",
   "id": "23387638",
   "metadata": {},
   "source": [
    "## Sending Name"
   ]
  },
  {
   "cell_type": "code",
   "execution_count": 26,
   "id": "718fb1b6",
   "metadata": {},
   "outputs": [],
   "source": [
    "driver.execute_sc"
   ]
  },
  {
   "cell_type": "code",
   "execution_count": 27,
   "id": "0d96ab8c",
   "metadata": {},
   "outputs": [
    {
     "data": {
      "text/plain": [
       "True"
      ]
     },
     "execution_count": 27,
     "metadata": {},
     "output_type": "execute_result"
    }
   ],
   "source": [
    "driver.save_screenshot('filledName.jpg')"
   ]
  },
  {
   "cell_type": "markdown",
   "id": "d43f7d6f",
   "metadata": {},
   "source": [
    "## Selecting Branch"
   ]
  },
  {
   "cell_type": "code",
   "execution_count": 28,
   "id": "e55fadc1",
   "metadata": {},
   "outputs": [],
   "source": [
    "branch = driver.find_element(By.XPATH,'//span[@dir=\"auto\"]')\n",
    "branch.click()"
   ]
  },
  {
   "cell_type": "code",
   "execution_count": 29,
   "id": "9652e919",
   "metadata": {},
   "outputs": [
    {
     "data": {
      "text/plain": [
       "True"
      ]
     },
     "execution_count": 29,
     "metadata": {},
     "output_type": "execute_result"
    }
   ],
   "source": [
    "driver.save_screenshot('filleDepartment.jpg')"
   ]
  },
  {
   "cell_type": "markdown",
   "id": "dfc1a4cf",
   "metadata": {},
   "source": [
    "## Submitting Form"
   ]
  },
  {
   "cell_type": "code",
   "execution_count": 30,
   "id": "011194ec",
   "metadata": {},
   "outputs": [],
   "source": [
    "submit = driver.find_element(By.XPATH,'//span[contains(text(),\"Submit\")]')\n",
    "submit.click()\n"
   ]
  },
  {
   "cell_type": "code",
   "execution_count": 31,
   "id": "bd91e887",
   "metadata": {},
   "outputs": [
    {
     "data": {
      "text/plain": [
       "True"
      ]
     },
     "execution_count": 31,
     "metadata": {},
     "output_type": "execute_result"
    }
   ],
   "source": [
    "driver.save_screenshot('submitForm.jpg')"
   ]
  },
  {
   "cell_type": "code",
   "execution_count": null,
   "id": "e679f2f3",
   "metadata": {},
   "outputs": [],
   "source": []
  }
 ],
 "metadata": {
  "kernelspec": {
   "display_name": "Python 3.9 (tensorflow)",
   "language": "python",
   "name": "tensorflow"
  },
  "language_info": {
   "codemirror_mode": {
    "name": "ipython",
    "version": 3
   },
   "file_extension": ".py",
   "mimetype": "text/x-python",
   "name": "python",
   "nbconvert_exporter": "python",
   "pygments_lexer": "ipython3",
   "version": "3.9.13"
  }
 },
 "nbformat": 4,
 "nbformat_minor": 5
}
