{
 "cells": [
  {
   "cell_type": "markdown",
   "id": "5ec0f487",
   "metadata": {},
   "source": [
    "## Import Libraries"
   ]
  },
  {
   "cell_type": "code",
   "execution_count": 1,
   "id": "36400e15",
   "metadata": {},
   "outputs": [],
   "source": [
    "from selenium import webdriver\n",
    "from selenium.webdriver.chrome.service import Service\n",
    "from webdriver_manager.chrome import ChromeDriverManager\n",
    "from selenium.webdriver.common.by import By"
   ]
  },
  {
   "cell_type": "markdown",
   "id": "df5a4513",
   "metadata": {},
   "source": [
    "## Creating a Chrome Driver Instance"
   ]
  },
  {
   "cell_type": "code",
   "execution_count": 3,
   "id": "3dc14ad9",
   "metadata": {},
   "outputs": [],
   "source": [
    "driver = webdriver.Chrome(service=Service(ChromeDriverManager().install()))"
   ]
  },
  {
   "cell_type": "markdown",
   "id": "54e6e66a",
   "metadata": {},
   "source": [
    "## Navigating to YouTube"
   ]
  },
  {
   "cell_type": "code",
   "execution_count": 10,
   "id": "be12792c",
   "metadata": {},
   "outputs": [],
   "source": [
    "driver.get('https://www.youtube.com')"
   ]
  },
  {
   "cell_type": "markdown",
   "id": "e89c9873",
   "metadata": {},
   "source": [
    "## Sending Text to be Queried on Search Box"
   ]
  },
  {
   "cell_type": "code",
   "execution_count": 11,
   "id": "fd45a1b0",
   "metadata": {},
   "outputs": [],
   "source": [
    "text_box = driver.find_element(By.XPATH,\"//input[@id='search']\")\n",
    "text_box.send_keys('billboard top 50 this week')\n",
    "text_box.submit()"
   ]
  },
  {
   "cell_type": "markdown",
   "id": "b7eb4ad8",
   "metadata": {},
   "source": [
    "## Clicking on View Playlist Text"
   ]
  },
  {
   "cell_type": "code",
   "execution_count": 14,
   "id": "aeb40798",
   "metadata": {},
   "outputs": [],
   "source": [
    "playlist = driver.find_element(By.XPATH,'//a[contains(text(),\"View full playlist\")]')\n",
    "playlist.click()"
   ]
  },
  {
   "cell_type": "markdown",
   "id": "92388140",
   "metadata": {},
   "source": [
    "## Finding Video Names using CSS Selectors  "
   ]
  },
  {
   "cell_type": "code",
   "execution_count": 15,
   "id": "26160a28",
   "metadata": {},
   "outputs": [],
   "source": [
    "videoNames = driver.find_elements(By.CSS_SELECTOR,'ytd-browse div#container div#meta a#video-title')"
   ]
  },
  {
   "cell_type": "code",
   "execution_count": 17,
   "id": "13e66ea2",
   "metadata": {},
   "outputs": [
    {
     "data": {
      "text/plain": [
       "158"
      ]
     },
     "execution_count": 17,
     "metadata": {},
     "output_type": "execute_result"
    }
   ],
   "source": [
    "len(videoNames)"
   ]
  },
  {
   "cell_type": "code",
   "execution_count": 21,
   "id": "22568c7a",
   "metadata": {},
   "outputs": [
    {
     "name": "stdout",
     "output_type": "stream",
     "text": [
      "Rank: 1 : Taylor Swift - Anti-Hero\n",
      "Rank: 2 : Rihanna - Lift Me Up (From Black Panther: Wakanda Forever)\n",
      "Rank: 3 : The Kid LAROI, Justin Bieber - STAY (Official Video)\n",
      "Rank: 4 : Harry Styles - As It Was (Official Video)\n",
      "Rank: 5 : Bad Bunny (ft. Chencho Corleone) - Me Porto Bonito (Official Video) | Un Verano Sin Ti\n",
      "Rank: 6 : Sam Smith, Kim Petras - Unholy (Official Music Video)\n",
      "Rank: 7 : Adele - Easy On Me (Official Video)\n",
      "Rank: 8 : Elton John, Britney Spears - Hold Me Closer (Official Video)\n",
      "Rank: 9 : Glass Animals - Heat Waves (Official Video)\n",
      "Rank: 10 : David Guetta & Bebe Rexha - I'm Good (Blue) [Official Music Video]\n",
      "Rank: 11 : OneRepublic - I Ain’t Worried (From “Top Gun: Maverick”) [Official Music Video]\n",
      "Rank: 12 : BLACKPINK - ‘Pink Venom’ M/V\n",
      "Rank: 13 : Ed Sheeran - Bad Habits [Official Video]\n",
      "Rank: 14 : BTS (방탄소년단) 'Yet To Come (The Most Beautiful Moment)' Official MV\n",
      "Rank: 15 : Ed Sheeran, Pokémon - Celestial [Official Video]\n",
      "Rank: 16 : Harry Styles - Late Night Talking (Official Video)\n",
      "Rank: 17 : Jack Harlow - First Class [Official Music Video]\n",
      "Rank: 18 : Post Malone - I Like You (A Happier Song) w. Doja Cat [Official Music Video]\n",
      "Rank: 19 : Elton John, Dua Lipa - Cold Heart (PNAU Remix) (Official Video)\n",
      "Rank: 20 : Justin Bieber - Ghost\n",
      "Rank: 21 : Adele - Oh My God (Official Video)\n",
      "Rank: 22 : GAYLE - abcdefu (Official Music Video)\n",
      "Rank: 23 : Ed Sheeran - Shivers [Official Video]\n",
      "Rank: 24 : Olivia Rodrigo - good 4 u (Official Video)\n",
      "Rank: 25 : Dua Lipa - Levitating Featuring DaBaby (Official Music Video)\n",
      "Rank: 26 : Ed Sheeran - The Joker And The Queen (feat. Taylor Swift) [Official Video]\n",
      "Rank: 27 : Masked Wolf - Astronaut In The Ocean (Official Music Video)\n",
      "Rank: 28 : BTS (방탄소년단) 'Permission to Dance' Official MV\n",
      "Rank: 29 : Drake ft. Future and Young Thug - Way 2 Sexy (Official Video)\n",
      "Rank: 30 : Justin Bieber - Peaches ft. Daniel Caesar, Giveon\n",
      "Rank: 31 : The Weeknd - Save Your Tears (Official Music Video)\n",
      "Rank: 32 : DDG - Elon Musk ft. Gunna (Official Music Video)\n",
      "Rank: 33 : Lil Nas X - MONTERO (Call Me By Your Name) (Official Video)\n",
      "Rank: 34 : Camila Cabello - Don't Go Yet (Official Video)\n",
      "Rank: 35 : Doja Cat - Kiss Me More (Official Video) ft. SZA\n",
      "Rank: 36 : Billie Eilish - Therefore I Am (Official Music Video)\n",
      "Rank: 37 : BLACKPINK - 'Lovesick Girls' M/V\n",
      "Rank: 38 : Kali Uchis – telepatía [Official Music Video]\n",
      "Rank: 39 : Lil Tjay - Calling My Phone (feat. 6LACK) [Official Video]\n",
      "Rank: 40 : ROSÉ - 'On The Ground' M/V\n",
      "Rank: 41 : Tiësto - The Business (Official Music Video)\n",
      "Rank: 42 : Ariana Grande - positions (official video)\n",
      "Rank: 43 : BAD BUNNY x JHAY CORTEZ - DÁKITI | EL ÚLTIMO TOUR DEL MUNDO (Official Video)\n",
      "Rank: 44 : Bruno Mars, Anderson .Paak, Silk Sonic - Leave the Door Open [Official Video]\n",
      "Rank: 45 : blackbear - hot girl bummer [Low Budget Video]\n",
      "Rank: 46 : The Weeknd - Blinding Lights (Official Audio)\n",
      "Rank: 47 : Doja Cat - Streets (Official Video)\n",
      "Rank: 48 : 24kGoldn - Mood (Official Video) ft. iann dior\n",
      "Rank: 49 : The Weeknd - Blinding Lights (Official Video)\n",
      "Rank: 50 : Justin Bieber - Holy ft. Chance The Rapper\n",
      "Rank: 51 : Doja Cat - Say So (Official Video)\n",
      "Rank: 52 : Drake - Laugh Now Cry Later (Official Music Video) ft. Lil Durk\n",
      "Rank: 53 : Dua Lipa - Break My Heart (Official Video)\n",
      "Rank: 54 : Olivia Rodrigo - drivers license (Official Video)\n",
      "Rank: 55 : Justin Bieber - Intentions (Official Video (Short Version)) ft. Quavo\n",
      "Rank: 56 : BTS (방탄소년단) 'Dynamite' Official MV\n",
      "Rank: 57 : BLACKPINK - 'Ice Cream (with Selena Gomez)' M/V\n",
      "Rank: 58 : Lady Gaga, Ariana Grande - Rain On Me (Official Music Video)\n",
      "Rank: 59 : TONES AND I - DANCE MONKEY (OFFICIAL VIDEO)\n",
      "Rank: 60 : Megan Thee Stallion - Savage [Official Audio]\n",
      "Rank: 61 : Roddy Ricch - The Box [Official Music Video]\n",
      "Rank: 62 : Lizzo - Truth Hurts (Official Video)\n",
      "Rank: 63 : Drake - Toosie Slide (Official Music Video)\n",
      "Rank: 64 : Dua Lipa - Don't Start Now (Official Music Video)\n",
      "Rank: 65 : Ed Sheeran & Justin Bieber - I Don't Care [Official Music Video]\n",
      "Rank: 66 : Lil Uzi Vert - That Way [Official Audio]\n",
      "Rank: 67 : Lil Tecca - Ransom (Directed by Cole Bennett)\n",
      "Rank: 68 : Ed Sheeran - Beautiful People (feat. Khalid) [Official Music Video]\n",
      "Rank: 69 : Dababy - Suge (Yea Yea) Official Music Video\n",
      "Rank: 70 : Ariana Grande & Justin Bieber - Stuck with U\n",
      "Rank: 71 : Future - Life Is Good (Official Music Video) ft. Drake\n",
      "Rank: 72 : Post Malone - Circles\n",
      "Rank: 73 : Arizona Zervas - ROXANNE (Official Video)\n",
      "Rank: 74 : Harry Styles - Adore You (Official Video)\n",
      "Rank: 75 : Lewis Capaldi - Someone You Loved\n",
      "Rank: 76 : Billie Eilish - everything i wanted\n",
      "Rank: 77 : The Weeknd - Heartless (Official Video)\n",
      "Rank: 78 : The Weeknd - In Your Eyes (Official Video)\n",
      "Rank: 79 : Maroon 5 - Memories (Official Video)\n",
      "Rank: 80 : Doja Cat - Say So ft. Nicki Minaj\n",
      "Rank: 81 : Dan + Shay, Justin Bieber - 10,000 Hours (Official Music Video)\n",
      "Rank: 82 : Blanco Brown - The Git Up (Official Audio)\n",
      "Rank: 83 : Maren Morris - The Bones (Official Video)\n",
      "Rank: 84 : Camila Cabello - My Oh My (Official Music Video) ft. DaBaby\n",
      "Rank: 85 : Billie Eilish - No Time To Die (Audio)\n",
      "Rank: 86 : Demi Lovato - I Love Me (Official Video)\n",
      "Rank: 87 : Black Eyed Peas, J Balvin - RITMO (Bad Boys For Life) (Official Music Video)\n",
      "Rank: 88 : Lady Gaga - Stupid Love (Official Music Video)\n",
      "Rank: 89 : Selena Gomez - Lose You To Love Me (Official Music Video)\n",
      "Rank: 90 : Justin Bieber - Yummy (Official Video)\n",
      "Rank: 91 : Travis Scott - HIGHEST IN THE ROOM (Official Music Video)\n",
      "Rank: 92 : Shawn Mendes, Camila Cabello - Señorita (Official Music Video)\n",
      "Rank: 93 : Selena Gomez - Look At Her Now (Official Music Video)\n",
      "Rank: 94 : Post Malone - Goodbyes ft. Young Thug (Rated PG)\n",
      "Rank: 95 : Blake Shelton - God's Country (Official Music Video)\n",
      "Rank: 96 : Drake - Money In The Grave (Lyrics) ft. Rick Ross\n",
      "Rank: 97 : Polo G Feat. Lil Tjay - Pop Out 🎥By. Ryan Lynch Prod. By JDONTHATRACK & Iceberg\n",
      "Rank: 98 : Dan + Shay - Speechless (Wedding Video)\n",
      "Rank: 99 : Young Thug - The London ft. J. Cole & Travis Scott [Official Video]\n",
      "Rank: 100 : Billie Eilish - bad guy\n",
      "Rank: 101 : Khalid - Talk (Official Video)\n",
      "Rank: 102 : Lil Nas X - Old Town Road (Official Movie) ft. Billy Ray Cyrus\n",
      "Rank: 103 : Chris Brown - No Guidance (Audio) ft. Drake\n",
      "Rank: 104 : Lil Nas X - Panini (Official Video)\n",
      "Rank: 105 : Marshmello ft. Bastille - Happier (Official Music Video)\n",
      "Rank: 106 : Jonas Brothers - Sucker (Official Video)\n",
      "Rank: 107 : Post Malone, Swae Lee - Sunflower (Spider-Man: Into the Spider-Verse)\n",
      "Rank: 108 : Shawn Mendes - If I Can't Have You (Official Music Video)\n",
      "Rank: 109 : Taylor Swift - You Need To Calm Down\n",
      "Rank: 110 : Sam Smith, Normani - Dancing With A Stranger (Official Music Video)\n",
      "Rank: 111 : Post Malone - \"Wow.\" (Official Music Video)\n",
      "Rank: 112 : Halsey - Without Me\n",
      "Rank: 113 : Sech - Otro Trago ft. Darell (Video Oficial)\n",
      "Rank: 114 : Ava Max - Sweet but Psycho [Official Music Video]\n",
      "Rank: 115 : Katy Perry - Never Really Over (Official Video)\n",
      "Rank: 116 : Ariana Grande - 7 rings (Official Video)\n",
      "Rank: 117 : Lil Nas X - Panini (Official Audio)\n",
      "Rank: 118 : Panic! At The Disco - High Hopes (Official Video)\n",
      "Rank: 119 : Luke Bryan - Knockin' Boots (Official Music Video)\n",
      "Rank: 120 : Morgan Wallen - Whiskey Glasses (Official Video)\n",
      "Rank: 121 : Saweetie - My Type [Official Music Video]\n",
      "Rank: 122 : Anuel AA, Daddy Yankee, Karol G, Ozuna & J Balvin - China (Video Oficial)\n",
      "Rank: 123 : Rick Ross - Gold Roses (Official Audio) ft. Drake\n",
      "Rank: 124 : Sam Smith - How Do You Sleep? (Official Music Video)\n",
      "Rank: 125 : Megan Thee Stallion - Cash Shit ft. Da Baby\n",
      "Rank: 126 : Dan + Shay - All To Myself (Shadow Video)\n",
      "Rank: 127 : Khalid - Better (Official Video)\n",
      "Rank: 128 : Jason Aldean - Rearview Town (Music Video)\n",
      "Rank: 129 : Lady Gaga, Bradley Cooper - Shallow (from A Star Is Born) (Official Music Video)\n",
      "Rank: 130 : Meek Mill - Going Bad feat. Drake (Official Video)\n",
      "Rank: 131 : Offset - Clout ft. Cardi B (Official Video)\n",
      "Rank: 132 : Travis Scott - SICKO MODE ft. Drake\n",
      "Rank: 133 : Justin Moore - The Ones That Didn’t Make It Back Home\n",
      "Rank: 134 : BAD BUNNY - CALLAÍTA (Official Video)\n",
      "Rank: 135 : YK Osiris - Worth It (Official Video)\n",
      "Rank: 136 : YG - Go Loko ft. Tyga, Jon Z\n",
      "Rank: 137 : Marshmello & Kane Brown - One Thing Right (Official Music Video)\n",
      "Rank: 138 : 5 Seconds of Summer - Easier\n",
      "Rank: 139 : DJ Khaled - Just Us (Official Video) ft. SZA\n",
      "Rank: 140 : Eric Church - Some Of It (Official Music Video)\n",
      "Rank: 141 : SHAED - Trampoline (Official Video)\n",
      "Rank: 142 : Taylor Swift - ME! (feat. Brendon Urie of Panic! At The Disco) ft. Brendon Urie\n"
     ]
    },
    {
     "name": "stdout",
     "output_type": "stream",
     "text": [
      "Rank: 143 : Chris Young - Raised on Country\n",
      "Rank: 144 : Florida Georgia Line - Talk You Out Of It\n",
      "Rank: 145 : The Chainsmokers - Call You Mine (Official Video) ft. Bebe Rexha\n",
      "Rank: 146 : EARFQUAKE\n",
      "Rank: 147 : The Chainsmokers, ILLENIUM - Takeaway (Official Video) ft. Lennon Stella\n",
      "Rank: 148 : Jonas Brothers - Only Human (Official Audio)\n",
      "Rank: 149 : Lil Nas X, Cardi B - Rodeo (Official Audio)\n",
      "Rank: 150 : Blueface - Daddy ft. Rich The Kid (Official Video)\n",
      "Rank: 151 : Kendrick Lamar, SZA - All The Stars\n",
      "Rank: 152 : Lil Dicky - Freaky Friday feat. Chris Brown (Official Music Video)\n",
      "Rank: 153 : Post Malone ft. 21 Savage - rockstar (Official Music Video)\n",
      "Rank: 154 : NF - Let You Down\n",
      "Rank: 155 : Dua Lipa - New Rules (Official Music Video)\n",
      "Rank: 156 : Offset & Metro Boomin - \"Ric Flair Drip\" (Official Audio)\n",
      "Rank: 157 : Lil Nas X - Old Town Road (feat. Billy Ray Cyrus) [Remix]\n",
      "Rank: 158 : Camila Cabello - Never Be the Same\n"
     ]
    }
   ],
   "source": [
    "for rank,name in enumerate(videoNames,1):\n",
    "    print(\"Rank:\",str(rank),\":\",name.text)"
   ]
  },
  {
   "cell_type": "code",
   "execution_count": 22,
   "id": "7a2c76ba",
   "metadata": {},
   "outputs": [],
   "source": [
    "import pandas as pd"
   ]
  },
  {
   "cell_type": "code",
   "execution_count": 39,
   "id": "423a1a3c",
   "metadata": {},
   "outputs": [],
   "source": [
    "df = pd.DataFrame({\n",
    "    'Rank':range(1,len(videoNames)+1),\n",
    "    'Video Name':[video.text for video in videoNames]\n",
    "}\n",
    ")"
   ]
  },
  {
   "cell_type": "code",
   "execution_count": 41,
   "id": "91e3e913",
   "metadata": {},
   "outputs": [
    {
     "data": {
      "text/html": [
       "<div>\n",
       "<style scoped>\n",
       "    .dataframe tbody tr th:only-of-type {\n",
       "        vertical-align: middle;\n",
       "    }\n",
       "\n",
       "    .dataframe tbody tr th {\n",
       "        vertical-align: top;\n",
       "    }\n",
       "\n",
       "    .dataframe thead th {\n",
       "        text-align: right;\n",
       "    }\n",
       "</style>\n",
       "<table border=\"1\" class=\"dataframe\">\n",
       "  <thead>\n",
       "    <tr style=\"text-align: right;\">\n",
       "      <th></th>\n",
       "      <th>Rank</th>\n",
       "      <th>Video Name</th>\n",
       "    </tr>\n",
       "  </thead>\n",
       "  <tbody>\n",
       "    <tr>\n",
       "      <th>0</th>\n",
       "      <td>1</td>\n",
       "      <td>Taylor Swift - Anti-Hero</td>\n",
       "    </tr>\n",
       "    <tr>\n",
       "      <th>1</th>\n",
       "      <td>2</td>\n",
       "      <td>Rihanna - Lift Me Up (From Black Panther: Waka...</td>\n",
       "    </tr>\n",
       "    <tr>\n",
       "      <th>2</th>\n",
       "      <td>3</td>\n",
       "      <td>The Kid LAROI, Justin Bieber - STAY (Official ...</td>\n",
       "    </tr>\n",
       "    <tr>\n",
       "      <th>3</th>\n",
       "      <td>4</td>\n",
       "      <td>Harry Styles - As It Was (Official Video)</td>\n",
       "    </tr>\n",
       "    <tr>\n",
       "      <th>4</th>\n",
       "      <td>5</td>\n",
       "      <td>Bad Bunny (ft. Chencho Corleone) - Me Porto Bo...</td>\n",
       "    </tr>\n",
       "  </tbody>\n",
       "</table>\n",
       "</div>"
      ],
      "text/plain": [
       "   Rank                                         Video Name\n",
       "0     1                           Taylor Swift - Anti-Hero\n",
       "1     2  Rihanna - Lift Me Up (From Black Panther: Waka...\n",
       "2     3  The Kid LAROI, Justin Bieber - STAY (Official ...\n",
       "3     4          Harry Styles - As It Was (Official Video)\n",
       "4     5  Bad Bunny (ft. Chencho Corleone) - Me Porto Bo..."
      ]
     },
     "execution_count": 41,
     "metadata": {},
     "output_type": "execute_result"
    }
   ],
   "source": [
    "df.head()"
   ]
  },
  {
   "cell_type": "code",
   "execution_count": 42,
   "id": "bfa2a3a9",
   "metadata": {},
   "outputs": [
    {
     "data": {
      "text/html": [
       "<div>\n",
       "<style scoped>\n",
       "    .dataframe tbody tr th:only-of-type {\n",
       "        vertical-align: middle;\n",
       "    }\n",
       "\n",
       "    .dataframe tbody tr th {\n",
       "        vertical-align: top;\n",
       "    }\n",
       "\n",
       "    .dataframe thead th {\n",
       "        text-align: right;\n",
       "    }\n",
       "</style>\n",
       "<table border=\"1\" class=\"dataframe\">\n",
       "  <thead>\n",
       "    <tr style=\"text-align: right;\">\n",
       "      <th></th>\n",
       "      <th>Rank</th>\n",
       "      <th>Video Name</th>\n",
       "    </tr>\n",
       "  </thead>\n",
       "  <tbody>\n",
       "    <tr>\n",
       "      <th>153</th>\n",
       "      <td>154</td>\n",
       "      <td>NF - Let You Down</td>\n",
       "    </tr>\n",
       "    <tr>\n",
       "      <th>154</th>\n",
       "      <td>155</td>\n",
       "      <td>Dua Lipa - New Rules (Official Music Video)</td>\n",
       "    </tr>\n",
       "    <tr>\n",
       "      <th>155</th>\n",
       "      <td>156</td>\n",
       "      <td>Offset &amp; Metro Boomin - \"Ric Flair Drip\" (Offi...</td>\n",
       "    </tr>\n",
       "    <tr>\n",
       "      <th>156</th>\n",
       "      <td>157</td>\n",
       "      <td>Lil Nas X - Old Town Road (feat. Billy Ray Cyr...</td>\n",
       "    </tr>\n",
       "    <tr>\n",
       "      <th>157</th>\n",
       "      <td>158</td>\n",
       "      <td>Camila Cabello - Never Be the Same</td>\n",
       "    </tr>\n",
       "  </tbody>\n",
       "</table>\n",
       "</div>"
      ],
      "text/plain": [
       "     Rank                                         Video Name\n",
       "153   154                                  NF - Let You Down\n",
       "154   155        Dua Lipa - New Rules (Official Music Video)\n",
       "155   156  Offset & Metro Boomin - \"Ric Flair Drip\" (Offi...\n",
       "156   157  Lil Nas X - Old Town Road (feat. Billy Ray Cyr...\n",
       "157   158                 Camila Cabello - Never Be the Same"
      ]
     },
     "execution_count": 42,
     "metadata": {},
     "output_type": "execute_result"
    }
   ],
   "source": [
    "df.tail()"
   ]
  },
  {
   "cell_type": "code",
   "execution_count": null,
   "id": "e2f3ea73",
   "metadata": {},
   "outputs": [],
   "source": []
  }
 ],
 "metadata": {
  "kernelspec": {
   "display_name": "Python 3.9 (tensorflow)",
   "language": "python",
   "name": "tensorflow"
  },
  "language_info": {
   "codemirror_mode": {
    "name": "ipython",
    "version": 3
   },
   "file_extension": ".py",
   "mimetype": "text/x-python",
   "name": "python",
   "nbconvert_exporter": "python",
   "pygments_lexer": "ipython3",
   "version": "3.9.13"
  }
 },
 "nbformat": 4,
 "nbformat_minor": 5
}
