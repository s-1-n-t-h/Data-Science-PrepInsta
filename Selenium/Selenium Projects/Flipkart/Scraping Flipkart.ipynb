{
 "cells": [
  {
   "cell_type": "markdown",
   "id": "4c229a75",
   "metadata": {},
   "source": [
    "## Importing Libraries "
   ]
  },
  {
   "cell_type": "code",
   "execution_count": 25,
   "id": "98e62f4f",
   "metadata": {},
   "outputs": [],
   "source": [
    "from selenium import webdriver\n",
    "from selenium.webdriver.chrome.service import Service\n",
    "from webdriver_manager.chrome import ChromeDriverManager\n",
    "from selenium.webdriver.common.by import By\n",
    "from bs4 import BeautifulSoup\n",
    "import pandas as pd \n",
    "import numpy as np"
   ]
  },
  {
   "cell_type": "markdown",
   "id": "af5b9985",
   "metadata": {},
   "source": [
    "## Creating Driver Instance"
   ]
  },
  {
   "cell_type": "code",
   "execution_count": 26,
   "id": "caa955fb",
   "metadata": {},
   "outputs": [],
   "source": [
    "driver = webdriver.Chrome(service=Service(ChromeDriverManager().install()))\n",
    "\n"
   ]
  },
  {
   "cell_type": "markdown",
   "id": "f260e419",
   "metadata": {},
   "source": [
    "## Navigation to Page"
   ]
  },
  {
   "cell_type": "code",
   "execution_count": 27,
   "id": "649ec400",
   "metadata": {},
   "outputs": [],
   "source": [
    "driver.get('https://www.flipkart.com/')\n"
   ]
  },
  {
   "cell_type": "markdown",
   "id": "d3f1cab9",
   "metadata": {},
   "source": [
    "### finding tag by class "
   ]
  },
  {
   "cell_type": "code",
   "execution_count": 28,
   "id": "d0172054",
   "metadata": {},
   "outputs": [],
   "source": [
    "search_box = driver.find_element(By.CLASS_NAME,'_3704LK')"
   ]
  },
  {
   "cell_type": "markdown",
   "id": "ba0a5c52",
   "metadata": {},
   "source": [
    "### sending data to enter into text box and submit data"
   ]
  },
  {
   "cell_type": "code",
   "execution_count": 29,
   "id": "642459b4",
   "metadata": {},
   "outputs": [],
   "source": [
    "search_box.send_keys(\"Mobile Phones\")\n",
    "search_box.submit()"
   ]
  },
  {
   "cell_type": "markdown",
   "id": "ce0e7679",
   "metadata": {},
   "source": [
    "## finding elements by class name"
   ]
  },
  {
   "cell_type": "code",
   "execution_count": 30,
   "id": "fd491f2e",
   "metadata": {},
   "outputs": [],
   "source": [
    "product_name = driver.find_elements(By.CLASS_NAME,'_4rR01T')\n",
    "price = driver.find_elements(By.CLASS_NAME,'_30jeq3')"
   ]
  },
  {
   "cell_type": "code",
   "execution_count": 31,
   "id": "f1bf4c62",
   "metadata": {},
   "outputs": [
    {
     "data": {
      "text/plain": [
       "list"
      ]
     },
     "execution_count": 31,
     "metadata": {},
     "output_type": "execute_result"
    }
   ],
   "source": [
    "type(product_name)"
   ]
  },
  {
   "cell_type": "code",
   "execution_count": 32,
   "id": "cb9c6254",
   "metadata": {},
   "outputs": [
    {
     "data": {
      "text/plain": [
       "selenium.webdriver.remote.webelement.WebElement"
      ]
     },
     "execution_count": 32,
     "metadata": {},
     "output_type": "execute_result"
    }
   ],
   "source": [
    "type(product_name[0])"
   ]
  },
  {
   "cell_type": "markdown",
   "id": "92c0ddec",
   "metadata": {},
   "source": [
    "### Creating Python List of data"
   ]
  },
  {
   "cell_type": "code",
   "execution_count": 37,
   "id": "549e7fd1",
   "metadata": {},
   "outputs": [],
   "source": [
    "data = []\n",
    "for pName,pPrice in zip(product_name,price):\n",
    "    current_row = []\n",
    "    if pName != None and pPrice != None:\n",
    "        data.append([pName.text,pPrice.text])\n",
    "        "
   ]
  },
  {
   "cell_type": "code",
   "execution_count": 38,
   "id": "9ddeb965",
   "metadata": {
    "scrolled": true
   },
   "outputs": [
    {
     "data": {
      "text/plain": [
       "[['REDMI 9i Sport (Metallic Blue, 64 GB)', '₹7,099'],\n",
       " ['POCO C31 (Royal Blue, 64 GB)', '₹7,499'],\n",
       " ['REDMI 9i Sport (Coral Green, 64 GB)', '₹7,099'],\n",
       " ['POCO C31 (Shadow Gray, 64 GB)', '₹7,499'],\n",
       " ['REDMI 10 (Caribbean Green, 64 GB)', '₹9,499'],\n",
       " ['MOTOROLA e40 (Pink Clay, 64 GB)', '₹7,999'],\n",
       " ['MOTOROLA e40 (Carbon Gray, 64 GB)', '₹7,999'],\n",
       " ['realme 9i (Prism Blue, 64 GB)', '₹10,499'],\n",
       " ['realme 9i (Prism Black, 64 GB)', '₹10,499'],\n",
       " ['REDMI 9i Sport (Carbon Black, 64 GB)', '₹7,099'],\n",
       " ['realme 9i (Prism Blue, 128 GB)', '₹11,499'],\n",
       " ['realme 9i (Prism Black, 128 GB)', '₹11,499'],\n",
       " ['REDMI 10 (Midnight Black, 64 GB)', '₹9,499'],\n",
       " ['MOTOROLA G32 (Mineral Gray, 64 GB)', '₹9,999'],\n",
       " ['realme 9 (Sunburst Gold, 128 GB)', '₹13,999'],\n",
       " ['realme 9 (Meteor Black, 128 GB)', '₹13,999'],\n",
       " ['POCO C31 (Royal Blue, 32 GB)', '₹6,499'],\n",
       " ['MOTOROLA g52 (Charcoal Grey, 128 GB)', '₹12,999'],\n",
       " ['MOTOROLA g52 (Metallic White, 128 GB)', '₹12,999'],\n",
       " ['REDMI 10 (Pacific Blue, 64 GB)', '₹9,499'],\n",
       " ['realme 9i (Prism Blue, 128 GB)', '₹13,499'],\n",
       " ['POCO M4 Pro 5G (Cool Blue, 128 GB)', '₹13,999'],\n",
       " ['realme 10 Pro 5G (Dark Matter, 128 GB)', '₹19,999'],\n",
       " ['MOTOROLA G32 (Satin Silver, 64 GB)', '₹9,999']]"
      ]
     },
     "execution_count": 38,
     "metadata": {},
     "output_type": "execute_result"
    }
   ],
   "source": [
    "data"
   ]
  },
  {
   "cell_type": "markdown",
   "id": "79e6f856",
   "metadata": {},
   "source": [
    "## Creating Pandas DataFrame  "
   ]
  },
  {
   "cell_type": "code",
   "execution_count": 40,
   "id": "092bf819",
   "metadata": {},
   "outputs": [],
   "source": [
    "df = pd.DataFrame(data,columns=['Product Name','Price in Rs'])"
   ]
  },
  {
   "cell_type": "code",
   "execution_count": 42,
   "id": "0dac1a99",
   "metadata": {},
   "outputs": [
    {
     "data": {
      "text/html": [
       "<div>\n",
       "<style scoped>\n",
       "    .dataframe tbody tr th:only-of-type {\n",
       "        vertical-align: middle;\n",
       "    }\n",
       "\n",
       "    .dataframe tbody tr th {\n",
       "        vertical-align: top;\n",
       "    }\n",
       "\n",
       "    .dataframe thead th {\n",
       "        text-align: right;\n",
       "    }\n",
       "</style>\n",
       "<table border=\"1\" class=\"dataframe\">\n",
       "  <thead>\n",
       "    <tr style=\"text-align: right;\">\n",
       "      <th></th>\n",
       "      <th>Product Name</th>\n",
       "      <th>Price in Rs</th>\n",
       "    </tr>\n",
       "  </thead>\n",
       "  <tbody>\n",
       "    <tr>\n",
       "      <th>0</th>\n",
       "      <td>REDMI 9i Sport (Metallic Blue, 64 GB)</td>\n",
       "      <td>₹7,099</td>\n",
       "    </tr>\n",
       "    <tr>\n",
       "      <th>1</th>\n",
       "      <td>POCO C31 (Royal Blue, 64 GB)</td>\n",
       "      <td>₹7,499</td>\n",
       "    </tr>\n",
       "    <tr>\n",
       "      <th>2</th>\n",
       "      <td>REDMI 9i Sport (Coral Green, 64 GB)</td>\n",
       "      <td>₹7,099</td>\n",
       "    </tr>\n",
       "    <tr>\n",
       "      <th>3</th>\n",
       "      <td>POCO C31 (Shadow Gray, 64 GB)</td>\n",
       "      <td>₹7,499</td>\n",
       "    </tr>\n",
       "    <tr>\n",
       "      <th>4</th>\n",
       "      <td>REDMI 10 (Caribbean Green, 64 GB)</td>\n",
       "      <td>₹9,499</td>\n",
       "    </tr>\n",
       "    <tr>\n",
       "      <th>5</th>\n",
       "      <td>MOTOROLA e40 (Pink Clay, 64 GB)</td>\n",
       "      <td>₹7,999</td>\n",
       "    </tr>\n",
       "    <tr>\n",
       "      <th>6</th>\n",
       "      <td>MOTOROLA e40 (Carbon Gray, 64 GB)</td>\n",
       "      <td>₹7,999</td>\n",
       "    </tr>\n",
       "    <tr>\n",
       "      <th>7</th>\n",
       "      <td>realme 9i (Prism Blue, 64 GB)</td>\n",
       "      <td>₹10,499</td>\n",
       "    </tr>\n",
       "    <tr>\n",
       "      <th>8</th>\n",
       "      <td>realme 9i (Prism Black, 64 GB)</td>\n",
       "      <td>₹10,499</td>\n",
       "    </tr>\n",
       "    <tr>\n",
       "      <th>9</th>\n",
       "      <td>REDMI 9i Sport (Carbon Black, 64 GB)</td>\n",
       "      <td>₹7,099</td>\n",
       "    </tr>\n",
       "    <tr>\n",
       "      <th>10</th>\n",
       "      <td>realme 9i (Prism Blue, 128 GB)</td>\n",
       "      <td>₹11,499</td>\n",
       "    </tr>\n",
       "    <tr>\n",
       "      <th>11</th>\n",
       "      <td>realme 9i (Prism Black, 128 GB)</td>\n",
       "      <td>₹11,499</td>\n",
       "    </tr>\n",
       "    <tr>\n",
       "      <th>12</th>\n",
       "      <td>REDMI 10 (Midnight Black, 64 GB)</td>\n",
       "      <td>₹9,499</td>\n",
       "    </tr>\n",
       "    <tr>\n",
       "      <th>13</th>\n",
       "      <td>MOTOROLA G32 (Mineral Gray, 64 GB)</td>\n",
       "      <td>₹9,999</td>\n",
       "    </tr>\n",
       "    <tr>\n",
       "      <th>14</th>\n",
       "      <td>realme 9 (Sunburst Gold, 128 GB)</td>\n",
       "      <td>₹13,999</td>\n",
       "    </tr>\n",
       "    <tr>\n",
       "      <th>15</th>\n",
       "      <td>realme 9 (Meteor Black, 128 GB)</td>\n",
       "      <td>₹13,999</td>\n",
       "    </tr>\n",
       "    <tr>\n",
       "      <th>16</th>\n",
       "      <td>POCO C31 (Royal Blue, 32 GB)</td>\n",
       "      <td>₹6,499</td>\n",
       "    </tr>\n",
       "    <tr>\n",
       "      <th>17</th>\n",
       "      <td>MOTOROLA g52 (Charcoal Grey, 128 GB)</td>\n",
       "      <td>₹12,999</td>\n",
       "    </tr>\n",
       "    <tr>\n",
       "      <th>18</th>\n",
       "      <td>MOTOROLA g52 (Metallic White, 128 GB)</td>\n",
       "      <td>₹12,999</td>\n",
       "    </tr>\n",
       "    <tr>\n",
       "      <th>19</th>\n",
       "      <td>REDMI 10 (Pacific Blue, 64 GB)</td>\n",
       "      <td>₹9,499</td>\n",
       "    </tr>\n",
       "    <tr>\n",
       "      <th>20</th>\n",
       "      <td>realme 9i (Prism Blue, 128 GB)</td>\n",
       "      <td>₹13,499</td>\n",
       "    </tr>\n",
       "    <tr>\n",
       "      <th>21</th>\n",
       "      <td>POCO M4 Pro 5G (Cool Blue, 128 GB)</td>\n",
       "      <td>₹13,999</td>\n",
       "    </tr>\n",
       "    <tr>\n",
       "      <th>22</th>\n",
       "      <td>realme 10 Pro 5G (Dark Matter, 128 GB)</td>\n",
       "      <td>₹19,999</td>\n",
       "    </tr>\n",
       "    <tr>\n",
       "      <th>23</th>\n",
       "      <td>MOTOROLA G32 (Satin Silver, 64 GB)</td>\n",
       "      <td>₹9,999</td>\n",
       "    </tr>\n",
       "  </tbody>\n",
       "</table>\n",
       "</div>"
      ],
      "text/plain": [
       "                              Product Name Price in Rs\n",
       "0    REDMI 9i Sport (Metallic Blue, 64 GB)      ₹7,099\n",
       "1             POCO C31 (Royal Blue, 64 GB)      ₹7,499\n",
       "2      REDMI 9i Sport (Coral Green, 64 GB)      ₹7,099\n",
       "3            POCO C31 (Shadow Gray, 64 GB)      ₹7,499\n",
       "4        REDMI 10 (Caribbean Green, 64 GB)      ₹9,499\n",
       "5          MOTOROLA e40 (Pink Clay, 64 GB)      ₹7,999\n",
       "6        MOTOROLA e40 (Carbon Gray, 64 GB)      ₹7,999\n",
       "7            realme 9i (Prism Blue, 64 GB)     ₹10,499\n",
       "8           realme 9i (Prism Black, 64 GB)     ₹10,499\n",
       "9     REDMI 9i Sport (Carbon Black, 64 GB)      ₹7,099\n",
       "10          realme 9i (Prism Blue, 128 GB)     ₹11,499\n",
       "11         realme 9i (Prism Black, 128 GB)     ₹11,499\n",
       "12        REDMI 10 (Midnight Black, 64 GB)      ₹9,499\n",
       "13      MOTOROLA G32 (Mineral Gray, 64 GB)      ₹9,999\n",
       "14        realme 9 (Sunburst Gold, 128 GB)     ₹13,999\n",
       "15         realme 9 (Meteor Black, 128 GB)     ₹13,999\n",
       "16            POCO C31 (Royal Blue, 32 GB)      ₹6,499\n",
       "17    MOTOROLA g52 (Charcoal Grey, 128 GB)     ₹12,999\n",
       "18   MOTOROLA g52 (Metallic White, 128 GB)     ₹12,999\n",
       "19          REDMI 10 (Pacific Blue, 64 GB)      ₹9,499\n",
       "20          realme 9i (Prism Blue, 128 GB)     ₹13,499\n",
       "21      POCO M4 Pro 5G (Cool Blue, 128 GB)     ₹13,999\n",
       "22  realme 10 Pro 5G (Dark Matter, 128 GB)     ₹19,999\n",
       "23      MOTOROLA G32 (Satin Silver, 64 GB)      ₹9,999"
      ]
     },
     "execution_count": 42,
     "metadata": {},
     "output_type": "execute_result"
    }
   ],
   "source": [
    "df"
   ]
  },
  {
   "cell_type": "code",
   "execution_count": 43,
   "id": "d9ac4b8f",
   "metadata": {},
   "outputs": [
    {
     "data": {
      "text/html": [
       "<div>\n",
       "<style scoped>\n",
       "    .dataframe tbody tr th:only-of-type {\n",
       "        vertical-align: middle;\n",
       "    }\n",
       "\n",
       "    .dataframe tbody tr th {\n",
       "        vertical-align: top;\n",
       "    }\n",
       "\n",
       "    .dataframe thead th {\n",
       "        text-align: right;\n",
       "    }\n",
       "</style>\n",
       "<table border=\"1\" class=\"dataframe\">\n",
       "  <thead>\n",
       "    <tr style=\"text-align: right;\">\n",
       "      <th></th>\n",
       "      <th>Product Name</th>\n",
       "      <th>Price in Rs</th>\n",
       "    </tr>\n",
       "  </thead>\n",
       "  <tbody>\n",
       "    <tr>\n",
       "      <th>count</th>\n",
       "      <td>24</td>\n",
       "      <td>24</td>\n",
       "    </tr>\n",
       "    <tr>\n",
       "      <th>unique</th>\n",
       "      <td>23</td>\n",
       "      <td>12</td>\n",
       "    </tr>\n",
       "    <tr>\n",
       "      <th>top</th>\n",
       "      <td>realme 9i (Prism Blue, 128 GB)</td>\n",
       "      <td>₹7,099</td>\n",
       "    </tr>\n",
       "    <tr>\n",
       "      <th>freq</th>\n",
       "      <td>2</td>\n",
       "      <td>3</td>\n",
       "    </tr>\n",
       "  </tbody>\n",
       "</table>\n",
       "</div>"
      ],
      "text/plain": [
       "                          Product Name Price in Rs\n",
       "count                               24          24\n",
       "unique                              23          12\n",
       "top     realme 9i (Prism Blue, 128 GB)      ₹7,099\n",
       "freq                                 2           3"
      ]
     },
     "execution_count": 43,
     "metadata": {},
     "output_type": "execute_result"
    }
   ],
   "source": [
    "df.describe()"
   ]
  },
  {
   "cell_type": "code",
   "execution_count": 44,
   "id": "6b0d4417",
   "metadata": {},
   "outputs": [
    {
     "data": {
      "text/plain": [
       "True"
      ]
     },
     "execution_count": 44,
     "metadata": {},
     "output_type": "execute_result"
    }
   ],
   "source": [
    "driver.save_screenshot('afterScraping.png')"
   ]
  }
 ],
 "metadata": {
  "kernelspec": {
   "display_name": "Python 3.9 (tensorflow)",
   "language": "python",
   "name": "tensorflow"
  },
  "language_info": {
   "codemirror_mode": {
    "name": "ipython",
    "version": 3
   },
   "file_extension": ".py",
   "mimetype": "text/x-python",
   "name": "python",
   "nbconvert_exporter": "python",
   "pygments_lexer": "ipython3",
   "version": "3.9.13"
  }
 },
 "nbformat": 4,
 "nbformat_minor": 5
}
