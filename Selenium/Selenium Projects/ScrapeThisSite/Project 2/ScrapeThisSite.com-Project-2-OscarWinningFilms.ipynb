{
 "cells": [
  {
   "cell_type": "markdown",
   "id": "4c229a75",
   "metadata": {},
   "source": [
    "## Importing Libraries "
   ]
  },
  {
   "cell_type": "code",
   "execution_count": 1,
   "id": "98e62f4f",
   "metadata": {},
   "outputs": [],
   "source": [
    "from selenium import webdriver\n",
    "from selenium.webdriver.chrome.service import Service\n",
    "from webdriver_manager.chrome import ChromeDriverManager\n",
    "from selenium.webdriver.common.by import By\n",
    "from bs4 import BeautifulSoup\n",
    "import pandas as pd \n",
    "import numpy as np\n",
    "import time"
   ]
  },
  {
   "cell_type": "markdown",
   "id": "af5b9985",
   "metadata": {},
   "source": [
    "## Creating Driver Instance"
   ]
  },
  {
   "cell_type": "code",
   "execution_count": 2,
   "id": "caa955fb",
   "metadata": {},
   "outputs": [],
   "source": [
    "driver = webdriver.Chrome(service=Service(ChromeDriverManager().install()))\n"
   ]
  },
  {
   "cell_type": "markdown",
   "id": "f260e419",
   "metadata": {},
   "source": [
    "## Navigation to Page"
   ]
  },
  {
   "cell_type": "code",
   "execution_count": 3,
   "id": "649ec400",
   "metadata": {},
   "outputs": [],
   "source": [
    "driver.get('https://scrapethissite.com/pages/ajax-javascript/')"
   ]
  },
  {
   "cell_type": "markdown",
   "id": "013fbea9",
   "metadata": {},
   "source": [
    "## Creating a selenium object to click on hyperlink"
   ]
  },
  {
   "cell_type": "code",
   "execution_count": 4,
   "id": "0f32e7d6",
   "metadata": {},
   "outputs": [
    {
     "data": {
      "text/plain": [
       "True"
      ]
     },
     "execution_count": 4,
     "metadata": {},
     "output_type": "execute_result"
    }
   ],
   "source": [
    "link_btn = driver.find_element(By.LINK_TEXT,\"2010\")\n",
    "driver.save_screenshot('before.png')\n",
    "link_btn.click()\n",
    "driver.implicitly_wait(10)\n",
    "driver.save_screenshot('after.png')"
   ]
  },
  {
   "cell_type": "markdown",
   "id": "d3f1cab9",
   "metadata": {},
   "source": [
    "### finding tag by class"
   ]
  },
  {
   "cell_type": "code",
   "execution_count": 5,
   "id": "fd491f2e",
   "metadata": {},
   "outputs": [
    {
     "data": {
      "text/plain": [
       "'table'"
      ]
     },
     "execution_count": 5,
     "metadata": {},
     "output_type": "execute_result"
    }
   ],
   "source": [
    "table_data = driver.find_element(By.CLASS_NAME,'table')\n",
    "table_data.tag_name"
   ]
  },
  {
   "cell_type": "code",
   "execution_count": 6,
   "id": "6dec94b9",
   "metadata": {},
   "outputs": [
    {
     "data": {
      "text/plain": [
       "selenium.webdriver.remote.webelement.WebElement"
      ]
     },
     "execution_count": 6,
     "metadata": {},
     "output_type": "execute_result"
    }
   ],
   "source": [
    "type(table_data)"
   ]
  },
  {
   "cell_type": "markdown",
   "id": "763f0273",
   "metadata": {},
   "source": [
    "### extracting rows with selenium object and find_element() method"
   ]
  },
  {
   "cell_type": "code",
   "execution_count": 7,
   "id": "a6a29ade",
   "metadata": {},
   "outputs": [],
   "source": [
    "rows = table_data.find_elements(By.TAG_NAME,'tr')"
   ]
  },
  {
   "cell_type": "code",
   "execution_count": 8,
   "id": "8441e838",
   "metadata": {},
   "outputs": [
    {
     "data": {
      "text/plain": [
       "selenium.webdriver.remote.webelement.WebElement"
      ]
     },
     "execution_count": 8,
     "metadata": {},
     "output_type": "execute_result"
    }
   ],
   "source": [
    "type(rows[0])"
   ]
  },
  {
   "cell_type": "code",
   "execution_count": 9,
   "id": "4feb3907",
   "metadata": {},
   "outputs": [
    {
     "data": {
      "text/plain": [
       "[<selenium.webdriver.remote.webelement.WebElement (session=\"75f703f3afac854bc334fadb54f08017\", element=\"be7577a3-bdc1-481a-9c4d-550078be7e7e\")>]"
      ]
     },
     "execution_count": 9,
     "metadata": {},
     "output_type": "execute_result"
    }
   ],
   "source": [
    "rows"
   ]
  },
  {
   "cell_type": "markdown",
   "id": "92c0ddec",
   "metadata": {},
   "source": [
    "### Creating Python List of data"
   ]
  },
  {
   "cell_type": "code",
   "execution_count": 10,
   "id": "549e7fd1",
   "metadata": {},
   "outputs": [],
   "source": [
    "data = []\n",
    "for row in rows:\n",
    "    current_row = []\n",
    "    for cell in row.find_elements(By.TAG_NAME,'td')[:-1]:\n",
    "        if cell.text!='\\n' and cell.text !=None:\n",
    "            current_row.append(cell.text)\n",
    "        \n",
    "    data.append(current_row)\n",
    "            "
   ]
  },
  {
   "cell_type": "code",
   "execution_count": 11,
   "id": "9ddeb965",
   "metadata": {
    "scrolled": true
   },
   "outputs": [
    {
     "data": {
      "text/plain": [
       "[[]]"
      ]
     },
     "execution_count": 11,
     "metadata": {},
     "output_type": "execute_result"
    }
   ],
   "source": [
    "data"
   ]
  },
  {
   "cell_type": "markdown",
   "id": "79e6f856",
   "metadata": {},
   "source": [
    "## Creating Pandas DataFrame  "
   ]
  },
  {
   "cell_type": "code",
   "execution_count": 12,
   "id": "092bf819",
   "metadata": {},
   "outputs": [],
   "source": [
    "df = pd.DataFrame(data[1:],columns=['Tilte','Nominations','Awards'])"
   ]
  },
  {
   "cell_type": "code",
   "execution_count": 13,
   "id": "0dac1a99",
   "metadata": {},
   "outputs": [
    {
     "data": {
      "text/html": [
       "<div>\n",
       "<style scoped>\n",
       "    .dataframe tbody tr th:only-of-type {\n",
       "        vertical-align: middle;\n",
       "    }\n",
       "\n",
       "    .dataframe tbody tr th {\n",
       "        vertical-align: top;\n",
       "    }\n",
       "\n",
       "    .dataframe thead th {\n",
       "        text-align: right;\n",
       "    }\n",
       "</style>\n",
       "<table border=\"1\" class=\"dataframe\">\n",
       "  <thead>\n",
       "    <tr style=\"text-align: right;\">\n",
       "      <th></th>\n",
       "      <th>Tilte</th>\n",
       "      <th>Nominations</th>\n",
       "      <th>Awards</th>\n",
       "    </tr>\n",
       "  </thead>\n",
       "  <tbody>\n",
       "  </tbody>\n",
       "</table>\n",
       "</div>"
      ],
      "text/plain": [
       "Empty DataFrame\n",
       "Columns: [Tilte, Nominations, Awards]\n",
       "Index: []"
      ]
     },
     "execution_count": 13,
     "metadata": {},
     "output_type": "execute_result"
    }
   ],
   "source": [
    "df"
   ]
  },
  {
   "cell_type": "code",
   "execution_count": 14,
   "id": "65b389f6",
   "metadata": {},
   "outputs": [],
   "source": [
    "df['Year'] = '2010'"
   ]
  },
  {
   "cell_type": "code",
   "execution_count": 15,
   "id": "65e52c5a",
   "metadata": {},
   "outputs": [
    {
     "data": {
      "text/html": [
       "<div>\n",
       "<style scoped>\n",
       "    .dataframe tbody tr th:only-of-type {\n",
       "        vertical-align: middle;\n",
       "    }\n",
       "\n",
       "    .dataframe tbody tr th {\n",
       "        vertical-align: top;\n",
       "    }\n",
       "\n",
       "    .dataframe thead th {\n",
       "        text-align: right;\n",
       "    }\n",
       "</style>\n",
       "<table border=\"1\" class=\"dataframe\">\n",
       "  <thead>\n",
       "    <tr style=\"text-align: right;\">\n",
       "      <th></th>\n",
       "      <th>Tilte</th>\n",
       "      <th>Nominations</th>\n",
       "      <th>Awards</th>\n",
       "      <th>Year</th>\n",
       "    </tr>\n",
       "  </thead>\n",
       "  <tbody>\n",
       "  </tbody>\n",
       "</table>\n",
       "</div>"
      ],
      "text/plain": [
       "Empty DataFrame\n",
       "Columns: [Tilte, Nominations, Awards, Year]\n",
       "Index: []"
      ]
     },
     "execution_count": 15,
     "metadata": {},
     "output_type": "execute_result"
    }
   ],
   "source": [
    "df"
   ]
  },
  {
   "cell_type": "markdown",
   "id": "1c82a9bd",
   "metadata": {},
   "source": [
    "## Seggregating data for all the Available Years "
   ]
  },
  {
   "cell_type": "code",
   "execution_count": 16,
   "id": "25157e1a",
   "metadata": {},
   "outputs": [],
   "source": [
    "years = ['201'+str(i) for i in range(1,6)]\n",
    "\n",
    "for year in years:\n",
    "    driver.get('https://scrapethissite.com/pages/ajax-javascript/')\n",
    "    driver.find_element(By.LINK_TEXT,year).click()\n",
    "    time.sleep(5)\n",
    "    rows = driver.find_element(By.CLASS_NAME,'table').find_elements(By.TAG_NAME,'tr')\n",
    "    data = []\n",
    "    for row in rows:\n",
    "        current_row = []\n",
    "        for cell in row.find_elements(By.TAG_NAME,'td')[:-1]: # last column has lot of NA so replacing it by year of awards\n",
    "            if cell.text!='\\n' and cell.text !=None:\n",
    "                current_row.append(cell.text)\n",
    "        else:\n",
    "            current_row.append(year)\n",
    "\n",
    "        data.append(current_row)\n",
    "    new_df = pd.DataFrame(data[1:],columns=['Tilte','Nominations','Awards','Year'])\n",
    "    df = pd.concat([df,new_df],axis=0,ignore_index=True)\n",
    "  "
   ]
  },
  {
   "cell_type": "code",
   "execution_count": 17,
   "id": "776425b0",
   "metadata": {},
   "outputs": [
    {
     "data": {
      "text/html": [
       "<div>\n",
       "<style scoped>\n",
       "    .dataframe tbody tr th:only-of-type {\n",
       "        vertical-align: middle;\n",
       "    }\n",
       "\n",
       "    .dataframe tbody tr th {\n",
       "        vertical-align: top;\n",
       "    }\n",
       "\n",
       "    .dataframe thead th {\n",
       "        text-align: right;\n",
       "    }\n",
       "</style>\n",
       "<table border=\"1\" class=\"dataframe\">\n",
       "  <thead>\n",
       "    <tr style=\"text-align: right;\">\n",
       "      <th></th>\n",
       "      <th>Tilte</th>\n",
       "      <th>Nominations</th>\n",
       "      <th>Awards</th>\n",
       "      <th>Year</th>\n",
       "    </tr>\n",
       "  </thead>\n",
       "  <tbody>\n",
       "    <tr>\n",
       "      <th>0</th>\n",
       "      <td>The Artist</td>\n",
       "      <td>10</td>\n",
       "      <td>5</td>\n",
       "      <td>2011</td>\n",
       "    </tr>\n",
       "    <tr>\n",
       "      <th>1</th>\n",
       "      <td>Hugo</td>\n",
       "      <td>11</td>\n",
       "      <td>5</td>\n",
       "      <td>2011</td>\n",
       "    </tr>\n",
       "    <tr>\n",
       "      <th>2</th>\n",
       "      <td>The Iron Lady</td>\n",
       "      <td>2</td>\n",
       "      <td>2</td>\n",
       "      <td>2011</td>\n",
       "    </tr>\n",
       "    <tr>\n",
       "      <th>3</th>\n",
       "      <td>The Descendants</td>\n",
       "      <td>5</td>\n",
       "      <td>1</td>\n",
       "      <td>2011</td>\n",
       "    </tr>\n",
       "    <tr>\n",
       "      <th>4</th>\n",
       "      <td>The Girl with the Dragon Tattoo</td>\n",
       "      <td>5</td>\n",
       "      <td>1</td>\n",
       "      <td>2011</td>\n",
       "    </tr>\n",
       "  </tbody>\n",
       "</table>\n",
       "</div>"
      ],
      "text/plain": [
       "                             Tilte Nominations Awards  Year\n",
       "0                       The Artist          10      5  2011\n",
       "1                             Hugo          11      5  2011\n",
       "2                    The Iron Lady           2      2  2011\n",
       "3                  The Descendants           5      1  2011\n",
       "4  The Girl with the Dragon Tattoo           5      1  2011"
      ]
     },
     "execution_count": 17,
     "metadata": {},
     "output_type": "execute_result"
    }
   ],
   "source": [
    "df.head()"
   ]
  },
  {
   "cell_type": "code",
   "execution_count": 18,
   "id": "7002b5b2",
   "metadata": {},
   "outputs": [
    {
     "data": {
      "text/html": [
       "<div>\n",
       "<style scoped>\n",
       "    .dataframe tbody tr th:only-of-type {\n",
       "        vertical-align: middle;\n",
       "    }\n",
       "\n",
       "    .dataframe tbody tr th {\n",
       "        vertical-align: top;\n",
       "    }\n",
       "\n",
       "    .dataframe thead th {\n",
       "        text-align: right;\n",
       "    }\n",
       "</style>\n",
       "<table border=\"1\" class=\"dataframe\">\n",
       "  <thead>\n",
       "    <tr style=\"text-align: right;\">\n",
       "      <th></th>\n",
       "      <th>Tilte</th>\n",
       "      <th>Nominations</th>\n",
       "      <th>Awards</th>\n",
       "      <th>Year</th>\n",
       "    </tr>\n",
       "  </thead>\n",
       "  <tbody>\n",
       "    <tr>\n",
       "      <th>69</th>\n",
       "      <td>Bear Story</td>\n",
       "      <td>1</td>\n",
       "      <td>1</td>\n",
       "      <td>2015</td>\n",
       "    </tr>\n",
       "    <tr>\n",
       "      <th>70</th>\n",
       "      <td>A Girl in the River: The Price of Forgiveness</td>\n",
       "      <td>1</td>\n",
       "      <td>1</td>\n",
       "      <td>2015</td>\n",
       "    </tr>\n",
       "    <tr>\n",
       "      <th>71</th>\n",
       "      <td>Son of Saul</td>\n",
       "      <td>1</td>\n",
       "      <td>1</td>\n",
       "      <td>2015</td>\n",
       "    </tr>\n",
       "    <tr>\n",
       "      <th>72</th>\n",
       "      <td>Spectre</td>\n",
       "      <td>1</td>\n",
       "      <td>1</td>\n",
       "      <td>2015</td>\n",
       "    </tr>\n",
       "    <tr>\n",
       "      <th>73</th>\n",
       "      <td>Stutterer</td>\n",
       "      <td>1</td>\n",
       "      <td>1</td>\n",
       "      <td>2015</td>\n",
       "    </tr>\n",
       "  </tbody>\n",
       "</table>\n",
       "</div>"
      ],
      "text/plain": [
       "                                            Tilte Nominations Awards  Year\n",
       "69                                     Bear Story           1      1  2015\n",
       "70  A Girl in the River: The Price of Forgiveness           1      1  2015\n",
       "71                                    Son of Saul           1      1  2015\n",
       "72                                        Spectre           1      1  2015\n",
       "73                                      Stutterer           1      1  2015"
      ]
     },
     "execution_count": 18,
     "metadata": {},
     "output_type": "execute_result"
    }
   ],
   "source": [
    "df.tail()"
   ]
  },
  {
   "cell_type": "markdown",
   "id": "b2ed99bb",
   "metadata": {},
   "source": [
    "## Saving to a CSV File"
   ]
  },
  {
   "cell_type": "code",
   "execution_count": 19,
   "id": "ce7a2e0c",
   "metadata": {},
   "outputs": [],
   "source": [
    "df.to_csv('OscarWinningFlims.csv')"
   ]
  },
  {
   "cell_type": "code",
   "execution_count": null,
   "id": "9cf6cb6e",
   "metadata": {},
   "outputs": [],
   "source": []
  }
 ],
 "metadata": {
  "kernelspec": {
   "display_name": "Python 3.9 (tensorflow)",
   "language": "python",
   "name": "tensorflow"
  },
  "language_info": {
   "codemirror_mode": {
    "name": "ipython",
    "version": 3
   },
   "file_extension": ".py",
   "mimetype": "text/x-python",
   "name": "python",
   "nbconvert_exporter": "python",
   "pygments_lexer": "ipython3",
   "version": "3.9.13"
  }
 },
 "nbformat": 4,
 "nbformat_minor": 5
}
