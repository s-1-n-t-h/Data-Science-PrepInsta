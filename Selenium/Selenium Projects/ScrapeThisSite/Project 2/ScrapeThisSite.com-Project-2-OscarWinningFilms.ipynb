{
 "cells": [
  {
   "cell_type": "markdown",
   "id": "4c229a75",
   "metadata": {},
   "source": [
    "## Importing Libraries "
   ]
  },
  {
   "cell_type": "code",
   "execution_count": 63,
   "id": "98e62f4f",
   "metadata": {},
   "outputs": [],
   "source": [
    "from selenium import webdriver\n",
    "from selenium.webdriver.chrome.service import Service\n",
    "from webdriver_manager.chrome import ChromeDriverManager\n",
    "from selenium.webdriver.common.by import By\n",
    "from bs4 import BeautifulSoup\n",
    "import pandas as pd \n",
    "import numpy as np\n",
    "import time"
   ]
  },
  {
   "cell_type": "markdown",
   "id": "af5b9985",
   "metadata": {},
   "source": [
    "## Creating Driver Instance"
   ]
  },
  {
   "cell_type": "code",
   "execution_count": 53,
   "id": "caa955fb",
   "metadata": {},
   "outputs": [],
   "source": [
    "driver = webdriver.Chrome(service=Service(ChromeDriverManager().install()))\n"
   ]
  },
  {
   "cell_type": "markdown",
   "id": "f260e419",
   "metadata": {},
   "source": [
    "## Navigation to Page"
   ]
  },
  {
   "cell_type": "code",
   "execution_count": 54,
   "id": "649ec400",
   "metadata": {},
   "outputs": [],
   "source": [
    "driver.get('https://scrapethissite.com/pages/ajax-javascript/')"
   ]
  },
  {
   "cell_type": "markdown",
   "id": "013fbea9",
   "metadata": {},
   "source": [
    "## Creating a selenium object to click on hyperlink"
   ]
  },
  {
   "cell_type": "code",
   "execution_count": 55,
   "id": "0f32e7d6",
   "metadata": {},
   "outputs": [
    {
     "data": {
      "text/plain": [
       "True"
      ]
     },
     "execution_count": 55,
     "metadata": {},
     "output_type": "execute_result"
    }
   ],
   "source": [
    "link_btn = driver.find_element(By.LINK_TEXT,\"2010\")\n",
    "driver.save_screenshot('before.png')\n",
    "link_btn.click()\n",
    "driver.implicitly_wait(10)\n",
    "driver.save_screenshot('after.png')"
   ]
  },
  {
   "cell_type": "markdown",
   "id": "d3f1cab9",
   "metadata": {},
   "source": [
    "### finding tag by class"
   ]
  },
  {
   "cell_type": "code",
   "execution_count": 56,
   "id": "fd491f2e",
   "metadata": {},
   "outputs": [
    {
     "data": {
      "text/plain": [
       "'table'"
      ]
     },
     "execution_count": 56,
     "metadata": {},
     "output_type": "execute_result"
    }
   ],
   "source": [
    "table_data = driver.find_element(By.CLASS_NAME,'table')\n",
    "table_data.tag_name"
   ]
  },
  {
   "cell_type": "code",
   "execution_count": 57,
   "id": "6dec94b9",
   "metadata": {},
   "outputs": [
    {
     "data": {
      "text/plain": [
       "selenium.webdriver.remote.webelement.WebElement"
      ]
     },
     "execution_count": 57,
     "metadata": {},
     "output_type": "execute_result"
    }
   ],
   "source": [
    "type(table_data)"
   ]
  },
  {
   "cell_type": "markdown",
   "id": "763f0273",
   "metadata": {},
   "source": [
    "### extracting rows with selenium object and find_element() method"
   ]
  },
  {
   "cell_type": "code",
   "execution_count": 58,
   "id": "a6a29ade",
   "metadata": {},
   "outputs": [],
   "source": [
    "rows = table_data.find_elements(By.TAG_NAME,'tr')"
   ]
  },
  {
   "cell_type": "code",
   "execution_count": 59,
   "id": "8441e838",
   "metadata": {},
   "outputs": [
    {
     "data": {
      "text/plain": [
       "selenium.webdriver.remote.webelement.WebElement"
      ]
     },
     "execution_count": 59,
     "metadata": {},
     "output_type": "execute_result"
    }
   ],
   "source": [
    "type(rows[0])"
   ]
  },
  {
   "cell_type": "code",
   "execution_count": 60,
   "id": "4feb3907",
   "metadata": {},
   "outputs": [
    {
     "data": {
      "text/plain": [
       "[<selenium.webdriver.remote.webelement.WebElement (session=\"5cd840178945a40b9cef4d2e8cd6797b\", element=\"54757f28-502b-4dc5-947b-0e5c1f7020c5\")>,\n",
       " <selenium.webdriver.remote.webelement.WebElement (session=\"5cd840178945a40b9cef4d2e8cd6797b\", element=\"f58aa0a3-62fa-4656-8ee2-13af8757f18e\")>,\n",
       " <selenium.webdriver.remote.webelement.WebElement (session=\"5cd840178945a40b9cef4d2e8cd6797b\", element=\"758b7369-0091-447b-a463-f004c1e114ec\")>,\n",
       " <selenium.webdriver.remote.webelement.WebElement (session=\"5cd840178945a40b9cef4d2e8cd6797b\", element=\"ec6a3889-b552-40da-a986-3977df567dd2\")>,\n",
       " <selenium.webdriver.remote.webelement.WebElement (session=\"5cd840178945a40b9cef4d2e8cd6797b\", element=\"e6116eae-57f8-43af-b2c0-7d8c1e804d35\")>,\n",
       " <selenium.webdriver.remote.webelement.WebElement (session=\"5cd840178945a40b9cef4d2e8cd6797b\", element=\"1fe427c5-e87b-4f05-97be-65b1dbb3d194\")>,\n",
       " <selenium.webdriver.remote.webelement.WebElement (session=\"5cd840178945a40b9cef4d2e8cd6797b\", element=\"c61eae3c-e4f3-45c6-95b7-730a8edcc43c\")>,\n",
       " <selenium.webdriver.remote.webelement.WebElement (session=\"5cd840178945a40b9cef4d2e8cd6797b\", element=\"632cb693-609e-4d2b-9034-b938f26861d2\")>,\n",
       " <selenium.webdriver.remote.webelement.WebElement (session=\"5cd840178945a40b9cef4d2e8cd6797b\", element=\"ce016443-b275-43d2-9987-a40dd9519897\")>,\n",
       " <selenium.webdriver.remote.webelement.WebElement (session=\"5cd840178945a40b9cef4d2e8cd6797b\", element=\"50c2973d-8548-4973-8b37-3e42c6c23846\")>,\n",
       " <selenium.webdriver.remote.webelement.WebElement (session=\"5cd840178945a40b9cef4d2e8cd6797b\", element=\"2b8ece69-0b95-4134-a8c5-d0adfa49297f\")>,\n",
       " <selenium.webdriver.remote.webelement.WebElement (session=\"5cd840178945a40b9cef4d2e8cd6797b\", element=\"9fab6e72-ff79-436e-89bf-d233c722edc5\")>,\n",
       " <selenium.webdriver.remote.webelement.WebElement (session=\"5cd840178945a40b9cef4d2e8cd6797b\", element=\"22a99bee-fc1a-4079-8fba-48fbed6097d1\")>,\n",
       " <selenium.webdriver.remote.webelement.WebElement (session=\"5cd840178945a40b9cef4d2e8cd6797b\", element=\"ce281fcf-5278-4c9d-b992-8c02f7e9a265\")>]"
      ]
     },
     "execution_count": 60,
     "metadata": {},
     "output_type": "execute_result"
    }
   ],
   "source": [
    "rows"
   ]
  },
  {
   "cell_type": "markdown",
   "id": "92c0ddec",
   "metadata": {},
   "source": [
    "### Creating Python List of data"
   ]
  },
  {
   "cell_type": "code",
   "execution_count": 24,
   "id": "549e7fd1",
   "metadata": {},
   "outputs": [],
   "source": [
    "data = []\n",
    "for row in rows:\n",
    "    current_row = []\n",
    "    for cell in row.find_elements(By.TAG_NAME,'td')[:-1]:\n",
    "        if cell.text!='\\n' and cell.text !=None:\n",
    "            current_row.append(cell.text)\n",
    "        \n",
    "    data.append(current_row)\n",
    "            "
   ]
  },
  {
   "cell_type": "code",
   "execution_count": 25,
   "id": "9ddeb965",
   "metadata": {
    "scrolled": true
   },
   "outputs": [
    {
     "data": {
      "text/plain": [
       "[[],\n",
       " [\"The King's Speech\", '12', '4'],\n",
       " ['Inception', '8', '4'],\n",
       " ['The Social Network', '8', '3'],\n",
       " ['The Fighter', '7', '2'],\n",
       " ['Toy Story 3', '5', '2'],\n",
       " ['Alice in Wonderland', '3', '2'],\n",
       " ['Black Swan', '5', '1'],\n",
       " ['In a Better World', '1', '1'],\n",
       " ['The Lost Thing', '1', '1'],\n",
       " ['God of Love', '1', '1'],\n",
       " ['The Wolfman', '1', '1'],\n",
       " ['Strangers No More', '1', '1'],\n",
       " ['Inside Job', '1', '1']]"
      ]
     },
     "execution_count": 25,
     "metadata": {},
     "output_type": "execute_result"
    }
   ],
   "source": [
    "data"
   ]
  },
  {
   "cell_type": "markdown",
   "id": "79e6f856",
   "metadata": {},
   "source": [
    "## Creating Pandas DataFrame  "
   ]
  },
  {
   "cell_type": "code",
   "execution_count": 26,
   "id": "092bf819",
   "metadata": {},
   "outputs": [],
   "source": [
    "df = pd.DataFrame(data[1:],columns=['Tilte','Nominations','Awards'])"
   ]
  },
  {
   "cell_type": "code",
   "execution_count": 27,
   "id": "0dac1a99",
   "metadata": {},
   "outputs": [
    {
     "data": {
      "text/html": [
       "<div>\n",
       "<style scoped>\n",
       "    .dataframe tbody tr th:only-of-type {\n",
       "        vertical-align: middle;\n",
       "    }\n",
       "\n",
       "    .dataframe tbody tr th {\n",
       "        vertical-align: top;\n",
       "    }\n",
       "\n",
       "    .dataframe thead th {\n",
       "        text-align: right;\n",
       "    }\n",
       "</style>\n",
       "<table border=\"1\" class=\"dataframe\">\n",
       "  <thead>\n",
       "    <tr style=\"text-align: right;\">\n",
       "      <th></th>\n",
       "      <th>Tilte</th>\n",
       "      <th>Nominations</th>\n",
       "      <th>Awards</th>\n",
       "    </tr>\n",
       "  </thead>\n",
       "  <tbody>\n",
       "    <tr>\n",
       "      <th>0</th>\n",
       "      <td>The King's Speech</td>\n",
       "      <td>12</td>\n",
       "      <td>4</td>\n",
       "    </tr>\n",
       "    <tr>\n",
       "      <th>1</th>\n",
       "      <td>Inception</td>\n",
       "      <td>8</td>\n",
       "      <td>4</td>\n",
       "    </tr>\n",
       "    <tr>\n",
       "      <th>2</th>\n",
       "      <td>The Social Network</td>\n",
       "      <td>8</td>\n",
       "      <td>3</td>\n",
       "    </tr>\n",
       "    <tr>\n",
       "      <th>3</th>\n",
       "      <td>The Fighter</td>\n",
       "      <td>7</td>\n",
       "      <td>2</td>\n",
       "    </tr>\n",
       "    <tr>\n",
       "      <th>4</th>\n",
       "      <td>Toy Story 3</td>\n",
       "      <td>5</td>\n",
       "      <td>2</td>\n",
       "    </tr>\n",
       "    <tr>\n",
       "      <th>5</th>\n",
       "      <td>Alice in Wonderland</td>\n",
       "      <td>3</td>\n",
       "      <td>2</td>\n",
       "    </tr>\n",
       "    <tr>\n",
       "      <th>6</th>\n",
       "      <td>Black Swan</td>\n",
       "      <td>5</td>\n",
       "      <td>1</td>\n",
       "    </tr>\n",
       "    <tr>\n",
       "      <th>7</th>\n",
       "      <td>In a Better World</td>\n",
       "      <td>1</td>\n",
       "      <td>1</td>\n",
       "    </tr>\n",
       "    <tr>\n",
       "      <th>8</th>\n",
       "      <td>The Lost Thing</td>\n",
       "      <td>1</td>\n",
       "      <td>1</td>\n",
       "    </tr>\n",
       "    <tr>\n",
       "      <th>9</th>\n",
       "      <td>God of Love</td>\n",
       "      <td>1</td>\n",
       "      <td>1</td>\n",
       "    </tr>\n",
       "    <tr>\n",
       "      <th>10</th>\n",
       "      <td>The Wolfman</td>\n",
       "      <td>1</td>\n",
       "      <td>1</td>\n",
       "    </tr>\n",
       "    <tr>\n",
       "      <th>11</th>\n",
       "      <td>Strangers No More</td>\n",
       "      <td>1</td>\n",
       "      <td>1</td>\n",
       "    </tr>\n",
       "    <tr>\n",
       "      <th>12</th>\n",
       "      <td>Inside Job</td>\n",
       "      <td>1</td>\n",
       "      <td>1</td>\n",
       "    </tr>\n",
       "  </tbody>\n",
       "</table>\n",
       "</div>"
      ],
      "text/plain": [
       "                  Tilte Nominations Awards\n",
       "0     The King's Speech          12      4\n",
       "1             Inception           8      4\n",
       "2    The Social Network           8      3\n",
       "3           The Fighter           7      2\n",
       "4           Toy Story 3           5      2\n",
       "5   Alice in Wonderland           3      2\n",
       "6            Black Swan           5      1\n",
       "7     In a Better World           1      1\n",
       "8        The Lost Thing           1      1\n",
       "9           God of Love           1      1\n",
       "10          The Wolfman           1      1\n",
       "11    Strangers No More           1      1\n",
       "12           Inside Job           1      1"
      ]
     },
     "execution_count": 27,
     "metadata": {},
     "output_type": "execute_result"
    }
   ],
   "source": [
    "df"
   ]
  },
  {
   "cell_type": "code",
   "execution_count": 28,
   "id": "65b389f6",
   "metadata": {},
   "outputs": [],
   "source": [
    "df['Year'] = '2010'"
   ]
  },
  {
   "cell_type": "code",
   "execution_count": 29,
   "id": "65e52c5a",
   "metadata": {},
   "outputs": [
    {
     "data": {
      "text/html": [
       "<div>\n",
       "<style scoped>\n",
       "    .dataframe tbody tr th:only-of-type {\n",
       "        vertical-align: middle;\n",
       "    }\n",
       "\n",
       "    .dataframe tbody tr th {\n",
       "        vertical-align: top;\n",
       "    }\n",
       "\n",
       "    .dataframe thead th {\n",
       "        text-align: right;\n",
       "    }\n",
       "</style>\n",
       "<table border=\"1\" class=\"dataframe\">\n",
       "  <thead>\n",
       "    <tr style=\"text-align: right;\">\n",
       "      <th></th>\n",
       "      <th>Tilte</th>\n",
       "      <th>Nominations</th>\n",
       "      <th>Awards</th>\n",
       "      <th>Year</th>\n",
       "    </tr>\n",
       "  </thead>\n",
       "  <tbody>\n",
       "    <tr>\n",
       "      <th>0</th>\n",
       "      <td>The King's Speech</td>\n",
       "      <td>12</td>\n",
       "      <td>4</td>\n",
       "      <td>2010</td>\n",
       "    </tr>\n",
       "    <tr>\n",
       "      <th>1</th>\n",
       "      <td>Inception</td>\n",
       "      <td>8</td>\n",
       "      <td>4</td>\n",
       "      <td>2010</td>\n",
       "    </tr>\n",
       "    <tr>\n",
       "      <th>2</th>\n",
       "      <td>The Social Network</td>\n",
       "      <td>8</td>\n",
       "      <td>3</td>\n",
       "      <td>2010</td>\n",
       "    </tr>\n",
       "    <tr>\n",
       "      <th>3</th>\n",
       "      <td>The Fighter</td>\n",
       "      <td>7</td>\n",
       "      <td>2</td>\n",
       "      <td>2010</td>\n",
       "    </tr>\n",
       "    <tr>\n",
       "      <th>4</th>\n",
       "      <td>Toy Story 3</td>\n",
       "      <td>5</td>\n",
       "      <td>2</td>\n",
       "      <td>2010</td>\n",
       "    </tr>\n",
       "    <tr>\n",
       "      <th>5</th>\n",
       "      <td>Alice in Wonderland</td>\n",
       "      <td>3</td>\n",
       "      <td>2</td>\n",
       "      <td>2010</td>\n",
       "    </tr>\n",
       "    <tr>\n",
       "      <th>6</th>\n",
       "      <td>Black Swan</td>\n",
       "      <td>5</td>\n",
       "      <td>1</td>\n",
       "      <td>2010</td>\n",
       "    </tr>\n",
       "    <tr>\n",
       "      <th>7</th>\n",
       "      <td>In a Better World</td>\n",
       "      <td>1</td>\n",
       "      <td>1</td>\n",
       "      <td>2010</td>\n",
       "    </tr>\n",
       "    <tr>\n",
       "      <th>8</th>\n",
       "      <td>The Lost Thing</td>\n",
       "      <td>1</td>\n",
       "      <td>1</td>\n",
       "      <td>2010</td>\n",
       "    </tr>\n",
       "    <tr>\n",
       "      <th>9</th>\n",
       "      <td>God of Love</td>\n",
       "      <td>1</td>\n",
       "      <td>1</td>\n",
       "      <td>2010</td>\n",
       "    </tr>\n",
       "    <tr>\n",
       "      <th>10</th>\n",
       "      <td>The Wolfman</td>\n",
       "      <td>1</td>\n",
       "      <td>1</td>\n",
       "      <td>2010</td>\n",
       "    </tr>\n",
       "    <tr>\n",
       "      <th>11</th>\n",
       "      <td>Strangers No More</td>\n",
       "      <td>1</td>\n",
       "      <td>1</td>\n",
       "      <td>2010</td>\n",
       "    </tr>\n",
       "    <tr>\n",
       "      <th>12</th>\n",
       "      <td>Inside Job</td>\n",
       "      <td>1</td>\n",
       "      <td>1</td>\n",
       "      <td>2010</td>\n",
       "    </tr>\n",
       "  </tbody>\n",
       "</table>\n",
       "</div>"
      ],
      "text/plain": [
       "                  Tilte Nominations Awards  Year\n",
       "0     The King's Speech          12      4  2010\n",
       "1             Inception           8      4  2010\n",
       "2    The Social Network           8      3  2010\n",
       "3           The Fighter           7      2  2010\n",
       "4           Toy Story 3           5      2  2010\n",
       "5   Alice in Wonderland           3      2  2010\n",
       "6            Black Swan           5      1  2010\n",
       "7     In a Better World           1      1  2010\n",
       "8        The Lost Thing           1      1  2010\n",
       "9           God of Love           1      1  2010\n",
       "10          The Wolfman           1      1  2010\n",
       "11    Strangers No More           1      1  2010\n",
       "12           Inside Job           1      1  2010"
      ]
     },
     "execution_count": 29,
     "metadata": {},
     "output_type": "execute_result"
    }
   ],
   "source": [
    "df"
   ]
  },
  {
   "cell_type": "markdown",
   "id": "1c82a9bd",
   "metadata": {},
   "source": [
    "## Seggregating data for all the Available Years "
   ]
  },
  {
   "cell_type": "code",
   "execution_count": 69,
   "id": "25157e1a",
   "metadata": {},
   "outputs": [],
   "source": [
    "years = ['201'+str(i) for i in range(1,6)]\n",
    "\n",
    "for year in years:\n",
    "    driver.get('https://scrapethissite.com/pages/ajax-javascript/')\n",
    "    driver.find_element(By.LINK_TEXT,year).click()\n",
    "    time.sleep(5)\n",
    "    rows = driver.find_element(By.CLASS_NAME,'table').find_elements(By.TAG_NAME,'tr')\n",
    "    data = []\n",
    "    for row in rows:\n",
    "        current_row = []\n",
    "        for cell in row.find_elements(By.TAG_NAME,'td')[:-1]: # last column has lot of NA so replacing it by year of awards\n",
    "            if cell.text!='\\n' and cell.text !=None:\n",
    "                current_row.append(cell.text)\n",
    "        else:\n",
    "            current_row.append(year)\n",
    "\n",
    "        data.append(current_row)\n",
    "    new_df = pd.DataFrame(data[1:],columns=['Tilte','Nominations','Awards','Year'])\n",
    "    df = pd.concat([df,new_df],axis=0)\n",
    "  "
   ]
  },
  {
   "cell_type": "code",
   "execution_count": 70,
   "id": "776425b0",
   "metadata": {},
   "outputs": [
    {
     "data": {
      "text/html": [
       "<div>\n",
       "<style scoped>\n",
       "    .dataframe tbody tr th:only-of-type {\n",
       "        vertical-align: middle;\n",
       "    }\n",
       "\n",
       "    .dataframe tbody tr th {\n",
       "        vertical-align: top;\n",
       "    }\n",
       "\n",
       "    .dataframe thead th {\n",
       "        text-align: right;\n",
       "    }\n",
       "</style>\n",
       "<table border=\"1\" class=\"dataframe\">\n",
       "  <thead>\n",
       "    <tr style=\"text-align: right;\">\n",
       "      <th></th>\n",
       "      <th>Tilte</th>\n",
       "      <th>Nominations</th>\n",
       "      <th>Awards</th>\n",
       "      <th>Year</th>\n",
       "    </tr>\n",
       "  </thead>\n",
       "  <tbody>\n",
       "    <tr>\n",
       "      <th>0</th>\n",
       "      <td>The King's Speech</td>\n",
       "      <td>12</td>\n",
       "      <td>4</td>\n",
       "      <td>2010</td>\n",
       "    </tr>\n",
       "    <tr>\n",
       "      <th>1</th>\n",
       "      <td>Inception</td>\n",
       "      <td>8</td>\n",
       "      <td>4</td>\n",
       "      <td>2010</td>\n",
       "    </tr>\n",
       "    <tr>\n",
       "      <th>2</th>\n",
       "      <td>The Social Network</td>\n",
       "      <td>8</td>\n",
       "      <td>3</td>\n",
       "      <td>2010</td>\n",
       "    </tr>\n",
       "    <tr>\n",
       "      <th>3</th>\n",
       "      <td>The Fighter</td>\n",
       "      <td>7</td>\n",
       "      <td>2</td>\n",
       "      <td>2010</td>\n",
       "    </tr>\n",
       "    <tr>\n",
       "      <th>4</th>\n",
       "      <td>Toy Story 3</td>\n",
       "      <td>5</td>\n",
       "      <td>2</td>\n",
       "      <td>2010</td>\n",
       "    </tr>\n",
       "  </tbody>\n",
       "</table>\n",
       "</div>"
      ],
      "text/plain": [
       "                Tilte Nominations Awards  Year\n",
       "0   The King's Speech          12      4  2010\n",
       "1           Inception           8      4  2010\n",
       "2  The Social Network           8      3  2010\n",
       "3         The Fighter           7      2  2010\n",
       "4         Toy Story 3           5      2  2010"
      ]
     },
     "execution_count": 70,
     "metadata": {},
     "output_type": "execute_result"
    }
   ],
   "source": [
    "df.head()"
   ]
  },
  {
   "cell_type": "code",
   "execution_count": 71,
   "id": "7002b5b2",
   "metadata": {},
   "outputs": [
    {
     "data": {
      "text/html": [
       "<div>\n",
       "<style scoped>\n",
       "    .dataframe tbody tr th:only-of-type {\n",
       "        vertical-align: middle;\n",
       "    }\n",
       "\n",
       "    .dataframe tbody tr th {\n",
       "        vertical-align: top;\n",
       "    }\n",
       "\n",
       "    .dataframe thead th {\n",
       "        text-align: right;\n",
       "    }\n",
       "</style>\n",
       "<table border=\"1\" class=\"dataframe\">\n",
       "  <thead>\n",
       "    <tr style=\"text-align: right;\">\n",
       "      <th></th>\n",
       "      <th>Tilte</th>\n",
       "      <th>Nominations</th>\n",
       "      <th>Awards</th>\n",
       "      <th>Year</th>\n",
       "    </tr>\n",
       "  </thead>\n",
       "  <tbody>\n",
       "    <tr>\n",
       "      <th>11</th>\n",
       "      <td>Bear Story</td>\n",
       "      <td>1</td>\n",
       "      <td>1</td>\n",
       "      <td>2015</td>\n",
       "    </tr>\n",
       "    <tr>\n",
       "      <th>12</th>\n",
       "      <td>A Girl in the River: The Price of Forgiveness</td>\n",
       "      <td>1</td>\n",
       "      <td>1</td>\n",
       "      <td>2015</td>\n",
       "    </tr>\n",
       "    <tr>\n",
       "      <th>13</th>\n",
       "      <td>Son of Saul</td>\n",
       "      <td>1</td>\n",
       "      <td>1</td>\n",
       "      <td>2015</td>\n",
       "    </tr>\n",
       "    <tr>\n",
       "      <th>14</th>\n",
       "      <td>Spectre</td>\n",
       "      <td>1</td>\n",
       "      <td>1</td>\n",
       "      <td>2015</td>\n",
       "    </tr>\n",
       "    <tr>\n",
       "      <th>15</th>\n",
       "      <td>Stutterer</td>\n",
       "      <td>1</td>\n",
       "      <td>1</td>\n",
       "      <td>2015</td>\n",
       "    </tr>\n",
       "  </tbody>\n",
       "</table>\n",
       "</div>"
      ],
      "text/plain": [
       "                                            Tilte Nominations Awards  Year\n",
       "11                                     Bear Story           1      1  2015\n",
       "12  A Girl in the River: The Price of Forgiveness           1      1  2015\n",
       "13                                    Son of Saul           1      1  2015\n",
       "14                                        Spectre           1      1  2015\n",
       "15                                      Stutterer           1      1  2015"
      ]
     },
     "execution_count": 71,
     "metadata": {},
     "output_type": "execute_result"
    }
   ],
   "source": [
    "df.tail()"
   ]
  },
  {
   "cell_type": "markdown",
   "id": "b2ed99bb",
   "metadata": {},
   "source": [
    "## Saving to a CSV File"
   ]
  },
  {
   "cell_type": "code",
   "execution_count": 73,
   "id": "ce7a2e0c",
   "metadata": {},
   "outputs": [],
   "source": [
    "df.to_csv('OscarWinningFlims.csv')"
   ]
  },
  {
   "cell_type": "code",
   "execution_count": null,
   "id": "9cf6cb6e",
   "metadata": {},
   "outputs": [],
   "source": []
  }
 ],
 "metadata": {
  "kernelspec": {
   "display_name": "Python 3.9 (tensorflow)",
   "language": "python",
   "name": "tensorflow"
  },
  "language_info": {
   "codemirror_mode": {
    "name": "ipython",
    "version": 3
   },
   "file_extension": ".py",
   "mimetype": "text/x-python",
   "name": "python",
   "nbconvert_exporter": "python",
   "pygments_lexer": "ipython3",
   "version": "3.9.13"
  }
 },
 "nbformat": 4,
 "nbformat_minor": 5
}
