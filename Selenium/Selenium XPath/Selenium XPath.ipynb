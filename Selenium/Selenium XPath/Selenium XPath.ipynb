{
 "cells": [
  {
   "cell_type": "code",
   "execution_count": 1,
   "id": "c2dfbfb7",
   "metadata": {},
   "outputs": [],
   "source": [
    "from selenium import webdriver\n",
    "from selenium.webdriver.chrome.service import Service\n",
    "from webdriver_manager.chrome import ChromeDriverManager\n",
    "from selenium.webdriver.common.by import By\n",
    "from bs4 import BeautifulSoup\n",
    "import pandas as pd\n",
    "import numpy as np"
   ]
  },
  {
   "cell_type": "code",
   "execution_count": 2,
   "id": "b7897f48",
   "metadata": {},
   "outputs": [],
   "source": [
    "driver = webdriver.Chrome(service=Service(ChromeDriverManager().install()))\n",
    "driver.get('https://scrapethissite.com/pages/simple/')"
   ]
  },
  {
   "cell_type": "code",
   "execution_count": 3,
   "id": "5c97e30f",
   "metadata": {},
   "outputs": [
    {
     "data": {
      "text/plain": [
       "'Andorra'"
      ]
     },
     "execution_count": 3,
     "metadata": {},
     "output_type": "execute_result"
    }
   ],
   "source": [
    "item = driver.find_element(By.XPATH,'/html/body/div/section/div/div/div/h3')\n",
    "item.text"
   ]
  },
  {
   "cell_type": "code",
   "execution_count": 4,
   "id": "afef2fb4",
   "metadata": {},
   "outputs": [
    {
     "data": {
      "text/plain": [
       "'<h3 class=\"country-name\">\\n                            <i class=\"flag-icon flag-icon-ad\"></i>\\n                            Andorra\\n                        </h3>'"
      ]
     },
     "execution_count": 4,
     "metadata": {},
     "output_type": "execute_result"
    }
   ],
   "source": [
    "item.get_attribute('outerHTML')"
   ]
  },
  {
   "cell_type": "code",
   "execution_count": 5,
   "id": "69e8c583",
   "metadata": {},
   "outputs": [
    {
     "data": {
      "text/plain": [
       "'\\n                            <i class=\"flag-icon flag-icon-ad\"></i>\\n                            Andorra\\n                        '"
      ]
     },
     "execution_count": 5,
     "metadata": {},
     "output_type": "execute_result"
    }
   ],
   "source": [
    "item.get_attribute('innerHTML')"
   ]
  },
  {
   "cell_type": "code",
   "execution_count": null,
   "id": "2e3da370",
   "metadata": {},
   "outputs": [],
   "source": []
  }
 ],
 "metadata": {
  "kernelspec": {
   "display_name": "Python 3.9 (tensorflow)",
   "language": "python",
   "name": "tensorflow"
  },
  "language_info": {
   "codemirror_mode": {
    "name": "ipython",
    "version": 3
   },
   "file_extension": ".py",
   "mimetype": "text/x-python",
   "name": "python",
   "nbconvert_exporter": "python",
   "pygments_lexer": "ipython3",
   "version": "3.9.13"
  }
 },
 "nbformat": 4,
 "nbformat_minor": 5
}
