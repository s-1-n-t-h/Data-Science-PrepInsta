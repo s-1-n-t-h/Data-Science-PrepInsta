{
 "cells": [
  {
   "cell_type": "markdown",
   "id": "b37c2821",
   "metadata": {},
   "source": [
    "## Importing Libraries "
   ]
  },
  {
   "cell_type": "code",
   "execution_count": 7,
   "id": "95455412",
   "metadata": {},
   "outputs": [],
   "source": [
    "from selenium import webdriver\n",
    "from selenium.webdriver.chrome.service import Service\n",
    "from webdriver_manager.chrome import ChromeDriverManager"
   ]
  },
  {
   "cell_type": "markdown",
   "id": "5d6faa9b",
   "metadata": {},
   "source": [
    "## Creating Web Driver Instance for Chrome"
   ]
  },
  {
   "cell_type": "code",
   "execution_count": 8,
   "id": "a588c67a",
   "metadata": {},
   "outputs": [],
   "source": [
    "driver = webdriver.Chrome(service=Service(ChromeDriverManager().install())\n",
    "                         )"
   ]
  },
  {
   "cell_type": "markdown",
   "id": "f0df28ef",
   "metadata": {},
   "source": [
    "## Navigating to https://scrapethissite.com/pages/frames/"
   ]
  },
  {
   "cell_type": "code",
   "execution_count": 9,
   "id": "300f0166",
   "metadata": {},
   "outputs": [
    {
     "data": {
      "text/plain": [
       "True"
      ]
     },
     "execution_count": 9,
     "metadata": {},
     "output_type": "execute_result"
    }
   ],
   "source": [
    "driver.save_screenshot('before.png')"
   ]
  },
  {
   "cell_type": "code",
   "execution_count": 10,
   "id": "c1c27c01",
   "metadata": {},
   "outputs": [
    {
     "data": {
      "text/plain": [
       "True"
      ]
     },
     "execution_count": 10,
     "metadata": {},
     "output_type": "execute_result"
    }
   ],
   "source": [
    "driver.get('https://scrapethissite.com/pages/frames/')\n",
    "driver.save_screenshot('after.png')"
   ]
  },
  {
   "cell_type": "code",
   "execution_count": 12,
   "id": "ecbce5fc",
   "metadata": {},
   "outputs": [],
   "source": [
    "from selenium.webdriver.common.by import By\n",
    "faq_btn = driver.find_element(By.LINK_TEXT,'FAQ')\n",
    "faq_btn.click()"
   ]
  },
  {
   "cell_type": "code",
   "execution_count": null,
   "id": "a7fd0819",
   "metadata": {},
   "outputs": [],
   "source": []
  }
 ],
 "metadata": {
  "kernelspec": {
   "display_name": "Python 3 (ipykernel)",
   "language": "python",
   "name": "python3"
  },
  "language_info": {
   "codemirror_mode": {
    "name": "ipython",
    "version": 3
   },
   "file_extension": ".py",
   "mimetype": "text/x-python",
   "name": "python",
   "nbconvert_exporter": "python",
   "pygments_lexer": "ipython3",
   "version": "3.9.12"
  }
 },
 "nbformat": 4,
 "nbformat_minor": 5
}
