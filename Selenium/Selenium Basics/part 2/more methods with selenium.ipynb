{
 "cells": [
  {
   "cell_type": "markdown",
   "id": "8f24cf38",
   "metadata": {},
   "source": [
    "## Importing Libraries "
   ]
  },
  {
   "cell_type": "code",
   "execution_count": 7,
   "id": "d1c79f69",
   "metadata": {},
   "outputs": [],
   "source": [
    "from selenium import webdriver\n",
    "from selenium.webdriver.chrome.service import Service\n",
    "from webdriver_manager.chrome import ChromeDriverManager"
   ]
  },
  {
   "cell_type": "markdown",
   "id": "ae8accba",
   "metadata": {},
   "source": [
    "## Creating Web Driver Instance for Chrome"
   ]
  },
  {
   "cell_type": "code",
   "execution_count": 8,
   "id": "ba208c84",
   "metadata": {},
   "outputs": [],
   "source": [
    "driver = webdriver.Chrome(service=Service(ChromeDriverManager().install())\n",
    "                         )"
   ]
  },
  {
   "cell_type": "markdown",
   "id": "449f8c26",
   "metadata": {},
   "source": [
    "# ScrapeThisSite "
   ]
  },
  {
   "cell_type": "markdown",
   "id": "b38af7c9",
   "metadata": {},
   "source": [
    "## Navigating to https://scrapethissite.com/pages/frames/"
   ]
  },
  {
   "cell_type": "code",
   "execution_count": 9,
   "id": "27050943",
   "metadata": {},
   "outputs": [
    {
     "data": {
      "text/plain": [
       "True"
      ]
     },
     "execution_count": 9,
     "metadata": {},
     "output_type": "execute_result"
    }
   ],
   "source": [
    "driver.save_screenshot('before.png')"
   ]
  },
  {
   "cell_type": "code",
   "execution_count": 10,
   "id": "1138503a",
   "metadata": {},
   "outputs": [
    {
     "data": {
      "text/plain": [
       "True"
      ]
     },
     "execution_count": 10,
     "metadata": {},
     "output_type": "execute_result"
    }
   ],
   "source": [
    "driver.get('https://scrapethissite.com/pages/frames/')\n",
    "driver.save_screenshot('after.png')"
   ]
  },
  {
   "cell_type": "markdown",
   "id": "6dfedb25",
   "metadata": {},
   "source": [
    "## Navigating to FAQ section"
   ]
  },
  {
   "cell_type": "code",
   "execution_count": 12,
   "id": "8b301312",
   "metadata": {},
   "outputs": [],
   "source": [
    "from selenium.webdriver.common.by import By\n",
    "faq_btn = driver.find_element(By.LINK_TEXT,'FAQ')\n",
    "faq_btn.click()"
   ]
  },
  {
   "cell_type": "markdown",
   "id": "bfa4926c",
   "metadata": {},
   "source": [
    "## Navigating to Scrape This Site section"
   ]
  },
  {
   "cell_type": "code",
   "execution_count": 14,
   "id": "aaa1282b",
   "metadata": {},
   "outputs": [],
   "source": [
    "scrapeThis_btn = driver.find_element(By.PARTIAL_LINK_TEXT,'Scrape')\n",
    "scrapeThis_btn.click()"
   ]
  },
  {
   "cell_type": "markdown",
   "id": "3f25e3e8",
   "metadata": {},
   "source": [
    "## Finding element with nav-link class"
   ]
  },
  {
   "cell_type": "code",
   "execution_count": 15,
   "id": "86b1d952",
   "metadata": {},
   "outputs": [
    {
     "data": {
      "text/plain": [
       "<selenium.webdriver.remote.webelement.WebElement (session=\"df137b308778edbc8ceed991da5c50e4\", element=\"5ed4c3b1-772a-4e86-bbf4-00bb599c76d5\")>"
      ]
     },
     "execution_count": 15,
     "metadata": {},
     "output_type": "execute_result"
    }
   ],
   "source": [
    "classBtn = driver.find_element(By.CLASS_NAME,'nav-link')\n",
    "classBtn"
   ]
  },
  {
   "cell_type": "markdown",
   "id": "6f8f312d",
   "metadata": {},
   "source": [
    "## Finding elements with nav-link class"
   ]
  },
  {
   "cell_type": "code",
   "execution_count": 16,
   "id": "de979987",
   "metadata": {},
   "outputs": [
    {
     "data": {
      "text/plain": [
       "[<selenium.webdriver.remote.webelement.WebElement (session=\"df137b308778edbc8ceed991da5c50e4\", element=\"5ed4c3b1-772a-4e86-bbf4-00bb599c76d5\")>,\n",
       " <selenium.webdriver.remote.webelement.WebElement (session=\"df137b308778edbc8ceed991da5c50e4\", element=\"54e5ee0f-0696-4e7e-9f96-e2fd5f105ffb\")>,\n",
       " <selenium.webdriver.remote.webelement.WebElement (session=\"df137b308778edbc8ceed991da5c50e4\", element=\"4e546ef6-a5f4-44e9-ac2f-456a3c0c678e\")>,\n",
       " <selenium.webdriver.remote.webelement.WebElement (session=\"df137b308778edbc8ceed991da5c50e4\", element=\"bbbe28ab-7c31-41eb-9fde-f66cdf7d441a\")>,\n",
       " <selenium.webdriver.remote.webelement.WebElement (session=\"df137b308778edbc8ceed991da5c50e4\", element=\"dc263c77-d016-4d88-be2a-7cac68ac6346\")>]"
      ]
     },
     "execution_count": 16,
     "metadata": {},
     "output_type": "execute_result"
    }
   ],
   "source": [
    "classBtn = driver.find_elements(By.CLASS_NAME,'nav-link')\n",
    "classBtn"
   ]
  },
  {
   "cell_type": "code",
   "execution_count": 17,
   "id": "b7b37ae6",
   "metadata": {},
   "outputs": [
    {
     "name": "stdout",
     "output_type": "stream",
     "text": [
      "Scrape This Site\n",
      "Sandbox\n",
      "Lessons\n",
      "FAQ\n",
      "Login\n"
     ]
    }
   ],
   "source": [
    "for item in classBtn:\n",
    "    print(item.text)"
   ]
  },
  {
   "cell_type": "markdown",
   "id": "71517f61",
   "metadata": {},
   "source": [
    "# PrepInstaPrime "
   ]
  },
  {
   "cell_type": "markdown",
   "id": "b509ff20",
   "metadata": {},
   "source": [
    "## Navigating to https://prepinstaprime.com/"
   ]
  },
  {
   "cell_type": "code",
   "execution_count": 18,
   "id": "eef606ba",
   "metadata": {},
   "outputs": [],
   "source": [
    "driver.get('https://prepinstaprime.com')"
   ]
  },
  {
   "cell_type": "markdown",
   "id": "4edede7c",
   "metadata": {},
   "source": [
    "## Finding Elements by mt-2 class"
   ]
  },
  {
   "cell_type": "code",
   "execution_count": 21,
   "id": "4258cbe8",
   "metadata": {},
   "outputs": [
    {
     "data": {
      "text/plain": [
       "134"
      ]
     },
     "execution_count": 21,
     "metadata": {},
     "output_type": "execute_result"
    }
   ],
   "source": [
    "mt_2 = driver.find_elements(By.CLASS_NAME,'mt-2')\n",
    "len(mt_2)"
   ]
  },
  {
   "cell_type": "code",
   "execution_count": 23,
   "id": "5318722d",
   "metadata": {},
   "outputs": [
    {
     "name": "stdout",
     "output_type": "stream",
     "text": [
      "Data Science\n",
      "Machine Learning and AI\n",
      "AWS\n",
      "Power BI\n",
      "GIT\n",
      "\n",
      "\n",
      "\n",
      "\n",
      "\n",
      "\n",
      "\n",
      "\n",
      "Learn C\n",
      "Learn C++\n",
      "Learn Java\n",
      "Learn Python\n",
      "Basic Coding\n",
      "Intermediate Coding\n",
      "Competitive Coding (All Lang)\n",
      "DSA in C\n",
      "DSA in C++\n",
      "\n",
      "\n",
      "\n",
      "Quantitative\n",
      "Logical Reasoning\n",
      "Verbal\n",
      "Data Interpretation\n",
      "Visual Reasoning\n",
      "\n",
      "\n",
      "\n",
      "\n",
      "Service Based Companies\n",
      "Product Based Companies\n",
      "FAANG\n",
      "Big 4 Companies\n",
      "Data Science & Analytics\n",
      "Tata Elxsi\n",
      "Tech Mahindra\n",
      "Reliance Jio\n",
      "HCL\n",
      "LTI\n",
      "\n",
      "\n",
      "\n",
      "\n",
      "\n",
      "\n",
      "\n",
      "\n",
      "\n",
      "\n",
      "\n",
      "\n",
      "\n",
      "\n",
      "\n",
      "\n",
      "\n",
      "\n",
      "\n",
      "\n",
      "\n",
      "Microsoft\n",
      "Goldman Sachs\n",
      "Amazon\n",
      "Cisco(coming soon)\n",
      "Oracle(coming soon)\n",
      "\n",
      "\n",
      "\n",
      "\n",
      "\n",
      "\n",
      "\n",
      "TCS Interview Preparation\n",
      "InfyTQ Interview Preparation\n",
      "Tech Mahindra Interview Preparation\n",
      "Deloitte Interview Preparation\n",
      "Cognizant Interview Preparation\n",
      "\n",
      "\n",
      "\n",
      "\n",
      "\n",
      "\n",
      "\n",
      "\n",
      "\n",
      "\n",
      "\n",
      "\n",
      "\n",
      "\n",
      "\n",
      "\n",
      "CoCubes\n",
      "AMCAT\n",
      "HackerRank\n",
      "Mettl\n",
      "HackerEarth\n",
      "\n",
      "\n",
      "\n",
      "\n",
      "\n",
      "Pokemon Pokedex\n",
      "AMAZON User Segementation\n",
      "Zomato Review Analysis\n",
      "American Express Data Analysis\n",
      "Image Based Species Recognization\n",
      "\n",
      "\n",
      "\n",
      "\n",
      "Operating System\n",
      "DBMS\n",
      "SDLC(coming soon)\n",
      "Computer Network(coming soon)\n",
      "SQL\n",
      "Pseudo Code\n",
      "Automata Fix\n",
      "Service Based Companies\n",
      "Product Based Companies\n",
      "Resume\n",
      "Guesstimates and Case Study\n",
      "Group Discussions\n",
      "\n",
      "\n",
      "All Previous papers / Mock Tests / Quizzes (Included)\n",
      "TCS iON Remote Internships (With Internship Certification)\n",
      "AON CoCubes\n"
     ]
    }
   ],
   "source": [
    "course_list = list(mt_2)\n",
    "\n",
    "for course in course_list:\n",
    "    print(course.text)"
   ]
  },
  {
   "cell_type": "markdown",
   "id": "a35a5381",
   "metadata": {},
   "source": [
    "## Finding Elements by name attribute"
   ]
  },
  {
   "cell_type": "code",
   "execution_count": 31,
   "id": "ee7a066c",
   "metadata": {},
   "outputs": [
    {
     "data": {
      "text/plain": [
       "<selenium.webdriver.remote.webelement.WebElement (session=\"df137b308778edbc8ceed991da5c50e4\", element=\"fbbd4eaf-598d-48aa-a967-d15ea850798d\")>"
      ]
     },
     "execution_count": 31,
     "metadata": {},
     "output_type": "execute_result"
    }
   ],
   "source": [
    "attr = driver.find_element(By.NAME,'viewport')\n",
    "attr"
   ]
  },
  {
   "cell_type": "code",
   "execution_count": 32,
   "id": "5593c598",
   "metadata": {},
   "outputs": [
    {
     "data": {
      "text/plain": [
       "selenium.webdriver.remote.webelement.WebElement"
      ]
     },
     "execution_count": 32,
     "metadata": {},
     "output_type": "execute_result"
    }
   ],
   "source": [
    "type(attr)"
   ]
  },
  {
   "cell_type": "markdown",
   "id": "fab431ea",
   "metadata": {},
   "source": [
    "## Finding Elements by html tag name"
   ]
  },
  {
   "cell_type": "code",
   "execution_count": 37,
   "id": "1e6fc13c",
   "metadata": {},
   "outputs": [
    {
     "data": {
      "text/plain": [
       "[<selenium.webdriver.remote.webelement.WebElement (session=\"df137b308778edbc8ceed991da5c50e4\", element=\"3df44021-bb3e-4836-b3b3-f9e01f0319b0\")>,\n",
       " <selenium.webdriver.remote.webelement.WebElement (session=\"df137b308778edbc8ceed991da5c50e4\", element=\"67561d14-895c-4153-83fb-0015d60dffff\")>,\n",
       " <selenium.webdriver.remote.webelement.WebElement (session=\"df137b308778edbc8ceed991da5c50e4\", element=\"1849f64b-803a-4663-a91f-946f8a86fc8a\")>,\n",
       " <selenium.webdriver.remote.webelement.WebElement (session=\"df137b308778edbc8ceed991da5c50e4\", element=\"ab0d862e-69b0-4836-8a51-675463859aff\")>,\n",
       " <selenium.webdriver.remote.webelement.WebElement (session=\"df137b308778edbc8ceed991da5c50e4\", element=\"ad1f3f81-495a-4464-aa98-b980b567ef2d\")>,\n",
       " <selenium.webdriver.remote.webelement.WebElement (session=\"df137b308778edbc8ceed991da5c50e4\", element=\"ffd70021-8e8d-4106-b2e2-67af55554517\")>,\n",
       " <selenium.webdriver.remote.webelement.WebElement (session=\"df137b308778edbc8ceed991da5c50e4\", element=\"30db4eec-ced9-48f0-b2fc-58bb74ce4cff\")>,\n",
       " <selenium.webdriver.remote.webelement.WebElement (session=\"df137b308778edbc8ceed991da5c50e4\", element=\"2a256db2-d190-456f-adf3-b199dbc5e661\")>,\n",
       " <selenium.webdriver.remote.webelement.WebElement (session=\"df137b308778edbc8ceed991da5c50e4\", element=\"9378d72c-3383-499e-abfb-90b2c98f2369\")>,\n",
       " <selenium.webdriver.remote.webelement.WebElement (session=\"df137b308778edbc8ceed991da5c50e4\", element=\"4b4b7379-269f-49bc-8da1-8cd8abcf5cd8\")>,\n",
       " <selenium.webdriver.remote.webelement.WebElement (session=\"df137b308778edbc8ceed991da5c50e4\", element=\"b049d4ae-7bf1-41b0-b9a5-6ca3be283a23\")>,\n",
       " <selenium.webdriver.remote.webelement.WebElement (session=\"df137b308778edbc8ceed991da5c50e4\", element=\"4d95927b-273b-4e83-b64f-61118a715315\")>,\n",
       " <selenium.webdriver.remote.webelement.WebElement (session=\"df137b308778edbc8ceed991da5c50e4\", element=\"3d6fce27-5b90-4e85-908e-d4065afc6c0a\")>,\n",
       " <selenium.webdriver.remote.webelement.WebElement (session=\"df137b308778edbc8ceed991da5c50e4\", element=\"1561b9d6-1ced-441e-8a2d-e79522f4b798\")>,\n",
       " <selenium.webdriver.remote.webelement.WebElement (session=\"df137b308778edbc8ceed991da5c50e4\", element=\"220852ab-71f7-4b5f-ac05-e0a2dd4ec48e\")>,\n",
       " <selenium.webdriver.remote.webelement.WebElement (session=\"df137b308778edbc8ceed991da5c50e4\", element=\"d8ec66fd-a479-485c-afb7-6b1e03c0ca8c\")>,\n",
       " <selenium.webdriver.remote.webelement.WebElement (session=\"df137b308778edbc8ceed991da5c50e4\", element=\"5d85daea-11c6-4bfe-8cc8-f70bee0c5127\")>,\n",
       " <selenium.webdriver.remote.webelement.WebElement (session=\"df137b308778edbc8ceed991da5c50e4\", element=\"02d6c9c0-0440-4d9b-83d3-d078592752d7\")>,\n",
       " <selenium.webdriver.remote.webelement.WebElement (session=\"df137b308778edbc8ceed991da5c50e4\", element=\"9163f693-8ac6-4f5d-843f-729444526ace\")>,\n",
       " <selenium.webdriver.remote.webelement.WebElement (session=\"df137b308778edbc8ceed991da5c50e4\", element=\"95e78fe9-ee85-4710-9ffc-dc3ad518be90\")>,\n",
       " <selenium.webdriver.remote.webelement.WebElement (session=\"df137b308778edbc8ceed991da5c50e4\", element=\"9b94f50a-50f3-48e6-9489-6328e0ca8227\")>,\n",
       " <selenium.webdriver.remote.webelement.WebElement (session=\"df137b308778edbc8ceed991da5c50e4\", element=\"5929a566-c76c-4470-882d-37caccfb306f\")>,\n",
       " <selenium.webdriver.remote.webelement.WebElement (session=\"df137b308778edbc8ceed991da5c50e4\", element=\"c826eb7c-308a-47ad-9c7e-b65e436ef1d6\")>,\n",
       " <selenium.webdriver.remote.webelement.WebElement (session=\"df137b308778edbc8ceed991da5c50e4\", element=\"f48412c2-5dbf-4c6b-a296-8b15e29b9504\")>,\n",
       " <selenium.webdriver.remote.webelement.WebElement (session=\"df137b308778edbc8ceed991da5c50e4\", element=\"577d1eb3-b04e-465a-92e6-baa45f0979db\")>,\n",
       " <selenium.webdriver.remote.webelement.WebElement (session=\"df137b308778edbc8ceed991da5c50e4\", element=\"f325ff9d-aae0-40b1-921f-5cd9f2a67922\")>,\n",
       " <selenium.webdriver.remote.webelement.WebElement (session=\"df137b308778edbc8ceed991da5c50e4\", element=\"3eb9e129-4361-47c9-af9a-07dd937acd6b\")>,\n",
       " <selenium.webdriver.remote.webelement.WebElement (session=\"df137b308778edbc8ceed991da5c50e4\", element=\"0264cef7-d750-4b1c-8dfb-7938f67507b4\")>,\n",
       " <selenium.webdriver.remote.webelement.WebElement (session=\"df137b308778edbc8ceed991da5c50e4\", element=\"3a925bf3-48d0-4439-a6bb-bc646df583ad\")>,\n",
       " <selenium.webdriver.remote.webelement.WebElement (session=\"df137b308778edbc8ceed991da5c50e4\", element=\"0ddf9323-a8b4-4871-84b5-dfa032af48ab\")>,\n",
       " <selenium.webdriver.remote.webelement.WebElement (session=\"df137b308778edbc8ceed991da5c50e4\", element=\"cc01895d-c5ed-41a5-8a75-cf24a191b8cd\")>,\n",
       " <selenium.webdriver.remote.webelement.WebElement (session=\"df137b308778edbc8ceed991da5c50e4\", element=\"636de781-a60b-47c0-a820-bf514a478c4e\")>,\n",
       " <selenium.webdriver.remote.webelement.WebElement (session=\"df137b308778edbc8ceed991da5c50e4\", element=\"bca84e12-317e-4c77-bc3b-5715e27076e3\")>,\n",
       " <selenium.webdriver.remote.webelement.WebElement (session=\"df137b308778edbc8ceed991da5c50e4\", element=\"ed201bb4-9e82-4a78-a310-01c2e2cf0d39\")>,\n",
       " <selenium.webdriver.remote.webelement.WebElement (session=\"df137b308778edbc8ceed991da5c50e4\", element=\"adb04073-1f6f-473c-9e2a-ca4a10fd6cda\")>,\n",
       " <selenium.webdriver.remote.webelement.WebElement (session=\"df137b308778edbc8ceed991da5c50e4\", element=\"8c85f53c-e911-4337-97a9-520cf735ea7a\")>,\n",
       " <selenium.webdriver.remote.webelement.WebElement (session=\"df137b308778edbc8ceed991da5c50e4\", element=\"fd2f1ce0-d33d-42df-9e6e-87fb9a271a65\")>,\n",
       " <selenium.webdriver.remote.webelement.WebElement (session=\"df137b308778edbc8ceed991da5c50e4\", element=\"e3060665-e98c-480a-a7dd-2fe0419326d5\")>,\n",
       " <selenium.webdriver.remote.webelement.WebElement (session=\"df137b308778edbc8ceed991da5c50e4\", element=\"357ffd5c-6bbf-47fb-9e11-ad3e9bfe4713\")>,\n",
       " <selenium.webdriver.remote.webelement.WebElement (session=\"df137b308778edbc8ceed991da5c50e4\", element=\"d8c20321-445b-4c24-85b3-5315b8091b22\")>,\n",
       " <selenium.webdriver.remote.webelement.WebElement (session=\"df137b308778edbc8ceed991da5c50e4\", element=\"819adc59-4034-4989-a6b7-b7ac01940cb2\")>,\n",
       " <selenium.webdriver.remote.webelement.WebElement (session=\"df137b308778edbc8ceed991da5c50e4\", element=\"6cca6870-89bd-4446-9caa-891f546b7e35\")>,\n",
       " <selenium.webdriver.remote.webelement.WebElement (session=\"df137b308778edbc8ceed991da5c50e4\", element=\"ca3ab124-a722-4f32-97f3-9a82c84c8d7b\")>,\n",
       " <selenium.webdriver.remote.webelement.WebElement (session=\"df137b308778edbc8ceed991da5c50e4\", element=\"ce23411e-3d1d-495a-8120-9ac3a3039fbc\")>,\n",
       " <selenium.webdriver.remote.webelement.WebElement (session=\"df137b308778edbc8ceed991da5c50e4\", element=\"4a7b97dd-8cfa-43f4-adfb-3b83d675159f\")>,\n",
       " <selenium.webdriver.remote.webelement.WebElement (session=\"df137b308778edbc8ceed991da5c50e4\", element=\"a86ed25b-c0f0-4bdc-9ded-ad14dc53f5cc\")>,\n",
       " <selenium.webdriver.remote.webelement.WebElement (session=\"df137b308778edbc8ceed991da5c50e4\", element=\"b8ffa8bf-97fd-4bc7-8913-23699cc1281a\")>,\n",
       " <selenium.webdriver.remote.webelement.WebElement (session=\"df137b308778edbc8ceed991da5c50e4\", element=\"617cfb1e-2260-47cc-a035-1363e9a5d3d8\")>,\n",
       " <selenium.webdriver.remote.webelement.WebElement (session=\"df137b308778edbc8ceed991da5c50e4\", element=\"fb3dc214-ffbe-4012-9f29-852404624a4c\")>,\n",
       " <selenium.webdriver.remote.webelement.WebElement (session=\"df137b308778edbc8ceed991da5c50e4\", element=\"85205031-3fbc-4019-a3dc-d7cda4cad28a\")>,\n",
       " <selenium.webdriver.remote.webelement.WebElement (session=\"df137b308778edbc8ceed991da5c50e4\", element=\"d90158e3-3a48-451a-be1a-16c21baba419\")>,\n",
       " <selenium.webdriver.remote.webelement.WebElement (session=\"df137b308778edbc8ceed991da5c50e4\", element=\"0635463f-a1de-449e-b022-261465468c24\")>,\n",
       " <selenium.webdriver.remote.webelement.WebElement (session=\"df137b308778edbc8ceed991da5c50e4\", element=\"60ca7b43-854e-4d93-8ff1-8cb129cf7a1e\")>,\n",
       " <selenium.webdriver.remote.webelement.WebElement (session=\"df137b308778edbc8ceed991da5c50e4\", element=\"eb7a0ce6-3988-4a3b-8354-11d748059417\")>,\n",
       " <selenium.webdriver.remote.webelement.WebElement (session=\"df137b308778edbc8ceed991da5c50e4\", element=\"06a4698f-b114-4ae5-9cac-b310a9ab16d4\")>,\n",
       " <selenium.webdriver.remote.webelement.WebElement (session=\"df137b308778edbc8ceed991da5c50e4\", element=\"803fee1d-8497-48c9-904f-6a23216193aa\")>,\n",
       " <selenium.webdriver.remote.webelement.WebElement (session=\"df137b308778edbc8ceed991da5c50e4\", element=\"b26c2efc-ee83-4317-89b9-ae81428c2cf8\")>,\n",
       " <selenium.webdriver.remote.webelement.WebElement (session=\"df137b308778edbc8ceed991da5c50e4\", element=\"14f57f8b-8b72-4531-84bc-59636c5edb5b\")>,\n",
       " <selenium.webdriver.remote.webelement.WebElement (session=\"df137b308778edbc8ceed991da5c50e4\", element=\"3e53768a-1f33-4220-8e02-b6ae3c593dd4\")>,\n",
       " <selenium.webdriver.remote.webelement.WebElement (session=\"df137b308778edbc8ceed991da5c50e4\", element=\"8f1f3c16-a6e9-43a3-8522-30306674e0ac\")>,\n",
       " <selenium.webdriver.remote.webelement.WebElement (session=\"df137b308778edbc8ceed991da5c50e4\", element=\"d1462619-0200-4c28-bd78-a395ac874f89\")>,\n",
       " <selenium.webdriver.remote.webelement.WebElement (session=\"df137b308778edbc8ceed991da5c50e4\", element=\"814406dc-6454-4c15-aa3f-5ac3add9b374\")>,\n",
       " <selenium.webdriver.remote.webelement.WebElement (session=\"df137b308778edbc8ceed991da5c50e4\", element=\"f855e645-e2cb-40ea-a210-73e7b6cd678d\")>,\n",
       " <selenium.webdriver.remote.webelement.WebElement (session=\"df137b308778edbc8ceed991da5c50e4\", element=\"8f303b54-eeec-4229-9eb9-77ca9a46c745\")>,\n",
       " <selenium.webdriver.remote.webelement.WebElement (session=\"df137b308778edbc8ceed991da5c50e4\", element=\"663041dd-e3d4-4cad-ae60-420f97e8996c\")>,\n",
       " <selenium.webdriver.remote.webelement.WebElement (session=\"df137b308778edbc8ceed991da5c50e4\", element=\"dcc11e52-2638-4ed8-82fc-2dfad2d6238f\")>,\n",
       " <selenium.webdriver.remote.webelement.WebElement (session=\"df137b308778edbc8ceed991da5c50e4\", element=\"ad305894-5433-4b9c-8b6a-d7cb582d9784\")>,\n",
       " <selenium.webdriver.remote.webelement.WebElement (session=\"df137b308778edbc8ceed991da5c50e4\", element=\"a81c49bb-9ca7-476f-8ca4-de234f82cf33\")>,\n",
       " <selenium.webdriver.remote.webelement.WebElement (session=\"df137b308778edbc8ceed991da5c50e4\", element=\"392c1fcb-8c52-4d8d-ad40-51b9887e3135\")>,\n",
       " <selenium.webdriver.remote.webelement.WebElement (session=\"df137b308778edbc8ceed991da5c50e4\", element=\"6a8e9552-8d43-46d4-8d1e-fa32bc0108fd\")>,\n",
       " <selenium.webdriver.remote.webelement.WebElement (session=\"df137b308778edbc8ceed991da5c50e4\", element=\"deffc08d-8dc8-45bc-a1c1-c1e4714b02b1\")>,\n",
       " <selenium.webdriver.remote.webelement.WebElement (session=\"df137b308778edbc8ceed991da5c50e4\", element=\"5a1af815-286a-442e-b9ca-e3e8336938ed\")>,\n",
       " <selenium.webdriver.remote.webelement.WebElement (session=\"df137b308778edbc8ceed991da5c50e4\", element=\"f1e59d5e-64ec-48e3-9ea3-089d36e7c07b\")>,\n",
       " <selenium.webdriver.remote.webelement.WebElement (session=\"df137b308778edbc8ceed991da5c50e4\", element=\"cd4e86da-ee32-4847-a124-e5dfe606b7f6\")>,\n",
       " <selenium.webdriver.remote.webelement.WebElement (session=\"df137b308778edbc8ceed991da5c50e4\", element=\"12ce46b7-85d1-4496-9e2d-f96834dca364\")>,\n",
       " <selenium.webdriver.remote.webelement.WebElement (session=\"df137b308778edbc8ceed991da5c50e4\", element=\"2ffb646d-4979-406d-a975-e8456de8d63f\")>,\n",
       " <selenium.webdriver.remote.webelement.WebElement (session=\"df137b308778edbc8ceed991da5c50e4\", element=\"0ac00294-daa4-4974-a262-0b252df1312c\")>,\n",
       " <selenium.webdriver.remote.webelement.WebElement (session=\"df137b308778edbc8ceed991da5c50e4\", element=\"dd1a91ee-d54b-4221-a24b-fab9723b94a1\")>,\n",
       " <selenium.webdriver.remote.webelement.WebElement (session=\"df137b308778edbc8ceed991da5c50e4\", element=\"7f62636b-02a9-4b24-8854-6e6d3156dd5b\")>,\n",
       " <selenium.webdriver.remote.webelement.WebElement (session=\"df137b308778edbc8ceed991da5c50e4\", element=\"eb940707-a114-4250-bca9-82bc0d939363\")>,\n",
       " <selenium.webdriver.remote.webelement.WebElement (session=\"df137b308778edbc8ceed991da5c50e4\", element=\"ca221eeb-5216-4ad5-9f1f-8586603837b7\")>,\n",
       " <selenium.webdriver.remote.webelement.WebElement (session=\"df137b308778edbc8ceed991da5c50e4\", element=\"12916cbf-4843-4f28-8ec3-fc2ef73e16c9\")>,\n",
       " <selenium.webdriver.remote.webelement.WebElement (session=\"df137b308778edbc8ceed991da5c50e4\", element=\"54d82413-048e-421a-a1c4-8a073c03f4b2\")>,\n",
       " <selenium.webdriver.remote.webelement.WebElement (session=\"df137b308778edbc8ceed991da5c50e4\", element=\"dcaea8e4-73da-44d1-8c0c-562c2b7dbd1c\")>,\n",
       " <selenium.webdriver.remote.webelement.WebElement (session=\"df137b308778edbc8ceed991da5c50e4\", element=\"c9d359b9-933e-4b89-b143-2c923cdcaa30\")>,\n",
       " <selenium.webdriver.remote.webelement.WebElement (session=\"df137b308778edbc8ceed991da5c50e4\", element=\"c463af68-4bd8-4655-8e62-314eca9c2737\")>,\n",
       " <selenium.webdriver.remote.webelement.WebElement (session=\"df137b308778edbc8ceed991da5c50e4\", element=\"9fd51aef-ef2f-4bf5-adc2-d60e108db284\")>,\n",
       " <selenium.webdriver.remote.webelement.WebElement (session=\"df137b308778edbc8ceed991da5c50e4\", element=\"99faaa62-fcb1-49de-b82f-aec80c0c51c1\")>,\n",
       " <selenium.webdriver.remote.webelement.WebElement (session=\"df137b308778edbc8ceed991da5c50e4\", element=\"91b1f619-e30b-47fe-92d9-85750a45a6df\")>,\n",
       " <selenium.webdriver.remote.webelement.WebElement (session=\"df137b308778edbc8ceed991da5c50e4\", element=\"8de5934e-7f0d-43f6-8d92-b3c1be9cec71\")>,\n",
       " <selenium.webdriver.remote.webelement.WebElement (session=\"df137b308778edbc8ceed991da5c50e4\", element=\"023d988c-dc4e-4a96-8f9c-56e9c0123237\")>,\n",
       " <selenium.webdriver.remote.webelement.WebElement (session=\"df137b308778edbc8ceed991da5c50e4\", element=\"27e08b9d-d3de-49b0-9186-02b6fea64262\")>,\n",
       " <selenium.webdriver.remote.webelement.WebElement (session=\"df137b308778edbc8ceed991da5c50e4\", element=\"0f2b2598-59c5-41b3-92ec-21d36f6ec45a\")>,\n",
       " <selenium.webdriver.remote.webelement.WebElement (session=\"df137b308778edbc8ceed991da5c50e4\", element=\"3482ff1e-939d-4ad5-b470-0aeb0c6f1461\")>,\n",
       " <selenium.webdriver.remote.webelement.WebElement (session=\"df137b308778edbc8ceed991da5c50e4\", element=\"39587dfa-032b-481e-959d-66b6c99fc83e\")>,\n",
       " <selenium.webdriver.remote.webelement.WebElement (session=\"df137b308778edbc8ceed991da5c50e4\", element=\"f791802a-ad7d-4e43-914e-2e9ed420b554\")>,\n",
       " <selenium.webdriver.remote.webelement.WebElement (session=\"df137b308778edbc8ceed991da5c50e4\", element=\"fd8c00e0-9eff-40d7-b3cb-d79b1883280e\")>,\n",
       " <selenium.webdriver.remote.webelement.WebElement (session=\"df137b308778edbc8ceed991da5c50e4\", element=\"0aece9ed-5c1f-4199-b525-562e1e6771ee\")>,\n",
       " <selenium.webdriver.remote.webelement.WebElement (session=\"df137b308778edbc8ceed991da5c50e4\", element=\"d79d5a8a-0f29-4cc5-9320-d4a731e021c8\")>,\n",
       " <selenium.webdriver.remote.webelement.WebElement (session=\"df137b308778edbc8ceed991da5c50e4\", element=\"a1486ada-813d-4ba6-b32d-cbc2bc777f6e\")>,\n",
       " <selenium.webdriver.remote.webelement.WebElement (session=\"df137b308778edbc8ceed991da5c50e4\", element=\"6d18d0fe-6767-466f-95cc-6ea9143fab50\")>,\n",
       " <selenium.webdriver.remote.webelement.WebElement (session=\"df137b308778edbc8ceed991da5c50e4\", element=\"e7cfd839-a364-471c-a491-1caec735b0c9\")>,\n",
       " <selenium.webdriver.remote.webelement.WebElement (session=\"df137b308778edbc8ceed991da5c50e4\", element=\"5a368c7c-eff8-4856-b7bd-305b6782401d\")>,\n",
       " <selenium.webdriver.remote.webelement.WebElement (session=\"df137b308778edbc8ceed991da5c50e4\", element=\"c5b1ac77-7485-494a-8496-f813574ee567\")>,\n",
       " <selenium.webdriver.remote.webelement.WebElement (session=\"df137b308778edbc8ceed991da5c50e4\", element=\"4c338ae2-905f-41d4-a861-0ee9218c0755\")>,\n",
       " <selenium.webdriver.remote.webelement.WebElement (session=\"df137b308778edbc8ceed991da5c50e4\", element=\"5426c89c-61fc-4cd1-b78c-c4ae4968a546\")>,\n",
       " <selenium.webdriver.remote.webelement.WebElement (session=\"df137b308778edbc8ceed991da5c50e4\", element=\"c5372b78-efb7-4b85-ac98-3c644c65b9ca\")>,\n",
       " <selenium.webdriver.remote.webelement.WebElement (session=\"df137b308778edbc8ceed991da5c50e4\", element=\"713d0fd8-5d11-4489-8c23-d9b7aea267c8\")>,\n",
       " <selenium.webdriver.remote.webelement.WebElement (session=\"df137b308778edbc8ceed991da5c50e4\", element=\"ce709280-f473-409a-b1f5-cbfc8d1094b6\")>,\n",
       " <selenium.webdriver.remote.webelement.WebElement (session=\"df137b308778edbc8ceed991da5c50e4\", element=\"a94f6d6f-ba66-4b44-9c20-a5bdce4a073f\")>,\n",
       " <selenium.webdriver.remote.webelement.WebElement (session=\"df137b308778edbc8ceed991da5c50e4\", element=\"f76188ae-1814-4863-8a87-871de6834734\")>,\n",
       " <selenium.webdriver.remote.webelement.WebElement (session=\"df137b308778edbc8ceed991da5c50e4\", element=\"fea72175-26eb-4857-95a3-43d767a339e3\")>,\n",
       " <selenium.webdriver.remote.webelement.WebElement (session=\"df137b308778edbc8ceed991da5c50e4\", element=\"7a1281b8-e3ed-47fa-b033-37eb98ff8573\")>,\n",
       " <selenium.webdriver.remote.webelement.WebElement (session=\"df137b308778edbc8ceed991da5c50e4\", element=\"2ceff51e-0891-4410-a183-2151bf2fdd0b\")>,\n",
       " <selenium.webdriver.remote.webelement.WebElement (session=\"df137b308778edbc8ceed991da5c50e4\", element=\"0ec08cca-a0f6-4716-b85a-99f3e4399660\")>,\n",
       " <selenium.webdriver.remote.webelement.WebElement (session=\"df137b308778edbc8ceed991da5c50e4\", element=\"6dd0b91c-281e-4a9c-8ca4-45c4e501c669\")>,\n",
       " <selenium.webdriver.remote.webelement.WebElement (session=\"df137b308778edbc8ceed991da5c50e4\", element=\"c494d982-9341-4c6a-9e8a-b3e0b2dc1a98\")>,\n",
       " <selenium.webdriver.remote.webelement.WebElement (session=\"df137b308778edbc8ceed991da5c50e4\", element=\"6bfaf308-57dd-41f4-8daf-009213bd3459\")>,\n",
       " <selenium.webdriver.remote.webelement.WebElement (session=\"df137b308778edbc8ceed991da5c50e4\", element=\"97f02d29-46db-436f-ab7b-1cfdc25590bb\")>,\n",
       " <selenium.webdriver.remote.webelement.WebElement (session=\"df137b308778edbc8ceed991da5c50e4\", element=\"c73f2772-85db-486e-b030-ea393fbcc4be\")>,\n",
       " <selenium.webdriver.remote.webelement.WebElement (session=\"df137b308778edbc8ceed991da5c50e4\", element=\"dd86de72-5090-43dd-8447-0edc985bffc4\")>,\n",
       " <selenium.webdriver.remote.webelement.WebElement (session=\"df137b308778edbc8ceed991da5c50e4\", element=\"854b7b85-87b8-46d0-9720-2df17776b0aa\")>,\n",
       " <selenium.webdriver.remote.webelement.WebElement (session=\"df137b308778edbc8ceed991da5c50e4\", element=\"d38658e1-bdab-45f8-8f02-220513614bd7\")>,\n",
       " <selenium.webdriver.remote.webelement.WebElement (session=\"df137b308778edbc8ceed991da5c50e4\", element=\"d479c29c-c9b1-46f2-8e91-dce03260df9a\")>,\n",
       " <selenium.webdriver.remote.webelement.WebElement (session=\"df137b308778edbc8ceed991da5c50e4\", element=\"6ca97f28-9590-4af7-9142-8dfc1dbee7a5\")>,\n",
       " <selenium.webdriver.remote.webelement.WebElement (session=\"df137b308778edbc8ceed991da5c50e4\", element=\"e3afb2a0-0b8e-41c2-8b4d-7c53d5a3665e\")>,\n",
       " <selenium.webdriver.remote.webelement.WebElement (session=\"df137b308778edbc8ceed991da5c50e4\", element=\"060f898d-e754-44a5-b642-2dfe7bc81ba1\")>,\n",
       " <selenium.webdriver.remote.webelement.WebElement (session=\"df137b308778edbc8ceed991da5c50e4\", element=\"bf17030a-25e6-40a6-8267-8cc876087ee5\")>,\n",
       " <selenium.webdriver.remote.webelement.WebElement (session=\"df137b308778edbc8ceed991da5c50e4\", element=\"ded32809-f2e3-4ca4-a68c-abaa15525055\")>,\n",
       " <selenium.webdriver.remote.webelement.WebElement (session=\"df137b308778edbc8ceed991da5c50e4\", element=\"ef3159a1-2aa9-4168-a6de-6374ba87ab16\")>,\n",
       " <selenium.webdriver.remote.webelement.WebElement (session=\"df137b308778edbc8ceed991da5c50e4\", element=\"45e4a650-e187-4588-9ead-1e669680a0ba\")>,\n",
       " <selenium.webdriver.remote.webelement.WebElement (session=\"df137b308778edbc8ceed991da5c50e4\", element=\"496ed551-b9c0-4933-9a1f-2da08fc1cd1b\")>,\n",
       " <selenium.webdriver.remote.webelement.WebElement (session=\"df137b308778edbc8ceed991da5c50e4\", element=\"37f168a2-17dc-48f7-8bbb-043516dd8622\")>,\n",
       " <selenium.webdriver.remote.webelement.WebElement (session=\"df137b308778edbc8ceed991da5c50e4\", element=\"2b333d64-4ae2-415a-a65e-ad76600bb245\")>,\n",
       " <selenium.webdriver.remote.webelement.WebElement (session=\"df137b308778edbc8ceed991da5c50e4\", element=\"cde8f55b-4b19-457c-a497-6b10612da436\")>,\n",
       " <selenium.webdriver.remote.webelement.WebElement (session=\"df137b308778edbc8ceed991da5c50e4\", element=\"ec0e7388-3086-4b60-b765-dd94c287af6d\")>,\n",
       " <selenium.webdriver.remote.webelement.WebElement (session=\"df137b308778edbc8ceed991da5c50e4\", element=\"a07916c0-63f4-46e4-b000-052231613513\")>,\n",
       " <selenium.webdriver.remote.webelement.WebElement (session=\"df137b308778edbc8ceed991da5c50e4\", element=\"6f5f3785-9064-4e78-98d3-660076c9d4a4\")>,\n",
       " <selenium.webdriver.remote.webelement.WebElement (session=\"df137b308778edbc8ceed991da5c50e4\", element=\"ec6d3714-0fa9-466c-9c8f-a55007afd50b\")>,\n",
       " <selenium.webdriver.remote.webelement.WebElement (session=\"df137b308778edbc8ceed991da5c50e4\", element=\"6785a4c7-69fc-4922-81fe-fcb7c9a29fe2\")>,\n",
       " <selenium.webdriver.remote.webelement.WebElement (session=\"df137b308778edbc8ceed991da5c50e4\", element=\"960372bd-f839-4e8b-a237-818c3241cca6\")>,\n",
       " <selenium.webdriver.remote.webelement.WebElement (session=\"df137b308778edbc8ceed991da5c50e4\", element=\"4980e55d-dc19-4acf-be55-b73a86ef0234\")>,\n",
       " <selenium.webdriver.remote.webelement.WebElement (session=\"df137b308778edbc8ceed991da5c50e4\", element=\"91eb3f13-3dbe-41a1-80d8-2c881e5bef9a\")>,\n",
       " <selenium.webdriver.remote.webelement.WebElement (session=\"df137b308778edbc8ceed991da5c50e4\", element=\"5060396d-1feb-4ee3-bc08-d3147f76d7f9\")>,\n",
       " <selenium.webdriver.remote.webelement.WebElement (session=\"df137b308778edbc8ceed991da5c50e4\", element=\"589dddf9-c2a0-45f4-94ce-b5883802c1b6\")>,\n",
       " <selenium.webdriver.remote.webelement.WebElement (session=\"df137b308778edbc8ceed991da5c50e4\", element=\"3b20db04-e7f7-4261-8c00-b6589b3468f3\")>,\n",
       " <selenium.webdriver.remote.webelement.WebElement (session=\"df137b308778edbc8ceed991da5c50e4\", element=\"a52626d8-1375-42a6-977c-758ecaf6edb5\")>,\n",
       " <selenium.webdriver.remote.webelement.WebElement (session=\"df137b308778edbc8ceed991da5c50e4\", element=\"9ad86c74-e25a-4f88-aae1-74c7a123c68c\")>,\n",
       " <selenium.webdriver.remote.webelement.WebElement (session=\"df137b308778edbc8ceed991da5c50e4\", element=\"770ae5b8-a2be-43da-b123-4ed253dfe01c\")>,\n",
       " <selenium.webdriver.remote.webelement.WebElement (session=\"df137b308778edbc8ceed991da5c50e4\", element=\"84576aa6-3e44-4e78-9824-a5e3f918ab7e\")>,\n",
       " <selenium.webdriver.remote.webelement.WebElement (session=\"df137b308778edbc8ceed991da5c50e4\", element=\"14c8c195-6664-4bb4-b436-58b53512372c\")>,\n",
       " <selenium.webdriver.remote.webelement.WebElement (session=\"df137b308778edbc8ceed991da5c50e4\", element=\"1ac74a73-1333-4d39-a5f1-86fde662cc83\")>,\n",
       " <selenium.webdriver.remote.webelement.WebElement (session=\"df137b308778edbc8ceed991da5c50e4\", element=\"3f02f680-682e-46e3-80d9-a75eaba0518e\")>,\n",
       " <selenium.webdriver.remote.webelement.WebElement (session=\"df137b308778edbc8ceed991da5c50e4\", element=\"a5ab5d16-ea14-4169-b18a-ccc49bae1b43\")>,\n",
       " <selenium.webdriver.remote.webelement.WebElement (session=\"df137b308778edbc8ceed991da5c50e4\", element=\"b05023f2-cd60-4d79-88ec-f0aeb5439298\")>,\n",
       " <selenium.webdriver.remote.webelement.WebElement (session=\"df137b308778edbc8ceed991da5c50e4\", element=\"bfbdeacd-6ef7-4f48-ab92-4cf0b5ec08a3\")>,\n",
       " <selenium.webdriver.remote.webelement.WebElement (session=\"df137b308778edbc8ceed991da5c50e4\", element=\"f86c67db-6014-4ef5-9e7f-6a36f32100f4\")>,\n",
       " <selenium.webdriver.remote.webelement.WebElement (session=\"df137b308778edbc8ceed991da5c50e4\", element=\"fab9e577-a2a2-453e-926e-3ce67eddc3cb\")>,\n",
       " <selenium.webdriver.remote.webelement.WebElement (session=\"df137b308778edbc8ceed991da5c50e4\", element=\"66547956-6208-4866-b626-c7067d2ba6ae\")>,\n",
       " <selenium.webdriver.remote.webelement.WebElement (session=\"df137b308778edbc8ceed991da5c50e4\", element=\"dbd29054-6e17-49bb-a9ce-ca0af56d1485\")>,\n",
       " <selenium.webdriver.remote.webelement.WebElement (session=\"df137b308778edbc8ceed991da5c50e4\", element=\"c6122c89-137f-4f98-9ee3-320aa6982351\")>,\n",
       " <selenium.webdriver.remote.webelement.WebElement (session=\"df137b308778edbc8ceed991da5c50e4\", element=\"5e4c1f3b-f489-4453-88d4-a1daa03e58fd\")>,\n",
       " <selenium.webdriver.remote.webelement.WebElement (session=\"df137b308778edbc8ceed991da5c50e4\", element=\"e3324ddb-a0f8-4f61-bff0-95446448b723\")>,\n",
       " <selenium.webdriver.remote.webelement.WebElement (session=\"df137b308778edbc8ceed991da5c50e4\", element=\"642551cd-3181-4d11-8441-5ccad2e085e9\")>,\n",
       " <selenium.webdriver.remote.webelement.WebElement (session=\"df137b308778edbc8ceed991da5c50e4\", element=\"4149f730-e2a3-40d9-aa3b-7b02f732bdbf\")>,\n",
       " <selenium.webdriver.remote.webelement.WebElement (session=\"df137b308778edbc8ceed991da5c50e4\", element=\"c46949c0-b262-42d0-bdd6-2b2fba6e3a11\")>,\n",
       " <selenium.webdriver.remote.webelement.WebElement (session=\"df137b308778edbc8ceed991da5c50e4\", element=\"3d7ceee8-772f-40e0-9f33-c0708bdd6c72\")>]"
      ]
     },
     "execution_count": 37,
     "metadata": {},
     "output_type": "execute_result"
    }
   ],
   "source": [
    "img_tags = driver.find_elements(By.TAG_NAME,'img')\n",
    "img_tags"
   ]
  },
  {
   "cell_type": "code",
   "execution_count": 36,
   "id": "953b7c3e",
   "metadata": {},
   "outputs": [
    {
     "data": {
      "text/plain": [
       "list"
      ]
     },
     "execution_count": 36,
     "metadata": {},
     "output_type": "execute_result"
    }
   ],
   "source": [
    "type(tag)"
   ]
  },
  {
   "cell_type": "code",
   "execution_count": 41,
   "id": "296bb8ad",
   "metadata": {},
   "outputs": [
    {
     "name": "stdout",
     "output_type": "stream",
     "text": [
      "https://prepinstaprime.com/assets/phone-img.png\n",
      "https://prepinstaprime.com/assets/PrepInsta-Prime-Logo.png\n",
      "https://prepinstaprime.com/assets/phone-img.png\n",
      "https://prepinstaprime.com/assets/arrow-img.png\n",
      "https://prepinstaprime.com/admin/wp-content/uploads/2022/12/Group-16913.webp\n",
      "https://prepinstaprime.com/admin/wp-content/uploads/2022/12/Group-16856.webp\n",
      "https://prepinstaprime.com/admin/wp-content/uploads/2022/12/Group-16855.webp\n",
      "https://prepinstaprime.com/admin/wp-content/uploads/2022/12/Group-16817.webp\n",
      "https://prepinstaprime.com/admin/wp-content/uploads/2022/12/Prime-home-page-banner.webp\n",
      "https://prepinstaprime.com/admin/wp-content/uploads/2022/12/NanoDegree.webp\n",
      "https://prepinstaprime.com/admin/wp-content/uploads/2022/12/TCS-iON.webp\n",
      "https://prepinstaprime.com/admin/wp-content/uploads/2022/12/Group-16913.webp\n",
      "https://prepinstaprime.com/admin/wp-content/uploads/2022/12/Group-16856.webp\n",
      "https://prepinstaprime.com/admin/wp-content/uploads/2022/12/Group-16855.webp\n",
      "https://prepinstaprime.com/admin/wp-content/uploads/2022/12/Group-16817.webp\n",
      "https://prepinstaprime.com/admin/wp-content/uploads/2022/12/Prime-home-page-banner.webp\n",
      "https://prepinstaprime.com/admin/wp-content/uploads/2022/12/NanoDegree.webp\n",
      "https://prepinstaprime.com/admin/wp-content/uploads/2022/12/TCS-iON.webp\n",
      "https://prepinstaprime.com/admin/wp-content/uploads/2022/12/Group-16913.webp\n",
      "https://prepinstaprime.com/admin/wp-content/uploads/2022/11/Data-Science-thumb.webp\n",
      "https://prepinstaprime.com/admin/wp-content/uploads/2021/06/AI-and-ML-Thumnai.png\n",
      "https://prepinstaprime.com/admin/wp-content/uploads/2021/07/AWS-Homepage-Icon.webp\n",
      "https://prepinstaprime.com/admin/wp-content/uploads/2022/11/Power-BI-home-thumb.webp\n",
      "https://prepinstaprime.com/admin/wp-content/uploads/2022/11/Git-home-thumb.webp\n",
      "https://prepinstaprime.com/admin/wp-content/uploads/2022/11/Github-home-thumb.webp\n",
      "https://prepinstaprime.com/admin/wp-content/uploads/2021/07/Cyber-Security-Homepage-Iconwebp.png\n",
      "https://prepinstaprime.com/admin/wp-content/uploads/2021/07/Ethical-Hacking-Homepage-Icon.webp\n",
      "https://prepinstaprime.com/admin/wp-content/uploads/2022/02/Cloud-computing-home-thumbnail.webp\n",
      "https://prepinstaprime.com/admin/wp-content/uploads/2021/07/Big-Data-HomePage-Icon.webp\n",
      "https://prepinstaprime.com/admin/wp-content/uploads/2021/07/Deep-learning-Homepage-Icon.png\n",
      "https://prepinstaprime.com/admin/wp-content/uploads/2022/08/Home-Thumb-for-Data-Analytics.webp\n",
      "https://prepinstaprime.com/admin/wp-content/uploads/2022/08/Home-Thumb-for-Tableau.webp\n",
      "https://prepinstaprime.com/admin/wp-content/uploads/2021/07/C-Homepage-Icon.webp\n",
      "https://prepinstaprime.com/admin/wp-content/uploads/2021/07/C-plus-plus-HomePage-Icon.webp\n",
      "https://prepinstaprime.com/admin/wp-content/uploads/2021/07/Java-HomePage-Icon.webp\n",
      "https://prepinstaprime.com/admin/wp-content/uploads/2021/11/Python-Course-PrepInsta-Prime-1.webp\n",
      "https://prepinstaprime.com/admin/wp-content/uploads/2021/07/Basic-Coding-Homepage-Icon.webp\n",
      "https://prepinstaprime.com/admin/wp-content/uploads/2021/07/Intermediate-Coding-Homepage-Icon.webp\n",
      "https://prepinstaprime.com/admin/wp-content/uploads/2022/02/Competitive-coding-home-thumbnail.webp\n",
      "https://prepinstaprime.com/admin/wp-content/uploads/2021/07/Data-Structures-in-C-Homepage-Icon.webp\n",
      "https://prepinstaprime.com/admin/wp-content/uploads/2021/07/Data-Structures-in-C-Homepage-Icon-1.webp\n",
      "https://prepinstaprime.com/admin/wp-content/uploads/2021/07/Data-Structures-in-Java-Homepage-Icon.webp\n",
      "https://prepinstaprime.com/admin/wp-content/uploads/2021/07/Data-Structures-in-python-Homepage-Icon.webp\n",
      "https://prepinstaprime.com/admin/wp-content/uploads/2021/07/DSA-in-Service-based-companies-thumb.webp\n",
      "https://prepinstaprime.com/admin/wp-content/uploads/2021/07/Quantitative-Aptitude-HomePage-Icon.webp\n",
      "https://prepinstaprime.com/admin/wp-content/uploads/2021/07/Logical-Reasoning-HomePage-Icon.webp\n",
      "https://prepinstaprime.com/admin/wp-content/uploads/2021/07/Verbal-Homepage-Icon.webp\n",
      "https://prepinstaprime.com/admin/wp-content/uploads/2021/07/Data-Interpretation-HomePage-Icon.webp\n",
      "https://prepinstaprime.com/admin/wp-content/uploads/2021/07/Visual-Reasoning-HomePage-Icon.webp\n",
      "https://prepinstaprime.com/admin/wp-content/uploads/2021/07/Crypt-Airthmetic-HomePage-Icon.webp\n",
      "https://prepinstaprime.com/admin/wp-content/uploads/2021/07/Essay-Writing-HomePage-Icon.webp\n",
      "https://prepinstaprime.com/admin/wp-content/uploads/2021/07/Game-based-Aptitude-HomePage-Icon.webp\n",
      "https://prepinstaprime.com/admin/wp-content/uploads/2022/02/Psychometric-home-thumbnail.webp\n",
      "https://prepinstaprime.com/admin/wp-content/uploads/2022/07/Tracks-for-service-based-companies.webp\n",
      "https://prepinstaprime.com/admin/wp-content/uploads/2022/07/Tracks-for-product-based-companies.webp\n",
      "https://prepinstaprime.com/admin/wp-content/uploads/2022/07/Tracks-for-FAANG.webp\n",
      "https://prepinstaprime.com/admin/wp-content/uploads/2022/08/Home-Thumb-Track-for-Big-4.webp\n",
      "https://prepinstaprime.com/admin/wp-content/uploads/2022/08/Home-thumb-Track-for-Data-Science-Analytics.webp\n",
      "https://prepinstaprime.com/admin/wp-content/uploads/2022/11/Add-a-heading_1_.webp\n",
      "https://prepinstaprime.com/admin/wp-content/uploads/2022/11/Add-a-heading-_2_.webp\n",
      "https://prepinstaprime.com/admin/wp-content/uploads/2022/11/Add-a-heading.webp\n",
      "https://prepinstaprime.com/admin/wp-content/uploads/2022/11/Add-a-heading-_1_.webp\n",
      "https://prepinstaprime.com/admin/wp-content/uploads/2021/08/LTI-Thumbnail.webp\n",
      "https://prepinstaprime.com/admin/wp-content/uploads/2021/07/Accenture-Homepage-Icon.webp\n",
      "https://prepinstaprime.com/admin/wp-content/uploads/2021/07/DXC-Homepage-Icon.webp\n",
      "https://prepinstaprime.com/admin/wp-content/uploads/2021/07/TCS-Digital-home-page.webp\n",
      "https://prepinstaprime.com/admin/wp-content/uploads/2021/07/HSBC-Homepage-Icon.webp\n",
      "https://prepinstaprime.com/admin/wp-content/uploads/2021/07/Wipro-Homepage-Icon.webp\n",
      "https://prepinstaprime.com/admin/wp-content/uploads/2021/07/Persistent-Homepage-Icon.webp\n",
      "https://prepinstaprime.com/admin/wp-content/uploads/2021/07/IBM-Homepage-Icon.webp\n",
      "https://prepinstaprime.com/admin/wp-content/uploads/2021/07/Deloitte-Homepage-Icon.webp\n",
      "https://prepinstaprime.com/admin/wp-content/uploads/2021/07/Mindtree-Homepage-Icon.webp\n",
      "https://prepinstaprime.com/admin/wp-content/uploads/2021/07/mPhasis-Homepage-Icon.webp\n",
      "https://prepinstaprime.com/admin/wp-content/uploads/2021/07/Zs-associates-logo.png\n",
      "https://prepinstaprime.com/admin/wp-content/uploads/2021/07/Infosys-Homepage-Icon.webp\n",
      "https://prepinstaprime.com/admin/wp-content/uploads/2021/07/Capgemini-Homepage-Icon.webp\n",
      "https://prepinstaprime.com/admin/wp-content/uploads/2021/08/Cognizant-GenC-Thumb.webp\n",
      "https://prepinstaprime.com/admin/wp-content/uploads/2022/03/Hexaware-Company-1.webp\n",
      "https://prepinstaprime.com/admin/wp-content/uploads/2021/11/InfyTQ-Home-Page.webp\n",
      "https://prepinstaprime.com/admin/wp-content/uploads/2021/08/Cognizant-GenC-Elevate-Thumb.webp\n",
      "https://prepinstaprime.com/admin/wp-content/uploads/2022/07/Infosys-sp-and-dse-thumbnail-home.webp\n",
      "https://prepinstaprime.com/admin/wp-content/uploads/2022/06/Add-a-heading-11.png\n",
      "https://prepinstaprime.com/admin/wp-content/uploads/2021/08/TCS-Home-Thumb.webp\n",
      "https://prepinstaprime.com/admin/wp-content/uploads/2021/07/Add-a-heading-18.png\n",
      "https://prepinstaprime.com/admin/wp-content/uploads/2021/07/Home-Page-Micorsoft-thumb.webp\n",
      "https://prepinstaprime.com/admin/wp-content/uploads/2021/07/Goldman-Sachs-Homepage-Icon.webp\n",
      "https://prepinstaprime.com/admin/wp-content/uploads/2021/07/Amazon-Homepage-Icon.webp\n",
      "https://prepinstaprime.com/admin/wp-content/uploads/2021/07/Cisco-Homepage-Icon.webp\n",
      "https://prepinstaprime.com/admin/wp-content/uploads/2021/07/Oracle-Homepage-Icon.webp\n",
      "https://prepinstaprime.com/admin/wp-content/uploads/2021/07/Nalsoft-Homepage-Icon.webp\n",
      "https://prepinstaprime.com/admin/wp-content/uploads/2021/07/Vuram-Homepage-Icon.webp\n",
      "https://prepinstaprime.com/admin/wp-content/uploads/2021/07/Bosch-Homepage-Icon.webp\n",
      "https://prepinstaprime.com/admin/wp-content/uploads/2021/07/Gainsight-Homepage-Icon.webp\n",
      "https://prepinstaprime.com/admin/wp-content/uploads/2021/07/ADP-Homepage-Icon.webp\n",
      "https://prepinstaprime.com/admin/wp-content/uploads/2021/07/TresVista-Homepage-Icon.webp\n",
      "https://prepinstaprime.com/admin/wp-content/uploads/2021/07/Zoho-Homepage-Icon.webp\n",
      "https://prepinstaprime.com/admin/wp-content/uploads/2021/11/TCS_HomeThumb.webp\n",
      "https://prepinstaprime.com/admin/wp-content/uploads/2022/05/InfyTQ-home-page.webp\n",
      "https://prepinstaprime.com/admin/wp-content/uploads/2022/09/Tech-mahindra-home-thumb.webp\n",
      "https://prepinstaprime.com/admin/wp-content/uploads/2021/11/Deloitte_HomeThumb.webp\n",
      "https://prepinstaprime.com/admin/wp-content/uploads/2021/11/Cognizant_HomeThumb.webp\n",
      "https://prepinstaprime.com/admin/wp-content/uploads/2021/11/Adobe_HomeThumb.webp\n",
      "https://prepinstaprime.com/admin/wp-content/uploads/2021/11/Microsoft_HomeThumb.webp\n",
      "https://prepinstaprime.com/admin/wp-content/uploads/2021/11/Capgemini_HomeThumb.webp\n"
     ]
    },
    {
     "name": "stdout",
     "output_type": "stream",
     "text": [
      "https://prepinstaprime.com/admin/wp-content/uploads/2021/11/Mindtree_HomeThumb.webp\n",
      "https://prepinstaprime.com/admin/wp-content/uploads/2021/11/NTT-Data_HomeThumb.webp\n",
      "https://prepinstaprime.com/admin/wp-content/uploads/2021/11/IBM_HomeThumb.webp\n",
      "https://prepinstaprime.com/admin/wp-content/uploads/2021/11/Wipro_HomeThumb.webp\n",
      "https://prepinstaprime.com/admin/wp-content/uploads/2021/12/Goldman-Sachs-Interview-Preparation.png\n",
      "https://prepinstaprime.com/admin/wp-content/uploads/2021/12/Accenture-Interview-Preparation.png\n",
      "https://prepinstaprime.com/admin/wp-content/uploads/2021/12/CISCO-Interview-Preparation.png\n",
      "https://prepinstaprime.com/admin/wp-content/uploads/2022/01/LTI-Interview-Preparation.png\n",
      "https://prepinstaprime.com/admin/wp-content/uploads/2022/02/ZS-Associates-Interview-Preparation-Course.webp\n",
      "https://prepinstaprime.com/admin/wp-content/uploads/2022/07/DXC-Technology-Interview-Preparation.webp\n",
      "https://prepinstaprime.com/admin/wp-content/uploads/2022/07/Infosys-SP-and-DSE-Interview-Prep.webp\n",
      "https://prepinstaprime.com/admin/wp-content/uploads/2022/08/Amazon.webp\n",
      "https://prepinstaprime.com/admin/wp-content/uploads/2021/11/Infosys_HomeThumb.webp\n",
      "https://prepinstaprime.com/admin/wp-content/uploads/2022/04/CoCubes-icon.webp\n",
      "https://prepinstaprime.com/admin/wp-content/uploads/2022/04/AMCAT-Course.webp\n",
      "https://prepinstaprime.com/admin/wp-content/uploads/2021/06/HackerRank-Course.png\n",
      "https://prepinstaprime.com/admin/wp-content/uploads/2022/04/Mettl-icon.webp\n",
      "https://prepinstaprime.com/admin/wp-content/uploads/2021/06/HackerEarth-Course.png\n",
      "https://prepinstaprime.com/admin/wp-content/uploads/2021/06/FirstNaukri-Course.png\n",
      "https://prepinstaprime.com/admin/wp-content/uploads/2022/04/MyAnatomy-Course.webp\n",
      "https://prepinstaprime.com/admin/wp-content/uploads/2022/04/WECP-Course.webp\n",
      "https://prepinstaprime.com/admin/wp-content/uploads/2021/06/eLitmus-Course.png\n",
      "https://prepinstaprime.com/admin/wp-content/uploads/2021/07/Copy-of-Achievers-Course-1.webp\n",
      "https://prepinstaprime.com/admin/wp-content/uploads/2021/07/pokemon-Homepage-Icon1.webp\n",
      "https://prepinstaprime.com/admin/wp-content/uploads/2021/07/amazon-user-segmentation-Homepage-Icon.webp\n",
      "https://prepinstaprime.com/admin/wp-content/uploads/2021/07/zomato-review-analysis-Homepage-Icon.webp\n",
      "https://prepinstaprime.com/admin/wp-content/uploads/2021/07/American-express-Homepage-Icon.-Home-Page-Icon.webp\n",
      "https://prepinstaprime.com/admin/wp-content/uploads/2021/07/imaged-based-species-Homepage-Icon1.webp\n",
      "https://prepinstaprime.com/admin/wp-content/uploads/2021/07/netflix-recommendation-Homepage-Icon.webp\n",
      "https://prepinstaprime.com/admin/wp-content/uploads/2021/07/facebook-ads-Homepage-Icon1.webp\n",
      "https://prepinstaprime.com/admin/wp-content/uploads/2021/07/breast-cancer-detection-Homepage-Icon1.webp\n",
      "https://prepinstaprime.com/admin/wp-content/uploads/2021/10/big-basket-cart-prediction_home-1.webp\n",
      "https://prepinstaprime.com/admin/wp-content/uploads/2021/07/Operating-SYstem-Home-Page-Icon.webp\n",
      "https://prepinstaprime.com/admin/wp-content/uploads/2021/07/DBMS-Homepage-Icon.webp\n",
      "https://prepinstaprime.com/admin/wp-content/uploads/2021/07/SDLC-Home-Page-Icon.webp\n",
      "https://prepinstaprime.com/admin/wp-content/uploads/2021/07/Computer-Networks-Home-Page-Iconwebp.webp\n",
      "https://prepinstaprime.com/admin/wp-content/uploads/2021/07/SQL-Homepage-Icon.webp\n",
      "https://prepinstaprime.com/admin/wp-content/uploads/2021/07/Pseudo-Code-Home-Page-Iconwebp.webp\n",
      "https://prepinstaprime.com/admin/wp-content/uploads/2021/07/Automata-Fix-Home-Page-Icon.webp\n",
      "https://prepinstaprime.com/admin/wp-content/uploads/2021/07/Interview-ExperienceService-based-Home-Page-Icon.webp\n",
      "https://prepinstaprime.com/admin/wp-content/uploads/2021/07/Interview-Experienceproduct-based-HomePage-Icon.webp\n",
      "https://prepinstaprime.com/admin/wp-content/uploads/2021/11/resume-home-thumb.webp\n",
      "https://prepinstaprime.com/admin/wp-content/uploads/2021/11/Guesstimate-home-thumb.webp\n",
      "https://prepinstaprime.com/admin/wp-content/uploads/2021/11/Group-discussion-home-thumb.webp\n",
      "https://prepinstaprime.com/admin/wp-content/uploads/2021/11/Puzzels-home-thumb.webp\n",
      "https://prepinstaprime.com/admin/wp-content/uploads/2021/11/HR-Prep-Home-thumb.webp\n",
      "https://prepinstaprime.com/assets/dots-less.png\n",
      "https://prepinstaprime.com/admin/wp-content/uploads/2021/07/Certifications.png\n",
      "https://prepinstaprime.com/admin/wp-content/uploads/2021/07/Certifications.png\n",
      "https://prepinstaprime.com/admin/wp-content/uploads/2021/07/Certifications.png\n",
      "https://prepinstaprime.com/admin/wp-content/uploads/2021/07/Certifications.png\n",
      "https://prepinstaprime.com/assets/download-white.png\n",
      "https://prepinstaprime.com/assets/dots-less.png\n",
      "https://prepinstaprime.com/admin/wp-content/uploads/2021/03/1.png\n",
      "https://prepinstaprime.com/admin/wp-content/uploads/2021/03/2.png\n",
      "https://prepinstaprime.com/admin/wp-content/uploads/2022/06/unnamed.png\n",
      "https://prepinstaprime.com/assets/download.png\n",
      "https://prepinstaprime.com/admin/wp-content/uploads/2021/10/Certification.webp\n",
      "https://prepinstaprime.com/admin/wp-content/uploads/2021/08/TCS-iON-RIO-Certification.jpg\n",
      "https://prepinstaprime.com/admin/wp-content/uploads/2022/06/unnamed.png\n",
      "None\n",
      "https://prepinstaprime.com/assets/syllabus.png\n",
      "https://prepinstaprime.com/assets/demo-video.png\n"
     ]
    }
   ],
   "source": [
    "for img in img_tags:\n",
    "    print(img.get_attribute('src'))"
   ]
  },
  {
   "cell_type": "code",
   "execution_count": 45,
   "id": "7000f6b8",
   "metadata": {},
   "outputs": [
    {
     "name": "stdout",
     "output_type": "stream",
     "text": [
      "Image Sucessfully Downloaded: img1.webp\n"
     ]
    }
   ],
   "source": [
    "import requests\n",
    "import shutil\n",
    "\n",
    "url = 'https://prepinstaprime.com/admin/wp-content/uploads/2021/07/facebook-ads-Homepage-Icon1.webp'\n",
    "\n",
    "res = requests.get(url,stream=True)\n",
    "\n",
    "file_name = 'img1.webp'\n",
    "\n",
    "if res.status_code == 200:\n",
    "    with open(file_name,'wb') as f:\n",
    "        shutil.copyfileobj(res.raw,f)\n",
    "    print(\"Image Sucessfully Downloaded:\",file_name)\n",
    "else:\n",
    "    print('Image Could\\'t be retrived.')\n",
    "    "
   ]
  },
  {
   "cell_type": "code",
   "execution_count": null,
   "id": "106c7ddf",
   "metadata": {},
   "outputs": [],
   "source": [
    "\n",
    "import os\n",
    "os.mkdir('allimages')\n",
    "\n",
    "count = 1\n",
    "\n",
    "for img in img_tags:\n",
    "    \n",
    "    url = img.get_attribute('src')\n",
    "    response = requests.get(url,stream=True)\n",
    "    file_name = str(count)+'.webp'\n",
    "    \n",
    "    if response.status_code == 200:\n",
    "        \n",
    "        with open('allImages/'+file_name,'wb') as file:\n",
    "            \n",
    "            shutil.copyfileobj(response.raw,file)\n",
    "            count += 1\n",
    "    if count == 200:\n",
    "        break\n",
    "        "
   ]
  },
  {
   "cell_type": "code",
   "execution_count": null,
   "id": "dbeeb068",
   "metadata": {},
   "outputs": [],
   "source": []
  }
 ],
 "metadata": {
  "kernelspec": {
   "display_name": "Python 3 (ipykernel)",
   "language": "python",
   "name": "python3"
  },
  "language_info": {
   "codemirror_mode": {
    "name": "ipython",
    "version": 3
   },
   "file_extension": ".py",
   "mimetype": "text/x-python",
   "name": "python",
   "nbconvert_exporter": "python",
   "pygments_lexer": "ipython3",
   "version": "3.9.12"
  }
 },
 "nbformat": 4,
 "nbformat_minor": 5
}
