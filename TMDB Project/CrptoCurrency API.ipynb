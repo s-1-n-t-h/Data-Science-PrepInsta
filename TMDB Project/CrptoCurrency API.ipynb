{
 "cells": [
  {
   "cell_type": "code",
   "execution_count": 1,
   "id": "fc992c25",
   "metadata": {},
   "outputs": [],
   "source": [
    "# https://api.coindesk.com/v1/bpi/currentprice.json"
   ]
  },
  {
   "cell_type": "markdown",
   "id": "416a37b0",
   "metadata": {},
   "source": [
    "## Importing Libraries "
   ]
  },
  {
   "cell_type": "code",
   "execution_count": 2,
   "id": "d905c460",
   "metadata": {},
   "outputs": [],
   "source": [
    "import requests"
   ]
  },
  {
   "cell_type": "markdown",
   "id": "5b6f0c47",
   "metadata": {},
   "source": [
    "## Making Call to API"
   ]
  },
  {
   "cell_type": "code",
   "execution_count": 3,
   "id": "249c53b0",
   "metadata": {},
   "outputs": [],
   "source": [
    "request = requests.get('https://api.coindesk.com/v1/bpi/currentprice.json')"
   ]
  },
  {
   "cell_type": "raw",
   "id": "1b7fe23f",
   "metadata": {},
   "source": [
    "print(request.url)"
   ]
  },
  {
   "cell_type": "markdown",
   "id": "32e10e13",
   "metadata": {},
   "source": [
    "## Getting JSON Data"
   ]
  },
  {
   "cell_type": "code",
   "execution_count": 4,
   "id": "36ee37ff",
   "metadata": {},
   "outputs": [],
   "source": [
    "data = request.json()"
   ]
  },
  {
   "cell_type": "code",
   "execution_count": 6,
   "id": "e5f1d2f0",
   "metadata": {},
   "outputs": [
    {
     "data": {
      "text/plain": [
       "{'time': {'updated': 'Dec 22, 2022 14:44:00 UTC',\n",
       "  'updatedISO': '2022-12-22T14:44:00+00:00',\n",
       "  'updateduk': 'Dec 22, 2022 at 14:44 GMT'},\n",
       " 'disclaimer': 'This data was produced from the CoinDesk Bitcoin Price Index (USD). Non-USD currency data converted using hourly conversion rate from openexchangerates.org',\n",
       " 'chartName': 'Bitcoin',\n",
       " 'bpi': {'USD': {'code': 'USD',\n",
       "   'symbol': '&#36;',\n",
       "   'rate': '16,712.3614',\n",
       "   'description': 'United States Dollar',\n",
       "   'rate_float': 16712.3614},\n",
       "  'GBP': {'code': 'GBP',\n",
       "   'symbol': '&pound;',\n",
       "   'rate': '13,964.7154',\n",
       "   'description': 'British Pound Sterling',\n",
       "   'rate_float': 13964.7154},\n",
       "  'EUR': {'code': 'EUR',\n",
       "   'symbol': '&euro;',\n",
       "   'rate': '16,280.2800',\n",
       "   'description': 'Euro',\n",
       "   'rate_float': 16280.28}}}"
      ]
     },
     "execution_count": 6,
     "metadata": {},
     "output_type": "execute_result"
    }
   ],
   "source": [
    "data"
   ]
  },
  {
   "cell_type": "markdown",
   "id": "6922df4d",
   "metadata": {},
   "source": [
    "## Instance of time when call was made"
   ]
  },
  {
   "cell_type": "code",
   "execution_count": 9,
   "id": "eb9e7ab0",
   "metadata": {},
   "outputs": [
    {
     "data": {
      "text/plain": [
       "'Dec 22, 2022 14:44:00 UTC'"
      ]
     },
     "execution_count": 9,
     "metadata": {},
     "output_type": "execute_result"
    }
   ],
   "source": [
    "time_date = data['time']['updated']"
   ]
  },
  {
   "cell_type": "markdown",
   "id": "eb7ab275",
   "metadata": {},
   "source": [
    "## Bitcoin Price Indexes"
   ]
  },
  {
   "cell_type": "code",
   "execution_count": 13,
   "id": "738e7207",
   "metadata": {},
   "outputs": [],
   "source": [
    "prize_index = data['bpi']"
   ]
  },
  {
   "cell_type": "code",
   "execution_count": 15,
   "id": "c1a0a824",
   "metadata": {},
   "outputs": [
    {
     "data": {
      "text/plain": [
       "{'USD': {'code': 'USD',\n",
       "  'symbol': '&#36;',\n",
       "  'rate': '16,712.3614',\n",
       "  'description': 'United States Dollar',\n",
       "  'rate_float': 16712.3614},\n",
       " 'GBP': {'code': 'GBP',\n",
       "  'symbol': '&pound;',\n",
       "  'rate': '13,964.7154',\n",
       "  'description': 'British Pound Sterling',\n",
       "  'rate_float': 13964.7154},\n",
       " 'EUR': {'code': 'EUR',\n",
       "  'symbol': '&euro;',\n",
       "  'rate': '16,280.2800',\n",
       "  'description': 'Euro',\n",
       "  'rate_float': 16280.28}}"
      ]
     },
     "execution_count": 15,
     "metadata": {},
     "output_type": "execute_result"
    }
   ],
   "source": [
    "prize_index"
   ]
  },
  {
   "cell_type": "code",
   "execution_count": 19,
   "id": "17b293a0",
   "metadata": {},
   "outputs": [],
   "source": [
    "currency_type = prize_index.keys()"
   ]
  },
  {
   "cell_type": "code",
   "execution_count": 20,
   "id": "c1a679da",
   "metadata": {},
   "outputs": [
    {
     "data": {
      "text/plain": [
       "dict_keys(['USD', 'GBP', 'EUR'])"
      ]
     },
     "execution_count": 20,
     "metadata": {},
     "output_type": "execute_result"
    }
   ],
   "source": [
    "currency_type"
   ]
  },
  {
   "cell_type": "code",
   "execution_count": 27,
   "id": "76539ed4",
   "metadata": {},
   "outputs": [
    {
     "name": "stdout",
     "output_type": "stream",
     "text": [
      "Bitcoin Prices:\n",
      "\n",
      "Currecy: United States Dollar , at Rate : 16,712.3614\n",
      "Currecy: British Pound Sterling , at Rate : 13,964.7154\n",
      "Currecy: Euro , at Rate : 16,280.2800\n"
     ]
    }
   ],
   "source": [
    "print(\"Bitcoin Prices:\\n\")\n",
    "for index in currency_type:\n",
    "    print(\"Currecy:\",data['bpi'][index]['description'],',',\"at Rate :\",data['bpi'][index]['rate'])\n",
    "    "
   ]
  },
  {
   "cell_type": "code",
   "execution_count": null,
   "id": "66d42b73",
   "metadata": {},
   "outputs": [],
   "source": []
  }
 ],
 "metadata": {
  "kernelspec": {
   "display_name": "Python 3 (ipykernel)",
   "language": "python",
   "name": "python3"
  },
  "language_info": {
   "codemirror_mode": {
    "name": "ipython",
    "version": 3
   },
   "file_extension": ".py",
   "mimetype": "text/x-python",
   "name": "python",
   "nbconvert_exporter": "python",
   "pygments_lexer": "ipython3",
   "version": "3.9.12"
  }
 },
 "nbformat": 4,
 "nbformat_minor": 5
}
