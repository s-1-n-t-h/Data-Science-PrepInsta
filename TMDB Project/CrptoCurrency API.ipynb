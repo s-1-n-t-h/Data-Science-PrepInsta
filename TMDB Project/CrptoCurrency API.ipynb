{
 "cells": [
  {
   "cell_type": "code",
   "execution_count": 1,
   "id": "043df07f",
   "metadata": {},
   "outputs": [],
   "source": [
    "# https://api.coindesk.com/v1/bpi/currentprice.json"
   ]
  },
  {
   "cell_type": "markdown",
   "id": "25d5f765",
   "metadata": {},
   "source": [
    "## Importing Libraries "
   ]
  },
  {
   "cell_type": "code",
   "execution_count": 2,
   "id": "7dd14073",
   "metadata": {},
   "outputs": [],
   "source": [
    "import requests"
   ]
  },
  {
   "cell_type": "markdown",
   "id": "14f5356f",
   "metadata": {},
   "source": [
    "## Making Call to API"
   ]
  },
  {
   "cell_type": "code",
   "execution_count": 3,
   "id": "e829e184",
   "metadata": {},
   "outputs": [],
   "source": [
    "request = requests.get('https://api.coindesk.com/v1/bpi/currentprice.json')"
   ]
  },
  {
   "cell_type": "markdown",
   "id": "03b88150",
   "metadata": {},
   "source": [
    "## Getting JSON Data"
   ]
  },
  {
   "cell_type": "code",
   "execution_count": 4,
   "id": "355ae99a",
   "metadata": {},
   "outputs": [],
   "source": [
    "data = request.json()"
   ]
  },
  {
   "cell_type": "code",
   "execution_count": 6,
   "id": "dc4c7f48",
   "metadata": {},
   "outputs": [
    {
     "data": {
      "text/plain": [
       "{'time': {'updated': 'Dec 22, 2022 14:44:00 UTC',\n",
       "  'updatedISO': '2022-12-22T14:44:00+00:00',\n",
       "  'updateduk': 'Dec 22, 2022 at 14:44 GMT'},\n",
       " 'disclaimer': 'This data was produced from the CoinDesk Bitcoin Price Index (USD). Non-USD currency data converted using hourly conversion rate from openexchangerates.org',\n",
       " 'chartName': 'Bitcoin',\n",
       " 'bpi': {'USD': {'code': 'USD',\n",
       "   'symbol': '&#36;',\n",
       "   'rate': '16,712.3614',\n",
       "   'description': 'United States Dollar',\n",
       "   'rate_float': 16712.3614},\n",
       "  'GBP': {'code': 'GBP',\n",
       "   'symbol': '&pound;',\n",
       "   'rate': '13,964.7154',\n",
       "   'description': 'British Pound Sterling',\n",
       "   'rate_float': 13964.7154},\n",
       "  'EUR': {'code': 'EUR',\n",
       "   'symbol': '&euro;',\n",
       "   'rate': '16,280.2800',\n",
       "   'description': 'Euro',\n",
       "   'rate_float': 16280.28}}}"
      ]
     },
     "execution_count": 6,
     "metadata": {},
     "output_type": "execute_result"
    }
   ],
   "source": [
    "data"
   ]
  },
  {
   "cell_type": "markdown",
   "id": "bd323ef8",
   "metadata": {},
   "source": [
    "## Instance of time when call was made"
   ]
  },
  {
   "cell_type": "code",
   "execution_count": 9,
   "id": "28f09eea",
   "metadata": {},
   "outputs": [
    {
     "data": {
      "text/plain": [
       "'Dec 22, 2022 14:44:00 UTC'"
      ]
     },
     "execution_count": 9,
     "metadata": {},
     "output_type": "execute_result"
    }
   ],
   "source": [
    "time_date = data['time']['updated']"
   ]
  },
  {
   "cell_type": "markdown",
   "id": "a91fb281",
   "metadata": {},
   "source": [
    "## Bitcoin Price Indexes"
   ]
  },
  {
   "cell_type": "code",
   "execution_count": 13,
   "id": "fb60ed31",
   "metadata": {},
   "outputs": [],
   "source": [
    "prize_index = data['bpi']"
   ]
  },
  {
   "cell_type": "code",
   "execution_count": 15,
   "id": "2e7af843",
   "metadata": {},
   "outputs": [
    {
     "data": {
      "text/plain": [
       "{'USD': {'code': 'USD',\n",
       "  'symbol': '&#36;',\n",
       "  'rate': '16,712.3614',\n",
       "  'description': 'United States Dollar',\n",
       "  'rate_float': 16712.3614},\n",
       " 'GBP': {'code': 'GBP',\n",
       "  'symbol': '&pound;',\n",
       "  'rate': '13,964.7154',\n",
       "  'description': 'British Pound Sterling',\n",
       "  'rate_float': 13964.7154},\n",
       " 'EUR': {'code': 'EUR',\n",
       "  'symbol': '&euro;',\n",
       "  'rate': '16,280.2800',\n",
       "  'description': 'Euro',\n",
       "  'rate_float': 16280.28}}"
      ]
     },
     "execution_count": 15,
     "metadata": {},
     "output_type": "execute_result"
    }
   ],
   "source": [
    "prize_index"
   ]
  },
  {
   "cell_type": "code",
   "execution_count": 19,
   "id": "3ca46643",
   "metadata": {},
   "outputs": [],
   "source": [
    "currency_type = prize_index.keys()"
   ]
  },
  {
   "cell_type": "code",
   "execution_count": 20,
   "id": "7aefd9ce",
   "metadata": {},
   "outputs": [
    {
     "data": {
      "text/plain": [
       "dict_keys(['USD', 'GBP', 'EUR'])"
      ]
     },
     "execution_count": 20,
     "metadata": {},
     "output_type": "execute_result"
    }
   ],
   "source": [
    "currency_type"
   ]
  },
  {
   "cell_type": "code",
   "execution_count": 27,
   "id": "d47244a6",
   "metadata": {},
   "outputs": [
    {
     "name": "stdout",
     "output_type": "stream",
     "text": [
      "Bitcoin Prices:\n",
      "\n",
      "Currecy: United States Dollar , at Rate : 16,712.3614\n",
      "Currecy: British Pound Sterling , at Rate : 13,964.7154\n",
      "Currecy: Euro , at Rate : 16,280.2800\n"
     ]
    }
   ],
   "source": [
    "print(\"Bitcoin Prices:\\n\")\n",
    "for index in currency_type:\n",
    "    print(\"Currecy:\",data['bpi'][index]['description'],',',\"at Rate :\",data['bpi'][index]['rate'])\n",
    "    "
   ]
  },
  {
   "cell_type": "code",
   "execution_count": null,
   "id": "9d733f74",
   "metadata": {},
   "outputs": [],
   "source": []
  }
 ],
 "metadata": {
  "kernelspec": {
   "display_name": "Python 3 (ipykernel)",
   "language": "python",
   "name": "python3"
  },
  "language_info": {
   "codemirror_mode": {
    "name": "ipython",
    "version": 3
   },
   "file_extension": ".py",
   "mimetype": "text/x-python",
   "name": "python",
   "nbconvert_exporter": "python",
   "pygments_lexer": "ipython3",
   "version": "3.9.12"
  }
 },
 "nbformat": 4,
 "nbformat_minor": 5
}
